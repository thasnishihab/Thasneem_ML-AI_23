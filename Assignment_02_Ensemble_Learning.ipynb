{
  "nbformat": 4,
  "nbformat_minor": 0,
  "metadata": {
    "colab": {
      "provenance": []
    },
    "kernelspec": {
      "name": "python3",
      "display_name": "Python 3"
    },
    "language_info": {
      "name": "python"
    }
  },
  "cells": [
    {
      "cell_type": "markdown",
      "source": [
        "<center>Assignment 02<br></center>\n",
        "<center><b><h2>Ensemble Learning</b></center>\n",
        "The Loan Dataset of a bank is given<br>\n",
        "1. Read the dataset to the python environment.<br>\n",
        "2. Do necessary pre-processing steps.<br>\n",
        "3. Perform different Ensemble Learning techniques in the given dataset."
      ],
      "metadata": {
        "id": "NJJTvECjg2C2"
      }
    },
    {
      "cell_type": "code",
      "source": [
        "import pandas as pd\n",
        "import numpy as np"
      ],
      "metadata": {
        "id": "SuSV2XoJhmp0"
      },
      "execution_count": 116,
      "outputs": []
    },
    {
      "cell_type": "code",
      "source": [
        "import matplotlib.pyplot as plt\n",
        "import seaborn as sns"
      ],
      "metadata": {
        "id": "YGJe10OI3KOh"
      },
      "execution_count": 117,
      "outputs": []
    },
    {
      "cell_type": "code",
      "source": [
        "from sklearn.model_selection import train_test_split"
      ],
      "metadata": {
        "id": "QV3Z3IuB_5Qg"
      },
      "execution_count": 118,
      "outputs": []
    },
    {
      "cell_type": "code",
      "source": [
        "from sklearn.preprocessing import StandardScaler"
      ],
      "metadata": {
        "id": "f9aXtJImqxcX"
      },
      "execution_count": 119,
      "outputs": []
    },
    {
      "cell_type": "code",
      "source": [
        "from sklearn.model_selection import train_test_split, GridSearchCV\n",
        "from sklearn.ensemble import RandomForestClassifier, GradientBoostingClassifier, AdaBoostClassifier, BaggingClassifier\n",
        "from sklearn.svm import SVC\n",
        "from sklearn.linear_model import LogisticRegression\n",
        "from sklearn.naive_bayes import GaussianNB\n",
        "from sklearn.tree import DecisionTreeClassifier\n",
        "from sklearn.ensemble import ExtraTreesClassifier\n",
        "from xgboost import XGBClassifier\n",
        "from sklearn.metrics import accuracy_score, classification_report"
      ],
      "metadata": {
        "id": "GKvAZZ1wB-d-"
      },
      "execution_count": 120,
      "outputs": []
    },
    {
      "cell_type": "code",
      "source": [
        "from google.colab import drive\n",
        "drive.mount('/content/drive')"
      ],
      "metadata": {
        "colab": {
          "base_uri": "https://localhost:8080/"
        },
        "id": "Ja9D7qi7iWLd",
        "outputId": "48a2351f-4006-4f88-a24f-e921fa020624"
      },
      "execution_count": 121,
      "outputs": [
        {
          "output_type": "stream",
          "name": "stdout",
          "text": [
            "Drive already mounted at /content/drive; to attempt to forcibly remount, call drive.mount(\"/content/drive\", force_remount=True).\n"
          ]
        }
      ]
    },
    {
      "cell_type": "code",
      "source": [
        "data = pd.read_csv('/content/drive/MyDrive/datasets/train_loan.csv')"
      ],
      "metadata": {
        "id": "SeTWsy31ihhT"
      },
      "execution_count": 122,
      "outputs": []
    },
    {
      "cell_type": "code",
      "source": [
        "data.head()"
      ],
      "metadata": {
        "colab": {
          "base_uri": "https://localhost:8080/",
          "height": 244
        },
        "id": "anZbC4Goj0xp",
        "outputId": "3f13e400-93fe-43ae-f6f0-c7d28efa59a9"
      },
      "execution_count": 123,
      "outputs": [
        {
          "output_type": "execute_result",
          "data": {
            "text/plain": [
              "    Loan_ID Gender Married Dependents     Education Self_Employed  \\\n",
              "0  LP001002   Male      No          0      Graduate            No   \n",
              "1  LP001003   Male     Yes          1      Graduate            No   \n",
              "2  LP001005   Male     Yes          0      Graduate           Yes   \n",
              "3  LP001006   Male     Yes          0  Not Graduate            No   \n",
              "4  LP001008   Male      No          0      Graduate            No   \n",
              "\n",
              "   ApplicantIncome  CoapplicantIncome  LoanAmount  Loan_Amount_Term  \\\n",
              "0             5849                0.0         NaN             360.0   \n",
              "1             4583             1508.0       128.0             360.0   \n",
              "2             3000                0.0        66.0             360.0   \n",
              "3             2583             2358.0       120.0             360.0   \n",
              "4             6000                0.0       141.0             360.0   \n",
              "\n",
              "   Credit_History Property_Area Loan_Status  \n",
              "0             1.0         Urban           Y  \n",
              "1             1.0         Rural           N  \n",
              "2             1.0         Urban           Y  \n",
              "3             1.0         Urban           Y  \n",
              "4             1.0         Urban           Y  "
            ],
            "text/html": [
              "\n",
              "  <div id=\"df-dabb2f9f-9066-4c62-b594-85b5fe4e95dc\" class=\"colab-df-container\">\n",
              "    <div>\n",
              "<style scoped>\n",
              "    .dataframe tbody tr th:only-of-type {\n",
              "        vertical-align: middle;\n",
              "    }\n",
              "\n",
              "    .dataframe tbody tr th {\n",
              "        vertical-align: top;\n",
              "    }\n",
              "\n",
              "    .dataframe thead th {\n",
              "        text-align: right;\n",
              "    }\n",
              "</style>\n",
              "<table border=\"1\" class=\"dataframe\">\n",
              "  <thead>\n",
              "    <tr style=\"text-align: right;\">\n",
              "      <th></th>\n",
              "      <th>Loan_ID</th>\n",
              "      <th>Gender</th>\n",
              "      <th>Married</th>\n",
              "      <th>Dependents</th>\n",
              "      <th>Education</th>\n",
              "      <th>Self_Employed</th>\n",
              "      <th>ApplicantIncome</th>\n",
              "      <th>CoapplicantIncome</th>\n",
              "      <th>LoanAmount</th>\n",
              "      <th>Loan_Amount_Term</th>\n",
              "      <th>Credit_History</th>\n",
              "      <th>Property_Area</th>\n",
              "      <th>Loan_Status</th>\n",
              "    </tr>\n",
              "  </thead>\n",
              "  <tbody>\n",
              "    <tr>\n",
              "      <th>0</th>\n",
              "      <td>LP001002</td>\n",
              "      <td>Male</td>\n",
              "      <td>No</td>\n",
              "      <td>0</td>\n",
              "      <td>Graduate</td>\n",
              "      <td>No</td>\n",
              "      <td>5849</td>\n",
              "      <td>0.0</td>\n",
              "      <td>NaN</td>\n",
              "      <td>360.0</td>\n",
              "      <td>1.0</td>\n",
              "      <td>Urban</td>\n",
              "      <td>Y</td>\n",
              "    </tr>\n",
              "    <tr>\n",
              "      <th>1</th>\n",
              "      <td>LP001003</td>\n",
              "      <td>Male</td>\n",
              "      <td>Yes</td>\n",
              "      <td>1</td>\n",
              "      <td>Graduate</td>\n",
              "      <td>No</td>\n",
              "      <td>4583</td>\n",
              "      <td>1508.0</td>\n",
              "      <td>128.0</td>\n",
              "      <td>360.0</td>\n",
              "      <td>1.0</td>\n",
              "      <td>Rural</td>\n",
              "      <td>N</td>\n",
              "    </tr>\n",
              "    <tr>\n",
              "      <th>2</th>\n",
              "      <td>LP001005</td>\n",
              "      <td>Male</td>\n",
              "      <td>Yes</td>\n",
              "      <td>0</td>\n",
              "      <td>Graduate</td>\n",
              "      <td>Yes</td>\n",
              "      <td>3000</td>\n",
              "      <td>0.0</td>\n",
              "      <td>66.0</td>\n",
              "      <td>360.0</td>\n",
              "      <td>1.0</td>\n",
              "      <td>Urban</td>\n",
              "      <td>Y</td>\n",
              "    </tr>\n",
              "    <tr>\n",
              "      <th>3</th>\n",
              "      <td>LP001006</td>\n",
              "      <td>Male</td>\n",
              "      <td>Yes</td>\n",
              "      <td>0</td>\n",
              "      <td>Not Graduate</td>\n",
              "      <td>No</td>\n",
              "      <td>2583</td>\n",
              "      <td>2358.0</td>\n",
              "      <td>120.0</td>\n",
              "      <td>360.0</td>\n",
              "      <td>1.0</td>\n",
              "      <td>Urban</td>\n",
              "      <td>Y</td>\n",
              "    </tr>\n",
              "    <tr>\n",
              "      <th>4</th>\n",
              "      <td>LP001008</td>\n",
              "      <td>Male</td>\n",
              "      <td>No</td>\n",
              "      <td>0</td>\n",
              "      <td>Graduate</td>\n",
              "      <td>No</td>\n",
              "      <td>6000</td>\n",
              "      <td>0.0</td>\n",
              "      <td>141.0</td>\n",
              "      <td>360.0</td>\n",
              "      <td>1.0</td>\n",
              "      <td>Urban</td>\n",
              "      <td>Y</td>\n",
              "    </tr>\n",
              "  </tbody>\n",
              "</table>\n",
              "</div>\n",
              "    <div class=\"colab-df-buttons\">\n",
              "\n",
              "  <div class=\"colab-df-container\">\n",
              "    <button class=\"colab-df-convert\" onclick=\"convertToInteractive('df-dabb2f9f-9066-4c62-b594-85b5fe4e95dc')\"\n",
              "            title=\"Convert this dataframe to an interactive table.\"\n",
              "            style=\"display:none;\">\n",
              "\n",
              "  <svg xmlns=\"http://www.w3.org/2000/svg\" height=\"24px\" viewBox=\"0 -960 960 960\">\n",
              "    <path d=\"M120-120v-720h720v720H120Zm60-500h600v-160H180v160Zm220 220h160v-160H400v160Zm0 220h160v-160H400v160ZM180-400h160v-160H180v160Zm440 0h160v-160H620v160ZM180-180h160v-160H180v160Zm440 0h160v-160H620v160Z\"/>\n",
              "  </svg>\n",
              "    </button>\n",
              "\n",
              "  <style>\n",
              "    .colab-df-container {\n",
              "      display:flex;\n",
              "      gap: 12px;\n",
              "    }\n",
              "\n",
              "    .colab-df-convert {\n",
              "      background-color: #E8F0FE;\n",
              "      border: none;\n",
              "      border-radius: 50%;\n",
              "      cursor: pointer;\n",
              "      display: none;\n",
              "      fill: #1967D2;\n",
              "      height: 32px;\n",
              "      padding: 0 0 0 0;\n",
              "      width: 32px;\n",
              "    }\n",
              "\n",
              "    .colab-df-convert:hover {\n",
              "      background-color: #E2EBFA;\n",
              "      box-shadow: 0px 1px 2px rgba(60, 64, 67, 0.3), 0px 1px 3px 1px rgba(60, 64, 67, 0.15);\n",
              "      fill: #174EA6;\n",
              "    }\n",
              "\n",
              "    .colab-df-buttons div {\n",
              "      margin-bottom: 4px;\n",
              "    }\n",
              "\n",
              "    [theme=dark] .colab-df-convert {\n",
              "      background-color: #3B4455;\n",
              "      fill: #D2E3FC;\n",
              "    }\n",
              "\n",
              "    [theme=dark] .colab-df-convert:hover {\n",
              "      background-color: #434B5C;\n",
              "      box-shadow: 0px 1px 3px 1px rgba(0, 0, 0, 0.15);\n",
              "      filter: drop-shadow(0px 1px 2px rgba(0, 0, 0, 0.3));\n",
              "      fill: #FFFFFF;\n",
              "    }\n",
              "  </style>\n",
              "\n",
              "    <script>\n",
              "      const buttonEl =\n",
              "        document.querySelector('#df-dabb2f9f-9066-4c62-b594-85b5fe4e95dc button.colab-df-convert');\n",
              "      buttonEl.style.display =\n",
              "        google.colab.kernel.accessAllowed ? 'block' : 'none';\n",
              "\n",
              "      async function convertToInteractive(key) {\n",
              "        const element = document.querySelector('#df-dabb2f9f-9066-4c62-b594-85b5fe4e95dc');\n",
              "        const dataTable =\n",
              "          await google.colab.kernel.invokeFunction('convertToInteractive',\n",
              "                                                    [key], {});\n",
              "        if (!dataTable) return;\n",
              "\n",
              "        const docLinkHtml = 'Like what you see? Visit the ' +\n",
              "          '<a target=\"_blank\" href=https://colab.research.google.com/notebooks/data_table.ipynb>data table notebook</a>'\n",
              "          + ' to learn more about interactive tables.';\n",
              "        element.innerHTML = '';\n",
              "        dataTable['output_type'] = 'display_data';\n",
              "        await google.colab.output.renderOutput(dataTable, element);\n",
              "        const docLink = document.createElement('div');\n",
              "        docLink.innerHTML = docLinkHtml;\n",
              "        element.appendChild(docLink);\n",
              "      }\n",
              "    </script>\n",
              "  </div>\n",
              "\n",
              "\n",
              "<div id=\"df-ccefbc52-3ad7-473b-b429-d2c2ac16aa93\">\n",
              "  <button class=\"colab-df-quickchart\" onclick=\"quickchart('df-ccefbc52-3ad7-473b-b429-d2c2ac16aa93')\"\n",
              "            title=\"Suggest charts\"\n",
              "            style=\"display:none;\">\n",
              "\n",
              "<svg xmlns=\"http://www.w3.org/2000/svg\" height=\"24px\"viewBox=\"0 0 24 24\"\n",
              "     width=\"24px\">\n",
              "    <g>\n",
              "        <path d=\"M19 3H5c-1.1 0-2 .9-2 2v14c0 1.1.9 2 2 2h14c1.1 0 2-.9 2-2V5c0-1.1-.9-2-2-2zM9 17H7v-7h2v7zm4 0h-2V7h2v10zm4 0h-2v-4h2v4z\"/>\n",
              "    </g>\n",
              "</svg>\n",
              "  </button>\n",
              "\n",
              "<style>\n",
              "  .colab-df-quickchart {\n",
              "      --bg-color: #E8F0FE;\n",
              "      --fill-color: #1967D2;\n",
              "      --hover-bg-color: #E2EBFA;\n",
              "      --hover-fill-color: #174EA6;\n",
              "      --disabled-fill-color: #AAA;\n",
              "      --disabled-bg-color: #DDD;\n",
              "  }\n",
              "\n",
              "  [theme=dark] .colab-df-quickchart {\n",
              "      --bg-color: #3B4455;\n",
              "      --fill-color: #D2E3FC;\n",
              "      --hover-bg-color: #434B5C;\n",
              "      --hover-fill-color: #FFFFFF;\n",
              "      --disabled-bg-color: #3B4455;\n",
              "      --disabled-fill-color: #666;\n",
              "  }\n",
              "\n",
              "  .colab-df-quickchart {\n",
              "    background-color: var(--bg-color);\n",
              "    border: none;\n",
              "    border-radius: 50%;\n",
              "    cursor: pointer;\n",
              "    display: none;\n",
              "    fill: var(--fill-color);\n",
              "    height: 32px;\n",
              "    padding: 0;\n",
              "    width: 32px;\n",
              "  }\n",
              "\n",
              "  .colab-df-quickchart:hover {\n",
              "    background-color: var(--hover-bg-color);\n",
              "    box-shadow: 0 1px 2px rgba(60, 64, 67, 0.3), 0 1px 3px 1px rgba(60, 64, 67, 0.15);\n",
              "    fill: var(--button-hover-fill-color);\n",
              "  }\n",
              "\n",
              "  .colab-df-quickchart-complete:disabled,\n",
              "  .colab-df-quickchart-complete:disabled:hover {\n",
              "    background-color: var(--disabled-bg-color);\n",
              "    fill: var(--disabled-fill-color);\n",
              "    box-shadow: none;\n",
              "  }\n",
              "\n",
              "  .colab-df-spinner {\n",
              "    border: 2px solid var(--fill-color);\n",
              "    border-color: transparent;\n",
              "    border-bottom-color: var(--fill-color);\n",
              "    animation:\n",
              "      spin 1s steps(1) infinite;\n",
              "  }\n",
              "\n",
              "  @keyframes spin {\n",
              "    0% {\n",
              "      border-color: transparent;\n",
              "      border-bottom-color: var(--fill-color);\n",
              "      border-left-color: var(--fill-color);\n",
              "    }\n",
              "    20% {\n",
              "      border-color: transparent;\n",
              "      border-left-color: var(--fill-color);\n",
              "      border-top-color: var(--fill-color);\n",
              "    }\n",
              "    30% {\n",
              "      border-color: transparent;\n",
              "      border-left-color: var(--fill-color);\n",
              "      border-top-color: var(--fill-color);\n",
              "      border-right-color: var(--fill-color);\n",
              "    }\n",
              "    40% {\n",
              "      border-color: transparent;\n",
              "      border-right-color: var(--fill-color);\n",
              "      border-top-color: var(--fill-color);\n",
              "    }\n",
              "    60% {\n",
              "      border-color: transparent;\n",
              "      border-right-color: var(--fill-color);\n",
              "    }\n",
              "    80% {\n",
              "      border-color: transparent;\n",
              "      border-right-color: var(--fill-color);\n",
              "      border-bottom-color: var(--fill-color);\n",
              "    }\n",
              "    90% {\n",
              "      border-color: transparent;\n",
              "      border-bottom-color: var(--fill-color);\n",
              "    }\n",
              "  }\n",
              "</style>\n",
              "\n",
              "  <script>\n",
              "    async function quickchart(key) {\n",
              "      const quickchartButtonEl =\n",
              "        document.querySelector('#' + key + ' button');\n",
              "      quickchartButtonEl.disabled = true;  // To prevent multiple clicks.\n",
              "      quickchartButtonEl.classList.add('colab-df-spinner');\n",
              "      try {\n",
              "        const charts = await google.colab.kernel.invokeFunction(\n",
              "            'suggestCharts', [key], {});\n",
              "      } catch (error) {\n",
              "        console.error('Error during call to suggestCharts:', error);\n",
              "      }\n",
              "      quickchartButtonEl.classList.remove('colab-df-spinner');\n",
              "      quickchartButtonEl.classList.add('colab-df-quickchart-complete');\n",
              "    }\n",
              "    (() => {\n",
              "      let quickchartButtonEl =\n",
              "        document.querySelector('#df-ccefbc52-3ad7-473b-b429-d2c2ac16aa93 button');\n",
              "      quickchartButtonEl.style.display =\n",
              "        google.colab.kernel.accessAllowed ? 'block' : 'none';\n",
              "    })();\n",
              "  </script>\n",
              "</div>\n",
              "    </div>\n",
              "  </div>\n"
            ]
          },
          "metadata": {},
          "execution_count": 123
        }
      ]
    },
    {
      "cell_type": "code",
      "source": [
        "data.info()"
      ],
      "metadata": {
        "colab": {
          "base_uri": "https://localhost:8080/"
        },
        "id": "wKSoF7k8j7xD",
        "outputId": "6a6ee1ae-eb72-47de-a9bd-b0b5648de1ab"
      },
      "execution_count": 124,
      "outputs": [
        {
          "output_type": "stream",
          "name": "stdout",
          "text": [
            "<class 'pandas.core.frame.DataFrame'>\n",
            "RangeIndex: 614 entries, 0 to 613\n",
            "Data columns (total 13 columns):\n",
            " #   Column             Non-Null Count  Dtype  \n",
            "---  ------             --------------  -----  \n",
            " 0   Loan_ID            614 non-null    object \n",
            " 1   Gender             601 non-null    object \n",
            " 2   Married            611 non-null    object \n",
            " 3   Dependents         599 non-null    object \n",
            " 4   Education          614 non-null    object \n",
            " 5   Self_Employed      582 non-null    object \n",
            " 6   ApplicantIncome    614 non-null    int64  \n",
            " 7   CoapplicantIncome  614 non-null    float64\n",
            " 8   LoanAmount         592 non-null    float64\n",
            " 9   Loan_Amount_Term   600 non-null    float64\n",
            " 10  Credit_History     564 non-null    float64\n",
            " 11  Property_Area      614 non-null    object \n",
            " 12  Loan_Status        614 non-null    object \n",
            "dtypes: float64(4), int64(1), object(8)\n",
            "memory usage: 62.5+ KB\n"
          ]
        }
      ]
    },
    {
      "cell_type": "markdown",
      "source": [
        "## Handling missing values"
      ],
      "metadata": {
        "id": "Idchz65l0uBW"
      }
    },
    {
      "cell_type": "code",
      "source": [
        "# For numerical columns, filling missing values with the mean\n",
        "for label in ['LoanAmount','Loan_Amount_Term']:\n",
        "  data[label].fillna(data[label].mean(), inplace=True)\n",
        "  data[label].fillna(data[label].mean(), inplace=True)"
      ],
      "metadata": {
        "id": "K5MjcW1Vj9n9"
      },
      "execution_count": 125,
      "outputs": []
    },
    {
      "cell_type": "code",
      "source": [
        "# For categorical columns, filling missing values with the mode\n",
        "for label in ['Gender', 'Married', 'Dependents', 'Self_Employed', 'Credit_History']:\n",
        "  data[label].fillna(data[label].mode()[0], inplace=True)"
      ],
      "metadata": {
        "id": "oC3rjo6wj_Hj"
      },
      "execution_count": 126,
      "outputs": []
    },
    {
      "cell_type": "code",
      "source": [
        "# Converting 'Dependents' to numerical\n",
        "data['Dependents'] = data['Dependents'].str.rstrip('+')\n",
        "data['Dependents'] = pd.to_numeric(data['Dependents'], errors='coerce')"
      ],
      "metadata": {
        "id": "cNzuMrqY2T9x"
      },
      "execution_count": 127,
      "outputs": []
    },
    {
      "cell_type": "code",
      "source": [
        "# Converting 'Loan_Status' to numerical\n",
        "data['Loan_Status'] = data['Loan_Status'].map({'Y': 1, 'N': 0})"
      ],
      "metadata": {
        "id": "4jzp0fgM2pgD"
      },
      "execution_count": 128,
      "outputs": []
    },
    {
      "cell_type": "code",
      "source": [
        "# Converting categorical variables to numerical using one-hot encoding\n",
        "data = pd.get_dummies(data, columns=['Gender', 'Married', 'Education', 'Self_Employed', 'Property_Area'], drop_first=True, dtype=np.int64)\n",
        "\n",
        "# drop_first=True => By default, this is set to drop_first = False . This will cause get_dummies to create one dummy variable for every level\n",
        "#                     of the input categorical variable. If you set drop_first = True , then it will drop the first category.\n",
        "# dtype=np.int64 => by default dtype will be converted to uint8 so to convert to int64 dtype is mentioned"
      ],
      "metadata": {
        "id": "g8Z-deqC2uCy"
      },
      "execution_count": 129,
      "outputs": []
    },
    {
      "cell_type": "code",
      "source": [
        "# dropping 'Loan_ID' from data\n",
        "data.drop('Loan_ID', axis=1,inplace = True)"
      ],
      "metadata": {
        "id": "x0tKr4XlC0py"
      },
      "execution_count": 130,
      "outputs": []
    },
    {
      "cell_type": "code",
      "source": [
        "data.info()"
      ],
      "metadata": {
        "colab": {
          "base_uri": "https://localhost:8080/"
        },
        "id": "f3PFE-d720ea",
        "outputId": "fa70c73d-7bbc-4e8d-8254-7e9672d2669b"
      },
      "execution_count": 131,
      "outputs": [
        {
          "output_type": "stream",
          "name": "stdout",
          "text": [
            "<class 'pandas.core.frame.DataFrame'>\n",
            "RangeIndex: 614 entries, 0 to 613\n",
            "Data columns (total 13 columns):\n",
            " #   Column                   Non-Null Count  Dtype  \n",
            "---  ------                   --------------  -----  \n",
            " 0   Dependents               614 non-null    int64  \n",
            " 1   ApplicantIncome          614 non-null    int64  \n",
            " 2   CoapplicantIncome        614 non-null    float64\n",
            " 3   LoanAmount               614 non-null    float64\n",
            " 4   Loan_Amount_Term         614 non-null    float64\n",
            " 5   Credit_History           614 non-null    float64\n",
            " 6   Loan_Status              614 non-null    int64  \n",
            " 7   Gender_Male              614 non-null    int64  \n",
            " 8   Married_Yes              614 non-null    int64  \n",
            " 9   Education_Not Graduate   614 non-null    int64  \n",
            " 10  Self_Employed_Yes        614 non-null    int64  \n",
            " 11  Property_Area_Semiurban  614 non-null    int64  \n",
            " 12  Property_Area_Urban      614 non-null    int64  \n",
            "dtypes: float64(4), int64(9)\n",
            "memory usage: 62.5 KB\n"
          ]
        }
      ]
    },
    {
      "cell_type": "code",
      "source": [
        "data.describe()"
      ],
      "metadata": {
        "colab": {
          "base_uri": "https://localhost:8080/",
          "height": 338
        },
        "id": "CNdunh9m25G9",
        "outputId": "9ce20aa0-6708-47c7-a327-83b84f663198"
      },
      "execution_count": 132,
      "outputs": [
        {
          "output_type": "execute_result",
          "data": {
            "text/plain": [
              "       Dependents  ApplicantIncome  CoapplicantIncome  LoanAmount  \\\n",
              "count  614.000000       614.000000         614.000000  614.000000   \n",
              "mean     0.744300      5403.459283        1621.245798  146.412162   \n",
              "std      1.009623      6109.041673        2926.248369   84.037468   \n",
              "min      0.000000       150.000000           0.000000    9.000000   \n",
              "25%      0.000000      2877.500000           0.000000  100.250000   \n",
              "50%      0.000000      3812.500000        1188.500000  129.000000   \n",
              "75%      1.000000      5795.000000        2297.250000  164.750000   \n",
              "max      3.000000     81000.000000       41667.000000  700.000000   \n",
              "\n",
              "       Loan_Amount_Term  Credit_History  Loan_Status  Gender_Male  \\\n",
              "count        614.000000      614.000000   614.000000   614.000000   \n",
              "mean         342.000000        0.855049     0.687296     0.817590   \n",
              "std           64.372489        0.352339     0.463973     0.386497   \n",
              "min           12.000000        0.000000     0.000000     0.000000   \n",
              "25%          360.000000        1.000000     0.000000     1.000000   \n",
              "50%          360.000000        1.000000     1.000000     1.000000   \n",
              "75%          360.000000        1.000000     1.000000     1.000000   \n",
              "max          480.000000        1.000000     1.000000     1.000000   \n",
              "\n",
              "       Married_Yes  Education_Not Graduate  Self_Employed_Yes  \\\n",
              "count   614.000000              614.000000         614.000000   \n",
              "mean      0.653094                0.218241           0.133550   \n",
              "std       0.476373                0.413389           0.340446   \n",
              "min       0.000000                0.000000           0.000000   \n",
              "25%       0.000000                0.000000           0.000000   \n",
              "50%       1.000000                0.000000           0.000000   \n",
              "75%       1.000000                0.000000           0.000000   \n",
              "max       1.000000                1.000000           1.000000   \n",
              "\n",
              "       Property_Area_Semiurban  Property_Area_Urban  \n",
              "count               614.000000           614.000000  \n",
              "mean                  0.379479             0.328990  \n",
              "std                   0.485653             0.470229  \n",
              "min                   0.000000             0.000000  \n",
              "25%                   0.000000             0.000000  \n",
              "50%                   0.000000             0.000000  \n",
              "75%                   1.000000             1.000000  \n",
              "max                   1.000000             1.000000  "
            ],
            "text/html": [
              "\n",
              "  <div id=\"df-9088b716-8e94-4299-8177-e925ae29b2b5\" class=\"colab-df-container\">\n",
              "    <div>\n",
              "<style scoped>\n",
              "    .dataframe tbody tr th:only-of-type {\n",
              "        vertical-align: middle;\n",
              "    }\n",
              "\n",
              "    .dataframe tbody tr th {\n",
              "        vertical-align: top;\n",
              "    }\n",
              "\n",
              "    .dataframe thead th {\n",
              "        text-align: right;\n",
              "    }\n",
              "</style>\n",
              "<table border=\"1\" class=\"dataframe\">\n",
              "  <thead>\n",
              "    <tr style=\"text-align: right;\">\n",
              "      <th></th>\n",
              "      <th>Dependents</th>\n",
              "      <th>ApplicantIncome</th>\n",
              "      <th>CoapplicantIncome</th>\n",
              "      <th>LoanAmount</th>\n",
              "      <th>Loan_Amount_Term</th>\n",
              "      <th>Credit_History</th>\n",
              "      <th>Loan_Status</th>\n",
              "      <th>Gender_Male</th>\n",
              "      <th>Married_Yes</th>\n",
              "      <th>Education_Not Graduate</th>\n",
              "      <th>Self_Employed_Yes</th>\n",
              "      <th>Property_Area_Semiurban</th>\n",
              "      <th>Property_Area_Urban</th>\n",
              "    </tr>\n",
              "  </thead>\n",
              "  <tbody>\n",
              "    <tr>\n",
              "      <th>count</th>\n",
              "      <td>614.000000</td>\n",
              "      <td>614.000000</td>\n",
              "      <td>614.000000</td>\n",
              "      <td>614.000000</td>\n",
              "      <td>614.000000</td>\n",
              "      <td>614.000000</td>\n",
              "      <td>614.000000</td>\n",
              "      <td>614.000000</td>\n",
              "      <td>614.000000</td>\n",
              "      <td>614.000000</td>\n",
              "      <td>614.000000</td>\n",
              "      <td>614.000000</td>\n",
              "      <td>614.000000</td>\n",
              "    </tr>\n",
              "    <tr>\n",
              "      <th>mean</th>\n",
              "      <td>0.744300</td>\n",
              "      <td>5403.459283</td>\n",
              "      <td>1621.245798</td>\n",
              "      <td>146.412162</td>\n",
              "      <td>342.000000</td>\n",
              "      <td>0.855049</td>\n",
              "      <td>0.687296</td>\n",
              "      <td>0.817590</td>\n",
              "      <td>0.653094</td>\n",
              "      <td>0.218241</td>\n",
              "      <td>0.133550</td>\n",
              "      <td>0.379479</td>\n",
              "      <td>0.328990</td>\n",
              "    </tr>\n",
              "    <tr>\n",
              "      <th>std</th>\n",
              "      <td>1.009623</td>\n",
              "      <td>6109.041673</td>\n",
              "      <td>2926.248369</td>\n",
              "      <td>84.037468</td>\n",
              "      <td>64.372489</td>\n",
              "      <td>0.352339</td>\n",
              "      <td>0.463973</td>\n",
              "      <td>0.386497</td>\n",
              "      <td>0.476373</td>\n",
              "      <td>0.413389</td>\n",
              "      <td>0.340446</td>\n",
              "      <td>0.485653</td>\n",
              "      <td>0.470229</td>\n",
              "    </tr>\n",
              "    <tr>\n",
              "      <th>min</th>\n",
              "      <td>0.000000</td>\n",
              "      <td>150.000000</td>\n",
              "      <td>0.000000</td>\n",
              "      <td>9.000000</td>\n",
              "      <td>12.000000</td>\n",
              "      <td>0.000000</td>\n",
              "      <td>0.000000</td>\n",
              "      <td>0.000000</td>\n",
              "      <td>0.000000</td>\n",
              "      <td>0.000000</td>\n",
              "      <td>0.000000</td>\n",
              "      <td>0.000000</td>\n",
              "      <td>0.000000</td>\n",
              "    </tr>\n",
              "    <tr>\n",
              "      <th>25%</th>\n",
              "      <td>0.000000</td>\n",
              "      <td>2877.500000</td>\n",
              "      <td>0.000000</td>\n",
              "      <td>100.250000</td>\n",
              "      <td>360.000000</td>\n",
              "      <td>1.000000</td>\n",
              "      <td>0.000000</td>\n",
              "      <td>1.000000</td>\n",
              "      <td>0.000000</td>\n",
              "      <td>0.000000</td>\n",
              "      <td>0.000000</td>\n",
              "      <td>0.000000</td>\n",
              "      <td>0.000000</td>\n",
              "    </tr>\n",
              "    <tr>\n",
              "      <th>50%</th>\n",
              "      <td>0.000000</td>\n",
              "      <td>3812.500000</td>\n",
              "      <td>1188.500000</td>\n",
              "      <td>129.000000</td>\n",
              "      <td>360.000000</td>\n",
              "      <td>1.000000</td>\n",
              "      <td>1.000000</td>\n",
              "      <td>1.000000</td>\n",
              "      <td>1.000000</td>\n",
              "      <td>0.000000</td>\n",
              "      <td>0.000000</td>\n",
              "      <td>0.000000</td>\n",
              "      <td>0.000000</td>\n",
              "    </tr>\n",
              "    <tr>\n",
              "      <th>75%</th>\n",
              "      <td>1.000000</td>\n",
              "      <td>5795.000000</td>\n",
              "      <td>2297.250000</td>\n",
              "      <td>164.750000</td>\n",
              "      <td>360.000000</td>\n",
              "      <td>1.000000</td>\n",
              "      <td>1.000000</td>\n",
              "      <td>1.000000</td>\n",
              "      <td>1.000000</td>\n",
              "      <td>0.000000</td>\n",
              "      <td>0.000000</td>\n",
              "      <td>1.000000</td>\n",
              "      <td>1.000000</td>\n",
              "    </tr>\n",
              "    <tr>\n",
              "      <th>max</th>\n",
              "      <td>3.000000</td>\n",
              "      <td>81000.000000</td>\n",
              "      <td>41667.000000</td>\n",
              "      <td>700.000000</td>\n",
              "      <td>480.000000</td>\n",
              "      <td>1.000000</td>\n",
              "      <td>1.000000</td>\n",
              "      <td>1.000000</td>\n",
              "      <td>1.000000</td>\n",
              "      <td>1.000000</td>\n",
              "      <td>1.000000</td>\n",
              "      <td>1.000000</td>\n",
              "      <td>1.000000</td>\n",
              "    </tr>\n",
              "  </tbody>\n",
              "</table>\n",
              "</div>\n",
              "    <div class=\"colab-df-buttons\">\n",
              "\n",
              "  <div class=\"colab-df-container\">\n",
              "    <button class=\"colab-df-convert\" onclick=\"convertToInteractive('df-9088b716-8e94-4299-8177-e925ae29b2b5')\"\n",
              "            title=\"Convert this dataframe to an interactive table.\"\n",
              "            style=\"display:none;\">\n",
              "\n",
              "  <svg xmlns=\"http://www.w3.org/2000/svg\" height=\"24px\" viewBox=\"0 -960 960 960\">\n",
              "    <path d=\"M120-120v-720h720v720H120Zm60-500h600v-160H180v160Zm220 220h160v-160H400v160Zm0 220h160v-160H400v160ZM180-400h160v-160H180v160Zm440 0h160v-160H620v160ZM180-180h160v-160H180v160Zm440 0h160v-160H620v160Z\"/>\n",
              "  </svg>\n",
              "    </button>\n",
              "\n",
              "  <style>\n",
              "    .colab-df-container {\n",
              "      display:flex;\n",
              "      gap: 12px;\n",
              "    }\n",
              "\n",
              "    .colab-df-convert {\n",
              "      background-color: #E8F0FE;\n",
              "      border: none;\n",
              "      border-radius: 50%;\n",
              "      cursor: pointer;\n",
              "      display: none;\n",
              "      fill: #1967D2;\n",
              "      height: 32px;\n",
              "      padding: 0 0 0 0;\n",
              "      width: 32px;\n",
              "    }\n",
              "\n",
              "    .colab-df-convert:hover {\n",
              "      background-color: #E2EBFA;\n",
              "      box-shadow: 0px 1px 2px rgba(60, 64, 67, 0.3), 0px 1px 3px 1px rgba(60, 64, 67, 0.15);\n",
              "      fill: #174EA6;\n",
              "    }\n",
              "\n",
              "    .colab-df-buttons div {\n",
              "      margin-bottom: 4px;\n",
              "    }\n",
              "\n",
              "    [theme=dark] .colab-df-convert {\n",
              "      background-color: #3B4455;\n",
              "      fill: #D2E3FC;\n",
              "    }\n",
              "\n",
              "    [theme=dark] .colab-df-convert:hover {\n",
              "      background-color: #434B5C;\n",
              "      box-shadow: 0px 1px 3px 1px rgba(0, 0, 0, 0.15);\n",
              "      filter: drop-shadow(0px 1px 2px rgba(0, 0, 0, 0.3));\n",
              "      fill: #FFFFFF;\n",
              "    }\n",
              "  </style>\n",
              "\n",
              "    <script>\n",
              "      const buttonEl =\n",
              "        document.querySelector('#df-9088b716-8e94-4299-8177-e925ae29b2b5 button.colab-df-convert');\n",
              "      buttonEl.style.display =\n",
              "        google.colab.kernel.accessAllowed ? 'block' : 'none';\n",
              "\n",
              "      async function convertToInteractive(key) {\n",
              "        const element = document.querySelector('#df-9088b716-8e94-4299-8177-e925ae29b2b5');\n",
              "        const dataTable =\n",
              "          await google.colab.kernel.invokeFunction('convertToInteractive',\n",
              "                                                    [key], {});\n",
              "        if (!dataTable) return;\n",
              "\n",
              "        const docLinkHtml = 'Like what you see? Visit the ' +\n",
              "          '<a target=\"_blank\" href=https://colab.research.google.com/notebooks/data_table.ipynb>data table notebook</a>'\n",
              "          + ' to learn more about interactive tables.';\n",
              "        element.innerHTML = '';\n",
              "        dataTable['output_type'] = 'display_data';\n",
              "        await google.colab.output.renderOutput(dataTable, element);\n",
              "        const docLink = document.createElement('div');\n",
              "        docLink.innerHTML = docLinkHtml;\n",
              "        element.appendChild(docLink);\n",
              "      }\n",
              "    </script>\n",
              "  </div>\n",
              "\n",
              "\n",
              "<div id=\"df-1fe03d2d-82e5-4635-a1a1-92ba28c9af61\">\n",
              "  <button class=\"colab-df-quickchart\" onclick=\"quickchart('df-1fe03d2d-82e5-4635-a1a1-92ba28c9af61')\"\n",
              "            title=\"Suggest charts\"\n",
              "            style=\"display:none;\">\n",
              "\n",
              "<svg xmlns=\"http://www.w3.org/2000/svg\" height=\"24px\"viewBox=\"0 0 24 24\"\n",
              "     width=\"24px\">\n",
              "    <g>\n",
              "        <path d=\"M19 3H5c-1.1 0-2 .9-2 2v14c0 1.1.9 2 2 2h14c1.1 0 2-.9 2-2V5c0-1.1-.9-2-2-2zM9 17H7v-7h2v7zm4 0h-2V7h2v10zm4 0h-2v-4h2v4z\"/>\n",
              "    </g>\n",
              "</svg>\n",
              "  </button>\n",
              "\n",
              "<style>\n",
              "  .colab-df-quickchart {\n",
              "      --bg-color: #E8F0FE;\n",
              "      --fill-color: #1967D2;\n",
              "      --hover-bg-color: #E2EBFA;\n",
              "      --hover-fill-color: #174EA6;\n",
              "      --disabled-fill-color: #AAA;\n",
              "      --disabled-bg-color: #DDD;\n",
              "  }\n",
              "\n",
              "  [theme=dark] .colab-df-quickchart {\n",
              "      --bg-color: #3B4455;\n",
              "      --fill-color: #D2E3FC;\n",
              "      --hover-bg-color: #434B5C;\n",
              "      --hover-fill-color: #FFFFFF;\n",
              "      --disabled-bg-color: #3B4455;\n",
              "      --disabled-fill-color: #666;\n",
              "  }\n",
              "\n",
              "  .colab-df-quickchart {\n",
              "    background-color: var(--bg-color);\n",
              "    border: none;\n",
              "    border-radius: 50%;\n",
              "    cursor: pointer;\n",
              "    display: none;\n",
              "    fill: var(--fill-color);\n",
              "    height: 32px;\n",
              "    padding: 0;\n",
              "    width: 32px;\n",
              "  }\n",
              "\n",
              "  .colab-df-quickchart:hover {\n",
              "    background-color: var(--hover-bg-color);\n",
              "    box-shadow: 0 1px 2px rgba(60, 64, 67, 0.3), 0 1px 3px 1px rgba(60, 64, 67, 0.15);\n",
              "    fill: var(--button-hover-fill-color);\n",
              "  }\n",
              "\n",
              "  .colab-df-quickchart-complete:disabled,\n",
              "  .colab-df-quickchart-complete:disabled:hover {\n",
              "    background-color: var(--disabled-bg-color);\n",
              "    fill: var(--disabled-fill-color);\n",
              "    box-shadow: none;\n",
              "  }\n",
              "\n",
              "  .colab-df-spinner {\n",
              "    border: 2px solid var(--fill-color);\n",
              "    border-color: transparent;\n",
              "    border-bottom-color: var(--fill-color);\n",
              "    animation:\n",
              "      spin 1s steps(1) infinite;\n",
              "  }\n",
              "\n",
              "  @keyframes spin {\n",
              "    0% {\n",
              "      border-color: transparent;\n",
              "      border-bottom-color: var(--fill-color);\n",
              "      border-left-color: var(--fill-color);\n",
              "    }\n",
              "    20% {\n",
              "      border-color: transparent;\n",
              "      border-left-color: var(--fill-color);\n",
              "      border-top-color: var(--fill-color);\n",
              "    }\n",
              "    30% {\n",
              "      border-color: transparent;\n",
              "      border-left-color: var(--fill-color);\n",
              "      border-top-color: var(--fill-color);\n",
              "      border-right-color: var(--fill-color);\n",
              "    }\n",
              "    40% {\n",
              "      border-color: transparent;\n",
              "      border-right-color: var(--fill-color);\n",
              "      border-top-color: var(--fill-color);\n",
              "    }\n",
              "    60% {\n",
              "      border-color: transparent;\n",
              "      border-right-color: var(--fill-color);\n",
              "    }\n",
              "    80% {\n",
              "      border-color: transparent;\n",
              "      border-right-color: var(--fill-color);\n",
              "      border-bottom-color: var(--fill-color);\n",
              "    }\n",
              "    90% {\n",
              "      border-color: transparent;\n",
              "      border-bottom-color: var(--fill-color);\n",
              "    }\n",
              "  }\n",
              "</style>\n",
              "\n",
              "  <script>\n",
              "    async function quickchart(key) {\n",
              "      const quickchartButtonEl =\n",
              "        document.querySelector('#' + key + ' button');\n",
              "      quickchartButtonEl.disabled = true;  // To prevent multiple clicks.\n",
              "      quickchartButtonEl.classList.add('colab-df-spinner');\n",
              "      try {\n",
              "        const charts = await google.colab.kernel.invokeFunction(\n",
              "            'suggestCharts', [key], {});\n",
              "      } catch (error) {\n",
              "        console.error('Error during call to suggestCharts:', error);\n",
              "      }\n",
              "      quickchartButtonEl.classList.remove('colab-df-spinner');\n",
              "      quickchartButtonEl.classList.add('colab-df-quickchart-complete');\n",
              "    }\n",
              "    (() => {\n",
              "      let quickchartButtonEl =\n",
              "        document.querySelector('#df-1fe03d2d-82e5-4635-a1a1-92ba28c9af61 button');\n",
              "      quickchartButtonEl.style.display =\n",
              "        google.colab.kernel.accessAllowed ? 'block' : 'none';\n",
              "    })();\n",
              "  </script>\n",
              "</div>\n",
              "    </div>\n",
              "  </div>\n"
            ]
          },
          "metadata": {},
          "execution_count": 132
        }
      ]
    },
    {
      "cell_type": "markdown",
      "source": [
        "## Data visualization"
      ],
      "metadata": {
        "id": "6UTGh9hb39nu"
      }
    },
    {
      "cell_type": "code",
      "source": [
        "# Pairplot numerical features\n",
        "sns.pairplot(data[['ApplicantIncome', 'CoapplicantIncome', 'LoanAmount', 'Loan_Amount_Term', 'Credit_History', 'Loan_Status']])\n",
        "plt.show()"
      ],
      "metadata": {
        "colab": {
          "base_uri": "https://localhost:8080/",
          "height": 1000
        },
        "id": "Fn5-ntIJ2-OE",
        "outputId": "eec3f7bd-18b9-4461-b540-f19456f4a878"
      },
      "execution_count": 133,
      "outputs": [
        {
          "output_type": "display_data",
          "data": {
            "text/plain": [
              "<Figure size 1500x1500 with 42 Axes>"
            ],
            "image/png": "[encoded data removed]"
          },
          "metadata": {}
        }
      ]
    },
    {
      "cell_type": "code",
      "source": [
        "# Correlation heatmap\n",
        "correlation_matrix = data.corr()\n",
        "plt.figure(figsize=(12, 8))\n",
        "sns.heatmap(correlation_matrix, annot=True, cmap='coolwarm', linewidths=0.5)\n",
        "plt.title('Correlation Heatmap')\n",
        "plt.show()"
      ],
      "metadata": {
        "colab": {
          "base_uri": "https://localhost:8080/",
          "height": 865
        },
        "id": "WJQdgBpQ3O6V",
        "outputId": "37adf6fb-3dbd-488e-d0ad-cac7b7d192e7"
      },
      "execution_count": 134,
      "outputs": [
        {
          "output_type": "display_data",
          "data": {
            "text/plain": [
              "<Figure size 1200x800 with 2 Axes>"
            ],
            "image/png": "[encoded data removed]"
          },
          "metadata": {}
        }
      ]
    },
    {
      "cell_type": "markdown",
      "source": [
        "## Setting features and target variable, splitting dataset to training and testing datasets"
      ],
      "metadata": {
        "id": "328UqC2Z_e0O"
      }
    },
    {
      "cell_type": "code",
      "source": [
        "# Assuming 'Loan_Status' is the target variable\n",
        "x = data.drop('Loan_Status', axis=1)\n",
        "y = data['Loan_Status']"
      ],
      "metadata": {
        "id": "bBoeR69Y3l7f"
      },
      "execution_count": 135,
      "outputs": []
    },
    {
      "cell_type": "code",
      "source": [
        "x_train, x_test, y_train, y_test = train_test_split(x, y, test_size=0.2, random_state=42)"
      ],
      "metadata": {
        "id": "_By6b2SC4Lcs"
      },
      "execution_count": 136,
      "outputs": []
    },
    {
      "cell_type": "markdown",
      "source": [
        "### Random forest classifier"
      ],
      "metadata": {
        "id": "QnMvh2cqEDb8"
      }
    },
    {
      "cell_type": "code",
      "source": [
        "nest = [50 , 100, 150, 200, 250, 300, 350, 400, 450, 500]\n",
        "acc_scr = []\n",
        "for i in nest:\n",
        "  rf_clf = RandomForestClassifier(n_estimators = i, random_state=42)\n",
        "  rf_clf.fit(x_train,y_train)\n",
        "  y_pred_rf = rf_clf.predict(x_test)\n",
        "  acc_scr.append(accuracy_score(y_test,y_pred_rf))\n",
        "\n",
        "plt.plot(nest,acc_scr,'o-')\n",
        "plt.grid()"
      ],
      "metadata": {
        "colab": {
          "base_uri": "https://localhost:8080/",
          "height": 430
        },
        "id": "_TitUm8z9rSS",
        "outputId": "f3817e03-0848-4372-9859-1f796b8a8738"
      },
      "execution_count": 137,
      "outputs": [
        {
          "output_type": "display_data",
          "data": {
            "text/plain": [
              "<Figure size 640x480 with 1 Axes>"
            ],
            "image/png": "[encoded data removed]"
          },
          "metadata": {}
        }
      ]
    },
    {
      "cell_type": "code",
      "source": [
        "# we get max accuracy at 150, so n_estimators = 150"
      ],
      "metadata": {
        "id": "y06Hql1HEqWh"
      },
      "execution_count": 138,
      "outputs": []
    },
    {
      "cell_type": "code",
      "source": [
        "rf_model = RandomForestClassifier(n_estimators = 150, random_state = 42)\n",
        "rf_model.fit(x_train, y_train)\n",
        "y_pred_rf = rf_model.predict(x_test)\n",
        "rf_accuracy = accuracy_score(y_test, y_pred_rf)\n",
        "print(f\"Random Forest Accuracy: {rf_accuracy}\\n\\n\")\n",
        "print(classification_report(y_test, y_pred_rf))"
      ],
      "metadata": {
        "colab": {
          "base_uri": "https://localhost:8080/"
        },
        "id": "8tap-bReCHjU",
        "outputId": "473a824e-64d3-4472-87c8-912b7fb85aeb"
      },
      "execution_count": 139,
      "outputs": [
        {
          "output_type": "stream",
          "name": "stdout",
          "text": [
            "Random Forest Accuracy: 0.7723577235772358\n",
            "\n",
            "\n",
            "              precision    recall  f1-score   support\n",
            "\n",
            "           0       0.86      0.42      0.56        43\n",
            "           1       0.75      0.96      0.85        80\n",
            "\n",
            "    accuracy                           0.77       123\n",
            "   macro avg       0.81      0.69      0.70       123\n",
            "weighted avg       0.79      0.77      0.75       123\n",
            "\n"
          ]
        }
      ]
    },
    {
      "cell_type": "markdown",
      "source": [
        "### Bagging"
      ],
      "metadata": {
        "id": "m6_ryubHGU2R"
      }
    },
    {
      "cell_type": "markdown",
      "source": [
        "#### Bagging with Random forest classifier"
      ],
      "metadata": {
        "id": "s7WiBrVAcS4f"
      }
    },
    {
      "cell_type": "code",
      "source": [
        "bag_rf_model = BaggingClassifier(base_estimator=rf_model, n_estimators = 100, random_state=42)\n",
        "bag_rf_model.fit(x_train,y_train)\n",
        "y_pred_rf_bag = bag_rf_model.predict(x_test)\n",
        "bag_rf_accuracy = accuracy_score(y_test, y_pred_rf_bag)\n",
        "print(f\"Bagging Classifier with Random forest Accuracy: {bag_rf_accuracy}\\n\\n\")\n",
        "print(classification_report(y_test, y_pred_rf_bag))"
      ],
      "metadata": {
        "colab": {
          "base_uri": "https://localhost:8080/"
        },
        "id": "Uemge52wcSPs",
        "outputId": "1183da42-8bca-4779-bb1c-8801acad7f29"
      },
      "execution_count": 140,
      "outputs": [
        {
          "output_type": "stream",
          "name": "stderr",
          "text": [
            "/usr/local/lib/python3.10/dist-packages/sklearn/ensemble/_base.py:166: FutureWarning: `base_estimator` was renamed to `estimator` in version 1.2 and will be removed in 1.4.\n",
            "  warnings.warn(\n"
          ]
        },
        {
          "output_type": "stream",
          "name": "stdout",
          "text": [
            "Bagging Classifier with Random forest Accuracy: 0.7886178861788617\n",
            "\n",
            "\n",
            "              precision    recall  f1-score   support\n",
            "\n",
            "           0       0.95      0.42      0.58        43\n",
            "           1       0.76      0.99      0.86        80\n",
            "\n",
            "    accuracy                           0.79       123\n",
            "   macro avg       0.85      0.70      0.72       123\n",
            "weighted avg       0.83      0.79      0.76       123\n",
            "\n"
          ]
        }
      ]
    },
    {
      "cell_type": "markdown",
      "source": [
        "#### Bagging with SVM classifier"
      ],
      "metadata": {
        "id": "_-iX4cq0dm0O"
      }
    },
    {
      "cell_type": "code",
      "source": [
        "scaler = StandardScaler()\n",
        "x_scaled = scaler.fit_transform(x)"
      ],
      "metadata": {
        "id": "UizZjkoAjQWj"
      },
      "execution_count": 141,
      "outputs": []
    },
    {
      "cell_type": "code",
      "source": [
        "x_train_scaled, x_test_scaled, y_train_scaled, y_test_scaled = train_test_split(x_scaled, y, test_size=0.2, random_state=42)"
      ],
      "metadata": {
        "id": "kCJhHAAprIyh"
      },
      "execution_count": 142,
      "outputs": []
    },
    {
      "cell_type": "code",
      "source": [
        "bag_svm_model = BaggingClassifier(base_estimator=SVC(), n_estimators = 100, random_state=42)\n",
        "bag_svm_model.fit(x_train_scaled,y_train_scaled)\n",
        "y_pred_svm_bag = bag_svm_model.predict(x_test_scaled)\n",
        "bag_svm_accuracy = accuracy_score(y_test_scaled, y_pred_svm_bag)\n",
        "print(f\"\\n\\nBagging Classifier with SVM Accuracy: {bag_svm_accuracy}\\n\\n\")\n",
        "print(classification_report(y_test_scaled, y_pred_svm_bag))"
      ],
      "metadata": {
        "colab": {
          "base_uri": "https://localhost:8080/"
        },
        "id": "8jXp7_BBdwYQ",
        "outputId": "422adec3-ca47-4d4b-a300-9c4fc8bad943"
      },
      "execution_count": 162,
      "outputs": [
        {
          "output_type": "stream",
          "name": "stderr",
          "text": [
            "/usr/local/lib/python3.10/dist-packages/sklearn/ensemble/_base.py:166: FutureWarning: `base_estimator` was renamed to `estimator` in version 1.2 and will be removed in 1.4.\n",
            "  warnings.warn(\n"
          ]
        },
        {
          "output_type": "stream",
          "name": "stdout",
          "text": [
            "\n",
            "\n",
            "Bagging Classifier with SVM Accuracy: 0.7967479674796748\n",
            "\n",
            "\n",
            "              precision    recall  f1-score   support\n",
            "\n",
            "           0       1.00      0.42      0.59        43\n",
            "           1       0.76      1.00      0.86        80\n",
            "\n",
            "    accuracy                           0.80       123\n",
            "   macro avg       0.88      0.71      0.73       123\n",
            "weighted avg       0.85      0.80      0.77       123\n",
            "\n"
          ]
        }
      ]
    },
    {
      "cell_type": "markdown",
      "source": [
        "#### Bagging with Logistic Regression"
      ],
      "metadata": {
        "id": "5R1qhhTAsBDF"
      }
    },
    {
      "cell_type": "code",
      "source": [
        "lr_model = BaggingClassifier(base_estimator=LogisticRegression(), n_estimators=50, random_state=42)\n",
        "lr_model.fit(x_train_scaled, y_train_scaled)\n",
        "y_pred_lr = lr_model.predict(x_test_scaled)\n",
        "lr_accuracy = accuracy_score(y_test_scaled, y_pred_lr)\n",
        "print(f\"\\nBagging with Logistic Regression Accuracy: {lr_accuracy}\\n\\n\")\n",
        "print(classification_report(y_test_scaled, y_pred_lr))"
      ],
      "metadata": {
        "colab": {
          "base_uri": "https://localhost:8080/"
        },
        "id": "B4fYts37sDbi",
        "outputId": "58538a30-16b9-4970-8c56-bd0b2dcda8f2"
      },
      "execution_count": 144,
      "outputs": [
        {
          "output_type": "stream",
          "name": "stderr",
          "text": [
            "/usr/local/lib/python3.10/dist-packages/sklearn/ensemble/_base.py:166: FutureWarning: `base_estimator` was renamed to `estimator` in version 1.2 and will be removed in 1.4.\n",
            "  warnings.warn(\n"
          ]
        },
        {
          "output_type": "stream",
          "name": "stdout",
          "text": [
            "\n",
            "Bagging with Logistic Regression Accuracy: 0.7886178861788617\n",
            "\n",
            "\n",
            "              precision    recall  f1-score   support\n",
            "\n",
            "           0       0.95      0.42      0.58        43\n",
            "           1       0.76      0.99      0.86        80\n",
            "\n",
            "    accuracy                           0.79       123\n",
            "   macro avg       0.85      0.70      0.72       123\n",
            "weighted avg       0.83      0.79      0.76       123\n",
            "\n"
          ]
        }
      ]
    },
    {
      "cell_type": "markdown",
      "source": [
        "#### Bagging with Naive Bayes"
      ],
      "metadata": {
        "id": "46KizooEs89c"
      }
    },
    {
      "cell_type": "code",
      "source": [
        "nb_model = BaggingClassifier(base_estimator=GaussianNB(), n_estimators=50, random_state=42)\n",
        "nb_model.fit(x_train_scaled, y_train)\n",
        "y_pred_nb = nb_model.predict(x_test_scaled)\n",
        "nb_accuracy = accuracy_score(y_test_scaled, y_pred_nb)\n",
        "print(f\"\\nBagging with Naive Bayes Accuracy: {nb_accuracy}\")\n",
        "print(\"\\n\\n\",classification_report(y_test_scaled, y_pred_nb))"
      ],
      "metadata": {
        "colab": {
          "base_uri": "https://localhost:8080/"
        },
        "id": "M3FjWh9ls4Dv",
        "outputId": "1ee60fdb-86a6-4cab-bcf3-a8ae32b6f77e"
      },
      "execution_count": 145,
      "outputs": [
        {
          "output_type": "stream",
          "name": "stdout",
          "text": [
            "\n",
            "Bagging with Naive Bayes Accuracy: 0.7804878048780488\n",
            "\n",
            "\n",
            "               precision    recall  f1-score   support\n",
            "\n",
            "           0       0.90      0.42      0.57        43\n",
            "           1       0.76      0.97      0.85        80\n",
            "\n",
            "    accuracy                           0.78       123\n",
            "   macro avg       0.83      0.70      0.71       123\n",
            "weighted avg       0.81      0.78      0.75       123\n",
            "\n"
          ]
        },
        {
          "output_type": "stream",
          "name": "stderr",
          "text": [
            "/usr/local/lib/python3.10/dist-packages/sklearn/ensemble/_base.py:166: FutureWarning: `base_estimator` was renamed to `estimator` in version 1.2 and will be removed in 1.4.\n",
            "  warnings.warn(\n"
          ]
        }
      ]
    },
    {
      "cell_type": "markdown",
      "source": [
        "#### Bagging with descision tree classifier"
      ],
      "metadata": {
        "id": "_lHOj_KwcT4b"
      }
    },
    {
      "cell_type": "code",
      "source": [
        "accuracy_baggingDt = []\n",
        "dt_clf = DecisionTreeClassifier()\n",
        "for i in nest:\n",
        "  bg_clf = BaggingClassifier(estimator=dt_clf,n_estimators=i,random_state=42)\n",
        "  bg_clf.fit(x_train,y_train)\n",
        "  y_pred_bag_dt = bg_clf.predict(x_test)\n",
        "  accuracy_baggingDt.append(accuracy_score(y_test,y_pred_bag_dt))"
      ],
      "metadata": {
        "id": "yVVF6q0qFox1"
      },
      "execution_count": 146,
      "outputs": []
    },
    {
      "cell_type": "code",
      "source": [
        "plt.plot(nest, accuracy_baggingDt, 'o-')\n",
        "plt.grid()"
      ],
      "metadata": {
        "colab": {
          "base_uri": "https://localhost:8080/",
          "height": 430
        },
        "id": "6Bk6c8wCHZtk",
        "outputId": "bb0d1d4f-e4fc-4ec9-f0f5-1428a6ba497c"
      },
      "execution_count": 147,
      "outputs": [
        {
          "output_type": "display_data",
          "data": {
            "text/plain": [
              "<Figure size 640x480 with 1 Axes>"
            ],
            "image/png": "[encoded data removed]"
          },
          "metadata": {}
        }
      ]
    },
    {
      "cell_type": "code",
      "source": [
        "# we get max accuracy score at 200, so n_estimators = 200"
      ],
      "metadata": {
        "id": "LoEQMVf0HmFN"
      },
      "execution_count": 148,
      "outputs": []
    },
    {
      "cell_type": "code",
      "source": [
        "bag_model = BaggingClassifier(estimator=dt_clf, n_estimators = 200, random_state=42)\n",
        "bag_model.fit(x_train,y_train)\n",
        "y_pred_bag = bag_model.predict(x_test)\n",
        "bag_accuracy = accuracy_score(y_test, y_pred_bag)\n",
        "print(f\"\\nBagging Classifier Accuracy: {bag_accuracy}\")\n",
        "print(\"\\n\\n\",classification_report(y_test, y_pred_bag))"
      ],
      "metadata": {
        "colab": {
          "base_uri": "https://localhost:8080/"
        },
        "id": "cf0WayYOH2Wc",
        "outputId": "c6c3879e-c4d9-4158-f127-be62899e3de3"
      },
      "execution_count": 149,
      "outputs": [
        {
          "output_type": "stream",
          "name": "stdout",
          "text": [
            "\n",
            "Bagging Classifier Accuracy: 0.7886178861788617\n",
            "\n",
            "\n",
            "               precision    recall  f1-score   support\n",
            "\n",
            "           0       0.87      0.47      0.61        43\n",
            "           1       0.77      0.96      0.86        80\n",
            "\n",
            "    accuracy                           0.79       123\n",
            "   macro avg       0.82      0.71      0.73       123\n",
            "weighted avg       0.80      0.79      0.77       123\n",
            "\n"
          ]
        }
      ]
    },
    {
      "cell_type": "markdown",
      "source": [
        "### Boosting"
      ],
      "metadata": {
        "id": "rxv0BDmZJVKx"
      }
    },
    {
      "cell_type": "markdown",
      "source": [
        "#### AdaBoost Classifier"
      ],
      "metadata": {
        "id": "dO4Ss-n3JZVR"
      }
    },
    {
      "cell_type": "code",
      "source": [
        "param_grid = {\n",
        "    'n_estimators': [50, 100, 150],\n",
        "    'learning_rate': [0.01, 0.1, 0.5],\n",
        "    'base_estimator': [None, DecisionTreeClassifier(max_depth=1), DecisionTreeClassifier(max_depth=5)]\n",
        "}"
      ],
      "metadata": {
        "id": "0kPYB7H60dZt"
      },
      "execution_count": 150,
      "outputs": []
    },
    {
      "cell_type": "code",
      "source": [
        "adaboost_classifier = AdaBoostClassifier()\n",
        "# Create GridSearchCV\n",
        "grid_search_adaboost = GridSearchCV(adaboost_classifier, param_grid, cv=5, scoring='accuracy', verbose=2)\n",
        "grid_search_adaboost.fit(x_train, y_train)"
      ],
      "metadata": {
        "colab": {
          "base_uri": "https://localhost:8080/",
          "height": 1000
        },
        "id": "nYpTurQy0eiw",
        "outputId": "9125784c-b998-4f8b-e7fb-51ffc934b832"
      },
      "execution_count": 151,
      "outputs": [
        {
          "output_type": "stream",
          "name": "stdout",
          "text": [
            "Fitting 5 folds for each of 27 candidates, totalling 135 fits\n",
            "[CV] END base_estimator=None, learning_rate=0.01, n_estimators=50; total time=   0.0s\n",
            "[CV] END base_estimator=None, learning_rate=0.01, n_estimators=50; total time=   0.0s\n",
            "[CV] END base_estimator=None, learning_rate=0.01, n_estimators=50; total time=   0.0s\n",
            "[CV] END base_estimator=None, learning_rate=0.01, n_estimators=50; total time=   0.0s\n",
            "[CV] END base_estimator=None, learning_rate=0.01, n_estimators=50; total time=   0.0s\n",
            "[CV] END base_estimator=None, learning_rate=0.01, n_estimators=100; total time=   0.0s\n",
            "[CV] END base_estimator=None, learning_rate=0.01, n_estimators=100; total time=   0.0s\n",
            "[CV] END base_estimator=None, learning_rate=0.01, n_estimators=100; total time=   0.0s\n",
            "[CV] END base_estimator=None, learning_rate=0.01, n_estimators=100; total time=   0.0s\n",
            "[CV] END base_estimator=None, learning_rate=0.01, n_estimators=100; total time=   0.0s\n",
            "[CV] END base_estimator=None, learning_rate=0.01, n_estimators=150; total time=   0.0s\n",
            "[CV] END base_estimator=None, learning_rate=0.01, n_estimators=150; total time=   0.0s\n",
            "[CV] END base_estimator=None, learning_rate=0.01, n_estimators=150; total time=   0.0s\n",
            "[CV] END base_estimator=None, learning_rate=0.01, n_estimators=150; total time=   0.0s\n",
            "[CV] END base_estimator=None, learning_rate=0.01, n_estimators=150; total time=   0.0s\n",
            "[CV] END base_estimator=None, learning_rate=0.1, n_estimators=50; total time=   0.0s\n",
            "[CV] END base_estimator=None, learning_rate=0.1, n_estimators=50; total time=   0.0s\n",
            "[CV] END base_estimator=None, learning_rate=0.1, n_estimators=50; total time=   0.0s\n",
            "[CV] END base_estimator=None, learning_rate=0.1, n_estimators=50; total time=   0.0s\n",
            "[CV] END base_estimator=None, learning_rate=0.1, n_estimators=50; total time=   0.0s\n",
            "[CV] END base_estimator=None, learning_rate=0.1, n_estimators=100; total time=   0.0s\n",
            "[CV] END base_estimator=None, learning_rate=0.1, n_estimators=100; total time=   0.0s\n",
            "[CV] END base_estimator=None, learning_rate=0.1, n_estimators=100; total time=   0.0s\n",
            "[CV] END base_estimator=None, learning_rate=0.1, n_estimators=100; total time=   0.0s\n",
            "[CV] END base_estimator=None, learning_rate=0.1, n_estimators=100; total time=   0.0s\n",
            "[CV] END base_estimator=None, learning_rate=0.1, n_estimators=150; total time=   0.0s\n",
            "[CV] END base_estimator=None, learning_rate=0.1, n_estimators=150; total time=   0.0s\n",
            "[CV] END base_estimator=None, learning_rate=0.1, n_estimators=150; total time=   0.0s\n",
            "[CV] END base_estimator=None, learning_rate=0.1, n_estimators=150; total time=   0.0s\n",
            "[CV] END base_estimator=None, learning_rate=0.1, n_estimators=150; total time=   0.0s\n",
            "[CV] END base_estimator=None, learning_rate=0.5, n_estimators=50; total time=   0.0s\n",
            "[CV] END base_estimator=None, learning_rate=0.5, n_estimators=50; total time=   0.0s\n",
            "[CV] END base_estimator=None, learning_rate=0.5, n_estimators=50; total time=   0.0s\n",
            "[CV] END base_estimator=None, learning_rate=0.5, n_estimators=50; total time=   0.0s\n",
            "[CV] END base_estimator=None, learning_rate=0.5, n_estimators=50; total time=   0.0s\n",
            "[CV] END base_estimator=None, learning_rate=0.5, n_estimators=100; total time=   0.0s\n",
            "[CV] END base_estimator=None, learning_rate=0.5, n_estimators=100; total time=   0.0s\n",
            "[CV] END base_estimator=None, learning_rate=0.5, n_estimators=100; total time=   0.0s\n",
            "[CV] END base_estimator=None, learning_rate=0.5, n_estimators=100; total time=   0.0s\n",
            "[CV] END base_estimator=None, learning_rate=0.5, n_estimators=100; total time=   0.0s\n",
            "[CV] END base_estimator=None, learning_rate=0.5, n_estimators=150; total time=   0.0s\n",
            "[CV] END base_estimator=None, learning_rate=0.5, n_estimators=150; total time=   0.0s\n",
            "[CV] END base_estimator=None, learning_rate=0.5, n_estimators=150; total time=   0.0s\n",
            "[CV] END base_estimator=None, learning_rate=0.5, n_estimators=150; total time=   0.0s\n",
            "[CV] END base_estimator=None, learning_rate=0.5, n_estimators=150; total time=   0.0s\n",
            "[CV] END base_estimator=DecisionTreeClassifier(max_depth=1), learning_rate=0.01, n_estimators=50; total time=   0.1s\n"
          ]
        },
        {
          "output_type": "stream",
          "name": "stderr",
          "text": [
            "/usr/local/lib/python3.10/dist-packages/sklearn/ensemble/_base.py:166: FutureWarning: `base_estimator` was renamed to `estimator` in version 1.2 and will be removed in 1.4.\n",
            "  warnings.warn(\n",
            "/usr/local/lib/python3.10/dist-packages/sklearn/ensemble/_base.py:166: FutureWarning: `base_estimator` was renamed to `estimator` in version 1.2 and will be removed in 1.4.\n",
            "  warnings.warn(\n"
          ]
        },
        {
          "output_type": "stream",
          "name": "stdout",
          "text": [
            "[CV] END base_estimator=DecisionTreeClassifier(max_depth=1), learning_rate=0.01, n_estimators=50; total time=   0.1s\n",
            "[CV] END base_estimator=DecisionTreeClassifier(max_depth=1), learning_rate=0.01, n_estimators=50; total time=   0.1s\n"
          ]
        },
        {
          "output_type": "stream",
          "name": "stderr",
          "text": [
            "/usr/local/lib/python3.10/dist-packages/sklearn/ensemble/_base.py:166: FutureWarning: `base_estimator` was renamed to `estimator` in version 1.2 and will be removed in 1.4.\n",
            "  warnings.warn(\n",
            "/usr/local/lib/python3.10/dist-packages/sklearn/ensemble/_base.py:166: FutureWarning: `base_estimator` was renamed to `estimator` in version 1.2 and will be removed in 1.4.\n",
            "  warnings.warn(\n"
          ]
        },
        {
          "output_type": "stream",
          "name": "stdout",
          "text": [
            "[CV] END base_estimator=DecisionTreeClassifier(max_depth=1), learning_rate=0.01, n_estimators=50; total time=   0.1s\n",
            "[CV] END base_estimator=DecisionTreeClassifier(max_depth=1), learning_rate=0.01, n_estimators=50; total time=   0.1s\n"
          ]
        },
        {
          "output_type": "stream",
          "name": "stderr",
          "text": [
            "/usr/local/lib/python3.10/dist-packages/sklearn/ensemble/_base.py:166: FutureWarning: `base_estimator` was renamed to `estimator` in version 1.2 and will be removed in 1.4.\n",
            "  warnings.warn(\n",
            "/usr/local/lib/python3.10/dist-packages/sklearn/ensemble/_base.py:166: FutureWarning: `base_estimator` was renamed to `estimator` in version 1.2 and will be removed in 1.4.\n",
            "  warnings.warn(\n"
          ]
        },
        {
          "output_type": "stream",
          "name": "stdout",
          "text": [
            "[CV] END base_estimator=DecisionTreeClassifier(max_depth=1), learning_rate=0.01, n_estimators=100; total time=   0.2s\n",
            "[CV] END base_estimator=DecisionTreeClassifier(max_depth=1), learning_rate=0.01, n_estimators=100; total time=   0.2s\n"
          ]
        },
        {
          "output_type": "stream",
          "name": "stderr",
          "text": [
            "/usr/local/lib/python3.10/dist-packages/sklearn/ensemble/_base.py:166: FutureWarning: `base_estimator` was renamed to `estimator` in version 1.2 and will be removed in 1.4.\n",
            "  warnings.warn(\n",
            "/usr/local/lib/python3.10/dist-packages/sklearn/ensemble/_base.py:166: FutureWarning: `base_estimator` was renamed to `estimator` in version 1.2 and will be removed in 1.4.\n",
            "  warnings.warn(\n"
          ]
        },
        {
          "output_type": "stream",
          "name": "stdout",
          "text": [
            "[CV] END base_estimator=DecisionTreeClassifier(max_depth=1), learning_rate=0.01, n_estimators=100; total time=   0.2s\n"
          ]
        },
        {
          "output_type": "stream",
          "name": "stderr",
          "text": [
            "/usr/local/lib/python3.10/dist-packages/sklearn/ensemble/_base.py:166: FutureWarning: `base_estimator` was renamed to `estimator` in version 1.2 and will be removed in 1.4.\n",
            "  warnings.warn(\n"
          ]
        },
        {
          "output_type": "stream",
          "name": "stdout",
          "text": [
            "[CV] END base_estimator=DecisionTreeClassifier(max_depth=1), learning_rate=0.01, n_estimators=100; total time=   0.2s\n",
            "[CV] END base_estimator=DecisionTreeClassifier(max_depth=1), learning_rate=0.01, n_estimators=100; total time=   0.2s\n"
          ]
        },
        {
          "output_type": "stream",
          "name": "stderr",
          "text": [
            "/usr/local/lib/python3.10/dist-packages/sklearn/ensemble/_base.py:166: FutureWarning: `base_estimator` was renamed to `estimator` in version 1.2 and will be removed in 1.4.\n",
            "  warnings.warn(\n",
            "/usr/local/lib/python3.10/dist-packages/sklearn/ensemble/_base.py:166: FutureWarning: `base_estimator` was renamed to `estimator` in version 1.2 and will be removed in 1.4.\n",
            "  warnings.warn(\n"
          ]
        },
        {
          "output_type": "stream",
          "name": "stdout",
          "text": [
            "[CV] END base_estimator=DecisionTreeClassifier(max_depth=1), learning_rate=0.01, n_estimators=150; total time=   0.3s\n"
          ]
        },
        {
          "output_type": "stream",
          "name": "stderr",
          "text": [
            "/usr/local/lib/python3.10/dist-packages/sklearn/ensemble/_base.py:166: FutureWarning: `base_estimator` was renamed to `estimator` in version 1.2 and will be removed in 1.4.\n",
            "  warnings.warn(\n"
          ]
        },
        {
          "output_type": "stream",
          "name": "stdout",
          "text": [
            "[CV] END base_estimator=DecisionTreeClassifier(max_depth=1), learning_rate=0.01, n_estimators=150; total time=   0.3s\n"
          ]
        },
        {
          "output_type": "stream",
          "name": "stderr",
          "text": [
            "/usr/local/lib/python3.10/dist-packages/sklearn/ensemble/_base.py:166: FutureWarning: `base_estimator` was renamed to `estimator` in version 1.2 and will be removed in 1.4.\n",
            "  warnings.warn(\n"
          ]
        },
        {
          "output_type": "stream",
          "name": "stdout",
          "text": [
            "[CV] END base_estimator=DecisionTreeClassifier(max_depth=1), learning_rate=0.01, n_estimators=150; total time=   0.3s\n"
          ]
        },
        {
          "output_type": "stream",
          "name": "stderr",
          "text": [
            "/usr/local/lib/python3.10/dist-packages/sklearn/ensemble/_base.py:166: FutureWarning: `base_estimator` was renamed to `estimator` in version 1.2 and will be removed in 1.4.\n",
            "  warnings.warn(\n"
          ]
        },
        {
          "output_type": "stream",
          "name": "stdout",
          "text": [
            "[CV] END base_estimator=DecisionTreeClassifier(max_depth=1), learning_rate=0.01, n_estimators=150; total time=   0.3s\n"
          ]
        },
        {
          "output_type": "stream",
          "name": "stderr",
          "text": [
            "/usr/local/lib/python3.10/dist-packages/sklearn/ensemble/_base.py:166: FutureWarning: `base_estimator` was renamed to `estimator` in version 1.2 and will be removed in 1.4.\n",
            "  warnings.warn(\n"
          ]
        },
        {
          "output_type": "stream",
          "name": "stdout",
          "text": [
            "[CV] END base_estimator=DecisionTreeClassifier(max_depth=1), learning_rate=0.01, n_estimators=150; total time=   0.3s\n",
            "[CV] END base_estimator=DecisionTreeClassifier(max_depth=1), learning_rate=0.1, n_estimators=50; total time=   0.1s\n"
          ]
        },
        {
          "output_type": "stream",
          "name": "stderr",
          "text": [
            "/usr/local/lib/python3.10/dist-packages/sklearn/ensemble/_base.py:166: FutureWarning: `base_estimator` was renamed to `estimator` in version 1.2 and will be removed in 1.4.\n",
            "  warnings.warn(\n",
            "/usr/local/lib/python3.10/dist-packages/sklearn/ensemble/_base.py:166: FutureWarning: `base_estimator` was renamed to `estimator` in version 1.2 and will be removed in 1.4.\n",
            "  warnings.warn(\n"
          ]
        },
        {
          "output_type": "stream",
          "name": "stdout",
          "text": [
            "[CV] END base_estimator=DecisionTreeClassifier(max_depth=1), learning_rate=0.1, n_estimators=50; total time=   0.1s\n",
            "[CV] END base_estimator=DecisionTreeClassifier(max_depth=1), learning_rate=0.1, n_estimators=50; total time=   0.1s\n",
            "[CV] END base_estimator=DecisionTreeClassifier(max_depth=1), learning_rate=0.1, n_estimators=50; total time=   0.1s\n"
          ]
        },
        {
          "output_type": "stream",
          "name": "stderr",
          "text": [
            "/usr/local/lib/python3.10/dist-packages/sklearn/ensemble/_base.py:166: FutureWarning: `base_estimator` was renamed to `estimator` in version 1.2 and will be removed in 1.4.\n",
            "  warnings.warn(\n",
            "/usr/local/lib/python3.10/dist-packages/sklearn/ensemble/_base.py:166: FutureWarning: `base_estimator` was renamed to `estimator` in version 1.2 and will be removed in 1.4.\n",
            "  warnings.warn(\n",
            "/usr/local/lib/python3.10/dist-packages/sklearn/ensemble/_base.py:166: FutureWarning: `base_estimator` was renamed to `estimator` in version 1.2 and will be removed in 1.4.\n",
            "  warnings.warn(\n"
          ]
        },
        {
          "output_type": "stream",
          "name": "stdout",
          "text": [
            "[CV] END base_estimator=DecisionTreeClassifier(max_depth=1), learning_rate=0.1, n_estimators=50; total time=   0.1s\n",
            "[CV] END base_estimator=DecisionTreeClassifier(max_depth=1), learning_rate=0.1, n_estimators=100; total time=   0.2s\n"
          ]
        },
        {
          "output_type": "stream",
          "name": "stderr",
          "text": [
            "/usr/local/lib/python3.10/dist-packages/sklearn/ensemble/_base.py:166: FutureWarning: `base_estimator` was renamed to `estimator` in version 1.2 and will be removed in 1.4.\n",
            "  warnings.warn(\n",
            "/usr/local/lib/python3.10/dist-packages/sklearn/ensemble/_base.py:166: FutureWarning: `base_estimator` was renamed to `estimator` in version 1.2 and will be removed in 1.4.\n",
            "  warnings.warn(\n"
          ]
        },
        {
          "output_type": "stream",
          "name": "stdout",
          "text": [
            "[CV] END base_estimator=DecisionTreeClassifier(max_depth=1), learning_rate=0.1, n_estimators=100; total time=   0.2s\n",
            "[CV] END base_estimator=DecisionTreeClassifier(max_depth=1), learning_rate=0.1, n_estimators=100; total time=   0.2s\n"
          ]
        },
        {
          "output_type": "stream",
          "name": "stderr",
          "text": [
            "/usr/local/lib/python3.10/dist-packages/sklearn/ensemble/_base.py:166: FutureWarning: `base_estimator` was renamed to `estimator` in version 1.2 and will be removed in 1.4.\n",
            "  warnings.warn(\n",
            "/usr/local/lib/python3.10/dist-packages/sklearn/ensemble/_base.py:166: FutureWarning: `base_estimator` was renamed to `estimator` in version 1.2 and will be removed in 1.4.\n",
            "  warnings.warn(\n"
          ]
        },
        {
          "output_type": "stream",
          "name": "stdout",
          "text": [
            "[CV] END base_estimator=DecisionTreeClassifier(max_depth=1), learning_rate=0.1, n_estimators=100; total time=   0.2s\n"
          ]
        },
        {
          "output_type": "stream",
          "name": "stderr",
          "text": [
            "/usr/local/lib/python3.10/dist-packages/sklearn/ensemble/_base.py:166: FutureWarning: `base_estimator` was renamed to `estimator` in version 1.2 and will be removed in 1.4.\n",
            "  warnings.warn(\n",
            "/usr/local/lib/python3.10/dist-packages/sklearn/ensemble/_base.py:166: FutureWarning: `base_estimator` was renamed to `estimator` in version 1.2 and will be removed in 1.4.\n",
            "  warnings.warn(\n"
          ]
        },
        {
          "output_type": "stream",
          "name": "stdout",
          "text": [
            "[CV] END base_estimator=DecisionTreeClassifier(max_depth=1), learning_rate=0.1, n_estimators=100; total time=   0.2s\n",
            "[CV] END base_estimator=DecisionTreeClassifier(max_depth=1), learning_rate=0.1, n_estimators=150; total time=   0.3s\n"
          ]
        },
        {
          "output_type": "stream",
          "name": "stderr",
          "text": [
            "/usr/local/lib/python3.10/dist-packages/sklearn/ensemble/_base.py:166: FutureWarning: `base_estimator` was renamed to `estimator` in version 1.2 and will be removed in 1.4.\n",
            "  warnings.warn(\n"
          ]
        },
        {
          "output_type": "stream",
          "name": "stdout",
          "text": [
            "[CV] END base_estimator=DecisionTreeClassifier(max_depth=1), learning_rate=0.1, n_estimators=150; total time=   0.3s\n"
          ]
        },
        {
          "output_type": "stream",
          "name": "stderr",
          "text": [
            "/usr/local/lib/python3.10/dist-packages/sklearn/ensemble/_base.py:166: FutureWarning: `base_estimator` was renamed to `estimator` in version 1.2 and will be removed in 1.4.\n",
            "  warnings.warn(\n"
          ]
        },
        {
          "output_type": "stream",
          "name": "stdout",
          "text": [
            "[CV] END base_estimator=DecisionTreeClassifier(max_depth=1), learning_rate=0.1, n_estimators=150; total time=   0.3s\n"
          ]
        },
        {
          "output_type": "stream",
          "name": "stderr",
          "text": [
            "/usr/local/lib/python3.10/dist-packages/sklearn/ensemble/_base.py:166: FutureWarning: `base_estimator` was renamed to `estimator` in version 1.2 and will be removed in 1.4.\n",
            "  warnings.warn(\n"
          ]
        },
        {
          "output_type": "stream",
          "name": "stdout",
          "text": [
            "[CV] END base_estimator=DecisionTreeClassifier(max_depth=1), learning_rate=0.1, n_estimators=150; total time=   0.3s\n"
          ]
        },
        {
          "output_type": "stream",
          "name": "stderr",
          "text": [
            "/usr/local/lib/python3.10/dist-packages/sklearn/ensemble/_base.py:166: FutureWarning: `base_estimator` was renamed to `estimator` in version 1.2 and will be removed in 1.4.\n",
            "  warnings.warn(\n"
          ]
        },
        {
          "output_type": "stream",
          "name": "stdout",
          "text": [
            "[CV] END base_estimator=DecisionTreeClassifier(max_depth=1), learning_rate=0.1, n_estimators=150; total time=   0.3s\n",
            "[CV] END base_estimator=DecisionTreeClassifier(max_depth=1), learning_rate=0.5, n_estimators=50; total time=   0.1s\n",
            "[CV] END base_estimator=DecisionTreeClassifier(max_depth=1), learning_rate=0.5, n_estimators=50; total time=   0.1s"
          ]
        },
        {
          "output_type": "stream",
          "name": "stderr",
          "text": [
            "/usr/local/lib/python3.10/dist-packages/sklearn/ensemble/_base.py:166: FutureWarning: `base_estimator` was renamed to `estimator` in version 1.2 and will be removed in 1.4.\n",
            "  warnings.warn(\n",
            "/usr/local/lib/python3.10/dist-packages/sklearn/ensemble/_base.py:166: FutureWarning: `base_estimator` was renamed to `estimator` in version 1.2 and will be removed in 1.4.\n",
            "  warnings.warn(\n",
            "/usr/local/lib/python3.10/dist-packages/sklearn/ensemble/_base.py:166: FutureWarning: `base_estimator` was renamed to `estimator` in version 1.2 and will be removed in 1.4.\n",
            "  warnings.warn(\n"
          ]
        },
        {
          "output_type": "stream",
          "name": "stdout",
          "text": [
            "\n",
            "[CV] END base_estimator=DecisionTreeClassifier(max_depth=1), learning_rate=0.5, n_estimators=50; total time=   0.1s\n",
            "[CV] END base_estimator=DecisionTreeClassifier(max_depth=1), learning_rate=0.5, n_estimators=50; total time=   0.1s"
          ]
        },
        {
          "output_type": "stream",
          "name": "stderr",
          "text": [
            "/usr/local/lib/python3.10/dist-packages/sklearn/ensemble/_base.py:166: FutureWarning: `base_estimator` was renamed to `estimator` in version 1.2 and will be removed in 1.4.\n",
            "  warnings.warn(\n",
            "/usr/local/lib/python3.10/dist-packages/sklearn/ensemble/_base.py:166: FutureWarning: `base_estimator` was renamed to `estimator` in version 1.2 and will be removed in 1.4.\n",
            "  warnings.warn(\n"
          ]
        },
        {
          "output_type": "stream",
          "name": "stdout",
          "text": [
            "\n",
            "[CV] END base_estimator=DecisionTreeClassifier(max_depth=1), learning_rate=0.5, n_estimators=50; total time=   0.2s\n"
          ]
        },
        {
          "output_type": "stream",
          "name": "stderr",
          "text": [
            "/usr/local/lib/python3.10/dist-packages/sklearn/ensemble/_base.py:166: FutureWarning: `base_estimator` was renamed to `estimator` in version 1.2 and will be removed in 1.4.\n",
            "  warnings.warn(\n"
          ]
        },
        {
          "output_type": "stream",
          "name": "stdout",
          "text": [
            "[CV] END base_estimator=DecisionTreeClassifier(max_depth=1), learning_rate=0.5, n_estimators=100; total time=   0.3s\n"
          ]
        },
        {
          "output_type": "stream",
          "name": "stderr",
          "text": [
            "/usr/local/lib/python3.10/dist-packages/sklearn/ensemble/_base.py:166: FutureWarning: `base_estimator` was renamed to `estimator` in version 1.2 and will be removed in 1.4.\n",
            "  warnings.warn(\n"
          ]
        },
        {
          "output_type": "stream",
          "name": "stdout",
          "text": [
            "[CV] END base_estimator=DecisionTreeClassifier(max_depth=1), learning_rate=0.5, n_estimators=100; total time=   0.3s\n"
          ]
        },
        {
          "output_type": "stream",
          "name": "stderr",
          "text": [
            "/usr/local/lib/python3.10/dist-packages/sklearn/ensemble/_base.py:166: FutureWarning: `base_estimator` was renamed to `estimator` in version 1.2 and will be removed in 1.4.\n",
            "  warnings.warn(\n"
          ]
        },
        {
          "output_type": "stream",
          "name": "stdout",
          "text": [
            "[CV] END base_estimator=DecisionTreeClassifier(max_depth=1), learning_rate=0.5, n_estimators=100; total time=   0.3s\n"
          ]
        },
        {
          "output_type": "stream",
          "name": "stderr",
          "text": [
            "/usr/local/lib/python3.10/dist-packages/sklearn/ensemble/_base.py:166: FutureWarning: `base_estimator` was renamed to `estimator` in version 1.2 and will be removed in 1.4.\n",
            "  warnings.warn(\n"
          ]
        },
        {
          "output_type": "stream",
          "name": "stdout",
          "text": [
            "[CV] END base_estimator=DecisionTreeClassifier(max_depth=1), learning_rate=0.5, n_estimators=100; total time=   0.3s\n"
          ]
        },
        {
          "output_type": "stream",
          "name": "stderr",
          "text": [
            "/usr/local/lib/python3.10/dist-packages/sklearn/ensemble/_base.py:166: FutureWarning: `base_estimator` was renamed to `estimator` in version 1.2 and will be removed in 1.4.\n",
            "  warnings.warn(\n"
          ]
        },
        {
          "output_type": "stream",
          "name": "stdout",
          "text": [
            "[CV] END base_estimator=DecisionTreeClassifier(max_depth=1), learning_rate=0.5, n_estimators=100; total time=   0.3s\n"
          ]
        },
        {
          "output_type": "stream",
          "name": "stderr",
          "text": [
            "/usr/local/lib/python3.10/dist-packages/sklearn/ensemble/_base.py:166: FutureWarning: `base_estimator` was renamed to `estimator` in version 1.2 and will be removed in 1.4.\n",
            "  warnings.warn(\n"
          ]
        },
        {
          "output_type": "stream",
          "name": "stdout",
          "text": [
            "[CV] END base_estimator=DecisionTreeClassifier(max_depth=1), learning_rate=0.5, n_estimators=150; total time=   0.4s\n"
          ]
        },
        {
          "output_type": "stream",
          "name": "stderr",
          "text": [
            "/usr/local/lib/python3.10/dist-packages/sklearn/ensemble/_base.py:166: FutureWarning: `base_estimator` was renamed to `estimator` in version 1.2 and will be removed in 1.4.\n",
            "  warnings.warn(\n"
          ]
        },
        {
          "output_type": "stream",
          "name": "stdout",
          "text": [
            "[CV] END base_estimator=DecisionTreeClassifier(max_depth=1), learning_rate=0.5, n_estimators=150; total time=   0.4s\n"
          ]
        },
        {
          "output_type": "stream",
          "name": "stderr",
          "text": [
            "/usr/local/lib/python3.10/dist-packages/sklearn/ensemble/_base.py:166: FutureWarning: `base_estimator` was renamed to `estimator` in version 1.2 and will be removed in 1.4.\n",
            "  warnings.warn(\n"
          ]
        },
        {
          "output_type": "stream",
          "name": "stdout",
          "text": [
            "[CV] END base_estimator=DecisionTreeClassifier(max_depth=1), learning_rate=0.5, n_estimators=150; total time=   0.5s\n"
          ]
        },
        {
          "output_type": "stream",
          "name": "stderr",
          "text": [
            "/usr/local/lib/python3.10/dist-packages/sklearn/ensemble/_base.py:166: FutureWarning: `base_estimator` was renamed to `estimator` in version 1.2 and will be removed in 1.4.\n",
            "  warnings.warn(\n"
          ]
        },
        {
          "output_type": "stream",
          "name": "stdout",
          "text": [
            "[CV] END base_estimator=DecisionTreeClassifier(max_depth=1), learning_rate=0.5, n_estimators=150; total time=   0.4s\n"
          ]
        },
        {
          "output_type": "stream",
          "name": "stderr",
          "text": [
            "/usr/local/lib/python3.10/dist-packages/sklearn/ensemble/_base.py:166: FutureWarning: `base_estimator` was renamed to `estimator` in version 1.2 and will be removed in 1.4.\n",
            "  warnings.warn(\n"
          ]
        },
        {
          "output_type": "stream",
          "name": "stdout",
          "text": [
            "[CV] END base_estimator=DecisionTreeClassifier(max_depth=1), learning_rate=0.5, n_estimators=150; total time=   0.4s\n"
          ]
        },
        {
          "output_type": "stream",
          "name": "stderr",
          "text": [
            "/usr/local/lib/python3.10/dist-packages/sklearn/ensemble/_base.py:166: FutureWarning: `base_estimator` was renamed to `estimator` in version 1.2 and will be removed in 1.4.\n",
            "  warnings.warn(\n"
          ]
        },
        {
          "output_type": "stream",
          "name": "stdout",
          "text": [
            "[CV] END base_estimator=DecisionTreeClassifier(max_depth=5), learning_rate=0.01, n_estimators=50; total time=   0.2s\n",
            "[CV] END base_estimator=DecisionTreeClassifier(max_depth=5), learning_rate=0.01, n_estimators=50; total time=   0.2s\n"
          ]
        },
        {
          "output_type": "stream",
          "name": "stderr",
          "text": [
            "/usr/local/lib/python3.10/dist-packages/sklearn/ensemble/_base.py:166: FutureWarning: `base_estimator` was renamed to `estimator` in version 1.2 and will be removed in 1.4.\n",
            "  warnings.warn(\n",
            "/usr/local/lib/python3.10/dist-packages/sklearn/ensemble/_base.py:166: FutureWarning: `base_estimator` was renamed to `estimator` in version 1.2 and will be removed in 1.4.\n",
            "  warnings.warn(\n"
          ]
        },
        {
          "output_type": "stream",
          "name": "stdout",
          "text": [
            "[CV] END base_estimator=DecisionTreeClassifier(max_depth=5), learning_rate=0.01, n_estimators=50; total time=   0.2s\n",
            "[CV] END base_estimator=DecisionTreeClassifier(max_depth=5), learning_rate=0.01, n_estimators=50; total time=   0.2s\n"
          ]
        },
        {
          "output_type": "stream",
          "name": "stderr",
          "text": [
            "/usr/local/lib/python3.10/dist-packages/sklearn/ensemble/_base.py:166: FutureWarning: `base_estimator` was renamed to `estimator` in version 1.2 and will be removed in 1.4.\n",
            "  warnings.warn(\n",
            "/usr/local/lib/python3.10/dist-packages/sklearn/ensemble/_base.py:166: FutureWarning: `base_estimator` was renamed to `estimator` in version 1.2 and will be removed in 1.4.\n",
            "  warnings.warn(\n"
          ]
        },
        {
          "output_type": "stream",
          "name": "stdout",
          "text": [
            "[CV] END base_estimator=DecisionTreeClassifier(max_depth=5), learning_rate=0.01, n_estimators=50; total time=   0.2s\n"
          ]
        },
        {
          "output_type": "stream",
          "name": "stderr",
          "text": [
            "/usr/local/lib/python3.10/dist-packages/sklearn/ensemble/_base.py:166: FutureWarning: `base_estimator` was renamed to `estimator` in version 1.2 and will be removed in 1.4.\n",
            "  warnings.warn(\n"
          ]
        },
        {
          "output_type": "stream",
          "name": "stdout",
          "text": [
            "[CV] END base_estimator=DecisionTreeClassifier(max_depth=5), learning_rate=0.01, n_estimators=100; total time=   0.4s\n"
          ]
        },
        {
          "output_type": "stream",
          "name": "stderr",
          "text": [
            "/usr/local/lib/python3.10/dist-packages/sklearn/ensemble/_base.py:166: FutureWarning: `base_estimator` was renamed to `estimator` in version 1.2 and will be removed in 1.4.\n",
            "  warnings.warn(\n"
          ]
        },
        {
          "output_type": "stream",
          "name": "stdout",
          "text": [
            "[CV] END base_estimator=DecisionTreeClassifier(max_depth=5), learning_rate=0.01, n_estimators=100; total time=   0.4s\n"
          ]
        },
        {
          "output_type": "stream",
          "name": "stderr",
          "text": [
            "/usr/local/lib/python3.10/dist-packages/sklearn/ensemble/_base.py:166: FutureWarning: `base_estimator` was renamed to `estimator` in version 1.2 and will be removed in 1.4.\n",
            "  warnings.warn(\n"
          ]
        },
        {
          "output_type": "stream",
          "name": "stdout",
          "text": [
            "[CV] END base_estimator=DecisionTreeClassifier(max_depth=5), learning_rate=0.01, n_estimators=100; total time=   0.4s\n"
          ]
        },
        {
          "output_type": "stream",
          "name": "stderr",
          "text": [
            "/usr/local/lib/python3.10/dist-packages/sklearn/ensemble/_base.py:166: FutureWarning: `base_estimator` was renamed to `estimator` in version 1.2 and will be removed in 1.4.\n",
            "  warnings.warn(\n"
          ]
        },
        {
          "output_type": "stream",
          "name": "stdout",
          "text": [
            "[CV] END base_estimator=DecisionTreeClassifier(max_depth=5), learning_rate=0.01, n_estimators=100; total time=   0.4s\n"
          ]
        },
        {
          "output_type": "stream",
          "name": "stderr",
          "text": [
            "/usr/local/lib/python3.10/dist-packages/sklearn/ensemble/_base.py:166: FutureWarning: `base_estimator` was renamed to `estimator` in version 1.2 and will be removed in 1.4.\n",
            "  warnings.warn(\n"
          ]
        },
        {
          "output_type": "stream",
          "name": "stdout",
          "text": [
            "[CV] END base_estimator=DecisionTreeClassifier(max_depth=5), learning_rate=0.01, n_estimators=100; total time=   0.4s\n"
          ]
        },
        {
          "output_type": "stream",
          "name": "stderr",
          "text": [
            "/usr/local/lib/python3.10/dist-packages/sklearn/ensemble/_base.py:166: FutureWarning: `base_estimator` was renamed to `estimator` in version 1.2 and will be removed in 1.4.\n",
            "  warnings.warn(\n"
          ]
        },
        {
          "output_type": "stream",
          "name": "stdout",
          "text": [
            "[CV] END base_estimator=DecisionTreeClassifier(max_depth=5), learning_rate=0.01, n_estimators=150; total time=   0.5s\n"
          ]
        },
        {
          "output_type": "stream",
          "name": "stderr",
          "text": [
            "/usr/local/lib/python3.10/dist-packages/sklearn/ensemble/_base.py:166: FutureWarning: `base_estimator` was renamed to `estimator` in version 1.2 and will be removed in 1.4.\n",
            "  warnings.warn(\n"
          ]
        },
        {
          "output_type": "stream",
          "name": "stdout",
          "text": [
            "[CV] END base_estimator=DecisionTreeClassifier(max_depth=5), learning_rate=0.01, n_estimators=150; total time=   0.4s\n"
          ]
        },
        {
          "output_type": "stream",
          "name": "stderr",
          "text": [
            "/usr/local/lib/python3.10/dist-packages/sklearn/ensemble/_base.py:166: FutureWarning: `base_estimator` was renamed to `estimator` in version 1.2 and will be removed in 1.4.\n",
            "  warnings.warn(\n"
          ]
        },
        {
          "output_type": "stream",
          "name": "stdout",
          "text": [
            "[CV] END base_estimator=DecisionTreeClassifier(max_depth=5), learning_rate=0.01, n_estimators=150; total time=   0.4s\n"
          ]
        },
        {
          "output_type": "stream",
          "name": "stderr",
          "text": [
            "/usr/local/lib/python3.10/dist-packages/sklearn/ensemble/_base.py:166: FutureWarning: `base_estimator` was renamed to `estimator` in version 1.2 and will be removed in 1.4.\n",
            "  warnings.warn(\n"
          ]
        },
        {
          "output_type": "stream",
          "name": "stdout",
          "text": [
            "[CV] END base_estimator=DecisionTreeClassifier(max_depth=5), learning_rate=0.01, n_estimators=150; total time=   0.4s\n"
          ]
        },
        {
          "output_type": "stream",
          "name": "stderr",
          "text": [
            "/usr/local/lib/python3.10/dist-packages/sklearn/ensemble/_base.py:166: FutureWarning: `base_estimator` was renamed to `estimator` in version 1.2 and will be removed in 1.4.\n",
            "  warnings.warn(\n"
          ]
        },
        {
          "output_type": "stream",
          "name": "stdout",
          "text": [
            "[CV] END base_estimator=DecisionTreeClassifier(max_depth=5), learning_rate=0.01, n_estimators=150; total time=   0.4s\n",
            "[CV] END base_estimator=DecisionTreeClassifier(max_depth=5), learning_rate=0.1, n_estimators=50; total time=   0.1s\n"
          ]
        },
        {
          "output_type": "stream",
          "name": "stderr",
          "text": [
            "/usr/local/lib/python3.10/dist-packages/sklearn/ensemble/_base.py:166: FutureWarning: `base_estimator` was renamed to `estimator` in version 1.2 and will be removed in 1.4.\n",
            "  warnings.warn(\n",
            "/usr/local/lib/python3.10/dist-packages/sklearn/ensemble/_base.py:166: FutureWarning: `base_estimator` was renamed to `estimator` in version 1.2 and will be removed in 1.4.\n",
            "  warnings.warn(\n"
          ]
        },
        {
          "output_type": "stream",
          "name": "stdout",
          "text": [
            "[CV] END base_estimator=DecisionTreeClassifier(max_depth=5), learning_rate=0.1, n_estimators=50; total time=   0.2s\n",
            "[CV] END base_estimator=DecisionTreeClassifier(max_depth=5), learning_rate=0.1, n_estimators=50; total time=   0.1s\n"
          ]
        },
        {
          "output_type": "stream",
          "name": "stderr",
          "text": [
            "/usr/local/lib/python3.10/dist-packages/sklearn/ensemble/_base.py:166: FutureWarning: `base_estimator` was renamed to `estimator` in version 1.2 and will be removed in 1.4.\n",
            "  warnings.warn(\n",
            "/usr/local/lib/python3.10/dist-packages/sklearn/ensemble/_base.py:166: FutureWarning: `base_estimator` was renamed to `estimator` in version 1.2 and will be removed in 1.4.\n",
            "  warnings.warn(\n"
          ]
        },
        {
          "output_type": "stream",
          "name": "stdout",
          "text": [
            "[CV] END base_estimator=DecisionTreeClassifier(max_depth=5), learning_rate=0.1, n_estimators=50; total time=   0.1s\n",
            "[CV] END base_estimator=DecisionTreeClassifier(max_depth=5), learning_rate=0.1, n_estimators=50; total time=   0.1s\n"
          ]
        },
        {
          "output_type": "stream",
          "name": "stderr",
          "text": [
            "/usr/local/lib/python3.10/dist-packages/sklearn/ensemble/_base.py:166: FutureWarning: `base_estimator` was renamed to `estimator` in version 1.2 and will be removed in 1.4.\n",
            "  warnings.warn(\n",
            "/usr/local/lib/python3.10/dist-packages/sklearn/ensemble/_base.py:166: FutureWarning: `base_estimator` was renamed to `estimator` in version 1.2 and will be removed in 1.4.\n",
            "  warnings.warn(\n"
          ]
        },
        {
          "output_type": "stream",
          "name": "stdout",
          "text": [
            "[CV] END base_estimator=DecisionTreeClassifier(max_depth=5), learning_rate=0.1, n_estimators=100; total time=   0.3s\n"
          ]
        },
        {
          "output_type": "stream",
          "name": "stderr",
          "text": [
            "/usr/local/lib/python3.10/dist-packages/sklearn/ensemble/_base.py:166: FutureWarning: `base_estimator` was renamed to `estimator` in version 1.2 and will be removed in 1.4.\n",
            "  warnings.warn(\n"
          ]
        },
        {
          "output_type": "stream",
          "name": "stdout",
          "text": [
            "[CV] END base_estimator=DecisionTreeClassifier(max_depth=5), learning_rate=0.1, n_estimators=100; total time=   0.3s\n"
          ]
        },
        {
          "output_type": "stream",
          "name": "stderr",
          "text": [
            "/usr/local/lib/python3.10/dist-packages/sklearn/ensemble/_base.py:166: FutureWarning: `base_estimator` was renamed to `estimator` in version 1.2 and will be removed in 1.4.\n",
            "  warnings.warn(\n"
          ]
        },
        {
          "output_type": "stream",
          "name": "stdout",
          "text": [
            "[CV] END base_estimator=DecisionTreeClassifier(max_depth=5), learning_rate=0.1, n_estimators=100; total time=   0.3s\n"
          ]
        },
        {
          "output_type": "stream",
          "name": "stderr",
          "text": [
            "/usr/local/lib/python3.10/dist-packages/sklearn/ensemble/_base.py:166: FutureWarning: `base_estimator` was renamed to `estimator` in version 1.2 and will be removed in 1.4.\n",
            "  warnings.warn(\n"
          ]
        },
        {
          "output_type": "stream",
          "name": "stdout",
          "text": [
            "[CV] END base_estimator=DecisionTreeClassifier(max_depth=5), learning_rate=0.1, n_estimators=100; total time=   0.3s\n"
          ]
        },
        {
          "output_type": "stream",
          "name": "stderr",
          "text": [
            "/usr/local/lib/python3.10/dist-packages/sklearn/ensemble/_base.py:166: FutureWarning: `base_estimator` was renamed to `estimator` in version 1.2 and will be removed in 1.4.\n",
            "  warnings.warn(\n"
          ]
        },
        {
          "output_type": "stream",
          "name": "stdout",
          "text": [
            "[CV] END base_estimator=DecisionTreeClassifier(max_depth=5), learning_rate=0.1, n_estimators=100; total time=   0.3s\n"
          ]
        },
        {
          "output_type": "stream",
          "name": "stderr",
          "text": [
            "/usr/local/lib/python3.10/dist-packages/sklearn/ensemble/_base.py:166: FutureWarning: `base_estimator` was renamed to `estimator` in version 1.2 and will be removed in 1.4.\n",
            "  warnings.warn(\n"
          ]
        },
        {
          "output_type": "stream",
          "name": "stdout",
          "text": [
            "[CV] END base_estimator=DecisionTreeClassifier(max_depth=5), learning_rate=0.1, n_estimators=150; total time=   0.4s\n"
          ]
        },
        {
          "output_type": "stream",
          "name": "stderr",
          "text": [
            "/usr/local/lib/python3.10/dist-packages/sklearn/ensemble/_base.py:166: FutureWarning: `base_estimator` was renamed to `estimator` in version 1.2 and will be removed in 1.4.\n",
            "  warnings.warn(\n"
          ]
        },
        {
          "output_type": "stream",
          "name": "stdout",
          "text": [
            "[CV] END base_estimator=DecisionTreeClassifier(max_depth=5), learning_rate=0.1, n_estimators=150; total time=   0.4s\n"
          ]
        },
        {
          "output_type": "stream",
          "name": "stderr",
          "text": [
            "/usr/local/lib/python3.10/dist-packages/sklearn/ensemble/_base.py:166: FutureWarning: `base_estimator` was renamed to `estimator` in version 1.2 and will be removed in 1.4.\n",
            "  warnings.warn(\n"
          ]
        },
        {
          "output_type": "stream",
          "name": "stdout",
          "text": [
            "[CV] END base_estimator=DecisionTreeClassifier(max_depth=5), learning_rate=0.1, n_estimators=150; total time=   0.4s\n"
          ]
        },
        {
          "output_type": "stream",
          "name": "stderr",
          "text": [
            "/usr/local/lib/python3.10/dist-packages/sklearn/ensemble/_base.py:166: FutureWarning: `base_estimator` was renamed to `estimator` in version 1.2 and will be removed in 1.4.\n",
            "  warnings.warn(\n"
          ]
        },
        {
          "output_type": "stream",
          "name": "stdout",
          "text": [
            "[CV] END base_estimator=DecisionTreeClassifier(max_depth=5), learning_rate=0.1, n_estimators=150; total time=   0.4s\n"
          ]
        },
        {
          "output_type": "stream",
          "name": "stderr",
          "text": [
            "/usr/local/lib/python3.10/dist-packages/sklearn/ensemble/_base.py:166: FutureWarning: `base_estimator` was renamed to `estimator` in version 1.2 and will be removed in 1.4.\n",
            "  warnings.warn(\n"
          ]
        },
        {
          "output_type": "stream",
          "name": "stdout",
          "text": [
            "[CV] END base_estimator=DecisionTreeClassifier(max_depth=5), learning_rate=0.1, n_estimators=150; total time=   0.4s\n",
            "[CV] END base_estimator=DecisionTreeClassifier(max_depth=5), learning_rate=0.5, n_estimators=50; total time=   0.1s\n"
          ]
        },
        {
          "output_type": "stream",
          "name": "stderr",
          "text": [
            "/usr/local/lib/python3.10/dist-packages/sklearn/ensemble/_base.py:166: FutureWarning: `base_estimator` was renamed to `estimator` in version 1.2 and will be removed in 1.4.\n",
            "  warnings.warn(\n",
            "/usr/local/lib/python3.10/dist-packages/sklearn/ensemble/_base.py:166: FutureWarning: `base_estimator` was renamed to `estimator` in version 1.2 and will be removed in 1.4.\n",
            "  warnings.warn(\n"
          ]
        },
        {
          "output_type": "stream",
          "name": "stdout",
          "text": [
            "[CV] END base_estimator=DecisionTreeClassifier(max_depth=5), learning_rate=0.5, n_estimators=50; total time=   0.1s\n",
            "[CV] END base_estimator=DecisionTreeClassifier(max_depth=5), learning_rate=0.5, n_estimators=50; total time=   0.1s\n"
          ]
        },
        {
          "output_type": "stream",
          "name": "stderr",
          "text": [
            "/usr/local/lib/python3.10/dist-packages/sklearn/ensemble/_base.py:166: FutureWarning: `base_estimator` was renamed to `estimator` in version 1.2 and will be removed in 1.4.\n",
            "  warnings.warn(\n",
            "/usr/local/lib/python3.10/dist-packages/sklearn/ensemble/_base.py:166: FutureWarning: `base_estimator` was renamed to `estimator` in version 1.2 and will be removed in 1.4.\n",
            "  warnings.warn(\n"
          ]
        },
        {
          "output_type": "stream",
          "name": "stdout",
          "text": [
            "[CV] END base_estimator=DecisionTreeClassifier(max_depth=5), learning_rate=0.5, n_estimators=50; total time=   0.1s\n",
            "[CV] END base_estimator=DecisionTreeClassifier(max_depth=5), learning_rate=0.5, n_estimators=50; total time=   0.1s\n"
          ]
        },
        {
          "output_type": "stream",
          "name": "stderr",
          "text": [
            "/usr/local/lib/python3.10/dist-packages/sklearn/ensemble/_base.py:166: FutureWarning: `base_estimator` was renamed to `estimator` in version 1.2 and will be removed in 1.4.\n",
            "  warnings.warn(\n",
            "/usr/local/lib/python3.10/dist-packages/sklearn/ensemble/_base.py:166: FutureWarning: `base_estimator` was renamed to `estimator` in version 1.2 and will be removed in 1.4.\n",
            "  warnings.warn(\n"
          ]
        },
        {
          "output_type": "stream",
          "name": "stdout",
          "text": [
            "[CV] END base_estimator=DecisionTreeClassifier(max_depth=5), learning_rate=0.5, n_estimators=100; total time=   0.3s\n"
          ]
        },
        {
          "output_type": "stream",
          "name": "stderr",
          "text": [
            "/usr/local/lib/python3.10/dist-packages/sklearn/ensemble/_base.py:166: FutureWarning: `base_estimator` was renamed to `estimator` in version 1.2 and will be removed in 1.4.\n",
            "  warnings.warn(\n"
          ]
        },
        {
          "output_type": "stream",
          "name": "stdout",
          "text": [
            "[CV] END base_estimator=DecisionTreeClassifier(max_depth=5), learning_rate=0.5, n_estimators=100; total time=   0.3s\n"
          ]
        },
        {
          "output_type": "stream",
          "name": "stderr",
          "text": [
            "/usr/local/lib/python3.10/dist-packages/sklearn/ensemble/_base.py:166: FutureWarning: `base_estimator` was renamed to `estimator` in version 1.2 and will be removed in 1.4.\n",
            "  warnings.warn(\n"
          ]
        },
        {
          "output_type": "stream",
          "name": "stdout",
          "text": [
            "[CV] END base_estimator=DecisionTreeClassifier(max_depth=5), learning_rate=0.5, n_estimators=100; total time=   0.3s\n"
          ]
        },
        {
          "output_type": "stream",
          "name": "stderr",
          "text": [
            "/usr/local/lib/python3.10/dist-packages/sklearn/ensemble/_base.py:166: FutureWarning: `base_estimator` was renamed to `estimator` in version 1.2 and will be removed in 1.4.\n",
            "  warnings.warn(\n"
          ]
        },
        {
          "output_type": "stream",
          "name": "stdout",
          "text": [
            "[CV] END base_estimator=DecisionTreeClassifier(max_depth=5), learning_rate=0.5, n_estimators=100; total time=   0.3s\n"
          ]
        },
        {
          "output_type": "stream",
          "name": "stderr",
          "text": [
            "/usr/local/lib/python3.10/dist-packages/sklearn/ensemble/_base.py:166: FutureWarning: `base_estimator` was renamed to `estimator` in version 1.2 and will be removed in 1.4.\n",
            "  warnings.warn(\n"
          ]
        },
        {
          "output_type": "stream",
          "name": "stdout",
          "text": [
            "[CV] END base_estimator=DecisionTreeClassifier(max_depth=5), learning_rate=0.5, n_estimators=100; total time=   0.3s\n"
          ]
        },
        {
          "output_type": "stream",
          "name": "stderr",
          "text": [
            "/usr/local/lib/python3.10/dist-packages/sklearn/ensemble/_base.py:166: FutureWarning: `base_estimator` was renamed to `estimator` in version 1.2 and will be removed in 1.4.\n",
            "  warnings.warn(\n"
          ]
        },
        {
          "output_type": "stream",
          "name": "stdout",
          "text": [
            "[CV] END base_estimator=DecisionTreeClassifier(max_depth=5), learning_rate=0.5, n_estimators=150; total time=   0.4s\n"
          ]
        },
        {
          "output_type": "stream",
          "name": "stderr",
          "text": [
            "/usr/local/lib/python3.10/dist-packages/sklearn/ensemble/_base.py:166: FutureWarning: `base_estimator` was renamed to `estimator` in version 1.2 and will be removed in 1.4.\n",
            "  warnings.warn(\n"
          ]
        },
        {
          "output_type": "stream",
          "name": "stdout",
          "text": [
            "[CV] END base_estimator=DecisionTreeClassifier(max_depth=5), learning_rate=0.5, n_estimators=150; total time=   0.4s\n"
          ]
        },
        {
          "output_type": "stream",
          "name": "stderr",
          "text": [
            "/usr/local/lib/python3.10/dist-packages/sklearn/ensemble/_base.py:166: FutureWarning: `base_estimator` was renamed to `estimator` in version 1.2 and will be removed in 1.4.\n",
            "  warnings.warn(\n"
          ]
        },
        {
          "output_type": "stream",
          "name": "stdout",
          "text": [
            "[CV] END base_estimator=DecisionTreeClassifier(max_depth=5), learning_rate=0.5, n_estimators=150; total time=   0.4s\n"
          ]
        },
        {
          "output_type": "stream",
          "name": "stderr",
          "text": [
            "/usr/local/lib/python3.10/dist-packages/sklearn/ensemble/_base.py:166: FutureWarning: `base_estimator` was renamed to `estimator` in version 1.2 and will be removed in 1.4.\n",
            "  warnings.warn(\n"
          ]
        },
        {
          "output_type": "stream",
          "name": "stdout",
          "text": [
            "[CV] END base_estimator=DecisionTreeClassifier(max_depth=5), learning_rate=0.5, n_estimators=150; total time=   0.4s\n"
          ]
        },
        {
          "output_type": "stream",
          "name": "stderr",
          "text": [
            "/usr/local/lib/python3.10/dist-packages/sklearn/ensemble/_base.py:166: FutureWarning: `base_estimator` was renamed to `estimator` in version 1.2 and will be removed in 1.4.\n",
            "  warnings.warn(\n"
          ]
        },
        {
          "output_type": "stream",
          "name": "stdout",
          "text": [
            "[CV] END base_estimator=DecisionTreeClassifier(max_depth=5), learning_rate=0.5, n_estimators=150; total time=   0.4s\n"
          ]
        },
        {
          "output_type": "stream",
          "name": "stderr",
          "text": [
            "/usr/local/lib/python3.10/dist-packages/sklearn/model_selection/_validation.py:378: FitFailedWarning: \n",
            "45 fits failed out of a total of 135.\n",
            "The score on these train-test partitions for these parameters will be set to nan.\n",
            "If these failures are not expected, you can try to debug them by setting error_score='raise'.\n",
            "\n",
            "Below are more details about the failures:\n",
            "--------------------------------------------------------------------------------\n",
            "45 fits failed with the following error:\n",
            "Traceback (most recent call last):\n",
            "  File \"/usr/local/lib/python3.10/dist-packages/sklearn/model_selection/_validation.py\", line 686, in _fit_and_score\n",
            "    estimator.fit(X_train, y_train, **fit_params)\n",
            "  File \"/usr/local/lib/python3.10/dist-packages/sklearn/ensemble/_weight_boosting.py\", line 124, in fit\n",
            "    self._validate_params()\n",
            "  File \"/usr/local/lib/python3.10/dist-packages/sklearn/base.py\", line 600, in _validate_params\n",
            "    validate_parameter_constraints(\n",
            "  File \"/usr/local/lib/python3.10/dist-packages/sklearn/utils/_param_validation.py\", line 97, in validate_parameter_constraints\n",
            "    raise InvalidParameterError(\n",
            "sklearn.utils._param_validation.InvalidParameterError: The 'base_estimator' parameter of AdaBoostClassifier must be an object implementing 'fit' and 'predict' or a str among {'deprecated'}. Got None instead.\n",
            "\n",
            "  warnings.warn(some_fits_failed_message, FitFailedWarning)\n",
            "/usr/local/lib/python3.10/dist-packages/sklearn/model_selection/_search.py:952: UserWarning: One or more of the test scores are non-finite: [       nan        nan        nan        nan        nan        nan\n",
            "        nan        nan        nan 0.81459493 0.81459493 0.81459493\n",
            " 0.8105133  0.80847248 0.8125335  0.79828901 0.78398268 0.7860235\n",
            " 0.71675943 0.73298289 0.74122861 0.73516801 0.73720882 0.74541332\n",
            " 0.75967842 0.7433725  0.75153577]\n",
            "  warnings.warn(\n",
            "/usr/local/lib/python3.10/dist-packages/sklearn/ensemble/_base.py:166: FutureWarning: `base_estimator` was renamed to `estimator` in version 1.2 and will be removed in 1.4.\n",
            "  warnings.warn(\n"
          ]
        },
        {
          "output_type": "execute_result",
          "data": {
            "text/plain": [
              "GridSearchCV(cv=5, estimator=AdaBoostClassifier(),\n",
              "             param_grid={'base_estimator': [None,\n",
              "                                            DecisionTreeClassifier(max_depth=1),\n",
              "                                            DecisionTreeClassifier(max_depth=5)],\n",
              "                         'learning_rate': [0.01, 0.1, 0.5],\n",
              "                         'n_estimators': [50, 100, 150]},\n",
              "             scoring='accuracy', verbose=2)"
            ],
            "text/html": [
              "<style>#sk-container-id-4 {color: black;background-color: white;}#sk-container-id-4 pre{padding: 0;}#sk-container-id-4 div.sk-toggleable {background-color: white;}#sk-container-id-4 label.sk-toggleable__label {cursor: pointer;display: block;width: 100%;margin-bottom: 0;padding: 0.3em;box-sizing: border-box;text-align: center;}#sk-container-id-4 label.sk-toggleable__label-arrow:before {content: \"▸\";float: left;margin-right: 0.25em;color: #696969;}#sk-container-id-4 label.sk-toggleable__label-arrow:hover:before {color: black;}#sk-container-id-4 div.sk-estimator:hover label.sk-toggleable__label-arrow:before {color: black;}#sk-container-id-4 div.sk-toggleable__content {max-height: 0;max-width: 0;overflow: hidden;text-align: left;background-color: #f0f8ff;}#sk-container-id-4 div.sk-toggleable__content pre {margin: 0.2em;color: black;border-radius: 0.25em;background-color: #f0f8ff;}#sk-container-id-4 input.sk-toggleable__control:checked~div.sk-toggleable__content {max-height: 200px;max-width: 100%;overflow: auto;}#sk-container-id-4 input.sk-toggleable__control:checked~label.sk-toggleable__label-arrow:before {content: \"▾\";}#sk-container-id-4 div.sk-estimator input.sk-toggleable__control:checked~label.sk-toggleable__label {background-color: #d4ebff;}#sk-container-id-4 div.sk-label input.sk-toggleable__control:checked~label.sk-toggleable__label {background-color: #d4ebff;}#sk-container-id-4 input.sk-hidden--visually {border: 0;clip: rect(1px 1px 1px 1px);clip: rect(1px, 1px, 1px, 1px);height: 1px;margin: -1px;overflow: hidden;padding: 0;position: absolute;width: 1px;}#sk-container-id-4 div.sk-estimator {font-family: monospace;background-color: #f0f8ff;border: 1px dotted black;border-radius: 0.25em;box-sizing: border-box;margin-bottom: 0.5em;}#sk-container-id-4 div.sk-estimator:hover {background-color: #d4ebff;}#sk-container-id-4 div.sk-parallel-item::after {content: \"\";width: 100%;border-bottom: 1px solid gray;flex-grow: 1;}#sk-container-id-4 div.sk-label:hover label.sk-toggleable__label {background-color: #d4ebff;}#sk-container-id-4 div.sk-serial::before {content: \"\";position: absolute;border-left: 1px solid gray;box-sizing: border-box;top: 0;bottom: 0;left: 50%;z-index: 0;}#sk-container-id-4 div.sk-serial {display: flex;flex-direction: column;align-items: center;background-color: white;padding-right: 0.2em;padding-left: 0.2em;position: relative;}#sk-container-id-4 div.sk-item {position: relative;z-index: 1;}#sk-container-id-4 div.sk-parallel {display: flex;align-items: stretch;justify-content: center;background-color: white;position: relative;}#sk-container-id-4 div.sk-item::before, #sk-container-id-4 div.sk-parallel-item::before {content: \"\";position: absolute;border-left: 1px solid gray;box-sizing: border-box;top: 0;bottom: 0;left: 50%;z-index: -1;}#sk-container-id-4 div.sk-parallel-item {display: flex;flex-direction: column;z-index: 1;position: relative;background-color: white;}#sk-container-id-4 div.sk-parallel-item:first-child::after {align-self: flex-end;width: 50%;}#sk-container-id-4 div.sk-parallel-item:last-child::after {align-self: flex-start;width: 50%;}#sk-container-id-4 div.sk-parallel-item:only-child::after {width: 0;}#sk-container-id-4 div.sk-dashed-wrapped {border: 1px dashed gray;margin: 0 0.4em 0.5em 0.4em;box-sizing: border-box;padding-bottom: 0.4em;background-color: white;}#sk-container-id-4 div.sk-label label {font-family: monospace;font-weight: bold;display: inline-block;line-height: 1.2em;}#sk-container-id-4 div.sk-label-container {text-align: center;}#sk-container-id-4 div.sk-container {/* jupyter's `normalize.less` sets `[hidden] { display: none; }` but bootstrap.min.css set `[hidden] { display: none !important; }` so we also need the `!important` here to be able to override the default hidden behavior on the sphinx rendered scikit-learn.org. See: https://github.com/scikit-learn/scikit-learn/issues/21755 */display: inline-block !important;position: relative;}#sk-container-id-4 div.sk-text-repr-fallback {display: none;}</style><div id=\"sk-container-id-4\" class=\"sk-top-container\"><div class=\"sk-text-repr-fallback\"><pre>GridSearchCV(cv=5, estimator=AdaBoostClassifier(),\n",
              "             param_grid={&#x27;base_estimator&#x27;: [None,\n",
              "                                            DecisionTreeClassifier(max_depth=1),\n",
              "                                            DecisionTreeClassifier(max_depth=5)],\n",
              "                         &#x27;learning_rate&#x27;: [0.01, 0.1, 0.5],\n",
              "                         &#x27;n_estimators&#x27;: [50, 100, 150]},\n",
              "             scoring=&#x27;accuracy&#x27;, verbose=2)</pre><b>In a Jupyter environment, please rerun this cell to show the HTML representation or trust the notebook. <br />On GitHub, the HTML representation is unable to render, please try loading this page with nbviewer.org.</b></div><div class=\"sk-container\" hidden><div class=\"sk-item sk-dashed-wrapped\"><div class=\"sk-label-container\"><div class=\"sk-label sk-toggleable\"><input class=\"sk-toggleable__control sk-hidden--visually\" id=\"sk-estimator-id-10\" type=\"checkbox\" ><label for=\"sk-estimator-id-10\" class=\"sk-toggleable__label sk-toggleable__label-arrow\">GridSearchCV</label><div class=\"sk-toggleable__content\"><pre>GridSearchCV(cv=5, estimator=AdaBoostClassifier(),\n",
              "             param_grid={&#x27;base_estimator&#x27;: [None,\n",
              "                                            DecisionTreeClassifier(max_depth=1),\n",
              "                                            DecisionTreeClassifier(max_depth=5)],\n",
              "                         &#x27;learning_rate&#x27;: [0.01, 0.1, 0.5],\n",
              "                         &#x27;n_estimators&#x27;: [50, 100, 150]},\n",
              "             scoring=&#x27;accuracy&#x27;, verbose=2)</pre></div></div></div><div class=\"sk-parallel\"><div class=\"sk-parallel-item\"><div class=\"sk-item\"><div class=\"sk-label-container\"><div class=\"sk-label sk-toggleable\"><input class=\"sk-toggleable__control sk-hidden--visually\" id=\"sk-estimator-id-11\" type=\"checkbox\" ><label for=\"sk-estimator-id-11\" class=\"sk-toggleable__label sk-toggleable__label-arrow\">estimator: AdaBoostClassifier</label><div class=\"sk-toggleable__content\"><pre>AdaBoostClassifier()</pre></div></div></div><div class=\"sk-serial\"><div class=\"sk-item\"><div class=\"sk-estimator sk-toggleable\"><input class=\"sk-toggleable__control sk-hidden--visually\" id=\"sk-estimator-id-12\" type=\"checkbox\" ><label for=\"sk-estimator-id-12\" class=\"sk-toggleable__label sk-toggleable__label-arrow\">AdaBoostClassifier</label><div class=\"sk-toggleable__content\"><pre>AdaBoostClassifier()</pre></div></div></div></div></div></div></div></div></div></div>"
            ]
          },
          "metadata": {},
          "execution_count": 151
        }
      ]
    },
    {
      "cell_type": "code",
      "source": [
        "best_params_adaboost = grid_search_adaboost.best_params_\n",
        "print(f\"Best Parameters for AdaBoost: {best_params_adaboost}\")"
      ],
      "metadata": {
        "colab": {
          "base_uri": "https://localhost:8080/"
        },
        "id": "_W_550az0eWD",
        "outputId": "a1d03a77-a0eb-47f2-8d20-00119c42f446"
      },
      "execution_count": 152,
      "outputs": [
        {
          "output_type": "stream",
          "name": "stdout",
          "text": [
            "Best Parameters for AdaBoost: {'base_estimator': DecisionTreeClassifier(max_depth=1), 'learning_rate': 0.01, 'n_estimators': 50}\n"
          ]
        }
      ]
    },
    {
      "cell_type": "code",
      "source": [
        "best_ada_model = AdaBoostClassifier(**best_params_adaboost)\n",
        "best_ada_model.fit(x_train, y_train)\n",
        "y_pred_best_ada = best_ada_model.predict(x_test)\n",
        "ada_accuracy = accuracy_score(y_test, y_pred_best_ada)\n",
        "print(f\"AdaBoost Accuracy: {ada_accuracy}\\n\\n\")\n",
        "print(classification_report(y_test, y_pred_best_ada))"
      ],
      "metadata": {
        "colab": {
          "base_uri": "https://localhost:8080/"
        },
        "id": "majaV1zZIs9a",
        "outputId": "5e3eadaa-b253-4965-f229-58ea69659406"
      },
      "execution_count": 153,
      "outputs": [
        {
          "output_type": "stream",
          "name": "stderr",
          "text": [
            "/usr/local/lib/python3.10/dist-packages/sklearn/ensemble/_base.py:166: FutureWarning: `base_estimator` was renamed to `estimator` in version 1.2 and will be removed in 1.4.\n",
            "  warnings.warn(\n"
          ]
        },
        {
          "output_type": "stream",
          "name": "stdout",
          "text": [
            "AdaBoost Accuracy: 0.7886178861788617\n",
            "\n",
            "\n",
            "              precision    recall  f1-score   support\n",
            "\n",
            "           0       0.95      0.42      0.58        43\n",
            "           1       0.76      0.99      0.86        80\n",
            "\n",
            "    accuracy                           0.79       123\n",
            "   macro avg       0.85      0.70      0.72       123\n",
            "weighted avg       0.83      0.79      0.76       123\n",
            "\n"
          ]
        }
      ]
    },
    {
      "cell_type": "markdown",
      "source": [
        "####  Gradient Boosting Classifier"
      ],
      "metadata": {
        "id": "oTfBJDmjKaWM"
      }
    },
    {
      "cell_type": "code",
      "source": [
        "param_grid = {\n",
        "    'n_estimators': [50, 100, 150],\n",
        "    'learning_rate': [0.01, 0.1, 0.2],\n",
        "    'max_depth': [3, 5, 7],\n",
        "    'min_samples_leaf': [1, 2, 4],\n",
        "    'max_features': [None, 'sqrt', 'log2']\n",
        "}"
      ],
      "metadata": {
        "id": "cz81LsLExoq9"
      },
      "execution_count": 154,
      "outputs": []
    },
    {
      "cell_type": "code",
      "source": [
        "gb_classifier = GradientBoostingClassifier()\n",
        "# Create GridSearchCV\n",
        "grid_search_gb = GridSearchCV(gb_classifier, param_grid, cv=5, scoring='accuracy', verbose=2)\n",
        "grid_search_gb.fit(x_train, y_train)"
      ],
      "metadata": {
        "colab": {
          "base_uri": "https://localhost:8080/",
          "height": 1000
        },
        "id": "7ZcRslJKxoZV",
        "outputId": "3be90dd9-214b-4601-9211-389efaba2850"
      },
      "execution_count": 155,
      "outputs": [
        {
          "output_type": "stream",
          "name": "stdout",
          "text": [
            "Fitting 5 folds for each of 243 candidates, totalling 1215 fits\n",
            "[CV] END learning_rate=0.01, max_depth=3, max_features=None, min_samples_leaf=1, n_estimators=50; total time=   0.1s\n",
            "[CV] END learning_rate=0.01, max_depth=3, max_features=None, min_samples_leaf=1, n_estimators=50; total time=   0.1s\n",
            "[CV] END learning_rate=0.01, max_depth=3, max_features=None, min_samples_leaf=1, n_estimators=50; total time=   0.1s\n",
            "[CV] END learning_rate=0.01, max_depth=3, max_features=None, min_samples_leaf=1, n_estimators=50; total time=   0.1s\n",
            "[CV] END learning_rate=0.01, max_depth=3, max_features=None, min_samples_leaf=1, n_estimators=50; total time=   0.1s\n",
            "[CV] END learning_rate=0.01, max_depth=3, max_features=None, min_samples_leaf=1, n_estimators=100; total time=   0.2s\n",
            "[CV] END learning_rate=0.01, max_depth=3, max_features=None, min_samples_leaf=1, n_estimators=100; total time=   0.2s\n",
            "[CV] END learning_rate=0.01, max_depth=3, max_features=None, min_samples_leaf=1, n_estimators=100; total time=   0.2s\n",
            "[CV] END learning_rate=0.01, max_depth=3, max_features=None, min_samples_leaf=1, n_estimators=100; total time=   0.2s\n",
            "[CV] END learning_rate=0.01, max_depth=3, max_features=None, min_samples_leaf=1, n_estimators=100; total time=   0.2s\n",
            "[CV] END learning_rate=0.01, max_depth=3, max_features=None, min_samples_leaf=1, n_estimators=150; total time=   0.2s\n",
            "[CV] END learning_rate=0.01, max_depth=3, max_features=None, min_samples_leaf=1, n_estimators=150; total time=   0.3s\n",
            "[CV] END learning_rate=0.01, max_depth=3, max_features=None, min_samples_leaf=1, n_estimators=150; total time=   0.3s\n",
            "[CV] END learning_rate=0.01, max_depth=3, max_features=None, min_samples_leaf=1, n_estimators=150; total time=   0.3s\n",
            "[CV] END learning_rate=0.01, max_depth=3, max_features=None, min_samples_leaf=1, n_estimators=150; total time=   0.3s\n",
            "[CV] END learning_rate=0.01, max_depth=3, max_features=None, min_samples_leaf=2, n_estimators=50; total time=   0.1s\n",
            "[CV] END learning_rate=0.01, max_depth=3, max_features=None, min_samples_leaf=2, n_estimators=50; total time=   0.1s\n",
            "[CV] END learning_rate=0.01, max_depth=3, max_features=None, min_samples_leaf=2, n_estimators=50; total time=   0.1s\n",
            "[CV] END learning_rate=0.01, max_depth=3, max_features=None, min_samples_leaf=2, n_estimators=50; total time=   0.1s\n",
            "[CV] END learning_rate=0.01, max_depth=3, max_features=None, min_samples_leaf=2, n_estimators=50; total time=   0.1s\n",
            "[CV] END learning_rate=0.01, max_depth=3, max_features=None, min_samples_leaf=2, n_estimators=100; total time=   0.2s\n",
            "[CV] END learning_rate=0.01, max_depth=3, max_features=None, min_samples_leaf=2, n_estimators=100; total time=   0.2s\n",
            "[CV] END learning_rate=0.01, max_depth=3, max_features=None, min_samples_leaf=2, n_estimators=100; total time=   0.2s\n",
            "[CV] END learning_rate=0.01, max_depth=3, max_features=None, min_samples_leaf=2, n_estimators=100; total time=   0.2s\n",
            "[CV] END learning_rate=0.01, max_depth=3, max_features=None, min_samples_leaf=2, n_estimators=100; total time=   0.2s\n",
            "[CV] END learning_rate=0.01, max_depth=3, max_features=None, min_samples_leaf=2, n_estimators=150; total time=   0.3s\n",
            "[CV] END learning_rate=0.01, max_depth=3, max_features=None, min_samples_leaf=2, n_estimators=150; total time=   0.3s\n",
            "[CV] END learning_rate=0.01, max_depth=3, max_features=None, min_samples_leaf=2, n_estimators=150; total time=   0.3s\n",
            "[CV] END learning_rate=0.01, max_depth=3, max_features=None, min_samples_leaf=2, n_estimators=150; total time=   0.3s\n",
            "[CV] END learning_rate=0.01, max_depth=3, max_features=None, min_samples_leaf=2, n_estimators=150; total time=   0.3s\n",
            "[CV] END learning_rate=0.01, max_depth=3, max_features=None, min_samples_leaf=4, n_estimators=50; total time=   0.1s\n",
            "[CV] END learning_rate=0.01, max_depth=3, max_features=None, min_samples_leaf=4, n_estimators=50; total time=   0.1s\n",
            "[CV] END learning_rate=0.01, max_depth=3, max_features=None, min_samples_leaf=4, n_estimators=50; total time=   0.1s\n",
            "[CV] END learning_rate=0.01, max_depth=3, max_features=None, min_samples_leaf=4, n_estimators=50; total time=   0.1s\n",
            "[CV] END learning_rate=0.01, max_depth=3, max_features=None, min_samples_leaf=4, n_estimators=50; total time=   0.1s\n",
            "[CV] END learning_rate=0.01, max_depth=3, max_features=None, min_samples_leaf=4, n_estimators=100; total time=   0.2s\n",
            "[CV] END learning_rate=0.01, max_depth=3, max_features=None, min_samples_leaf=4, n_estimators=100; total time=   0.2s\n",
            "[CV] END learning_rate=0.01, max_depth=3, max_features=None, min_samples_leaf=4, n_estimators=100; total time=   0.2s\n",
            "[CV] END learning_rate=0.01, max_depth=3, max_features=None, min_samples_leaf=4, n_estimators=100; total time=   0.2s\n",
            "[CV] END learning_rate=0.01, max_depth=3, max_features=None, min_samples_leaf=4, n_estimators=100; total time=   0.2s\n",
            "[CV] END learning_rate=0.01, max_depth=3, max_features=None, min_samples_leaf=4, n_estimators=150; total time=   0.3s\n",
            "[CV] END learning_rate=0.01, max_depth=3, max_features=None, min_samples_leaf=4, n_estimators=150; total time=   0.2s\n",
            "[CV] END learning_rate=0.01, max_depth=3, max_features=None, min_samples_leaf=4, n_estimators=150; total time=   0.2s\n",
            "[CV] END learning_rate=0.01, max_depth=3, max_features=None, min_samples_leaf=4, n_estimators=150; total time=   0.2s\n",
            "[CV] END learning_rate=0.01, max_depth=3, max_features=None, min_samples_leaf=4, n_estimators=150; total time=   0.2s\n",
            "[CV] END learning_rate=0.01, max_depth=3, max_features=sqrt, min_samples_leaf=1, n_estimators=50; total time=   0.0s\n",
            "[CV] END learning_rate=0.01, max_depth=3, max_features=sqrt, min_samples_leaf=1, n_estimators=50; total time=   0.0s\n",
            "[CV] END learning_rate=0.01, max_depth=3, max_features=sqrt, min_samples_leaf=1, n_estimators=50; total time=   0.0s\n",
            "[CV] END learning_rate=0.01, max_depth=3, max_features=sqrt, min_samples_leaf=1, n_estimators=50; total time=   0.0s\n",
            "[CV] END learning_rate=0.01, max_depth=3, max_features=sqrt, min_samples_leaf=1, n_estimators=50; total time=   0.0s\n",
            "[CV] END learning_rate=0.01, max_depth=3, max_features=sqrt, min_samples_leaf=1, n_estimators=100; total time=   0.1s\n",
            "[CV] END learning_rate=0.01, max_depth=3, max_features=sqrt, min_samples_leaf=1, n_estimators=100; total time=   0.1s\n",
            "[CV] END learning_rate=0.01, max_depth=3, max_features=sqrt, min_samples_leaf=1, n_estimators=100; total time=   0.1s\n",
            "[CV] END learning_rate=0.01, max_depth=3, max_features=sqrt, min_samples_leaf=1, n_estimators=100; total time=   0.1s\n",
            "[CV] END learning_rate=0.01, max_depth=3, max_features=sqrt, min_samples_leaf=1, n_estimators=100; total time=   0.1s\n",
            "[CV] END learning_rate=0.01, max_depth=3, max_features=sqrt, min_samples_leaf=1, n_estimators=150; total time=   0.1s\n",
            "[CV] END learning_rate=0.01, max_depth=3, max_features=sqrt, min_samples_leaf=1, n_estimators=150; total time=   0.1s\n",
            "[CV] END learning_rate=0.01, max_depth=3, max_features=sqrt, min_samples_leaf=1, n_estimators=150; total time=   0.1s\n",
            "[CV] END learning_rate=0.01, max_depth=3, max_features=sqrt, min_samples_leaf=1, n_estimators=150; total time=   0.1s\n",
            "[CV] END learning_rate=0.01, max_depth=3, max_features=sqrt, min_samples_leaf=1, n_estimators=150; total time=   0.1s\n",
            "[CV] END learning_rate=0.01, max_depth=3, max_features=sqrt, min_samples_leaf=2, n_estimators=50; total time=   0.0s\n",
            "[CV] END learning_rate=0.01, max_depth=3, max_features=sqrt, min_samples_leaf=2, n_estimators=50; total time=   0.0s\n",
            "[CV] END learning_rate=0.01, max_depth=3, max_features=sqrt, min_samples_leaf=2, n_estimators=50; total time=   0.0s\n",
            "[CV] END learning_rate=0.01, max_depth=3, max_features=sqrt, min_samples_leaf=2, n_estimators=50; total time=   0.0s\n",
            "[CV] END learning_rate=0.01, max_depth=3, max_features=sqrt, min_samples_leaf=2, n_estimators=50; total time=   0.0s\n",
            "[CV] END learning_rate=0.01, max_depth=3, max_features=sqrt, min_samples_leaf=2, n_estimators=100; total time=   0.1s\n",
            "[CV] END learning_rate=0.01, max_depth=3, max_features=sqrt, min_samples_leaf=2, n_estimators=100; total time=   0.1s\n",
            "[CV] END learning_rate=0.01, max_depth=3, max_features=sqrt, min_samples_leaf=2, n_estimators=100; total time=   0.1s\n",
            "[CV] END learning_rate=0.01, max_depth=3, max_features=sqrt, min_samples_leaf=2, n_estimators=100; total time=   0.1s\n",
            "[CV] END learning_rate=0.01, max_depth=3, max_features=sqrt, min_samples_leaf=2, n_estimators=100; total time=   0.1s\n",
            "[CV] END learning_rate=0.01, max_depth=3, max_features=sqrt, min_samples_leaf=2, n_estimators=150; total time=   0.1s\n",
            "[CV] END learning_rate=0.01, max_depth=3, max_features=sqrt, min_samples_leaf=2, n_estimators=150; total time=   0.1s\n",
            "[CV] END learning_rate=0.01, max_depth=3, max_features=sqrt, min_samples_leaf=2, n_estimators=150; total time=   0.1s\n",
            "[CV] END learning_rate=0.01, max_depth=3, max_features=sqrt, min_samples_leaf=2, n_estimators=150; total time=   0.1s\n",
            "[CV] END learning_rate=0.01, max_depth=3, max_features=sqrt, min_samples_leaf=2, n_estimators=150; total time=   0.1s\n",
            "[CV] END learning_rate=0.01, max_depth=3, max_features=sqrt, min_samples_leaf=4, n_estimators=50; total time=   0.0s\n",
            "[CV] END learning_rate=0.01, max_depth=3, max_features=sqrt, min_samples_leaf=4, n_estimators=50; total time=   0.0s\n",
            "[CV] END learning_rate=0.01, max_depth=3, max_features=sqrt, min_samples_leaf=4, n_estimators=50; total time=   0.0s\n",
            "[CV] END learning_rate=0.01, max_depth=3, max_features=sqrt, min_samples_leaf=4, n_estimators=50; total time=   0.0s\n",
            "[CV] END learning_rate=0.01, max_depth=3, max_features=sqrt, min_samples_leaf=4, n_estimators=50; total time=   0.0s\n",
            "[CV] END learning_rate=0.01, max_depth=3, max_features=sqrt, min_samples_leaf=4, n_estimators=100; total time=   0.1s\n",
            "[CV] END learning_rate=0.01, max_depth=3, max_features=sqrt, min_samples_leaf=4, n_estimators=100; total time=   0.1s\n",
            "[CV] END learning_rate=0.01, max_depth=3, max_features=sqrt, min_samples_leaf=4, n_estimators=100; total time=   0.1s\n",
            "[CV] END learning_rate=0.01, max_depth=3, max_features=sqrt, min_samples_leaf=4, n_estimators=100; total time=   0.1s\n",
            "[CV] END learning_rate=0.01, max_depth=3, max_features=sqrt, min_samples_leaf=4, n_estimators=100; total time=   0.1s\n",
            "[CV] END learning_rate=0.01, max_depth=3, max_features=sqrt, min_samples_leaf=4, n_estimators=150; total time=   0.1s\n",
            "[CV] END learning_rate=0.01, max_depth=3, max_features=sqrt, min_samples_leaf=4, n_estimators=150; total time=   0.1s\n",
            "[CV] END learning_rate=0.01, max_depth=3, max_features=sqrt, min_samples_leaf=4, n_estimators=150; total time=   0.1s\n",
            "[CV] END learning_rate=0.01, max_depth=3, max_features=sqrt, min_samples_leaf=4, n_estimators=150; total time=   0.1s\n",
            "[CV] END learning_rate=0.01, max_depth=3, max_features=sqrt, min_samples_leaf=4, n_estimators=150; total time=   0.1s\n",
            "[CV] END learning_rate=0.01, max_depth=3, max_features=log2, min_samples_leaf=1, n_estimators=50; total time=   0.0s\n",
            "[CV] END learning_rate=0.01, max_depth=3, max_features=log2, min_samples_leaf=1, n_estimators=50; total time=   0.0s\n",
            "[CV] END learning_rate=0.01, max_depth=3, max_features=log2, min_samples_leaf=1, n_estimators=50; total time=   0.0s\n",
            "[CV] END learning_rate=0.01, max_depth=3, max_features=log2, min_samples_leaf=1, n_estimators=50; total time=   0.0s\n",
            "[CV] END learning_rate=0.01, max_depth=3, max_features=log2, min_samples_leaf=1, n_estimators=50; total time=   0.0s\n",
            "[CV] END learning_rate=0.01, max_depth=3, max_features=log2, min_samples_leaf=1, n_estimators=100; total time=   0.1s\n",
            "[CV] END learning_rate=0.01, max_depth=3, max_features=log2, min_samples_leaf=1, n_estimators=100; total time=   0.1s\n",
            "[CV] END learning_rate=0.01, max_depth=3, max_features=log2, min_samples_leaf=1, n_estimators=100; total time=   0.1s\n",
            "[CV] END learning_rate=0.01, max_depth=3, max_features=log2, min_samples_leaf=1, n_estimators=100; total time=   0.1s\n",
            "[CV] END learning_rate=0.01, max_depth=3, max_features=log2, min_samples_leaf=1, n_estimators=100; total time=   0.1s\n",
            "[CV] END learning_rate=0.01, max_depth=3, max_features=log2, min_samples_leaf=1, n_estimators=150; total time=   0.1s\n",
            "[CV] END learning_rate=0.01, max_depth=3, max_features=log2, min_samples_leaf=1, n_estimators=150; total time=   0.1s\n",
            "[CV] END learning_rate=0.01, max_depth=3, max_features=log2, min_samples_leaf=1, n_estimators=150; total time=   0.1s\n",
            "[CV] END learning_rate=0.01, max_depth=3, max_features=log2, min_samples_leaf=1, n_estimators=150; total time=   0.1s\n",
            "[CV] END learning_rate=0.01, max_depth=3, max_features=log2, min_samples_leaf=1, n_estimators=150; total time=   0.1s\n",
            "[CV] END learning_rate=0.01, max_depth=3, max_features=log2, min_samples_leaf=2, n_estimators=50; total time=   0.0s\n",
            "[CV] END learning_rate=0.01, max_depth=3, max_features=log2, min_samples_leaf=2, n_estimators=50; total time=   0.0s\n",
            "[CV] END learning_rate=0.01, max_depth=3, max_features=log2, min_samples_leaf=2, n_estimators=50; total time=   0.0s\n",
            "[CV] END learning_rate=0.01, max_depth=3, max_features=log2, min_samples_leaf=2, n_estimators=50; total time=   0.0s\n",
            "[CV] END learning_rate=0.01, max_depth=3, max_features=log2, min_samples_leaf=2, n_estimators=50; total time=   0.0s\n",
            "[CV] END learning_rate=0.01, max_depth=3, max_features=log2, min_samples_leaf=2, n_estimators=100; total time=   0.1s\n",
            "[CV] END learning_rate=0.01, max_depth=3, max_features=log2, min_samples_leaf=2, n_estimators=100; total time=   0.1s\n",
            "[CV] END learning_rate=0.01, max_depth=3, max_features=log2, min_samples_leaf=2, n_estimators=100; total time=   0.1s\n",
            "[CV] END learning_rate=0.01, max_depth=3, max_features=log2, min_samples_leaf=2, n_estimators=100; total time=   0.1s\n",
            "[CV] END learning_rate=0.01, max_depth=3, max_features=log2, min_samples_leaf=2, n_estimators=100; total time=   0.1s\n",
            "[CV] END learning_rate=0.01, max_depth=3, max_features=log2, min_samples_leaf=2, n_estimators=150; total time=   0.1s\n",
            "[CV] END learning_rate=0.01, max_depth=3, max_features=log2, min_samples_leaf=2, n_estimators=150; total time=   0.1s\n",
            "[CV] END learning_rate=0.01, max_depth=3, max_features=log2, min_samples_leaf=2, n_estimators=150; total time=   0.1s\n",
            "[CV] END learning_rate=0.01, max_depth=3, max_features=log2, min_samples_leaf=2, n_estimators=150; total time=   0.1s\n",
            "[CV] END learning_rate=0.01, max_depth=3, max_features=log2, min_samples_leaf=2, n_estimators=150; total time=   0.1s\n",
            "[CV] END learning_rate=0.01, max_depth=3, max_features=log2, min_samples_leaf=4, n_estimators=50; total time=   0.0s\n",
            "[CV] END learning_rate=0.01, max_depth=3, max_features=log2, min_samples_leaf=4, n_estimators=50; total time=   0.0s\n",
            "[CV] END learning_rate=0.01, max_depth=3, max_features=log2, min_samples_leaf=4, n_estimators=50; total time=   0.0s\n",
            "[CV] END learning_rate=0.01, max_depth=3, max_features=log2, min_samples_leaf=4, n_estimators=50; total time=   0.0s\n",
            "[CV] END learning_rate=0.01, max_depth=3, max_features=log2, min_samples_leaf=4, n_estimators=50; total time=   0.1s\n",
            "[CV] END learning_rate=0.01, max_depth=3, max_features=log2, min_samples_leaf=4, n_estimators=100; total time=   0.1s\n",
            "[CV] END learning_rate=0.01, max_depth=3, max_features=log2, min_samples_leaf=4, n_estimators=100; total time=   0.1s\n",
            "[CV] END learning_rate=0.01, max_depth=3, max_features=log2, min_samples_leaf=4, n_estimators=100; total time=   0.1s\n",
            "[CV] END learning_rate=0.01, max_depth=3, max_features=log2, min_samples_leaf=4, n_estimators=100; total time=   0.1s\n",
            "[CV] END learning_rate=0.01, max_depth=3, max_features=log2, min_samples_leaf=4, n_estimators=100; total time=   0.1s\n",
            "[CV] END learning_rate=0.01, max_depth=3, max_features=log2, min_samples_leaf=4, n_estimators=150; total time=   0.1s\n",
            "[CV] END learning_rate=0.01, max_depth=3, max_features=log2, min_samples_leaf=4, n_estimators=150; total time=   0.1s\n",
            "[CV] END learning_rate=0.01, max_depth=3, max_features=log2, min_samples_leaf=4, n_estimators=150; total time=   0.1s\n",
            "[CV] END learning_rate=0.01, max_depth=3, max_features=log2, min_samples_leaf=4, n_estimators=150; total time=   0.1s\n",
            "[CV] END learning_rate=0.01, max_depth=3, max_features=log2, min_samples_leaf=4, n_estimators=150; total time=   0.1s\n",
            "[CV] END learning_rate=0.01, max_depth=5, max_features=None, min_samples_leaf=1, n_estimators=50; total time=   0.1s\n",
            "[CV] END learning_rate=0.01, max_depth=5, max_features=None, min_samples_leaf=1, n_estimators=50; total time=   0.1s\n",
            "[CV] END learning_rate=0.01, max_depth=5, max_features=None, min_samples_leaf=1, n_estimators=50; total time=   0.1s\n",
            "[CV] END learning_rate=0.01, max_depth=5, max_features=None, min_samples_leaf=1, n_estimators=50; total time=   0.1s\n",
            "[CV] END learning_rate=0.01, max_depth=5, max_features=None, min_samples_leaf=1, n_estimators=50; total time=   0.1s\n",
            "[CV] END learning_rate=0.01, max_depth=5, max_features=None, min_samples_leaf=1, n_estimators=100; total time=   0.2s\n",
            "[CV] END learning_rate=0.01, max_depth=5, max_features=None, min_samples_leaf=1, n_estimators=100; total time=   0.2s\n",
            "[CV] END learning_rate=0.01, max_depth=5, max_features=None, min_samples_leaf=1, n_estimators=100; total time=   0.2s\n",
            "[CV] END learning_rate=0.01, max_depth=5, max_features=None, min_samples_leaf=1, n_estimators=100; total time=   0.2s\n",
            "[CV] END learning_rate=0.01, max_depth=5, max_features=None, min_samples_leaf=1, n_estimators=100; total time=   0.2s\n",
            "[CV] END learning_rate=0.01, max_depth=5, max_features=None, min_samples_leaf=1, n_estimators=150; total time=   0.4s\n",
            "[CV] END learning_rate=0.01, max_depth=5, max_features=None, min_samples_leaf=1, n_estimators=150; total time=   0.4s\n",
            "[CV] END learning_rate=0.01, max_depth=5, max_features=None, min_samples_leaf=1, n_estimators=150; total time=   0.4s\n",
            "[CV] END learning_rate=0.01, max_depth=5, max_features=None, min_samples_leaf=1, n_estimators=150; total time=   0.4s\n",
            "[CV] END learning_rate=0.01, max_depth=5, max_features=None, min_samples_leaf=1, n_estimators=150; total time=   0.4s\n",
            "[CV] END learning_rate=0.01, max_depth=5, max_features=None, min_samples_leaf=2, n_estimators=50; total time=   0.2s\n",
            "[CV] END learning_rate=0.01, max_depth=5, max_features=None, min_samples_leaf=2, n_estimators=50; total time=   0.2s\n",
            "[CV] END learning_rate=0.01, max_depth=5, max_features=None, min_samples_leaf=2, n_estimators=50; total time=   0.3s\n",
            "[CV] END learning_rate=0.01, max_depth=5, max_features=None, min_samples_leaf=2, n_estimators=50; total time=   0.4s\n",
            "[CV] END learning_rate=0.01, max_depth=5, max_features=None, min_samples_leaf=2, n_estimators=50; total time=   0.3s\n",
            "[CV] END learning_rate=0.01, max_depth=5, max_features=None, min_samples_leaf=2, n_estimators=100; total time=   0.7s\n",
            "[CV] END learning_rate=0.01, max_depth=5, max_features=None, min_samples_leaf=2, n_estimators=100; total time=   0.6s\n",
            "[CV] END learning_rate=0.01, max_depth=5, max_features=None, min_samples_leaf=2, n_estimators=100; total time=   0.6s\n",
            "[CV] END learning_rate=0.01, max_depth=5, max_features=None, min_samples_leaf=2, n_estimators=100; total time=   0.6s\n",
            "[CV] END learning_rate=0.01, max_depth=5, max_features=None, min_samples_leaf=2, n_estimators=100; total time=   0.6s\n",
            "[CV] END learning_rate=0.01, max_depth=5, max_features=None, min_samples_leaf=2, n_estimators=150; total time=   0.6s\n",
            "[CV] END learning_rate=0.01, max_depth=5, max_features=None, min_samples_leaf=2, n_estimators=150; total time=   0.4s\n",
            "[CV] END learning_rate=0.01, max_depth=5, max_features=None, min_samples_leaf=2, n_estimators=150; total time=   0.3s\n",
            "[CV] END learning_rate=0.01, max_depth=5, max_features=None, min_samples_leaf=2, n_estimators=150; total time=   0.3s\n",
            "[CV] END learning_rate=0.01, max_depth=5, max_features=None, min_samples_leaf=2, n_estimators=150; total time=   0.3s\n",
            "[CV] END learning_rate=0.01, max_depth=5, max_features=None, min_samples_leaf=4, n_estimators=50; total time=   0.1s\n",
            "[CV] END learning_rate=0.01, max_depth=5, max_features=None, min_samples_leaf=4, n_estimators=50; total time=   0.1s\n",
            "[CV] END learning_rate=0.01, max_depth=5, max_features=None, min_samples_leaf=4, n_estimators=50; total time=   0.1s\n",
            "[CV] END learning_rate=0.01, max_depth=5, max_features=None, min_samples_leaf=4, n_estimators=50; total time=   0.1s\n",
            "[CV] END learning_rate=0.01, max_depth=5, max_features=None, min_samples_leaf=4, n_estimators=50; total time=   0.1s\n",
            "[CV] END learning_rate=0.01, max_depth=5, max_features=None, min_samples_leaf=4, n_estimators=100; total time=   0.2s\n",
            "[CV] END learning_rate=0.01, max_depth=5, max_features=None, min_samples_leaf=4, n_estimators=100; total time=   0.2s\n",
            "[CV] END learning_rate=0.01, max_depth=5, max_features=None, min_samples_leaf=4, n_estimators=100; total time=   0.2s\n",
            "[CV] END learning_rate=0.01, max_depth=5, max_features=None, min_samples_leaf=4, n_estimators=100; total time=   0.2s\n",
            "[CV] END learning_rate=0.01, max_depth=5, max_features=None, min_samples_leaf=4, n_estimators=100; total time=   0.2s\n",
            "[CV] END learning_rate=0.01, max_depth=5, max_features=None, min_samples_leaf=4, n_estimators=150; total time=   0.3s\n",
            "[CV] END learning_rate=0.01, max_depth=5, max_features=None, min_samples_leaf=4, n_estimators=150; total time=   0.2s\n",
            "[CV] END learning_rate=0.01, max_depth=5, max_features=None, min_samples_leaf=4, n_estimators=150; total time=   0.3s\n",
            "[CV] END learning_rate=0.01, max_depth=5, max_features=None, min_samples_leaf=4, n_estimators=150; total time=   0.3s\n",
            "[CV] END learning_rate=0.01, max_depth=5, max_features=None, min_samples_leaf=4, n_estimators=150; total time=   0.2s\n",
            "[CV] END learning_rate=0.01, max_depth=5, max_features=sqrt, min_samples_leaf=1, n_estimators=50; total time=   0.1s\n",
            "[CV] END learning_rate=0.01, max_depth=5, max_features=sqrt, min_samples_leaf=1, n_estimators=50; total time=   0.1s\n",
            "[CV] END learning_rate=0.01, max_depth=5, max_features=sqrt, min_samples_leaf=1, n_estimators=50; total time=   0.1s\n",
            "[CV] END learning_rate=0.01, max_depth=5, max_features=sqrt, min_samples_leaf=1, n_estimators=50; total time=   0.1s\n",
            "[CV] END learning_rate=0.01, max_depth=5, max_features=sqrt, min_samples_leaf=1, n_estimators=50; total time=   0.1s\n",
            "[CV] END learning_rate=0.01, max_depth=5, max_features=sqrt, min_samples_leaf=1, n_estimators=100; total time=   0.1s\n",
            "[CV] END learning_rate=0.01, max_depth=5, max_features=sqrt, min_samples_leaf=1, n_estimators=100; total time=   0.1s\n",
            "[CV] END learning_rate=0.01, max_depth=5, max_features=sqrt, min_samples_leaf=1, n_estimators=100; total time=   0.1s\n",
            "[CV] END learning_rate=0.01, max_depth=5, max_features=sqrt, min_samples_leaf=1, n_estimators=100; total time=   0.1s\n",
            "[CV] END learning_rate=0.01, max_depth=5, max_features=sqrt, min_samples_leaf=1, n_estimators=100; total time=   0.1s\n",
            "[CV] END learning_rate=0.01, max_depth=5, max_features=sqrt, min_samples_leaf=1, n_estimators=150; total time=   0.2s\n",
            "[CV] END learning_rate=0.01, max_depth=5, max_features=sqrt, min_samples_leaf=1, n_estimators=150; total time=   0.2s\n",
            "[CV] END learning_rate=0.01, max_depth=5, max_features=sqrt, min_samples_leaf=1, n_estimators=150; total time=   0.2s\n",
            "[CV] END learning_rate=0.01, max_depth=5, max_features=sqrt, min_samples_leaf=1, n_estimators=150; total time=   0.2s\n",
            "[CV] END learning_rate=0.01, max_depth=5, max_features=sqrt, min_samples_leaf=1, n_estimators=150; total time=   0.2s\n",
            "[CV] END learning_rate=0.01, max_depth=5, max_features=sqrt, min_samples_leaf=2, n_estimators=50; total time=   0.1s\n",
            "[CV] END learning_rate=0.01, max_depth=5, max_features=sqrt, min_samples_leaf=2, n_estimators=50; total time=   0.1s\n",
            "[CV] END learning_rate=0.01, max_depth=5, max_features=sqrt, min_samples_leaf=2, n_estimators=50; total time=   0.1s\n",
            "[CV] END learning_rate=0.01, max_depth=5, max_features=sqrt, min_samples_leaf=2, n_estimators=50; total time=   0.1s\n",
            "[CV] END learning_rate=0.01, max_depth=5, max_features=sqrt, min_samples_leaf=2, n_estimators=50; total time=   0.1s\n",
            "[CV] END learning_rate=0.01, max_depth=5, max_features=sqrt, min_samples_leaf=2, n_estimators=100; total time=   0.1s\n",
            "[CV] END learning_rate=0.01, max_depth=5, max_features=sqrt, min_samples_leaf=2, n_estimators=100; total time=   0.1s\n",
            "[CV] END learning_rate=0.01, max_depth=5, max_features=sqrt, min_samples_leaf=2, n_estimators=100; total time=   0.1s\n",
            "[CV] END learning_rate=0.01, max_depth=5, max_features=sqrt, min_samples_leaf=2, n_estimators=100; total time=   0.1s\n",
            "[CV] END learning_rate=0.01, max_depth=5, max_features=sqrt, min_samples_leaf=2, n_estimators=100; total time=   0.1s\n",
            "[CV] END learning_rate=0.01, max_depth=5, max_features=sqrt, min_samples_leaf=2, n_estimators=150; total time=   0.2s\n",
            "[CV] END learning_rate=0.01, max_depth=5, max_features=sqrt, min_samples_leaf=2, n_estimators=150; total time=   0.2s\n",
            "[CV] END learning_rate=0.01, max_depth=5, max_features=sqrt, min_samples_leaf=2, n_estimators=150; total time=   0.2s\n",
            "[CV] END learning_rate=0.01, max_depth=5, max_features=sqrt, min_samples_leaf=2, n_estimators=150; total time=   0.2s\n",
            "[CV] END learning_rate=0.01, max_depth=5, max_features=sqrt, min_samples_leaf=2, n_estimators=150; total time=   0.2s\n",
            "[CV] END learning_rate=0.01, max_depth=5, max_features=sqrt, min_samples_leaf=4, n_estimators=50; total time=   0.1s\n",
            "[CV] END learning_rate=0.01, max_depth=5, max_features=sqrt, min_samples_leaf=4, n_estimators=50; total time=   0.1s\n",
            "[CV] END learning_rate=0.01, max_depth=5, max_features=sqrt, min_samples_leaf=4, n_estimators=50; total time=   0.1s\n",
            "[CV] END learning_rate=0.01, max_depth=5, max_features=sqrt, min_samples_leaf=4, n_estimators=50; total time=   0.1s\n",
            "[CV] END learning_rate=0.01, max_depth=5, max_features=sqrt, min_samples_leaf=4, n_estimators=50; total time=   0.1s\n",
            "[CV] END learning_rate=0.01, max_depth=5, max_features=sqrt, min_samples_leaf=4, n_estimators=100; total time=   0.1s\n",
            "[CV] END learning_rate=0.01, max_depth=5, max_features=sqrt, min_samples_leaf=4, n_estimators=100; total time=   0.1s\n",
            "[CV] END learning_rate=0.01, max_depth=5, max_features=sqrt, min_samples_leaf=4, n_estimators=100; total time=   0.1s\n",
            "[CV] END learning_rate=0.01, max_depth=5, max_features=sqrt, min_samples_leaf=4, n_estimators=100; total time=   0.1s\n",
            "[CV] END learning_rate=0.01, max_depth=5, max_features=sqrt, min_samples_leaf=4, n_estimators=100; total time=   0.1s\n",
            "[CV] END learning_rate=0.01, max_depth=5, max_features=sqrt, min_samples_leaf=4, n_estimators=150; total time=   0.2s\n",
            "[CV] END learning_rate=0.01, max_depth=5, max_features=sqrt, min_samples_leaf=4, n_estimators=150; total time=   0.2s\n",
            "[CV] END learning_rate=0.01, max_depth=5, max_features=sqrt, min_samples_leaf=4, n_estimators=150; total time=   0.2s\n",
            "[CV] END learning_rate=0.01, max_depth=5, max_features=sqrt, min_samples_leaf=4, n_estimators=150; total time=   0.2s\n",
            "[CV] END learning_rate=0.01, max_depth=5, max_features=sqrt, min_samples_leaf=4, n_estimators=150; total time=   0.2s\n",
            "[CV] END learning_rate=0.01, max_depth=5, max_features=log2, min_samples_leaf=1, n_estimators=50; total time=   0.1s\n",
            "[CV] END learning_rate=0.01, max_depth=5, max_features=log2, min_samples_leaf=1, n_estimators=50; total time=   0.1s\n",
            "[CV] END learning_rate=0.01, max_depth=5, max_features=log2, min_samples_leaf=1, n_estimators=50; total time=   0.1s\n",
            "[CV] END learning_rate=0.01, max_depth=5, max_features=log2, min_samples_leaf=1, n_estimators=50; total time=   0.1s\n",
            "[CV] END learning_rate=0.01, max_depth=5, max_features=log2, min_samples_leaf=1, n_estimators=50; total time=   0.1s\n",
            "[CV] END learning_rate=0.01, max_depth=5, max_features=log2, min_samples_leaf=1, n_estimators=100; total time=   0.1s\n",
            "[CV] END learning_rate=0.01, max_depth=5, max_features=log2, min_samples_leaf=1, n_estimators=100; total time=   0.1s\n",
            "[CV] END learning_rate=0.01, max_depth=5, max_features=log2, min_samples_leaf=1, n_estimators=100; total time=   0.2s\n",
            "[CV] END learning_rate=0.01, max_depth=5, max_features=log2, min_samples_leaf=1, n_estimators=100; total time=   0.2s\n",
            "[CV] END learning_rate=0.01, max_depth=5, max_features=log2, min_samples_leaf=1, n_estimators=100; total time=   0.2s\n",
            "[CV] END learning_rate=0.01, max_depth=5, max_features=log2, min_samples_leaf=1, n_estimators=150; total time=   0.3s\n",
            "[CV] END learning_rate=0.01, max_depth=5, max_features=log2, min_samples_leaf=1, n_estimators=150; total time=   0.3s\n",
            "[CV] END learning_rate=0.01, max_depth=5, max_features=log2, min_samples_leaf=1, n_estimators=150; total time=   0.3s\n",
            "[CV] END learning_rate=0.01, max_depth=5, max_features=log2, min_samples_leaf=1, n_estimators=150; total time=   0.3s\n",
            "[CV] END learning_rate=0.01, max_depth=5, max_features=log2, min_samples_leaf=1, n_estimators=150; total time=   0.3s\n",
            "[CV] END learning_rate=0.01, max_depth=5, max_features=log2, min_samples_leaf=2, n_estimators=50; total time=   0.1s\n",
            "[CV] END learning_rate=0.01, max_depth=5, max_features=log2, min_samples_leaf=2, n_estimators=50; total time=   0.1s\n",
            "[CV] END learning_rate=0.01, max_depth=5, max_features=log2, min_samples_leaf=2, n_estimators=50; total time=   0.1s\n",
            "[CV] END learning_rate=0.01, max_depth=5, max_features=log2, min_samples_leaf=2, n_estimators=50; total time=   0.1s\n",
            "[CV] END learning_rate=0.01, max_depth=5, max_features=log2, min_samples_leaf=2, n_estimators=50; total time=   0.1s\n",
            "[CV] END learning_rate=0.01, max_depth=5, max_features=log2, min_samples_leaf=2, n_estimators=100; total time=   0.2s\n",
            "[CV] END learning_rate=0.01, max_depth=5, max_features=log2, min_samples_leaf=2, n_estimators=100; total time=   0.2s\n",
            "[CV] END learning_rate=0.01, max_depth=5, max_features=log2, min_samples_leaf=2, n_estimators=100; total time=   0.2s\n",
            "[CV] END learning_rate=0.01, max_depth=5, max_features=log2, min_samples_leaf=2, n_estimators=100; total time=   0.2s\n",
            "[CV] END learning_rate=0.01, max_depth=5, max_features=log2, min_samples_leaf=2, n_estimators=100; total time=   0.2s\n",
            "[CV] END learning_rate=0.01, max_depth=5, max_features=log2, min_samples_leaf=2, n_estimators=150; total time=   0.3s\n",
            "[CV] END learning_rate=0.01, max_depth=5, max_features=log2, min_samples_leaf=2, n_estimators=150; total time=   0.3s\n",
            "[CV] END learning_rate=0.01, max_depth=5, max_features=log2, min_samples_leaf=2, n_estimators=150; total time=   0.3s\n",
            "[CV] END learning_rate=0.01, max_depth=5, max_features=log2, min_samples_leaf=2, n_estimators=150; total time=   0.3s\n",
            "[CV] END learning_rate=0.01, max_depth=5, max_features=log2, min_samples_leaf=2, n_estimators=150; total time=   0.3s\n",
            "[CV] END learning_rate=0.01, max_depth=5, max_features=log2, min_samples_leaf=4, n_estimators=50; total time=   0.1s\n",
            "[CV] END learning_rate=0.01, max_depth=5, max_features=log2, min_samples_leaf=4, n_estimators=50; total time=   0.1s\n",
            "[CV] END learning_rate=0.01, max_depth=5, max_features=log2, min_samples_leaf=4, n_estimators=50; total time=   0.1s\n",
            "[CV] END learning_rate=0.01, max_depth=5, max_features=log2, min_samples_leaf=4, n_estimators=50; total time=   0.1s\n",
            "[CV] END learning_rate=0.01, max_depth=5, max_features=log2, min_samples_leaf=4, n_estimators=50; total time=   0.1s\n",
            "[CV] END learning_rate=0.01, max_depth=5, max_features=log2, min_samples_leaf=4, n_estimators=100; total time=   0.2s\n",
            "[CV] END learning_rate=0.01, max_depth=5, max_features=log2, min_samples_leaf=4, n_estimators=100; total time=   0.2s\n",
            "[CV] END learning_rate=0.01, max_depth=5, max_features=log2, min_samples_leaf=4, n_estimators=100; total time=   0.2s\n",
            "[CV] END learning_rate=0.01, max_depth=5, max_features=log2, min_samples_leaf=4, n_estimators=100; total time=   0.2s\n",
            "[CV] END learning_rate=0.01, max_depth=5, max_features=log2, min_samples_leaf=4, n_estimators=100; total time=   0.2s\n",
            "[CV] END learning_rate=0.01, max_depth=5, max_features=log2, min_samples_leaf=4, n_estimators=150; total time=   0.3s\n",
            "[CV] END learning_rate=0.01, max_depth=5, max_features=log2, min_samples_leaf=4, n_estimators=150; total time=   0.2s\n",
            "[CV] END learning_rate=0.01, max_depth=5, max_features=log2, min_samples_leaf=4, n_estimators=150; total time=   0.2s\n",
            "[CV] END learning_rate=0.01, max_depth=5, max_features=log2, min_samples_leaf=4, n_estimators=150; total time=   0.2s\n",
            "[CV] END learning_rate=0.01, max_depth=5, max_features=log2, min_samples_leaf=4, n_estimators=150; total time=   0.2s\n",
            "[CV] END learning_rate=0.01, max_depth=7, max_features=None, min_samples_leaf=1, n_estimators=50; total time=   0.1s\n",
            "[CV] END learning_rate=0.01, max_depth=7, max_features=None, min_samples_leaf=1, n_estimators=50; total time=   0.1s\n",
            "[CV] END learning_rate=0.01, max_depth=7, max_features=None, min_samples_leaf=1, n_estimators=50; total time=   0.1s\n",
            "[CV] END learning_rate=0.01, max_depth=7, max_features=None, min_samples_leaf=1, n_estimators=50; total time=   0.1s\n",
            "[CV] END learning_rate=0.01, max_depth=7, max_features=None, min_samples_leaf=1, n_estimators=50; total time=   0.1s\n",
            "[CV] END learning_rate=0.01, max_depth=7, max_features=None, min_samples_leaf=1, n_estimators=100; total time=   0.2s\n",
            "[CV] END learning_rate=0.01, max_depth=7, max_features=None, min_samples_leaf=1, n_estimators=100; total time=   0.2s\n",
            "[CV] END learning_rate=0.01, max_depth=7, max_features=None, min_samples_leaf=1, n_estimators=100; total time=   0.2s\n",
            "[CV] END learning_rate=0.01, max_depth=7, max_features=None, min_samples_leaf=1, n_estimators=100; total time=   0.2s\n",
            "[CV] END learning_rate=0.01, max_depth=7, max_features=None, min_samples_leaf=1, n_estimators=100; total time=   0.2s\n",
            "[CV] END learning_rate=0.01, max_depth=7, max_features=None, min_samples_leaf=1, n_estimators=150; total time=   0.3s\n",
            "[CV] END learning_rate=0.01, max_depth=7, max_features=None, min_samples_leaf=1, n_estimators=150; total time=   0.4s\n",
            "[CV] END learning_rate=0.01, max_depth=7, max_features=None, min_samples_leaf=1, n_estimators=150; total time=   0.3s\n",
            "[CV] END learning_rate=0.01, max_depth=7, max_features=None, min_samples_leaf=1, n_estimators=150; total time=   0.4s\n",
            "[CV] END learning_rate=0.01, max_depth=7, max_features=None, min_samples_leaf=1, n_estimators=150; total time=   0.4s\n",
            "[CV] END learning_rate=0.01, max_depth=7, max_features=None, min_samples_leaf=2, n_estimators=50; total time=   0.1s\n",
            "[CV] END learning_rate=0.01, max_depth=7, max_features=None, min_samples_leaf=2, n_estimators=50; total time=   0.1s\n",
            "[CV] END learning_rate=0.01, max_depth=7, max_features=None, min_samples_leaf=2, n_estimators=50; total time=   0.1s\n",
            "[CV] END learning_rate=0.01, max_depth=7, max_features=None, min_samples_leaf=2, n_estimators=50; total time=   0.1s\n",
            "[CV] END learning_rate=0.01, max_depth=7, max_features=None, min_samples_leaf=2, n_estimators=50; total time=   0.1s\n",
            "[CV] END learning_rate=0.01, max_depth=7, max_features=None, min_samples_leaf=2, n_estimators=100; total time=   0.2s\n",
            "[CV] END learning_rate=0.01, max_depth=7, max_features=None, min_samples_leaf=2, n_estimators=100; total time=   0.3s\n",
            "[CV] END learning_rate=0.01, max_depth=7, max_features=None, min_samples_leaf=2, n_estimators=100; total time=   0.2s\n",
            "[CV] END learning_rate=0.01, max_depth=7, max_features=None, min_samples_leaf=2, n_estimators=100; total time=   0.2s\n",
            "[CV] END learning_rate=0.01, max_depth=7, max_features=None, min_samples_leaf=2, n_estimators=100; total time=   0.2s\n",
            "[CV] END learning_rate=0.01, max_depth=7, max_features=None, min_samples_leaf=2, n_estimators=150; total time=   0.4s\n",
            "[CV] END learning_rate=0.01, max_depth=7, max_features=None, min_samples_leaf=2, n_estimators=150; total time=   0.4s\n",
            "[CV] END learning_rate=0.01, max_depth=7, max_features=None, min_samples_leaf=2, n_estimators=150; total time=   0.4s\n",
            "[CV] END learning_rate=0.01, max_depth=7, max_features=None, min_samples_leaf=2, n_estimators=150; total time=   0.4s\n",
            "[CV] END learning_rate=0.01, max_depth=7, max_features=None, min_samples_leaf=2, n_estimators=150; total time=   0.3s\n",
            "[CV] END learning_rate=0.01, max_depth=7, max_features=None, min_samples_leaf=4, n_estimators=50; total time=   0.1s\n",
            "[CV] END learning_rate=0.01, max_depth=7, max_features=None, min_samples_leaf=4, n_estimators=50; total time=   0.2s\n",
            "[CV] END learning_rate=0.01, max_depth=7, max_features=None, min_samples_leaf=4, n_estimators=50; total time=   0.1s\n",
            "[CV] END learning_rate=0.01, max_depth=7, max_features=None, min_samples_leaf=4, n_estimators=50; total time=   0.1s\n",
            "[CV] END learning_rate=0.01, max_depth=7, max_features=None, min_samples_leaf=4, n_estimators=50; total time=   0.1s\n",
            "[CV] END learning_rate=0.01, max_depth=7, max_features=None, min_samples_leaf=4, n_estimators=100; total time=   0.2s\n",
            "[CV] END learning_rate=0.01, max_depth=7, max_features=None, min_samples_leaf=4, n_estimators=100; total time=   0.2s\n",
            "[CV] END learning_rate=0.01, max_depth=7, max_features=None, min_samples_leaf=4, n_estimators=100; total time=   0.2s\n",
            "[CV] END learning_rate=0.01, max_depth=7, max_features=None, min_samples_leaf=4, n_estimators=100; total time=   0.2s\n",
            "[CV] END learning_rate=0.01, max_depth=7, max_features=None, min_samples_leaf=4, n_estimators=100; total time=   0.2s\n",
            "[CV] END learning_rate=0.01, max_depth=7, max_features=None, min_samples_leaf=4, n_estimators=150; total time=   0.4s\n",
            "[CV] END learning_rate=0.01, max_depth=7, max_features=None, min_samples_leaf=4, n_estimators=150; total time=   0.5s\n",
            "[CV] END learning_rate=0.01, max_depth=7, max_features=None, min_samples_leaf=4, n_estimators=150; total time=   0.5s\n",
            "[CV] END learning_rate=0.01, max_depth=7, max_features=None, min_samples_leaf=4, n_estimators=150; total time=   0.6s\n",
            "[CV] END learning_rate=0.01, max_depth=7, max_features=None, min_samples_leaf=4, n_estimators=150; total time=   0.8s\n",
            "[CV] END learning_rate=0.01, max_depth=7, max_features=sqrt, min_samples_leaf=1, n_estimators=50; total time=   0.5s\n",
            "[CV] END learning_rate=0.01, max_depth=7, max_features=sqrt, min_samples_leaf=1, n_estimators=50; total time=   0.5s\n",
            "[CV] END learning_rate=0.01, max_depth=7, max_features=sqrt, min_samples_leaf=1, n_estimators=50; total time=   0.4s\n",
            "[CV] END learning_rate=0.01, max_depth=7, max_features=sqrt, min_samples_leaf=1, n_estimators=50; total time=   0.4s\n",
            "[CV] END learning_rate=0.01, max_depth=7, max_features=sqrt, min_samples_leaf=1, n_estimators=50; total time=   0.4s\n",
            "[CV] END learning_rate=0.01, max_depth=7, max_features=sqrt, min_samples_leaf=1, n_estimators=100; total time=   0.7s\n",
            "[CV] END learning_rate=0.01, max_depth=7, max_features=sqrt, min_samples_leaf=1, n_estimators=100; total time=   0.7s\n",
            "[CV] END learning_rate=0.01, max_depth=7, max_features=sqrt, min_samples_leaf=1, n_estimators=100; total time=   0.6s\n",
            "[CV] END learning_rate=0.01, max_depth=7, max_features=sqrt, min_samples_leaf=1, n_estimators=100; total time=   0.7s\n",
            "[CV] END learning_rate=0.01, max_depth=7, max_features=sqrt, min_samples_leaf=1, n_estimators=100; total time=   0.6s\n",
            "[CV] END learning_rate=0.01, max_depth=7, max_features=sqrt, min_samples_leaf=1, n_estimators=150; total time=   0.8s\n",
            "[CV] END learning_rate=0.01, max_depth=7, max_features=sqrt, min_samples_leaf=1, n_estimators=150; total time=   0.8s\n",
            "[CV] END learning_rate=0.01, max_depth=7, max_features=sqrt, min_samples_leaf=1, n_estimators=150; total time=   0.3s\n",
            "[CV] END learning_rate=0.01, max_depth=7, max_features=sqrt, min_samples_leaf=1, n_estimators=150; total time=   0.3s\n",
            "[CV] END learning_rate=0.01, max_depth=7, max_features=sqrt, min_samples_leaf=1, n_estimators=150; total time=   0.3s\n",
            "[CV] END learning_rate=0.01, max_depth=7, max_features=sqrt, min_samples_leaf=2, n_estimators=50; total time=   0.1s\n",
            "[CV] END learning_rate=0.01, max_depth=7, max_features=sqrt, min_samples_leaf=2, n_estimators=50; total time=   0.1s\n",
            "[CV] END learning_rate=0.01, max_depth=7, max_features=sqrt, min_samples_leaf=2, n_estimators=50; total time=   0.1s\n",
            "[CV] END learning_rate=0.01, max_depth=7, max_features=sqrt, min_samples_leaf=2, n_estimators=50; total time=   0.1s\n",
            "[CV] END learning_rate=0.01, max_depth=7, max_features=sqrt, min_samples_leaf=2, n_estimators=50; total time=   0.1s\n",
            "[CV] END learning_rate=0.01, max_depth=7, max_features=sqrt, min_samples_leaf=2, n_estimators=100; total time=   0.2s\n",
            "[CV] END learning_rate=0.01, max_depth=7, max_features=sqrt, min_samples_leaf=2, n_estimators=100; total time=   0.2s\n",
            "[CV] END learning_rate=0.01, max_depth=7, max_features=sqrt, min_samples_leaf=2, n_estimators=100; total time=   0.2s\n",
            "[CV] END learning_rate=0.01, max_depth=7, max_features=sqrt, min_samples_leaf=2, n_estimators=100; total time=   0.2s\n",
            "[CV] END learning_rate=0.01, max_depth=7, max_features=sqrt, min_samples_leaf=2, n_estimators=100; total time=   0.2s\n",
            "[CV] END learning_rate=0.01, max_depth=7, max_features=sqrt, min_samples_leaf=2, n_estimators=150; total time=   0.3s\n",
            "[CV] END learning_rate=0.01, max_depth=7, max_features=sqrt, min_samples_leaf=2, n_estimators=150; total time=   0.3s\n",
            "[CV] END learning_rate=0.01, max_depth=7, max_features=sqrt, min_samples_leaf=2, n_estimators=150; total time=   0.3s\n",
            "[CV] END learning_rate=0.01, max_depth=7, max_features=sqrt, min_samples_leaf=2, n_estimators=150; total time=   0.3s\n",
            "[CV] END learning_rate=0.01, max_depth=7, max_features=sqrt, min_samples_leaf=2, n_estimators=150; total time=   0.3s\n",
            "[CV] END learning_rate=0.01, max_depth=7, max_features=sqrt, min_samples_leaf=4, n_estimators=50; total time=   0.1s\n",
            "[CV] END learning_rate=0.01, max_depth=7, max_features=sqrt, min_samples_leaf=4, n_estimators=50; total time=   0.1s\n",
            "[CV] END learning_rate=0.01, max_depth=7, max_features=sqrt, min_samples_leaf=4, n_estimators=50; total time=   0.1s\n",
            "[CV] END learning_rate=0.01, max_depth=7, max_features=sqrt, min_samples_leaf=4, n_estimators=50; total time=   0.1s\n",
            "[CV] END learning_rate=0.01, max_depth=7, max_features=sqrt, min_samples_leaf=4, n_estimators=50; total time=   0.1s\n",
            "[CV] END learning_rate=0.01, max_depth=7, max_features=sqrt, min_samples_leaf=4, n_estimators=100; total time=   0.2s\n",
            "[CV] END learning_rate=0.01, max_depth=7, max_features=sqrt, min_samples_leaf=4, n_estimators=100; total time=   0.2s\n",
            "[CV] END learning_rate=0.01, max_depth=7, max_features=sqrt, min_samples_leaf=4, n_estimators=100; total time=   0.2s\n",
            "[CV] END learning_rate=0.01, max_depth=7, max_features=sqrt, min_samples_leaf=4, n_estimators=100; total time=   0.2s\n",
            "[CV] END learning_rate=0.01, max_depth=7, max_features=sqrt, min_samples_leaf=4, n_estimators=100; total time=   0.2s\n",
            "[CV] END learning_rate=0.01, max_depth=7, max_features=sqrt, min_samples_leaf=4, n_estimators=150; total time=   0.3s\n",
            "[CV] END learning_rate=0.01, max_depth=7, max_features=sqrt, min_samples_leaf=4, n_estimators=150; total time=   0.2s\n",
            "[CV] END learning_rate=0.01, max_depth=7, max_features=sqrt, min_samples_leaf=4, n_estimators=150; total time=   0.2s\n",
            "[CV] END learning_rate=0.01, max_depth=7, max_features=sqrt, min_samples_leaf=4, n_estimators=150; total time=   0.2s\n",
            "[CV] END learning_rate=0.01, max_depth=7, max_features=sqrt, min_samples_leaf=4, n_estimators=150; total time=   0.2s\n",
            "[CV] END learning_rate=0.01, max_depth=7, max_features=log2, min_samples_leaf=1, n_estimators=50; total time=   0.1s\n",
            "[CV] END learning_rate=0.01, max_depth=7, max_features=log2, min_samples_leaf=1, n_estimators=50; total time=   0.1s\n",
            "[CV] END learning_rate=0.01, max_depth=7, max_features=log2, min_samples_leaf=1, n_estimators=50; total time=   0.1s\n",
            "[CV] END learning_rate=0.01, max_depth=7, max_features=log2, min_samples_leaf=1, n_estimators=50; total time=   0.1s\n",
            "[CV] END learning_rate=0.01, max_depth=7, max_features=log2, min_samples_leaf=1, n_estimators=50; total time=   0.1s\n",
            "[CV] END learning_rate=0.01, max_depth=7, max_features=log2, min_samples_leaf=1, n_estimators=100; total time=   0.2s\n",
            "[CV] END learning_rate=0.01, max_depth=7, max_features=log2, min_samples_leaf=1, n_estimators=100; total time=   0.2s\n",
            "[CV] END learning_rate=0.01, max_depth=7, max_features=log2, min_samples_leaf=1, n_estimators=100; total time=   0.2s\n",
            "[CV] END learning_rate=0.01, max_depth=7, max_features=log2, min_samples_leaf=1, n_estimators=100; total time=   0.2s\n",
            "[CV] END learning_rate=0.01, max_depth=7, max_features=log2, min_samples_leaf=1, n_estimators=100; total time=   0.2s\n",
            "[CV] END learning_rate=0.01, max_depth=7, max_features=log2, min_samples_leaf=1, n_estimators=150; total time=   0.5s\n",
            "[CV] END learning_rate=0.01, max_depth=7, max_features=log2, min_samples_leaf=1, n_estimators=150; total time=   0.6s\n",
            "[CV] END learning_rate=0.01, max_depth=7, max_features=log2, min_samples_leaf=1, n_estimators=150; total time=   0.5s\n",
            "[CV] END learning_rate=0.01, max_depth=7, max_features=log2, min_samples_leaf=1, n_estimators=150; total time=   0.5s\n",
            "[CV] END learning_rate=0.01, max_depth=7, max_features=log2, min_samples_leaf=1, n_estimators=150; total time=   0.6s\n",
            "[CV] END learning_rate=0.01, max_depth=7, max_features=log2, min_samples_leaf=2, n_estimators=50; total time=   0.2s\n",
            "[CV] END learning_rate=0.01, max_depth=7, max_features=log2, min_samples_leaf=2, n_estimators=50; total time=   0.2s\n",
            "[CV] END learning_rate=0.01, max_depth=7, max_features=log2, min_samples_leaf=2, n_estimators=50; total time=   0.1s\n",
            "[CV] END learning_rate=0.01, max_depth=7, max_features=log2, min_samples_leaf=2, n_estimators=50; total time=   0.1s\n",
            "[CV] END learning_rate=0.01, max_depth=7, max_features=log2, min_samples_leaf=2, n_estimators=50; total time=   0.1s\n",
            "[CV] END learning_rate=0.01, max_depth=7, max_features=log2, min_samples_leaf=2, n_estimators=100; total time=   0.3s\n",
            "[CV] END learning_rate=0.01, max_depth=7, max_features=log2, min_samples_leaf=2, n_estimators=100; total time=   0.3s\n",
            "[CV] END learning_rate=0.01, max_depth=7, max_features=log2, min_samples_leaf=2, n_estimators=100; total time=   0.3s\n",
            "[CV] END learning_rate=0.01, max_depth=7, max_features=log2, min_samples_leaf=2, n_estimators=100; total time=   0.3s\n",
            "[CV] END learning_rate=0.01, max_depth=7, max_features=log2, min_samples_leaf=2, n_estimators=100; total time=   0.3s\n",
            "[CV] END learning_rate=0.01, max_depth=7, max_features=log2, min_samples_leaf=2, n_estimators=150; total time=   0.5s\n",
            "[CV] END learning_rate=0.01, max_depth=7, max_features=log2, min_samples_leaf=2, n_estimators=150; total time=   0.5s\n",
            "[CV] END learning_rate=0.01, max_depth=7, max_features=log2, min_samples_leaf=2, n_estimators=150; total time=   0.4s\n",
            "[CV] END learning_rate=0.01, max_depth=7, max_features=log2, min_samples_leaf=2, n_estimators=150; total time=   0.4s\n",
            "[CV] END learning_rate=0.01, max_depth=7, max_features=log2, min_samples_leaf=2, n_estimators=150; total time=   0.4s\n",
            "[CV] END learning_rate=0.01, max_depth=7, max_features=log2, min_samples_leaf=4, n_estimators=50; total time=   0.1s\n",
            "[CV] END learning_rate=0.01, max_depth=7, max_features=log2, min_samples_leaf=4, n_estimators=50; total time=   0.1s\n",
            "[CV] END learning_rate=0.01, max_depth=7, max_features=log2, min_samples_leaf=4, n_estimators=50; total time=   0.1s\n",
            "[CV] END learning_rate=0.01, max_depth=7, max_features=log2, min_samples_leaf=4, n_estimators=50; total time=   0.1s\n",
            "[CV] END learning_rate=0.01, max_depth=7, max_features=log2, min_samples_leaf=4, n_estimators=50; total time=   0.1s\n",
            "[CV] END learning_rate=0.01, max_depth=7, max_features=log2, min_samples_leaf=4, n_estimators=100; total time=   0.2s\n",
            "[CV] END learning_rate=0.01, max_depth=7, max_features=log2, min_samples_leaf=4, n_estimators=100; total time=   0.2s\n",
            "[CV] END learning_rate=0.01, max_depth=7, max_features=log2, min_samples_leaf=4, n_estimators=100; total time=   0.2s\n",
            "[CV] END learning_rate=0.01, max_depth=7, max_features=log2, min_samples_leaf=4, n_estimators=100; total time=   0.2s\n",
            "[CV] END learning_rate=0.01, max_depth=7, max_features=log2, min_samples_leaf=4, n_estimators=100; total time=   0.2s\n",
            "[CV] END learning_rate=0.01, max_depth=7, max_features=log2, min_samples_leaf=4, n_estimators=150; total time=   0.3s\n",
            "[CV] END learning_rate=0.01, max_depth=7, max_features=log2, min_samples_leaf=4, n_estimators=150; total time=   0.2s\n",
            "[CV] END learning_rate=0.01, max_depth=7, max_features=log2, min_samples_leaf=4, n_estimators=150; total time=   0.2s\n",
            "[CV] END learning_rate=0.01, max_depth=7, max_features=log2, min_samples_leaf=4, n_estimators=150; total time=   0.2s\n",
            "[CV] END learning_rate=0.01, max_depth=7, max_features=log2, min_samples_leaf=4, n_estimators=150; total time=   0.2s\n",
            "[CV] END learning_rate=0.1, max_depth=3, max_features=None, min_samples_leaf=1, n_estimators=50; total time=   0.1s\n",
            "[CV] END learning_rate=0.1, max_depth=3, max_features=None, min_samples_leaf=1, n_estimators=50; total time=   0.1s\n",
            "[CV] END learning_rate=0.1, max_depth=3, max_features=None, min_samples_leaf=1, n_estimators=50; total time=   0.1s\n",
            "[CV] END learning_rate=0.1, max_depth=3, max_features=None, min_samples_leaf=1, n_estimators=50; total time=   0.1s\n",
            "[CV] END learning_rate=0.1, max_depth=3, max_features=None, min_samples_leaf=1, n_estimators=50; total time=   0.1s\n",
            "[CV] END learning_rate=0.1, max_depth=3, max_features=None, min_samples_leaf=1, n_estimators=100; total time=   0.1s\n",
            "[CV] END learning_rate=0.1, max_depth=3, max_features=None, min_samples_leaf=1, n_estimators=100; total time=   0.1s\n",
            "[CV] END learning_rate=0.1, max_depth=3, max_features=None, min_samples_leaf=1, n_estimators=100; total time=   0.1s\n",
            "[CV] END learning_rate=0.1, max_depth=3, max_features=None, min_samples_leaf=1, n_estimators=100; total time=   0.1s\n",
            "[CV] END learning_rate=0.1, max_depth=3, max_features=None, min_samples_leaf=1, n_estimators=100; total time=   0.1s\n",
            "[CV] END learning_rate=0.1, max_depth=3, max_features=None, min_samples_leaf=1, n_estimators=150; total time=   0.2s\n",
            "[CV] END learning_rate=0.1, max_depth=3, max_features=None, min_samples_leaf=1, n_estimators=150; total time=   0.2s\n",
            "[CV] END learning_rate=0.1, max_depth=3, max_features=None, min_samples_leaf=1, n_estimators=150; total time=   0.2s\n",
            "[CV] END learning_rate=0.1, max_depth=3, max_features=None, min_samples_leaf=1, n_estimators=150; total time=   0.2s\n",
            "[CV] END learning_rate=0.1, max_depth=3, max_features=None, min_samples_leaf=1, n_estimators=150; total time=   0.2s\n",
            "[CV] END learning_rate=0.1, max_depth=3, max_features=None, min_samples_leaf=2, n_estimators=50; total time=   0.1s\n",
            "[CV] END learning_rate=0.1, max_depth=3, max_features=None, min_samples_leaf=2, n_estimators=50; total time=   0.1s\n",
            "[CV] END learning_rate=0.1, max_depth=3, max_features=None, min_samples_leaf=2, n_estimators=50; total time=   0.1s\n",
            "[CV] END learning_rate=0.1, max_depth=3, max_features=None, min_samples_leaf=2, n_estimators=50; total time=   0.1s\n",
            "[CV] END learning_rate=0.1, max_depth=3, max_features=None, min_samples_leaf=2, n_estimators=50; total time=   0.1s\n",
            "[CV] END learning_rate=0.1, max_depth=3, max_features=None, min_samples_leaf=2, n_estimators=100; total time=   0.1s\n",
            "[CV] END learning_rate=0.1, max_depth=3, max_features=None, min_samples_leaf=2, n_estimators=100; total time=   0.1s\n",
            "[CV] END learning_rate=0.1, max_depth=3, max_features=None, min_samples_leaf=2, n_estimators=100; total time=   0.1s\n",
            "[CV] END learning_rate=0.1, max_depth=3, max_features=None, min_samples_leaf=2, n_estimators=100; total time=   0.1s\n",
            "[CV] END learning_rate=0.1, max_depth=3, max_features=None, min_samples_leaf=2, n_estimators=100; total time=   0.1s\n",
            "[CV] END learning_rate=0.1, max_depth=3, max_features=None, min_samples_leaf=2, n_estimators=150; total time=   0.2s\n",
            "[CV] END learning_rate=0.1, max_depth=3, max_features=None, min_samples_leaf=2, n_estimators=150; total time=   0.2s\n",
            "[CV] END learning_rate=0.1, max_depth=3, max_features=None, min_samples_leaf=2, n_estimators=150; total time=   0.2s\n",
            "[CV] END learning_rate=0.1, max_depth=3, max_features=None, min_samples_leaf=2, n_estimators=150; total time=   0.2s\n",
            "[CV] END learning_rate=0.1, max_depth=3, max_features=None, min_samples_leaf=2, n_estimators=150; total time=   0.2s\n",
            "[CV] END learning_rate=0.1, max_depth=3, max_features=None, min_samples_leaf=4, n_estimators=50; total time=   0.1s\n",
            "[CV] END learning_rate=0.1, max_depth=3, max_features=None, min_samples_leaf=4, n_estimators=50; total time=   0.1s\n",
            "[CV] END learning_rate=0.1, max_depth=3, max_features=None, min_samples_leaf=4, n_estimators=50; total time=   0.1s\n",
            "[CV] END learning_rate=0.1, max_depth=3, max_features=None, min_samples_leaf=4, n_estimators=50; total time=   0.1s\n",
            "[CV] END learning_rate=0.1, max_depth=3, max_features=None, min_samples_leaf=4, n_estimators=50; total time=   0.1s\n",
            "[CV] END learning_rate=0.1, max_depth=3, max_features=None, min_samples_leaf=4, n_estimators=100; total time=   0.1s\n",
            "[CV] END learning_rate=0.1, max_depth=3, max_features=None, min_samples_leaf=4, n_estimators=100; total time=   0.1s\n",
            "[CV] END learning_rate=0.1, max_depth=3, max_features=None, min_samples_leaf=4, n_estimators=100; total time=   0.1s\n",
            "[CV] END learning_rate=0.1, max_depth=3, max_features=None, min_samples_leaf=4, n_estimators=100; total time=   0.1s\n",
            "[CV] END learning_rate=0.1, max_depth=3, max_features=None, min_samples_leaf=4, n_estimators=100; total time=   0.1s\n",
            "[CV] END learning_rate=0.1, max_depth=3, max_features=None, min_samples_leaf=4, n_estimators=150; total time=   0.2s\n",
            "[CV] END learning_rate=0.1, max_depth=3, max_features=None, min_samples_leaf=4, n_estimators=150; total time=   0.2s\n",
            "[CV] END learning_rate=0.1, max_depth=3, max_features=None, min_samples_leaf=4, n_estimators=150; total time=   0.2s\n",
            "[CV] END learning_rate=0.1, max_depth=3, max_features=None, min_samples_leaf=4, n_estimators=150; total time=   0.2s\n",
            "[CV] END learning_rate=0.1, max_depth=3, max_features=None, min_samples_leaf=4, n_estimators=150; total time=   0.2s\n",
            "[CV] END learning_rate=0.1, max_depth=3, max_features=sqrt, min_samples_leaf=1, n_estimators=50; total time=   0.0s\n",
            "[CV] END learning_rate=0.1, max_depth=3, max_features=sqrt, min_samples_leaf=1, n_estimators=50; total time=   0.0s\n",
            "[CV] END learning_rate=0.1, max_depth=3, max_features=sqrt, min_samples_leaf=1, n_estimators=50; total time=   0.0s\n",
            "[CV] END learning_rate=0.1, max_depth=3, max_features=sqrt, min_samples_leaf=1, n_estimators=50; total time=   0.0s\n",
            "[CV] END learning_rate=0.1, max_depth=3, max_features=sqrt, min_samples_leaf=1, n_estimators=50; total time=   0.0s\n",
            "[CV] END learning_rate=0.1, max_depth=3, max_features=sqrt, min_samples_leaf=1, n_estimators=100; total time=   0.1s\n",
            "[CV] END learning_rate=0.1, max_depth=3, max_features=sqrt, min_samples_leaf=1, n_estimators=100; total time=   0.1s\n",
            "[CV] END learning_rate=0.1, max_depth=3, max_features=sqrt, min_samples_leaf=1, n_estimators=100; total time=   0.1s\n",
            "[CV] END learning_rate=0.1, max_depth=3, max_features=sqrt, min_samples_leaf=1, n_estimators=100; total time=   0.1s\n",
            "[CV] END learning_rate=0.1, max_depth=3, max_features=sqrt, min_samples_leaf=1, n_estimators=100; total time=   0.1s\n",
            "[CV] END learning_rate=0.1, max_depth=3, max_features=sqrt, min_samples_leaf=1, n_estimators=150; total time=   0.1s\n",
            "[CV] END learning_rate=0.1, max_depth=3, max_features=sqrt, min_samples_leaf=1, n_estimators=150; total time=   0.1s\n",
            "[CV] END learning_rate=0.1, max_depth=3, max_features=sqrt, min_samples_leaf=1, n_estimators=150; total time=   0.1s\n",
            "[CV] END learning_rate=0.1, max_depth=3, max_features=sqrt, min_samples_leaf=1, n_estimators=150; total time=   0.1s\n",
            "[CV] END learning_rate=0.1, max_depth=3, max_features=sqrt, min_samples_leaf=1, n_estimators=150; total time=   0.1s\n",
            "[CV] END learning_rate=0.1, max_depth=3, max_features=sqrt, min_samples_leaf=2, n_estimators=50; total time=   0.1s\n",
            "[CV] END learning_rate=0.1, max_depth=3, max_features=sqrt, min_samples_leaf=2, n_estimators=50; total time=   0.0s\n",
            "[CV] END learning_rate=0.1, max_depth=3, max_features=sqrt, min_samples_leaf=2, n_estimators=50; total time=   0.0s\n",
            "[CV] END learning_rate=0.1, max_depth=3, max_features=sqrt, min_samples_leaf=2, n_estimators=50; total time=   0.0s\n",
            "[CV] END learning_rate=0.1, max_depth=3, max_features=sqrt, min_samples_leaf=2, n_estimators=50; total time=   0.0s\n",
            "[CV] END learning_rate=0.1, max_depth=3, max_features=sqrt, min_samples_leaf=2, n_estimators=100; total time=   0.1s\n",
            "[CV] END learning_rate=0.1, max_depth=3, max_features=sqrt, min_samples_leaf=2, n_estimators=100; total time=   0.1s\n",
            "[CV] END learning_rate=0.1, max_depth=3, max_features=sqrt, min_samples_leaf=2, n_estimators=100; total time=   0.1s\n",
            "[CV] END learning_rate=0.1, max_depth=3, max_features=sqrt, min_samples_leaf=2, n_estimators=100; total time=   0.1s\n",
            "[CV] END learning_rate=0.1, max_depth=3, max_features=sqrt, min_samples_leaf=2, n_estimators=100; total time=   0.1s\n",
            "[CV] END learning_rate=0.1, max_depth=3, max_features=sqrt, min_samples_leaf=2, n_estimators=150; total time=   0.1s\n",
            "[CV] END learning_rate=0.1, max_depth=3, max_features=sqrt, min_samples_leaf=2, n_estimators=150; total time=   0.2s\n",
            "[CV] END learning_rate=0.1, max_depth=3, max_features=sqrt, min_samples_leaf=2, n_estimators=150; total time=   0.2s\n",
            "[CV] END learning_rate=0.1, max_depth=3, max_features=sqrt, min_samples_leaf=2, n_estimators=150; total time=   0.2s\n",
            "[CV] END learning_rate=0.1, max_depth=3, max_features=sqrt, min_samples_leaf=2, n_estimators=150; total time=   0.2s\n",
            "[CV] END learning_rate=0.1, max_depth=3, max_features=sqrt, min_samples_leaf=4, n_estimators=50; total time=   0.1s\n",
            "[CV] END learning_rate=0.1, max_depth=3, max_features=sqrt, min_samples_leaf=4, n_estimators=50; total time=   0.1s\n",
            "[CV] END learning_rate=0.1, max_depth=3, max_features=sqrt, min_samples_leaf=4, n_estimators=50; total time=   0.1s\n",
            "[CV] END learning_rate=0.1, max_depth=3, max_features=sqrt, min_samples_leaf=4, n_estimators=50; total time=   0.1s\n",
            "[CV] END learning_rate=0.1, max_depth=3, max_features=sqrt, min_samples_leaf=4, n_estimators=50; total time=   0.1s\n",
            "[CV] END learning_rate=0.1, max_depth=3, max_features=sqrt, min_samples_leaf=4, n_estimators=100; total time=   0.1s\n",
            "[CV] END learning_rate=0.1, max_depth=3, max_features=sqrt, min_samples_leaf=4, n_estimators=100; total time=   0.1s\n",
            "[CV] END learning_rate=0.1, max_depth=3, max_features=sqrt, min_samples_leaf=4, n_estimators=100; total time=   0.1s\n",
            "[CV] END learning_rate=0.1, max_depth=3, max_features=sqrt, min_samples_leaf=4, n_estimators=100; total time=   0.1s\n",
            "[CV] END learning_rate=0.1, max_depth=3, max_features=sqrt, min_samples_leaf=4, n_estimators=100; total time=   0.1s\n",
            "[CV] END learning_rate=0.1, max_depth=3, max_features=sqrt, min_samples_leaf=4, n_estimators=150; total time=   0.2s\n",
            "[CV] END learning_rate=0.1, max_depth=3, max_features=sqrt, min_samples_leaf=4, n_estimators=150; total time=   0.2s\n",
            "[CV] END learning_rate=0.1, max_depth=3, max_features=sqrt, min_samples_leaf=4, n_estimators=150; total time=   0.2s\n",
            "[CV] END learning_rate=0.1, max_depth=3, max_features=sqrt, min_samples_leaf=4, n_estimators=150; total time=   0.2s\n",
            "[CV] END learning_rate=0.1, max_depth=3, max_features=sqrt, min_samples_leaf=4, n_estimators=150; total time=   0.2s\n",
            "[CV] END learning_rate=0.1, max_depth=3, max_features=log2, min_samples_leaf=1, n_estimators=50; total time=   0.1s\n",
            "[CV] END learning_rate=0.1, max_depth=3, max_features=log2, min_samples_leaf=1, n_estimators=50; total time=   0.1s\n",
            "[CV] END learning_rate=0.1, max_depth=3, max_features=log2, min_samples_leaf=1, n_estimators=50; total time=   0.1s\n",
            "[CV] END learning_rate=0.1, max_depth=3, max_features=log2, min_samples_leaf=1, n_estimators=50; total time=   0.1s\n",
            "[CV] END learning_rate=0.1, max_depth=3, max_features=log2, min_samples_leaf=1, n_estimators=50; total time=   0.1s\n",
            "[CV] END learning_rate=0.1, max_depth=3, max_features=log2, min_samples_leaf=1, n_estimators=100; total time=   0.1s\n",
            "[CV] END learning_rate=0.1, max_depth=3, max_features=log2, min_samples_leaf=1, n_estimators=100; total time=   0.1s\n",
            "[CV] END learning_rate=0.1, max_depth=3, max_features=log2, min_samples_leaf=1, n_estimators=100; total time=   0.1s\n",
            "[CV] END learning_rate=0.1, max_depth=3, max_features=log2, min_samples_leaf=1, n_estimators=100; total time=   0.1s\n",
            "[CV] END learning_rate=0.1, max_depth=3, max_features=log2, min_samples_leaf=1, n_estimators=100; total time=   0.1s\n",
            "[CV] END learning_rate=0.1, max_depth=3, max_features=log2, min_samples_leaf=1, n_estimators=150; total time=   0.2s\n",
            "[CV] END learning_rate=0.1, max_depth=3, max_features=log2, min_samples_leaf=1, n_estimators=150; total time=   0.2s\n",
            "[CV] END learning_rate=0.1, max_depth=3, max_features=log2, min_samples_leaf=1, n_estimators=150; total time=   0.2s\n",
            "[CV] END learning_rate=0.1, max_depth=3, max_features=log2, min_samples_leaf=1, n_estimators=150; total time=   0.2s\n",
            "[CV] END learning_rate=0.1, max_depth=3, max_features=log2, min_samples_leaf=1, n_estimators=150; total time=   0.2s\n",
            "[CV] END learning_rate=0.1, max_depth=3, max_features=log2, min_samples_leaf=2, n_estimators=50; total time=   0.1s\n",
            "[CV] END learning_rate=0.1, max_depth=3, max_features=log2, min_samples_leaf=2, n_estimators=50; total time=   0.1s\n",
            "[CV] END learning_rate=0.1, max_depth=3, max_features=log2, min_samples_leaf=2, n_estimators=50; total time=   0.1s\n",
            "[CV] END learning_rate=0.1, max_depth=3, max_features=log2, min_samples_leaf=2, n_estimators=50; total time=   0.1s\n",
            "[CV] END learning_rate=0.1, max_depth=3, max_features=log2, min_samples_leaf=2, n_estimators=50; total time=   0.1s\n",
            "[CV] END learning_rate=0.1, max_depth=3, max_features=log2, min_samples_leaf=2, n_estimators=100; total time=   0.1s\n",
            "[CV] END learning_rate=0.1, max_depth=3, max_features=log2, min_samples_leaf=2, n_estimators=100; total time=   0.1s\n",
            "[CV] END learning_rate=0.1, max_depth=3, max_features=log2, min_samples_leaf=2, n_estimators=100; total time=   0.1s\n",
            "[CV] END learning_rate=0.1, max_depth=3, max_features=log2, min_samples_leaf=2, n_estimators=100; total time=   0.1s\n",
            "[CV] END learning_rate=0.1, max_depth=3, max_features=log2, min_samples_leaf=2, n_estimators=100; total time=   0.1s\n",
            "[CV] END learning_rate=0.1, max_depth=3, max_features=log2, min_samples_leaf=2, n_estimators=150; total time=   0.2s\n",
            "[CV] END learning_rate=0.1, max_depth=3, max_features=log2, min_samples_leaf=2, n_estimators=150; total time=   0.2s\n",
            "[CV] END learning_rate=0.1, max_depth=3, max_features=log2, min_samples_leaf=2, n_estimators=150; total time=   0.2s\n",
            "[CV] END learning_rate=0.1, max_depth=3, max_features=log2, min_samples_leaf=2, n_estimators=150; total time=   0.2s\n",
            "[CV] END learning_rate=0.1, max_depth=3, max_features=log2, min_samples_leaf=2, n_estimators=150; total time=   0.2s\n",
            "[CV] END learning_rate=0.1, max_depth=3, max_features=log2, min_samples_leaf=4, n_estimators=50; total time=   0.0s\n",
            "[CV] END learning_rate=0.1, max_depth=3, max_features=log2, min_samples_leaf=4, n_estimators=50; total time=   0.1s\n",
            "[CV] END learning_rate=0.1, max_depth=3, max_features=log2, min_samples_leaf=4, n_estimators=50; total time=   0.0s\n",
            "[CV] END learning_rate=0.1, max_depth=3, max_features=log2, min_samples_leaf=4, n_estimators=50; total time=   0.0s\n",
            "[CV] END learning_rate=0.1, max_depth=3, max_features=log2, min_samples_leaf=4, n_estimators=50; total time=   0.0s\n",
            "[CV] END learning_rate=0.1, max_depth=3, max_features=log2, min_samples_leaf=4, n_estimators=100; total time=   0.1s\n",
            "[CV] END learning_rate=0.1, max_depth=3, max_features=log2, min_samples_leaf=4, n_estimators=100; total time=   0.1s\n",
            "[CV] END learning_rate=0.1, max_depth=3, max_features=log2, min_samples_leaf=4, n_estimators=100; total time=   0.1s\n",
            "[CV] END learning_rate=0.1, max_depth=3, max_features=log2, min_samples_leaf=4, n_estimators=100; total time=   0.1s\n",
            "[CV] END learning_rate=0.1, max_depth=3, max_features=log2, min_samples_leaf=4, n_estimators=100; total time=   0.1s\n",
            "[CV] END learning_rate=0.1, max_depth=3, max_features=log2, min_samples_leaf=4, n_estimators=150; total time=   0.1s\n",
            "[CV] END learning_rate=0.1, max_depth=3, max_features=log2, min_samples_leaf=4, n_estimators=150; total time=   0.1s\n",
            "[CV] END learning_rate=0.1, max_depth=3, max_features=log2, min_samples_leaf=4, n_estimators=150; total time=   0.1s\n",
            "[CV] END learning_rate=0.1, max_depth=3, max_features=log2, min_samples_leaf=4, n_estimators=150; total time=   0.1s\n",
            "[CV] END learning_rate=0.1, max_depth=3, max_features=log2, min_samples_leaf=4, n_estimators=150; total time=   0.1s\n",
            "[CV] END learning_rate=0.1, max_depth=5, max_features=None, min_samples_leaf=1, n_estimators=50; total time=   0.1s\n",
            "[CV] END learning_rate=0.1, max_depth=5, max_features=None, min_samples_leaf=1, n_estimators=50; total time=   0.1s\n",
            "[CV] END learning_rate=0.1, max_depth=5, max_features=None, min_samples_leaf=1, n_estimators=50; total time=   0.1s\n",
            "[CV] END learning_rate=0.1, max_depth=5, max_features=None, min_samples_leaf=1, n_estimators=50; total time=   0.1s\n",
            "[CV] END learning_rate=0.1, max_depth=5, max_features=None, min_samples_leaf=1, n_estimators=50; total time=   0.1s\n",
            "[CV] END learning_rate=0.1, max_depth=5, max_features=None, min_samples_leaf=1, n_estimators=100; total time=   0.2s\n",
            "[CV] END learning_rate=0.1, max_depth=5, max_features=None, min_samples_leaf=1, n_estimators=100; total time=   0.2s\n",
            "[CV] END learning_rate=0.1, max_depth=5, max_features=None, min_samples_leaf=1, n_estimators=100; total time=   0.2s\n",
            "[CV] END learning_rate=0.1, max_depth=5, max_features=None, min_samples_leaf=1, n_estimators=100; total time=   0.2s\n",
            "[CV] END learning_rate=0.1, max_depth=5, max_features=None, min_samples_leaf=1, n_estimators=100; total time=   0.2s\n",
            "[CV] END learning_rate=0.1, max_depth=5, max_features=None, min_samples_leaf=1, n_estimators=150; total time=   0.3s\n",
            "[CV] END learning_rate=0.1, max_depth=5, max_features=None, min_samples_leaf=1, n_estimators=150; total time=   0.3s\n",
            "[CV] END learning_rate=0.1, max_depth=5, max_features=None, min_samples_leaf=1, n_estimators=150; total time=   0.3s\n",
            "[CV] END learning_rate=0.1, max_depth=5, max_features=None, min_samples_leaf=1, n_estimators=150; total time=   0.4s\n",
            "[CV] END learning_rate=0.1, max_depth=5, max_features=None, min_samples_leaf=1, n_estimators=150; total time=   0.4s\n",
            "[CV] END learning_rate=0.1, max_depth=5, max_features=None, min_samples_leaf=2, n_estimators=50; total time=   0.1s\n",
            "[CV] END learning_rate=0.1, max_depth=5, max_features=None, min_samples_leaf=2, n_estimators=50; total time=   0.2s\n",
            "[CV] END learning_rate=0.1, max_depth=5, max_features=None, min_samples_leaf=2, n_estimators=50; total time=   0.1s\n",
            "[CV] END learning_rate=0.1, max_depth=5, max_features=None, min_samples_leaf=2, n_estimators=50; total time=   0.1s\n",
            "[CV] END learning_rate=0.1, max_depth=5, max_features=None, min_samples_leaf=2, n_estimators=50; total time=   0.1s\n",
            "[CV] END learning_rate=0.1, max_depth=5, max_features=None, min_samples_leaf=2, n_estimators=100; total time=   0.3s\n",
            "[CV] END learning_rate=0.1, max_depth=5, max_features=None, min_samples_leaf=2, n_estimators=100; total time=   0.2s\n",
            "[CV] END learning_rate=0.1, max_depth=5, max_features=None, min_samples_leaf=2, n_estimators=100; total time=   0.2s\n",
            "[CV] END learning_rate=0.1, max_depth=5, max_features=None, min_samples_leaf=2, n_estimators=100; total time=   0.2s\n",
            "[CV] END learning_rate=0.1, max_depth=5, max_features=None, min_samples_leaf=2, n_estimators=100; total time=   0.2s\n",
            "[CV] END learning_rate=0.1, max_depth=5, max_features=None, min_samples_leaf=2, n_estimators=150; total time=   0.3s\n",
            "[CV] END learning_rate=0.1, max_depth=5, max_features=None, min_samples_leaf=2, n_estimators=150; total time=   0.3s\n",
            "[CV] END learning_rate=0.1, max_depth=5, max_features=None, min_samples_leaf=2, n_estimators=150; total time=   0.3s\n",
            "[CV] END learning_rate=0.1, max_depth=5, max_features=None, min_samples_leaf=2, n_estimators=150; total time=   0.3s\n",
            "[CV] END learning_rate=0.1, max_depth=5, max_features=None, min_samples_leaf=2, n_estimators=150; total time=   0.3s\n",
            "[CV] END learning_rate=0.1, max_depth=5, max_features=None, min_samples_leaf=4, n_estimators=50; total time=   0.1s\n",
            "[CV] END learning_rate=0.1, max_depth=5, max_features=None, min_samples_leaf=4, n_estimators=50; total time=   0.1s\n",
            "[CV] END learning_rate=0.1, max_depth=5, max_features=None, min_samples_leaf=4, n_estimators=50; total time=   0.1s\n",
            "[CV] END learning_rate=0.1, max_depth=5, max_features=None, min_samples_leaf=4, n_estimators=50; total time=   0.1s\n",
            "[CV] END learning_rate=0.1, max_depth=5, max_features=None, min_samples_leaf=4, n_estimators=50; total time=   0.1s\n",
            "[CV] END learning_rate=0.1, max_depth=5, max_features=None, min_samples_leaf=4, n_estimators=100; total time=   0.2s\n",
            "[CV] END learning_rate=0.1, max_depth=5, max_features=None, min_samples_leaf=4, n_estimators=100; total time=   0.2s\n",
            "[CV] END learning_rate=0.1, max_depth=5, max_features=None, min_samples_leaf=4, n_estimators=100; total time=   0.2s\n",
            "[CV] END learning_rate=0.1, max_depth=5, max_features=None, min_samples_leaf=4, n_estimators=100; total time=   0.2s\n",
            "[CV] END learning_rate=0.1, max_depth=5, max_features=None, min_samples_leaf=4, n_estimators=100; total time=   0.2s\n",
            "[CV] END learning_rate=0.1, max_depth=5, max_features=None, min_samples_leaf=4, n_estimators=150; total time=   0.2s\n",
            "[CV] END learning_rate=0.1, max_depth=5, max_features=None, min_samples_leaf=4, n_estimators=150; total time=   0.2s\n",
            "[CV] END learning_rate=0.1, max_depth=5, max_features=None, min_samples_leaf=4, n_estimators=150; total time=   0.3s\n",
            "[CV] END learning_rate=0.1, max_depth=5, max_features=None, min_samples_leaf=4, n_estimators=150; total time=   0.2s\n",
            "[CV] END learning_rate=0.1, max_depth=5, max_features=None, min_samples_leaf=4, n_estimators=150; total time=   0.2s\n",
            "[CV] END learning_rate=0.1, max_depth=5, max_features=sqrt, min_samples_leaf=1, n_estimators=50; total time=   0.1s\n",
            "[CV] END learning_rate=0.1, max_depth=5, max_features=sqrt, min_samples_leaf=1, n_estimators=50; total time=   0.1s\n",
            "[CV] END learning_rate=0.1, max_depth=5, max_features=sqrt, min_samples_leaf=1, n_estimators=50; total time=   0.1s\n",
            "[CV] END learning_rate=0.1, max_depth=5, max_features=sqrt, min_samples_leaf=1, n_estimators=50; total time=   0.1s\n",
            "[CV] END learning_rate=0.1, max_depth=5, max_features=sqrt, min_samples_leaf=1, n_estimators=50; total time=   0.1s\n",
            "[CV] END learning_rate=0.1, max_depth=5, max_features=sqrt, min_samples_leaf=1, n_estimators=100; total time=   0.2s\n",
            "[CV] END learning_rate=0.1, max_depth=5, max_features=sqrt, min_samples_leaf=1, n_estimators=100; total time=   0.2s\n",
            "[CV] END learning_rate=0.1, max_depth=5, max_features=sqrt, min_samples_leaf=1, n_estimators=100; total time=   0.2s\n",
            "[CV] END learning_rate=0.1, max_depth=5, max_features=sqrt, min_samples_leaf=1, n_estimators=100; total time=   0.2s\n",
            "[CV] END learning_rate=0.1, max_depth=5, max_features=sqrt, min_samples_leaf=1, n_estimators=100; total time=   0.2s\n",
            "[CV] END learning_rate=0.1, max_depth=5, max_features=sqrt, min_samples_leaf=1, n_estimators=150; total time=   0.3s\n",
            "[CV] END learning_rate=0.1, max_depth=5, max_features=sqrt, min_samples_leaf=1, n_estimators=150; total time=   0.3s\n",
            "[CV] END learning_rate=0.1, max_depth=5, max_features=sqrt, min_samples_leaf=1, n_estimators=150; total time=   0.3s\n",
            "[CV] END learning_rate=0.1, max_depth=5, max_features=sqrt, min_samples_leaf=1, n_estimators=150; total time=   0.3s\n",
            "[CV] END learning_rate=0.1, max_depth=5, max_features=sqrt, min_samples_leaf=1, n_estimators=150; total time=   0.3s\n",
            "[CV] END learning_rate=0.1, max_depth=5, max_features=sqrt, min_samples_leaf=2, n_estimators=50; total time=   0.1s\n",
            "[CV] END learning_rate=0.1, max_depth=5, max_features=sqrt, min_samples_leaf=2, n_estimators=50; total time=   0.1s\n",
            "[CV] END learning_rate=0.1, max_depth=5, max_features=sqrt, min_samples_leaf=2, n_estimators=50; total time=   0.1s\n",
            "[CV] END learning_rate=0.1, max_depth=5, max_features=sqrt, min_samples_leaf=2, n_estimators=50; total time=   0.1s\n",
            "[CV] END learning_rate=0.1, max_depth=5, max_features=sqrt, min_samples_leaf=2, n_estimators=50; total time=   0.1s\n",
            "[CV] END learning_rate=0.1, max_depth=5, max_features=sqrt, min_samples_leaf=2, n_estimators=100; total time=   0.2s\n",
            "[CV] END learning_rate=0.1, max_depth=5, max_features=sqrt, min_samples_leaf=2, n_estimators=100; total time=   0.2s\n",
            "[CV] END learning_rate=0.1, max_depth=5, max_features=sqrt, min_samples_leaf=2, n_estimators=100; total time=   0.2s\n",
            "[CV] END learning_rate=0.1, max_depth=5, max_features=sqrt, min_samples_leaf=2, n_estimators=100; total time=   0.2s\n",
            "[CV] END learning_rate=0.1, max_depth=5, max_features=sqrt, min_samples_leaf=2, n_estimators=100; total time=   0.2s\n",
            "[CV] END learning_rate=0.1, max_depth=5, max_features=sqrt, min_samples_leaf=2, n_estimators=150; total time=   0.3s\n",
            "[CV] END learning_rate=0.1, max_depth=5, max_features=sqrt, min_samples_leaf=2, n_estimators=150; total time=   0.3s\n",
            "[CV] END learning_rate=0.1, max_depth=5, max_features=sqrt, min_samples_leaf=2, n_estimators=150; total time=   0.3s\n",
            "[CV] END learning_rate=0.1, max_depth=5, max_features=sqrt, min_samples_leaf=2, n_estimators=150; total time=   0.3s\n",
            "[CV] END learning_rate=0.1, max_depth=5, max_features=sqrt, min_samples_leaf=2, n_estimators=150; total time=   0.3s\n",
            "[CV] END learning_rate=0.1, max_depth=5, max_features=sqrt, min_samples_leaf=4, n_estimators=50; total time=   0.1s\n",
            "[CV] END learning_rate=0.1, max_depth=5, max_features=sqrt, min_samples_leaf=4, n_estimators=50; total time=   0.1s\n",
            "[CV] END learning_rate=0.1, max_depth=5, max_features=sqrt, min_samples_leaf=4, n_estimators=50; total time=   0.1s\n",
            "[CV] END learning_rate=0.1, max_depth=5, max_features=sqrt, min_samples_leaf=4, n_estimators=50; total time=   0.1s\n",
            "[CV] END learning_rate=0.1, max_depth=5, max_features=sqrt, min_samples_leaf=4, n_estimators=50; total time=   0.1s\n",
            "[CV] END learning_rate=0.1, max_depth=5, max_features=sqrt, min_samples_leaf=4, n_estimators=100; total time=   0.2s\n",
            "[CV] END learning_rate=0.1, max_depth=5, max_features=sqrt, min_samples_leaf=4, n_estimators=100; total time=   0.1s\n",
            "[CV] END learning_rate=0.1, max_depth=5, max_features=sqrt, min_samples_leaf=4, n_estimators=100; total time=   0.1s\n",
            "[CV] END learning_rate=0.1, max_depth=5, max_features=sqrt, min_samples_leaf=4, n_estimators=100; total time=   0.1s\n",
            "[CV] END learning_rate=0.1, max_depth=5, max_features=sqrt, min_samples_leaf=4, n_estimators=100; total time=   0.1s\n",
            "[CV] END learning_rate=0.1, max_depth=5, max_features=sqrt, min_samples_leaf=4, n_estimators=150; total time=   0.2s\n",
            "[CV] END learning_rate=0.1, max_depth=5, max_features=sqrt, min_samples_leaf=4, n_estimators=150; total time=   0.2s\n",
            "[CV] END learning_rate=0.1, max_depth=5, max_features=sqrt, min_samples_leaf=4, n_estimators=150; total time=   0.2s\n",
            "[CV] END learning_rate=0.1, max_depth=5, max_features=sqrt, min_samples_leaf=4, n_estimators=150; total time=   0.2s\n",
            "[CV] END learning_rate=0.1, max_depth=5, max_features=sqrt, min_samples_leaf=4, n_estimators=150; total time=   0.2s\n",
            "[CV] END learning_rate=0.1, max_depth=5, max_features=log2, min_samples_leaf=1, n_estimators=50; total time=   0.1s\n",
            "[CV] END learning_rate=0.1, max_depth=5, max_features=log2, min_samples_leaf=1, n_estimators=50; total time=   0.1s\n",
            "[CV] END learning_rate=0.1, max_depth=5, max_features=log2, min_samples_leaf=1, n_estimators=50; total time=   0.1s\n",
            "[CV] END learning_rate=0.1, max_depth=5, max_features=log2, min_samples_leaf=1, n_estimators=50; total time=   0.1s\n",
            "[CV] END learning_rate=0.1, max_depth=5, max_features=log2, min_samples_leaf=1, n_estimators=50; total time=   0.1s\n",
            "[CV] END learning_rate=0.1, max_depth=5, max_features=log2, min_samples_leaf=1, n_estimators=100; total time=   0.1s\n",
            "[CV] END learning_rate=0.1, max_depth=5, max_features=log2, min_samples_leaf=1, n_estimators=100; total time=   0.1s\n",
            "[CV] END learning_rate=0.1, max_depth=5, max_features=log2, min_samples_leaf=1, n_estimators=100; total time=   0.1s\n",
            "[CV] END learning_rate=0.1, max_depth=5, max_features=log2, min_samples_leaf=1, n_estimators=100; total time=   0.1s\n",
            "[CV] END learning_rate=0.1, max_depth=5, max_features=log2, min_samples_leaf=1, n_estimators=100; total time=   0.1s\n",
            "[CV] END learning_rate=0.1, max_depth=5, max_features=log2, min_samples_leaf=1, n_estimators=150; total time=   0.2s\n",
            "[CV] END learning_rate=0.1, max_depth=5, max_features=log2, min_samples_leaf=1, n_estimators=150; total time=   0.2s\n",
            "[CV] END learning_rate=0.1, max_depth=5, max_features=log2, min_samples_leaf=1, n_estimators=150; total time=   0.2s\n",
            "[CV] END learning_rate=0.1, max_depth=5, max_features=log2, min_samples_leaf=1, n_estimators=150; total time=   0.2s\n",
            "[CV] END learning_rate=0.1, max_depth=5, max_features=log2, min_samples_leaf=1, n_estimators=150; total time=   0.2s\n",
            "[CV] END learning_rate=0.1, max_depth=5, max_features=log2, min_samples_leaf=2, n_estimators=50; total time=   0.1s\n",
            "[CV] END learning_rate=0.1, max_depth=5, max_features=log2, min_samples_leaf=2, n_estimators=50; total time=   0.1s\n",
            "[CV] END learning_rate=0.1, max_depth=5, max_features=log2, min_samples_leaf=2, n_estimators=50; total time=   0.1s\n",
            "[CV] END learning_rate=0.1, max_depth=5, max_features=log2, min_samples_leaf=2, n_estimators=50; total time=   0.1s\n",
            "[CV] END learning_rate=0.1, max_depth=5, max_features=log2, min_samples_leaf=2, n_estimators=50; total time=   0.1s\n",
            "[CV] END learning_rate=0.1, max_depth=5, max_features=log2, min_samples_leaf=2, n_estimators=100; total time=   0.1s\n",
            "[CV] END learning_rate=0.1, max_depth=5, max_features=log2, min_samples_leaf=2, n_estimators=100; total time=   0.1s\n",
            "[CV] END learning_rate=0.1, max_depth=5, max_features=log2, min_samples_leaf=2, n_estimators=100; total time=   0.1s\n",
            "[CV] END learning_rate=0.1, max_depth=5, max_features=log2, min_samples_leaf=2, n_estimators=100; total time=   0.1s\n",
            "[CV] END learning_rate=0.1, max_depth=5, max_features=log2, min_samples_leaf=2, n_estimators=100; total time=   0.1s\n",
            "[CV] END learning_rate=0.1, max_depth=5, max_features=log2, min_samples_leaf=2, n_estimators=150; total time=   0.2s\n",
            "[CV] END learning_rate=0.1, max_depth=5, max_features=log2, min_samples_leaf=2, n_estimators=150; total time=   0.2s\n",
            "[CV] END learning_rate=0.1, max_depth=5, max_features=log2, min_samples_leaf=2, n_estimators=150; total time=   0.2s\n",
            "[CV] END learning_rate=0.1, max_depth=5, max_features=log2, min_samples_leaf=2, n_estimators=150; total time=   0.2s\n",
            "[CV] END learning_rate=0.1, max_depth=5, max_features=log2, min_samples_leaf=2, n_estimators=150; total time=   0.2s\n",
            "[CV] END learning_rate=0.1, max_depth=5, max_features=log2, min_samples_leaf=4, n_estimators=50; total time=   0.1s\n",
            "[CV] END learning_rate=0.1, max_depth=5, max_features=log2, min_samples_leaf=4, n_estimators=50; total time=   0.1s\n",
            "[CV] END learning_rate=0.1, max_depth=5, max_features=log2, min_samples_leaf=4, n_estimators=50; total time=   0.1s\n",
            "[CV] END learning_rate=0.1, max_depth=5, max_features=log2, min_samples_leaf=4, n_estimators=50; total time=   0.1s\n",
            "[CV] END learning_rate=0.1, max_depth=5, max_features=log2, min_samples_leaf=4, n_estimators=50; total time=   0.1s\n",
            "[CV] END learning_rate=0.1, max_depth=5, max_features=log2, min_samples_leaf=4, n_estimators=100; total time=   0.1s\n",
            "[CV] END learning_rate=0.1, max_depth=5, max_features=log2, min_samples_leaf=4, n_estimators=100; total time=   0.1s\n",
            "[CV] END learning_rate=0.1, max_depth=5, max_features=log2, min_samples_leaf=4, n_estimators=100; total time=   0.1s\n",
            "[CV] END learning_rate=0.1, max_depth=5, max_features=log2, min_samples_leaf=4, n_estimators=100; total time=   0.1s\n",
            "[CV] END learning_rate=0.1, max_depth=5, max_features=log2, min_samples_leaf=4, n_estimators=100; total time=   0.1s\n",
            "[CV] END learning_rate=0.1, max_depth=5, max_features=log2, min_samples_leaf=4, n_estimators=150; total time=   0.2s\n",
            "[CV] END learning_rate=0.1, max_depth=5, max_features=log2, min_samples_leaf=4, n_estimators=150; total time=   0.2s\n",
            "[CV] END learning_rate=0.1, max_depth=5, max_features=log2, min_samples_leaf=4, n_estimators=150; total time=   0.2s\n",
            "[CV] END learning_rate=0.1, max_depth=5, max_features=log2, min_samples_leaf=4, n_estimators=150; total time=   0.2s\n",
            "[CV] END learning_rate=0.1, max_depth=5, max_features=log2, min_samples_leaf=4, n_estimators=150; total time=   0.2s\n",
            "[CV] END learning_rate=0.1, max_depth=7, max_features=None, min_samples_leaf=1, n_estimators=50; total time=   0.1s\n",
            "[CV] END learning_rate=0.1, max_depth=7, max_features=None, min_samples_leaf=1, n_estimators=50; total time=   0.1s\n",
            "[CV] END learning_rate=0.1, max_depth=7, max_features=None, min_samples_leaf=1, n_estimators=50; total time=   0.1s\n",
            "[CV] END learning_rate=0.1, max_depth=7, max_features=None, min_samples_leaf=1, n_estimators=50; total time=   0.1s\n",
            "[CV] END learning_rate=0.1, max_depth=7, max_features=None, min_samples_leaf=1, n_estimators=50; total time=   0.1s\n",
            "[CV] END learning_rate=0.1, max_depth=7, max_features=None, min_samples_leaf=1, n_estimators=100; total time=   0.3s\n",
            "[CV] END learning_rate=0.1, max_depth=7, max_features=None, min_samples_leaf=1, n_estimators=100; total time=   0.3s\n",
            "[CV] END learning_rate=0.1, max_depth=7, max_features=None, min_samples_leaf=1, n_estimators=100; total time=   0.3s\n",
            "[CV] END learning_rate=0.1, max_depth=7, max_features=None, min_samples_leaf=1, n_estimators=100; total time=   0.3s\n",
            "[CV] END learning_rate=0.1, max_depth=7, max_features=None, min_samples_leaf=1, n_estimators=100; total time=   0.3s\n",
            "[CV] END learning_rate=0.1, max_depth=7, max_features=None, min_samples_leaf=1, n_estimators=150; total time=   0.4s\n",
            "[CV] END learning_rate=0.1, max_depth=7, max_features=None, min_samples_leaf=1, n_estimators=150; total time=   0.5s\n",
            "[CV] END learning_rate=0.1, max_depth=7, max_features=None, min_samples_leaf=1, n_estimators=150; total time=   0.7s\n",
            "[CV] END learning_rate=0.1, max_depth=7, max_features=None, min_samples_leaf=1, n_estimators=150; total time=   0.6s\n",
            "[CV] END learning_rate=0.1, max_depth=7, max_features=None, min_samples_leaf=1, n_estimators=150; total time=   0.6s\n",
            "[CV] END learning_rate=0.1, max_depth=7, max_features=None, min_samples_leaf=2, n_estimators=50; total time=   0.2s\n",
            "[CV] END learning_rate=0.1, max_depth=7, max_features=None, min_samples_leaf=2, n_estimators=50; total time=   0.2s\n",
            "[CV] END learning_rate=0.1, max_depth=7, max_features=None, min_samples_leaf=2, n_estimators=50; total time=   0.2s\n",
            "[CV] END learning_rate=0.1, max_depth=7, max_features=None, min_samples_leaf=2, n_estimators=50; total time=   0.2s\n",
            "[CV] END learning_rate=0.1, max_depth=7, max_features=None, min_samples_leaf=2, n_estimators=50; total time=   0.2s\n",
            "[CV] END learning_rate=0.1, max_depth=7, max_features=None, min_samples_leaf=2, n_estimators=100; total time=   0.4s\n",
            "[CV] END learning_rate=0.1, max_depth=7, max_features=None, min_samples_leaf=2, n_estimators=100; total time=   0.4s\n",
            "[CV] END learning_rate=0.1, max_depth=7, max_features=None, min_samples_leaf=2, n_estimators=100; total time=   0.4s\n",
            "[CV] END learning_rate=0.1, max_depth=7, max_features=None, min_samples_leaf=2, n_estimators=100; total time=   0.4s\n",
            "[CV] END learning_rate=0.1, max_depth=7, max_features=None, min_samples_leaf=2, n_estimators=100; total time=   0.4s\n",
            "[CV] END learning_rate=0.1, max_depth=7, max_features=None, min_samples_leaf=2, n_estimators=150; total time=   0.6s\n",
            "[CV] END learning_rate=0.1, max_depth=7, max_features=None, min_samples_leaf=2, n_estimators=150; total time=   0.6s\n",
            "[CV] END learning_rate=0.1, max_depth=7, max_features=None, min_samples_leaf=2, n_estimators=150; total time=   0.5s\n",
            "[CV] END learning_rate=0.1, max_depth=7, max_features=None, min_samples_leaf=2, n_estimators=150; total time=   0.5s\n",
            "[CV] END learning_rate=0.1, max_depth=7, max_features=None, min_samples_leaf=2, n_estimators=150; total time=   0.4s\n",
            "[CV] END learning_rate=0.1, max_depth=7, max_features=None, min_samples_leaf=4, n_estimators=50; total time=   0.1s\n",
            "[CV] END learning_rate=0.1, max_depth=7, max_features=None, min_samples_leaf=4, n_estimators=50; total time=   0.1s\n",
            "[CV] END learning_rate=0.1, max_depth=7, max_features=None, min_samples_leaf=4, n_estimators=50; total time=   0.1s\n",
            "[CV] END learning_rate=0.1, max_depth=7, max_features=None, min_samples_leaf=4, n_estimators=50; total time=   0.1s\n",
            "[CV] END learning_rate=0.1, max_depth=7, max_features=None, min_samples_leaf=4, n_estimators=50; total time=   0.1s\n",
            "[CV] END learning_rate=0.1, max_depth=7, max_features=None, min_samples_leaf=4, n_estimators=100; total time=   0.2s\n",
            "[CV] END learning_rate=0.1, max_depth=7, max_features=None, min_samples_leaf=4, n_estimators=100; total time=   0.2s\n",
            "[CV] END learning_rate=0.1, max_depth=7, max_features=None, min_samples_leaf=4, n_estimators=100; total time=   0.2s\n",
            "[CV] END learning_rate=0.1, max_depth=7, max_features=None, min_samples_leaf=4, n_estimators=100; total time=   0.2s\n",
            "[CV] END learning_rate=0.1, max_depth=7, max_features=None, min_samples_leaf=4, n_estimators=100; total time=   0.2s\n",
            "[CV] END learning_rate=0.1, max_depth=7, max_features=None, min_samples_leaf=4, n_estimators=150; total time=   0.3s\n",
            "[CV] END learning_rate=0.1, max_depth=7, max_features=None, min_samples_leaf=4, n_estimators=150; total time=   0.3s\n",
            "[CV] END learning_rate=0.1, max_depth=7, max_features=None, min_samples_leaf=4, n_estimators=150; total time=   0.3s\n",
            "[CV] END learning_rate=0.1, max_depth=7, max_features=None, min_samples_leaf=4, n_estimators=150; total time=   0.3s\n",
            "[CV] END learning_rate=0.1, max_depth=7, max_features=None, min_samples_leaf=4, n_estimators=150; total time=   0.3s\n",
            "[CV] END learning_rate=0.1, max_depth=7, max_features=sqrt, min_samples_leaf=1, n_estimators=50; total time=   0.1s\n",
            "[CV] END learning_rate=0.1, max_depth=7, max_features=sqrt, min_samples_leaf=1, n_estimators=50; total time=   0.1s\n",
            "[CV] END learning_rate=0.1, max_depth=7, max_features=sqrt, min_samples_leaf=1, n_estimators=50; total time=   0.1s\n",
            "[CV] END learning_rate=0.1, max_depth=7, max_features=sqrt, min_samples_leaf=1, n_estimators=50; total time=   0.1s\n",
            "[CV] END learning_rate=0.1, max_depth=7, max_features=sqrt, min_samples_leaf=1, n_estimators=50; total time=   0.1s\n",
            "[CV] END learning_rate=0.1, max_depth=7, max_features=sqrt, min_samples_leaf=1, n_estimators=100; total time=   0.2s\n",
            "[CV] END learning_rate=0.1, max_depth=7, max_features=sqrt, min_samples_leaf=1, n_estimators=100; total time=   0.2s\n",
            "[CV] END learning_rate=0.1, max_depth=7, max_features=sqrt, min_samples_leaf=1, n_estimators=100; total time=   0.2s\n",
            "[CV] END learning_rate=0.1, max_depth=7, max_features=sqrt, min_samples_leaf=1, n_estimators=100; total time=   0.2s\n",
            "[CV] END learning_rate=0.1, max_depth=7, max_features=sqrt, min_samples_leaf=1, n_estimators=100; total time=   0.3s\n",
            "[CV] END learning_rate=0.1, max_depth=7, max_features=sqrt, min_samples_leaf=1, n_estimators=150; total time=   0.3s\n",
            "[CV] END learning_rate=0.1, max_depth=7, max_features=sqrt, min_samples_leaf=1, n_estimators=150; total time=   0.4s\n",
            "[CV] END learning_rate=0.1, max_depth=7, max_features=sqrt, min_samples_leaf=1, n_estimators=150; total time=   0.4s\n",
            "[CV] END learning_rate=0.1, max_depth=7, max_features=sqrt, min_samples_leaf=1, n_estimators=150; total time=   0.4s\n",
            "[CV] END learning_rate=0.1, max_depth=7, max_features=sqrt, min_samples_leaf=1, n_estimators=150; total time=   0.4s\n",
            "[CV] END learning_rate=0.1, max_depth=7, max_features=sqrt, min_samples_leaf=2, n_estimators=50; total time=   0.1s\n",
            "[CV] END learning_rate=0.1, max_depth=7, max_features=sqrt, min_samples_leaf=2, n_estimators=50; total time=   0.1s\n",
            "[CV] END learning_rate=0.1, max_depth=7, max_features=sqrt, min_samples_leaf=2, n_estimators=50; total time=   0.1s\n",
            "[CV] END learning_rate=0.1, max_depth=7, max_features=sqrt, min_samples_leaf=2, n_estimators=50; total time=   0.1s\n",
            "[CV] END learning_rate=0.1, max_depth=7, max_features=sqrt, min_samples_leaf=2, n_estimators=50; total time=   0.1s\n",
            "[CV] END learning_rate=0.1, max_depth=7, max_features=sqrt, min_samples_leaf=2, n_estimators=100; total time=   0.2s\n",
            "[CV] END learning_rate=0.1, max_depth=7, max_features=sqrt, min_samples_leaf=2, n_estimators=100; total time=   0.2s\n",
            "[CV] END learning_rate=0.1, max_depth=7, max_features=sqrt, min_samples_leaf=2, n_estimators=100; total time=   0.2s\n",
            "[CV] END learning_rate=0.1, max_depth=7, max_features=sqrt, min_samples_leaf=2, n_estimators=100; total time=   0.2s\n",
            "[CV] END learning_rate=0.1, max_depth=7, max_features=sqrt, min_samples_leaf=2, n_estimators=100; total time=   0.2s\n",
            "[CV] END learning_rate=0.1, max_depth=7, max_features=sqrt, min_samples_leaf=2, n_estimators=150; total time=   0.3s\n",
            "[CV] END learning_rate=0.1, max_depth=7, max_features=sqrt, min_samples_leaf=2, n_estimators=150; total time=   0.3s\n",
            "[CV] END learning_rate=0.1, max_depth=7, max_features=sqrt, min_samples_leaf=2, n_estimators=150; total time=   0.3s\n",
            "[CV] END learning_rate=0.1, max_depth=7, max_features=sqrt, min_samples_leaf=2, n_estimators=150; total time=   0.3s\n",
            "[CV] END learning_rate=0.1, max_depth=7, max_features=sqrt, min_samples_leaf=2, n_estimators=150; total time=   0.5s\n",
            "[CV] END learning_rate=0.1, max_depth=7, max_features=sqrt, min_samples_leaf=4, n_estimators=50; total time=   0.1s\n",
            "[CV] END learning_rate=0.1, max_depth=7, max_features=sqrt, min_samples_leaf=4, n_estimators=50; total time=   0.1s\n",
            "[CV] END learning_rate=0.1, max_depth=7, max_features=sqrt, min_samples_leaf=4, n_estimators=50; total time=   0.1s\n",
            "[CV] END learning_rate=0.1, max_depth=7, max_features=sqrt, min_samples_leaf=4, n_estimators=50; total time=   0.1s\n",
            "[CV] END learning_rate=0.1, max_depth=7, max_features=sqrt, min_samples_leaf=4, n_estimators=50; total time=   0.1s\n",
            "[CV] END learning_rate=0.1, max_depth=7, max_features=sqrt, min_samples_leaf=4, n_estimators=100; total time=   0.3s\n",
            "[CV] END learning_rate=0.1, max_depth=7, max_features=sqrt, min_samples_leaf=4, n_estimators=100; total time=   0.2s\n",
            "[CV] END learning_rate=0.1, max_depth=7, max_features=sqrt, min_samples_leaf=4, n_estimators=100; total time=   0.2s\n",
            "[CV] END learning_rate=0.1, max_depth=7, max_features=sqrt, min_samples_leaf=4, n_estimators=100; total time=   0.2s\n",
            "[CV] END learning_rate=0.1, max_depth=7, max_features=sqrt, min_samples_leaf=4, n_estimators=100; total time=   0.3s\n",
            "[CV] END learning_rate=0.1, max_depth=7, max_features=sqrt, min_samples_leaf=4, n_estimators=150; total time=   0.4s\n",
            "[CV] END learning_rate=0.1, max_depth=7, max_features=sqrt, min_samples_leaf=4, n_estimators=150; total time=   0.4s\n",
            "[CV] END learning_rate=0.1, max_depth=7, max_features=sqrt, min_samples_leaf=4, n_estimators=150; total time=   0.4s\n",
            "[CV] END learning_rate=0.1, max_depth=7, max_features=sqrt, min_samples_leaf=4, n_estimators=150; total time=   0.4s\n",
            "[CV] END learning_rate=0.1, max_depth=7, max_features=sqrt, min_samples_leaf=4, n_estimators=150; total time=   0.4s\n",
            "[CV] END learning_rate=0.1, max_depth=7, max_features=log2, min_samples_leaf=1, n_estimators=50; total time=   0.2s\n",
            "[CV] END learning_rate=0.1, max_depth=7, max_features=log2, min_samples_leaf=1, n_estimators=50; total time=   0.2s\n",
            "[CV] END learning_rate=0.1, max_depth=7, max_features=log2, min_samples_leaf=1, n_estimators=50; total time=   0.2s\n",
            "[CV] END learning_rate=0.1, max_depth=7, max_features=log2, min_samples_leaf=1, n_estimators=50; total time=   0.2s\n",
            "[CV] END learning_rate=0.1, max_depth=7, max_features=log2, min_samples_leaf=1, n_estimators=50; total time=   0.2s\n",
            "[CV] END learning_rate=0.1, max_depth=7, max_features=log2, min_samples_leaf=1, n_estimators=100; total time=   0.4s\n",
            "[CV] END learning_rate=0.1, max_depth=7, max_features=log2, min_samples_leaf=1, n_estimators=100; total time=   0.4s\n",
            "[CV] END learning_rate=0.1, max_depth=7, max_features=log2, min_samples_leaf=1, n_estimators=100; total time=   0.4s\n",
            "[CV] END learning_rate=0.1, max_depth=7, max_features=log2, min_samples_leaf=1, n_estimators=100; total time=   0.4s\n",
            "[CV] END learning_rate=0.1, max_depth=7, max_features=log2, min_samples_leaf=1, n_estimators=100; total time=   0.3s\n",
            "[CV] END learning_rate=0.1, max_depth=7, max_features=log2, min_samples_leaf=1, n_estimators=150; total time=   0.4s\n",
            "[CV] END learning_rate=0.1, max_depth=7, max_features=log2, min_samples_leaf=1, n_estimators=150; total time=   0.4s\n",
            "[CV] END learning_rate=0.1, max_depth=7, max_features=log2, min_samples_leaf=1, n_estimators=150; total time=   0.4s\n",
            "[CV] END learning_rate=0.1, max_depth=7, max_features=log2, min_samples_leaf=1, n_estimators=150; total time=   0.4s\n",
            "[CV] END learning_rate=0.1, max_depth=7, max_features=log2, min_samples_leaf=1, n_estimators=150; total time=   0.4s\n",
            "[CV] END learning_rate=0.1, max_depth=7, max_features=log2, min_samples_leaf=2, n_estimators=50; total time=   0.1s\n",
            "[CV] END learning_rate=0.1, max_depth=7, max_features=log2, min_samples_leaf=2, n_estimators=50; total time=   0.1s\n",
            "[CV] END learning_rate=0.1, max_depth=7, max_features=log2, min_samples_leaf=2, n_estimators=50; total time=   0.1s\n",
            "[CV] END learning_rate=0.1, max_depth=7, max_features=log2, min_samples_leaf=2, n_estimators=50; total time=   0.1s\n",
            "[CV] END learning_rate=0.1, max_depth=7, max_features=log2, min_samples_leaf=2, n_estimators=50; total time=   0.1s\n",
            "[CV] END learning_rate=0.1, max_depth=7, max_features=log2, min_samples_leaf=2, n_estimators=100; total time=   0.2s\n",
            "[CV] END learning_rate=0.1, max_depth=7, max_features=log2, min_samples_leaf=2, n_estimators=100; total time=   0.2s\n",
            "[CV] END learning_rate=0.1, max_depth=7, max_features=log2, min_samples_leaf=2, n_estimators=100; total time=   0.2s\n",
            "[CV] END learning_rate=0.1, max_depth=7, max_features=log2, min_samples_leaf=2, n_estimators=100; total time=   0.2s\n",
            "[CV] END learning_rate=0.1, max_depth=7, max_features=log2, min_samples_leaf=2, n_estimators=100; total time=   0.2s\n",
            "[CV] END learning_rate=0.1, max_depth=7, max_features=log2, min_samples_leaf=2, n_estimators=150; total time=   0.3s\n",
            "[CV] END learning_rate=0.1, max_depth=7, max_features=log2, min_samples_leaf=2, n_estimators=150; total time=   0.3s\n",
            "[CV] END learning_rate=0.1, max_depth=7, max_features=log2, min_samples_leaf=2, n_estimators=150; total time=   0.3s\n",
            "[CV] END learning_rate=0.1, max_depth=7, max_features=log2, min_samples_leaf=2, n_estimators=150; total time=   0.3s\n",
            "[CV] END learning_rate=0.1, max_depth=7, max_features=log2, min_samples_leaf=2, n_estimators=150; total time=   0.3s\n",
            "[CV] END learning_rate=0.1, max_depth=7, max_features=log2, min_samples_leaf=4, n_estimators=50; total time=   0.1s\n",
            "[CV] END learning_rate=0.1, max_depth=7, max_features=log2, min_samples_leaf=4, n_estimators=50; total time=   0.1s\n",
            "[CV] END learning_rate=0.1, max_depth=7, max_features=log2, min_samples_leaf=4, n_estimators=50; total time=   0.1s\n",
            "[CV] END learning_rate=0.1, max_depth=7, max_features=log2, min_samples_leaf=4, n_estimators=50; total time=   0.1s\n",
            "[CV] END learning_rate=0.1, max_depth=7, max_features=log2, min_samples_leaf=4, n_estimators=50; total time=   0.1s\n",
            "[CV] END learning_rate=0.1, max_depth=7, max_features=log2, min_samples_leaf=4, n_estimators=100; total time=   0.2s\n",
            "[CV] END learning_rate=0.1, max_depth=7, max_features=log2, min_samples_leaf=4, n_estimators=100; total time=   0.2s\n",
            "[CV] END learning_rate=0.1, max_depth=7, max_features=log2, min_samples_leaf=4, n_estimators=100; total time=   0.2s\n",
            "[CV] END learning_rate=0.1, max_depth=7, max_features=log2, min_samples_leaf=4, n_estimators=100; total time=   0.2s\n",
            "[CV] END learning_rate=0.1, max_depth=7, max_features=log2, min_samples_leaf=4, n_estimators=100; total time=   0.2s\n",
            "[CV] END learning_rate=0.1, max_depth=7, max_features=log2, min_samples_leaf=4, n_estimators=150; total time=   0.2s\n",
            "[CV] END learning_rate=0.1, max_depth=7, max_features=log2, min_samples_leaf=4, n_estimators=150; total time=   0.2s\n",
            "[CV] END learning_rate=0.1, max_depth=7, max_features=log2, min_samples_leaf=4, n_estimators=150; total time=   0.3s\n",
            "[CV] END learning_rate=0.1, max_depth=7, max_features=log2, min_samples_leaf=4, n_estimators=150; total time=   0.2s\n",
            "[CV] END learning_rate=0.1, max_depth=7, max_features=log2, min_samples_leaf=4, n_estimators=150; total time=   0.2s\n",
            "[CV] END learning_rate=0.2, max_depth=3, max_features=None, min_samples_leaf=1, n_estimators=50; total time=   0.1s\n",
            "[CV] END learning_rate=0.2, max_depth=3, max_features=None, min_samples_leaf=1, n_estimators=50; total time=   0.1s\n",
            "[CV] END learning_rate=0.2, max_depth=3, max_features=None, min_samples_leaf=1, n_estimators=50; total time=   0.1s\n",
            "[CV] END learning_rate=0.2, max_depth=3, max_features=None, min_samples_leaf=1, n_estimators=50; total time=   0.1s\n",
            "[CV] END learning_rate=0.2, max_depth=3, max_features=None, min_samples_leaf=1, n_estimators=50; total time=   0.1s\n",
            "[CV] END learning_rate=0.2, max_depth=3, max_features=None, min_samples_leaf=1, n_estimators=100; total time=   0.1s\n",
            "[CV] END learning_rate=0.2, max_depth=3, max_features=None, min_samples_leaf=1, n_estimators=100; total time=   0.1s\n",
            "[CV] END learning_rate=0.2, max_depth=3, max_features=None, min_samples_leaf=1, n_estimators=100; total time=   0.1s\n",
            "[CV] END learning_rate=0.2, max_depth=3, max_features=None, min_samples_leaf=1, n_estimators=100; total time=   0.1s\n",
            "[CV] END learning_rate=0.2, max_depth=3, max_features=None, min_samples_leaf=1, n_estimators=100; total time=   0.1s\n",
            "[CV] END learning_rate=0.2, max_depth=3, max_features=None, min_samples_leaf=1, n_estimators=150; total time=   0.2s\n",
            "[CV] END learning_rate=0.2, max_depth=3, max_features=None, min_samples_leaf=1, n_estimators=150; total time=   0.2s\n",
            "[CV] END learning_rate=0.2, max_depth=3, max_features=None, min_samples_leaf=1, n_estimators=150; total time=   0.2s\n",
            "[CV] END learning_rate=0.2, max_depth=3, max_features=None, min_samples_leaf=1, n_estimators=150; total time=   0.2s\n",
            "[CV] END learning_rate=0.2, max_depth=3, max_features=None, min_samples_leaf=1, n_estimators=150; total time=   0.2s\n",
            "[CV] END learning_rate=0.2, max_depth=3, max_features=None, min_samples_leaf=2, n_estimators=50; total time=   0.1s\n",
            "[CV] END learning_rate=0.2, max_depth=3, max_features=None, min_samples_leaf=2, n_estimators=50; total time=   0.1s\n",
            "[CV] END learning_rate=0.2, max_depth=3, max_features=None, min_samples_leaf=2, n_estimators=50; total time=   0.1s\n",
            "[CV] END learning_rate=0.2, max_depth=3, max_features=None, min_samples_leaf=2, n_estimators=50; total time=   0.1s\n",
            "[CV] END learning_rate=0.2, max_depth=3, max_features=None, min_samples_leaf=2, n_estimators=50; total time=   0.1s\n",
            "[CV] END learning_rate=0.2, max_depth=3, max_features=None, min_samples_leaf=2, n_estimators=100; total time=   0.1s\n",
            "[CV] END learning_rate=0.2, max_depth=3, max_features=None, min_samples_leaf=2, n_estimators=100; total time=   0.1s\n",
            "[CV] END learning_rate=0.2, max_depth=3, max_features=None, min_samples_leaf=2, n_estimators=100; total time=   0.1s\n",
            "[CV] END learning_rate=0.2, max_depth=3, max_features=None, min_samples_leaf=2, n_estimators=100; total time=   0.1s\n",
            "[CV] END learning_rate=0.2, max_depth=3, max_features=None, min_samples_leaf=2, n_estimators=100; total time=   0.1s\n",
            "[CV] END learning_rate=0.2, max_depth=3, max_features=None, min_samples_leaf=2, n_estimators=150; total time=   0.2s\n",
            "[CV] END learning_rate=0.2, max_depth=3, max_features=None, min_samples_leaf=2, n_estimators=150; total time=   0.3s\n",
            "[CV] END learning_rate=0.2, max_depth=3, max_features=None, min_samples_leaf=2, n_estimators=150; total time=   0.3s\n",
            "[CV] END learning_rate=0.2, max_depth=3, max_features=None, min_samples_leaf=2, n_estimators=150; total time=   0.3s\n",
            "[CV] END learning_rate=0.2, max_depth=3, max_features=None, min_samples_leaf=2, n_estimators=150; total time=   0.3s\n",
            "[CV] END learning_rate=0.2, max_depth=3, max_features=None, min_samples_leaf=4, n_estimators=50; total time=   0.1s\n",
            "[CV] END learning_rate=0.2, max_depth=3, max_features=None, min_samples_leaf=4, n_estimators=50; total time=   0.1s\n",
            "[CV] END learning_rate=0.2, max_depth=3, max_features=None, min_samples_leaf=4, n_estimators=50; total time=   0.1s\n",
            "[CV] END learning_rate=0.2, max_depth=3, max_features=None, min_samples_leaf=4, n_estimators=50; total time=   0.1s\n",
            "[CV] END learning_rate=0.2, max_depth=3, max_features=None, min_samples_leaf=4, n_estimators=50; total time=   0.1s\n",
            "[CV] END learning_rate=0.2, max_depth=3, max_features=None, min_samples_leaf=4, n_estimators=100; total time=   0.2s\n",
            "[CV] END learning_rate=0.2, max_depth=3, max_features=None, min_samples_leaf=4, n_estimators=100; total time=   0.2s\n",
            "[CV] END learning_rate=0.2, max_depth=3, max_features=None, min_samples_leaf=4, n_estimators=100; total time=   0.2s\n",
            "[CV] END learning_rate=0.2, max_depth=3, max_features=None, min_samples_leaf=4, n_estimators=100; total time=   0.2s\n",
            "[CV] END learning_rate=0.2, max_depth=3, max_features=None, min_samples_leaf=4, n_estimators=100; total time=   0.2s\n",
            "[CV] END learning_rate=0.2, max_depth=3, max_features=None, min_samples_leaf=4, n_estimators=150; total time=   0.3s\n",
            "[CV] END learning_rate=0.2, max_depth=3, max_features=None, min_samples_leaf=4, n_estimators=150; total time=   0.3s\n",
            "[CV] END learning_rate=0.2, max_depth=3, max_features=None, min_samples_leaf=4, n_estimators=150; total time=   0.3s\n",
            "[CV] END learning_rate=0.2, max_depth=3, max_features=None, min_samples_leaf=4, n_estimators=150; total time=   0.3s\n",
            "[CV] END learning_rate=0.2, max_depth=3, max_features=None, min_samples_leaf=4, n_estimators=150; total time=   0.3s\n",
            "[CV] END learning_rate=0.2, max_depth=3, max_features=sqrt, min_samples_leaf=1, n_estimators=50; total time=   0.1s\n",
            "[CV] END learning_rate=0.2, max_depth=3, max_features=sqrt, min_samples_leaf=1, n_estimators=50; total time=   0.1s\n",
            "[CV] END learning_rate=0.2, max_depth=3, max_features=sqrt, min_samples_leaf=1, n_estimators=50; total time=   0.1s\n",
            "[CV] END learning_rate=0.2, max_depth=3, max_features=sqrt, min_samples_leaf=1, n_estimators=50; total time=   0.1s\n",
            "[CV] END learning_rate=0.2, max_depth=3, max_features=sqrt, min_samples_leaf=1, n_estimators=50; total time=   0.1s\n",
            "[CV] END learning_rate=0.2, max_depth=3, max_features=sqrt, min_samples_leaf=1, n_estimators=100; total time=   0.1s\n",
            "[CV] END learning_rate=0.2, max_depth=3, max_features=sqrt, min_samples_leaf=1, n_estimators=100; total time=   0.1s\n",
            "[CV] END learning_rate=0.2, max_depth=3, max_features=sqrt, min_samples_leaf=1, n_estimators=100; total time=   0.1s\n",
            "[CV] END learning_rate=0.2, max_depth=3, max_features=sqrt, min_samples_leaf=1, n_estimators=100; total time=   0.1s\n",
            "[CV] END learning_rate=0.2, max_depth=3, max_features=sqrt, min_samples_leaf=1, n_estimators=100; total time=   0.1s\n",
            "[CV] END learning_rate=0.2, max_depth=3, max_features=sqrt, min_samples_leaf=1, n_estimators=150; total time=   0.2s\n",
            "[CV] END learning_rate=0.2, max_depth=3, max_features=sqrt, min_samples_leaf=1, n_estimators=150; total time=   0.2s\n",
            "[CV] END learning_rate=0.2, max_depth=3, max_features=sqrt, min_samples_leaf=1, n_estimators=150; total time=   0.2s\n",
            "[CV] END learning_rate=0.2, max_depth=3, max_features=sqrt, min_samples_leaf=1, n_estimators=150; total time=   0.2s\n",
            "[CV] END learning_rate=0.2, max_depth=3, max_features=sqrt, min_samples_leaf=1, n_estimators=150; total time=   0.2s\n",
            "[CV] END learning_rate=0.2, max_depth=3, max_features=sqrt, min_samples_leaf=2, n_estimators=50; total time=   0.1s\n",
            "[CV] END learning_rate=0.2, max_depth=3, max_features=sqrt, min_samples_leaf=2, n_estimators=50; total time=   0.1s\n",
            "[CV] END learning_rate=0.2, max_depth=3, max_features=sqrt, min_samples_leaf=2, n_estimators=50; total time=   0.1s\n",
            "[CV] END learning_rate=0.2, max_depth=3, max_features=sqrt, min_samples_leaf=2, n_estimators=50; total time=   0.1s\n",
            "[CV] END learning_rate=0.2, max_depth=3, max_features=sqrt, min_samples_leaf=2, n_estimators=50; total time=   0.1s\n",
            "[CV] END learning_rate=0.2, max_depth=3, max_features=sqrt, min_samples_leaf=2, n_estimators=100; total time=   0.1s\n",
            "[CV] END learning_rate=0.2, max_depth=3, max_features=sqrt, min_samples_leaf=2, n_estimators=100; total time=   0.1s\n",
            "[CV] END learning_rate=0.2, max_depth=3, max_features=sqrt, min_samples_leaf=2, n_estimators=100; total time=   0.1s\n",
            "[CV] END learning_rate=0.2, max_depth=3, max_features=sqrt, min_samples_leaf=2, n_estimators=100; total time=   0.1s\n",
            "[CV] END learning_rate=0.2, max_depth=3, max_features=sqrt, min_samples_leaf=2, n_estimators=100; total time=   0.1s\n",
            "[CV] END learning_rate=0.2, max_depth=3, max_features=sqrt, min_samples_leaf=2, n_estimators=150; total time=   0.2s\n",
            "[CV] END learning_rate=0.2, max_depth=3, max_features=sqrt, min_samples_leaf=2, n_estimators=150; total time=   0.1s\n",
            "[CV] END learning_rate=0.2, max_depth=3, max_features=sqrt, min_samples_leaf=2, n_estimators=150; total time=   0.1s\n",
            "[CV] END learning_rate=0.2, max_depth=3, max_features=sqrt, min_samples_leaf=2, n_estimators=150; total time=   0.1s\n",
            "[CV] END learning_rate=0.2, max_depth=3, max_features=sqrt, min_samples_leaf=2, n_estimators=150; total time=   0.1s\n",
            "[CV] END learning_rate=0.2, max_depth=3, max_features=sqrt, min_samples_leaf=4, n_estimators=50; total time=   0.0s\n",
            "[CV] END learning_rate=0.2, max_depth=3, max_features=sqrt, min_samples_leaf=4, n_estimators=50; total time=   0.0s\n",
            "[CV] END learning_rate=0.2, max_depth=3, max_features=sqrt, min_samples_leaf=4, n_estimators=50; total time=   0.0s\n",
            "[CV] END learning_rate=0.2, max_depth=3, max_features=sqrt, min_samples_leaf=4, n_estimators=50; total time=   0.0s\n",
            "[CV] END learning_rate=0.2, max_depth=3, max_features=sqrt, min_samples_leaf=4, n_estimators=50; total time=   0.0s\n",
            "[CV] END learning_rate=0.2, max_depth=3, max_features=sqrt, min_samples_leaf=4, n_estimators=100; total time=   0.1s\n",
            "[CV] END learning_rate=0.2, max_depth=3, max_features=sqrt, min_samples_leaf=4, n_estimators=100; total time=   0.1s\n",
            "[CV] END learning_rate=0.2, max_depth=3, max_features=sqrt, min_samples_leaf=4, n_estimators=100; total time=   0.1s\n",
            "[CV] END learning_rate=0.2, max_depth=3, max_features=sqrt, min_samples_leaf=4, n_estimators=100; total time=   0.1s\n",
            "[CV] END learning_rate=0.2, max_depth=3, max_features=sqrt, min_samples_leaf=4, n_estimators=100; total time=   0.1s\n",
            "[CV] END learning_rate=0.2, max_depth=3, max_features=sqrt, min_samples_leaf=4, n_estimators=150; total time=   0.1s\n",
            "[CV] END learning_rate=0.2, max_depth=3, max_features=sqrt, min_samples_leaf=4, n_estimators=150; total time=   0.1s\n",
            "[CV] END learning_rate=0.2, max_depth=3, max_features=sqrt, min_samples_leaf=4, n_estimators=150; total time=   0.1s\n",
            "[CV] END learning_rate=0.2, max_depth=3, max_features=sqrt, min_samples_leaf=4, n_estimators=150; total time=   0.1s\n",
            "[CV] END learning_rate=0.2, max_depth=3, max_features=sqrt, min_samples_leaf=4, n_estimators=150; total time=   0.1s\n",
            "[CV] END learning_rate=0.2, max_depth=3, max_features=log2, min_samples_leaf=1, n_estimators=50; total time=   0.0s\n",
            "[CV] END learning_rate=0.2, max_depth=3, max_features=log2, min_samples_leaf=1, n_estimators=50; total time=   0.0s\n",
            "[CV] END learning_rate=0.2, max_depth=3, max_features=log2, min_samples_leaf=1, n_estimators=50; total time=   0.0s\n",
            "[CV] END learning_rate=0.2, max_depth=3, max_features=log2, min_samples_leaf=1, n_estimators=50; total time=   0.1s\n",
            "[CV] END learning_rate=0.2, max_depth=3, max_features=log2, min_samples_leaf=1, n_estimators=50; total time=   0.1s\n",
            "[CV] END learning_rate=0.2, max_depth=3, max_features=log2, min_samples_leaf=1, n_estimators=100; total time=   0.1s\n",
            "[CV] END learning_rate=0.2, max_depth=3, max_features=log2, min_samples_leaf=1, n_estimators=100; total time=   0.1s\n",
            "[CV] END learning_rate=0.2, max_depth=3, max_features=log2, min_samples_leaf=1, n_estimators=100; total time=   0.1s\n",
            "[CV] END learning_rate=0.2, max_depth=3, max_features=log2, min_samples_leaf=1, n_estimators=100; total time=   0.1s\n",
            "[CV] END learning_rate=0.2, max_depth=3, max_features=log2, min_samples_leaf=1, n_estimators=100; total time=   0.1s\n",
            "[CV] END learning_rate=0.2, max_depth=3, max_features=log2, min_samples_leaf=1, n_estimators=150; total time=   0.1s\n",
            "[CV] END learning_rate=0.2, max_depth=3, max_features=log2, min_samples_leaf=1, n_estimators=150; total time=   0.1s\n",
            "[CV] END learning_rate=0.2, max_depth=3, max_features=log2, min_samples_leaf=1, n_estimators=150; total time=   0.1s\n",
            "[CV] END learning_rate=0.2, max_depth=3, max_features=log2, min_samples_leaf=1, n_estimators=150; total time=   0.1s\n",
            "[CV] END learning_rate=0.2, max_depth=3, max_features=log2, min_samples_leaf=1, n_estimators=150; total time=   0.1s\n",
            "[CV] END learning_rate=0.2, max_depth=3, max_features=log2, min_samples_leaf=2, n_estimators=50; total time=   0.0s\n",
            "[CV] END learning_rate=0.2, max_depth=3, max_features=log2, min_samples_leaf=2, n_estimators=50; total time=   0.0s\n",
            "[CV] END learning_rate=0.2, max_depth=3, max_features=log2, min_samples_leaf=2, n_estimators=50; total time=   0.0s\n",
            "[CV] END learning_rate=0.2, max_depth=3, max_features=log2, min_samples_leaf=2, n_estimators=50; total time=   0.0s\n",
            "[CV] END learning_rate=0.2, max_depth=3, max_features=log2, min_samples_leaf=2, n_estimators=50; total time=   0.1s\n",
            "[CV] END learning_rate=0.2, max_depth=3, max_features=log2, min_samples_leaf=2, n_estimators=100; total time=   0.1s\n",
            "[CV] END learning_rate=0.2, max_depth=3, max_features=log2, min_samples_leaf=2, n_estimators=100; total time=   0.1s\n",
            "[CV] END learning_rate=0.2, max_depth=3, max_features=log2, min_samples_leaf=2, n_estimators=100; total time=   0.1s\n",
            "[CV] END learning_rate=0.2, max_depth=3, max_features=log2, min_samples_leaf=2, n_estimators=100; total time=   0.1s\n",
            "[CV] END learning_rate=0.2, max_depth=3, max_features=log2, min_samples_leaf=2, n_estimators=100; total time=   0.1s\n",
            "[CV] END learning_rate=0.2, max_depth=3, max_features=log2, min_samples_leaf=2, n_estimators=150; total time=   0.1s\n",
            "[CV] END learning_rate=0.2, max_depth=3, max_features=log2, min_samples_leaf=2, n_estimators=150; total time=   0.1s\n",
            "[CV] END learning_rate=0.2, max_depth=3, max_features=log2, min_samples_leaf=2, n_estimators=150; total time=   0.1s\n",
            "[CV] END learning_rate=0.2, max_depth=3, max_features=log2, min_samples_leaf=2, n_estimators=150; total time=   0.1s\n",
            "[CV] END learning_rate=0.2, max_depth=3, max_features=log2, min_samples_leaf=2, n_estimators=150; total time=   0.1s\n",
            "[CV] END learning_rate=0.2, max_depth=3, max_features=log2, min_samples_leaf=4, n_estimators=50; total time=   0.0s\n",
            "[CV] END learning_rate=0.2, max_depth=3, max_features=log2, min_samples_leaf=4, n_estimators=50; total time=   0.0s\n",
            "[CV] END learning_rate=0.2, max_depth=3, max_features=log2, min_samples_leaf=4, n_estimators=50; total time=   0.0s\n",
            "[CV] END learning_rate=0.2, max_depth=3, max_features=log2, min_samples_leaf=4, n_estimators=50; total time=   0.0s\n",
            "[CV] END learning_rate=0.2, max_depth=3, max_features=log2, min_samples_leaf=4, n_estimators=50; total time=   0.0s\n",
            "[CV] END learning_rate=0.2, max_depth=3, max_features=log2, min_samples_leaf=4, n_estimators=100; total time=   0.1s\n",
            "[CV] END learning_rate=0.2, max_depth=3, max_features=log2, min_samples_leaf=4, n_estimators=100; total time=   0.1s\n",
            "[CV] END learning_rate=0.2, max_depth=3, max_features=log2, min_samples_leaf=4, n_estimators=100; total time=   0.1s\n",
            "[CV] END learning_rate=0.2, max_depth=3, max_features=log2, min_samples_leaf=4, n_estimators=100; total time=   0.1s\n",
            "[CV] END learning_rate=0.2, max_depth=3, max_features=log2, min_samples_leaf=4, n_estimators=100; total time=   0.1s\n",
            "[CV] END learning_rate=0.2, max_depth=3, max_features=log2, min_samples_leaf=4, n_estimators=150; total time=   0.1s\n",
            "[CV] END learning_rate=0.2, max_depth=3, max_features=log2, min_samples_leaf=4, n_estimators=150; total time=   0.1s\n",
            "[CV] END learning_rate=0.2, max_depth=3, max_features=log2, min_samples_leaf=4, n_estimators=150; total time=   0.1s\n",
            "[CV] END learning_rate=0.2, max_depth=3, max_features=log2, min_samples_leaf=4, n_estimators=150; total time=   0.1s\n",
            "[CV] END learning_rate=0.2, max_depth=3, max_features=log2, min_samples_leaf=4, n_estimators=150; total time=   0.1s\n",
            "[CV] END learning_rate=0.2, max_depth=5, max_features=None, min_samples_leaf=1, n_estimators=50; total time=   0.1s\n",
            "[CV] END learning_rate=0.2, max_depth=5, max_features=None, min_samples_leaf=1, n_estimators=50; total time=   0.1s\n",
            "[CV] END learning_rate=0.2, max_depth=5, max_features=None, min_samples_leaf=1, n_estimators=50; total time=   0.1s\n",
            "[CV] END learning_rate=0.2, max_depth=5, max_features=None, min_samples_leaf=1, n_estimators=50; total time=   0.1s\n",
            "[CV] END learning_rate=0.2, max_depth=5, max_features=None, min_samples_leaf=1, n_estimators=50; total time=   0.1s\n",
            "[CV] END learning_rate=0.2, max_depth=5, max_features=None, min_samples_leaf=1, n_estimators=100; total time=   0.2s\n",
            "[CV] END learning_rate=0.2, max_depth=5, max_features=None, min_samples_leaf=1, n_estimators=100; total time=   0.2s\n",
            "[CV] END learning_rate=0.2, max_depth=5, max_features=None, min_samples_leaf=1, n_estimators=100; total time=   0.2s\n",
            "[CV] END learning_rate=0.2, max_depth=5, max_features=None, min_samples_leaf=1, n_estimators=100; total time=   0.2s\n",
            "[CV] END learning_rate=0.2, max_depth=5, max_features=None, min_samples_leaf=1, n_estimators=100; total time=   0.2s\n",
            "[CV] END learning_rate=0.2, max_depth=5, max_features=None, min_samples_leaf=1, n_estimators=150; total time=   0.3s\n",
            "[CV] END learning_rate=0.2, max_depth=5, max_features=None, min_samples_leaf=1, n_estimators=150; total time=   0.3s\n",
            "[CV] END learning_rate=0.2, max_depth=5, max_features=None, min_samples_leaf=1, n_estimators=150; total time=   0.3s\n",
            "[CV] END learning_rate=0.2, max_depth=5, max_features=None, min_samples_leaf=1, n_estimators=150; total time=   0.3s\n",
            "[CV] END learning_rate=0.2, max_depth=5, max_features=None, min_samples_leaf=1, n_estimators=150; total time=   0.3s\n",
            "[CV] END learning_rate=0.2, max_depth=5, max_features=None, min_samples_leaf=2, n_estimators=50; total time=   0.1s\n",
            "[CV] END learning_rate=0.2, max_depth=5, max_features=None, min_samples_leaf=2, n_estimators=50; total time=   0.1s\n",
            "[CV] END learning_rate=0.2, max_depth=5, max_features=None, min_samples_leaf=2, n_estimators=50; total time=   0.1s\n",
            "[CV] END learning_rate=0.2, max_depth=5, max_features=None, min_samples_leaf=2, n_estimators=50; total time=   0.1s\n",
            "[CV] END learning_rate=0.2, max_depth=5, max_features=None, min_samples_leaf=2, n_estimators=50; total time=   0.1s\n",
            "[CV] END learning_rate=0.2, max_depth=5, max_features=None, min_samples_leaf=2, n_estimators=100; total time=   0.2s\n",
            "[CV] END learning_rate=0.2, max_depth=5, max_features=None, min_samples_leaf=2, n_estimators=100; total time=   0.2s\n",
            "[CV] END learning_rate=0.2, max_depth=5, max_features=None, min_samples_leaf=2, n_estimators=100; total time=   0.2s\n",
            "[CV] END learning_rate=0.2, max_depth=5, max_features=None, min_samples_leaf=2, n_estimators=100; total time=   0.2s\n",
            "[CV] END learning_rate=0.2, max_depth=5, max_features=None, min_samples_leaf=2, n_estimators=100; total time=   0.3s\n",
            "[CV] END learning_rate=0.2, max_depth=5, max_features=None, min_samples_leaf=2, n_estimators=150; total time=   0.4s\n",
            "[CV] END learning_rate=0.2, max_depth=5, max_features=None, min_samples_leaf=2, n_estimators=150; total time=   0.4s\n",
            "[CV] END learning_rate=0.2, max_depth=5, max_features=None, min_samples_leaf=2, n_estimators=150; total time=   0.4s\n",
            "[CV] END learning_rate=0.2, max_depth=5, max_features=None, min_samples_leaf=2, n_estimators=150; total time=   0.4s\n",
            "[CV] END learning_rate=0.2, max_depth=5, max_features=None, min_samples_leaf=2, n_estimators=150; total time=   0.4s\n",
            "[CV] END learning_rate=0.2, max_depth=5, max_features=None, min_samples_leaf=4, n_estimators=50; total time=   0.1s\n",
            "[CV] END learning_rate=0.2, max_depth=5, max_features=None, min_samples_leaf=4, n_estimators=50; total time=   0.1s\n",
            "[CV] END learning_rate=0.2, max_depth=5, max_features=None, min_samples_leaf=4, n_estimators=50; total time=   0.1s\n",
            "[CV] END learning_rate=0.2, max_depth=5, max_features=None, min_samples_leaf=4, n_estimators=50; total time=   0.1s\n",
            "[CV] END learning_rate=0.2, max_depth=5, max_features=None, min_samples_leaf=4, n_estimators=50; total time=   0.1s\n",
            "[CV] END learning_rate=0.2, max_depth=5, max_features=None, min_samples_leaf=4, n_estimators=100; total time=   0.3s\n",
            "[CV] END learning_rate=0.2, max_depth=5, max_features=None, min_samples_leaf=4, n_estimators=100; total time=   0.2s\n",
            "[CV] END learning_rate=0.2, max_depth=5, max_features=None, min_samples_leaf=4, n_estimators=100; total time=   0.3s\n",
            "[CV] END learning_rate=0.2, max_depth=5, max_features=None, min_samples_leaf=4, n_estimators=100; total time=   0.3s\n",
            "[CV] END learning_rate=0.2, max_depth=5, max_features=None, min_samples_leaf=4, n_estimators=100; total time=   0.3s\n",
            "[CV] END learning_rate=0.2, max_depth=5, max_features=None, min_samples_leaf=4, n_estimators=150; total time=   0.4s\n",
            "[CV] END learning_rate=0.2, max_depth=5, max_features=None, min_samples_leaf=4, n_estimators=150; total time=   0.4s\n",
            "[CV] END learning_rate=0.2, max_depth=5, max_features=None, min_samples_leaf=4, n_estimators=150; total time=   0.4s\n",
            "[CV] END learning_rate=0.2, max_depth=5, max_features=None, min_samples_leaf=4, n_estimators=150; total time=   0.4s\n",
            "[CV] END learning_rate=0.2, max_depth=5, max_features=None, min_samples_leaf=4, n_estimators=150; total time=   0.4s\n",
            "[CV] END learning_rate=0.2, max_depth=5, max_features=sqrt, min_samples_leaf=1, n_estimators=50; total time=   0.1s\n",
            "[CV] END learning_rate=0.2, max_depth=5, max_features=sqrt, min_samples_leaf=1, n_estimators=50; total time=   0.1s\n",
            "[CV] END learning_rate=0.2, max_depth=5, max_features=sqrt, min_samples_leaf=1, n_estimators=50; total time=   0.1s\n",
            "[CV] END learning_rate=0.2, max_depth=5, max_features=sqrt, min_samples_leaf=1, n_estimators=50; total time=   0.1s\n",
            "[CV] END learning_rate=0.2, max_depth=5, max_features=sqrt, min_samples_leaf=1, n_estimators=50; total time=   0.1s\n",
            "[CV] END learning_rate=0.2, max_depth=5, max_features=sqrt, min_samples_leaf=1, n_estimators=100; total time=   0.2s\n",
            "[CV] END learning_rate=0.2, max_depth=5, max_features=sqrt, min_samples_leaf=1, n_estimators=100; total time=   0.2s\n",
            "[CV] END learning_rate=0.2, max_depth=5, max_features=sqrt, min_samples_leaf=1, n_estimators=100; total time=   0.1s\n",
            "[CV] END learning_rate=0.2, max_depth=5, max_features=sqrt, min_samples_leaf=1, n_estimators=100; total time=   0.1s\n",
            "[CV] END learning_rate=0.2, max_depth=5, max_features=sqrt, min_samples_leaf=1, n_estimators=100; total time=   0.1s\n",
            "[CV] END learning_rate=0.2, max_depth=5, max_features=sqrt, min_samples_leaf=1, n_estimators=150; total time=   0.2s\n",
            "[CV] END learning_rate=0.2, max_depth=5, max_features=sqrt, min_samples_leaf=1, n_estimators=150; total time=   0.2s\n",
            "[CV] END learning_rate=0.2, max_depth=5, max_features=sqrt, min_samples_leaf=1, n_estimators=150; total time=   0.2s\n",
            "[CV] END learning_rate=0.2, max_depth=5, max_features=sqrt, min_samples_leaf=1, n_estimators=150; total time=   0.2s\n",
            "[CV] END learning_rate=0.2, max_depth=5, max_features=sqrt, min_samples_leaf=1, n_estimators=150; total time=   0.2s\n",
            "[CV] END learning_rate=0.2, max_depth=5, max_features=sqrt, min_samples_leaf=2, n_estimators=50; total time=   0.1s\n",
            "[CV] END learning_rate=0.2, max_depth=5, max_features=sqrt, min_samples_leaf=2, n_estimators=50; total time=   0.1s\n",
            "[CV] END learning_rate=0.2, max_depth=5, max_features=sqrt, min_samples_leaf=2, n_estimators=50; total time=   0.1s\n",
            "[CV] END learning_rate=0.2, max_depth=5, max_features=sqrt, min_samples_leaf=2, n_estimators=50; total time=   0.1s\n",
            "[CV] END learning_rate=0.2, max_depth=5, max_features=sqrt, min_samples_leaf=2, n_estimators=50; total time=   0.1s\n",
            "[CV] END learning_rate=0.2, max_depth=5, max_features=sqrt, min_samples_leaf=2, n_estimators=100; total time=   0.1s\n",
            "[CV] END learning_rate=0.2, max_depth=5, max_features=sqrt, min_samples_leaf=2, n_estimators=100; total time=   0.1s\n",
            "[CV] END learning_rate=0.2, max_depth=5, max_features=sqrt, min_samples_leaf=2, n_estimators=100; total time=   0.1s\n",
            "[CV] END learning_rate=0.2, max_depth=5, max_features=sqrt, min_samples_leaf=2, n_estimators=100; total time=   0.1s\n",
            "[CV] END learning_rate=0.2, max_depth=5, max_features=sqrt, min_samples_leaf=2, n_estimators=100; total time=   0.1s\n",
            "[CV] END learning_rate=0.2, max_depth=5, max_features=sqrt, min_samples_leaf=2, n_estimators=150; total time=   0.2s\n",
            "[CV] END learning_rate=0.2, max_depth=5, max_features=sqrt, min_samples_leaf=2, n_estimators=150; total time=   0.2s\n",
            "[CV] END learning_rate=0.2, max_depth=5, max_features=sqrt, min_samples_leaf=2, n_estimators=150; total time=   0.2s\n",
            "[CV] END learning_rate=0.2, max_depth=5, max_features=sqrt, min_samples_leaf=2, n_estimators=150; total time=   0.2s\n",
            "[CV] END learning_rate=0.2, max_depth=5, max_features=sqrt, min_samples_leaf=2, n_estimators=150; total time=   0.2s\n",
            "[CV] END learning_rate=0.2, max_depth=5, max_features=sqrt, min_samples_leaf=4, n_estimators=50; total time=   0.1s\n",
            "[CV] END learning_rate=0.2, max_depth=5, max_features=sqrt, min_samples_leaf=4, n_estimators=50; total time=   0.1s\n",
            "[CV] END learning_rate=0.2, max_depth=5, max_features=sqrt, min_samples_leaf=4, n_estimators=50; total time=   0.1s\n",
            "[CV] END learning_rate=0.2, max_depth=5, max_features=sqrt, min_samples_leaf=4, n_estimators=50; total time=   0.1s\n",
            "[CV] END learning_rate=0.2, max_depth=5, max_features=sqrt, min_samples_leaf=4, n_estimators=50; total time=   0.1s\n",
            "[CV] END learning_rate=0.2, max_depth=5, max_features=sqrt, min_samples_leaf=4, n_estimators=100; total time=   0.1s\n",
            "[CV] END learning_rate=0.2, max_depth=5, max_features=sqrt, min_samples_leaf=4, n_estimators=100; total time=   0.1s\n",
            "[CV] END learning_rate=0.2, max_depth=5, max_features=sqrt, min_samples_leaf=4, n_estimators=100; total time=   0.1s\n",
            "[CV] END learning_rate=0.2, max_depth=5, max_features=sqrt, min_samples_leaf=4, n_estimators=100; total time=   0.1s\n",
            "[CV] END learning_rate=0.2, max_depth=5, max_features=sqrt, min_samples_leaf=4, n_estimators=100; total time=   0.1s\n",
            "[CV] END learning_rate=0.2, max_depth=5, max_features=sqrt, min_samples_leaf=4, n_estimators=150; total time=   0.2s\n",
            "[CV] END learning_rate=0.2, max_depth=5, max_features=sqrt, min_samples_leaf=4, n_estimators=150; total time=   0.2s\n",
            "[CV] END learning_rate=0.2, max_depth=5, max_features=sqrt, min_samples_leaf=4, n_estimators=150; total time=   0.2s\n",
            "[CV] END learning_rate=0.2, max_depth=5, max_features=sqrt, min_samples_leaf=4, n_estimators=150; total time=   0.2s\n",
            "[CV] END learning_rate=0.2, max_depth=5, max_features=sqrt, min_samples_leaf=4, n_estimators=150; total time=   0.2s\n",
            "[CV] END learning_rate=0.2, max_depth=5, max_features=log2, min_samples_leaf=1, n_estimators=50; total time=   0.1s\n",
            "[CV] END learning_rate=0.2, max_depth=5, max_features=log2, min_samples_leaf=1, n_estimators=50; total time=   0.1s\n",
            "[CV] END learning_rate=0.2, max_depth=5, max_features=log2, min_samples_leaf=1, n_estimators=50; total time=   0.1s\n",
            "[CV] END learning_rate=0.2, max_depth=5, max_features=log2, min_samples_leaf=1, n_estimators=50; total time=   0.1s\n",
            "[CV] END learning_rate=0.2, max_depth=5, max_features=log2, min_samples_leaf=1, n_estimators=50; total time=   0.1s\n",
            "[CV] END learning_rate=0.2, max_depth=5, max_features=log2, min_samples_leaf=1, n_estimators=100; total time=   0.1s\n",
            "[CV] END learning_rate=0.2, max_depth=5, max_features=log2, min_samples_leaf=1, n_estimators=100; total time=   0.1s\n",
            "[CV] END learning_rate=0.2, max_depth=5, max_features=log2, min_samples_leaf=1, n_estimators=100; total time=   0.1s\n",
            "[CV] END learning_rate=0.2, max_depth=5, max_features=log2, min_samples_leaf=1, n_estimators=100; total time=   0.1s\n",
            "[CV] END learning_rate=0.2, max_depth=5, max_features=log2, min_samples_leaf=1, n_estimators=100; total time=   0.1s\n",
            "[CV] END learning_rate=0.2, max_depth=5, max_features=log2, min_samples_leaf=1, n_estimators=150; total time=   0.2s\n",
            "[CV] END learning_rate=0.2, max_depth=5, max_features=log2, min_samples_leaf=1, n_estimators=150; total time=   0.2s\n",
            "[CV] END learning_rate=0.2, max_depth=5, max_features=log2, min_samples_leaf=1, n_estimators=150; total time=   0.2s\n",
            "[CV] END learning_rate=0.2, max_depth=5, max_features=log2, min_samples_leaf=1, n_estimators=150; total time=   0.2s\n",
            "[CV] END learning_rate=0.2, max_depth=5, max_features=log2, min_samples_leaf=1, n_estimators=150; total time=   0.2s\n",
            "[CV] END learning_rate=0.2, max_depth=5, max_features=log2, min_samples_leaf=2, n_estimators=50; total time=   0.1s\n",
            "[CV] END learning_rate=0.2, max_depth=5, max_features=log2, min_samples_leaf=2, n_estimators=50; total time=   0.1s\n",
            "[CV] END learning_rate=0.2, max_depth=5, max_features=log2, min_samples_leaf=2, n_estimators=50; total time=   0.1s\n",
            "[CV] END learning_rate=0.2, max_depth=5, max_features=log2, min_samples_leaf=2, n_estimators=50; total time=   0.1s\n",
            "[CV] END learning_rate=0.2, max_depth=5, max_features=log2, min_samples_leaf=2, n_estimators=50; total time=   0.1s\n",
            "[CV] END learning_rate=0.2, max_depth=5, max_features=log2, min_samples_leaf=2, n_estimators=100; total time=   0.1s\n",
            "[CV] END learning_rate=0.2, max_depth=5, max_features=log2, min_samples_leaf=2, n_estimators=100; total time=   0.1s\n",
            "[CV] END learning_rate=0.2, max_depth=5, max_features=log2, min_samples_leaf=2, n_estimators=100; total time=   0.1s\n",
            "[CV] END learning_rate=0.2, max_depth=5, max_features=log2, min_samples_leaf=2, n_estimators=100; total time=   0.1s\n",
            "[CV] END learning_rate=0.2, max_depth=5, max_features=log2, min_samples_leaf=2, n_estimators=100; total time=   0.1s\n",
            "[CV] END learning_rate=0.2, max_depth=5, max_features=log2, min_samples_leaf=2, n_estimators=150; total time=   0.2s\n",
            "[CV] END learning_rate=0.2, max_depth=5, max_features=log2, min_samples_leaf=2, n_estimators=150; total time=   0.2s\n",
            "[CV] END learning_rate=0.2, max_depth=5, max_features=log2, min_samples_leaf=2, n_estimators=150; total time=   0.2s\n",
            "[CV] END learning_rate=0.2, max_depth=5, max_features=log2, min_samples_leaf=2, n_estimators=150; total time=   0.2s\n",
            "[CV] END learning_rate=0.2, max_depth=5, max_features=log2, min_samples_leaf=2, n_estimators=150; total time=   0.2s\n",
            "[CV] END learning_rate=0.2, max_depth=5, max_features=log2, min_samples_leaf=4, n_estimators=50; total time=   0.1s\n",
            "[CV] END learning_rate=0.2, max_depth=5, max_features=log2, min_samples_leaf=4, n_estimators=50; total time=   0.1s\n",
            "[CV] END learning_rate=0.2, max_depth=5, max_features=log2, min_samples_leaf=4, n_estimators=50; total time=   0.1s\n",
            "[CV] END learning_rate=0.2, max_depth=5, max_features=log2, min_samples_leaf=4, n_estimators=50; total time=   0.1s\n",
            "[CV] END learning_rate=0.2, max_depth=5, max_features=log2, min_samples_leaf=4, n_estimators=50; total time=   0.1s\n",
            "[CV] END learning_rate=0.2, max_depth=5, max_features=log2, min_samples_leaf=4, n_estimators=100; total time=   0.1s\n",
            "[CV] END learning_rate=0.2, max_depth=5, max_features=log2, min_samples_leaf=4, n_estimators=100; total time=   0.2s\n",
            "[CV] END learning_rate=0.2, max_depth=5, max_features=log2, min_samples_leaf=4, n_estimators=100; total time=   0.2s\n",
            "[CV] END learning_rate=0.2, max_depth=5, max_features=log2, min_samples_leaf=4, n_estimators=100; total time=   0.2s\n",
            "[CV] END learning_rate=0.2, max_depth=5, max_features=log2, min_samples_leaf=4, n_estimators=100; total time=   0.2s\n",
            "[CV] END learning_rate=0.2, max_depth=5, max_features=log2, min_samples_leaf=4, n_estimators=150; total time=   0.3s\n",
            "[CV] END learning_rate=0.2, max_depth=5, max_features=log2, min_samples_leaf=4, n_estimators=150; total time=   0.3s\n",
            "[CV] END learning_rate=0.2, max_depth=5, max_features=log2, min_samples_leaf=4, n_estimators=150; total time=   0.3s\n",
            "[CV] END learning_rate=0.2, max_depth=5, max_features=log2, min_samples_leaf=4, n_estimators=150; total time=   0.3s\n",
            "[CV] END learning_rate=0.2, max_depth=5, max_features=log2, min_samples_leaf=4, n_estimators=150; total time=   0.3s\n",
            "[CV] END learning_rate=0.2, max_depth=7, max_features=None, min_samples_leaf=1, n_estimators=50; total time=   0.2s\n",
            "[CV] END learning_rate=0.2, max_depth=7, max_features=None, min_samples_leaf=1, n_estimators=50; total time=   0.2s\n",
            "[CV] END learning_rate=0.2, max_depth=7, max_features=None, min_samples_leaf=1, n_estimators=50; total time=   0.2s\n",
            "[CV] END learning_rate=0.2, max_depth=7, max_features=None, min_samples_leaf=1, n_estimators=50; total time=   0.2s\n",
            "[CV] END learning_rate=0.2, max_depth=7, max_features=None, min_samples_leaf=1, n_estimators=50; total time=   0.2s\n",
            "[CV] END learning_rate=0.2, max_depth=7, max_features=None, min_samples_leaf=1, n_estimators=100; total time=   0.4s\n",
            "[CV] END learning_rate=0.2, max_depth=7, max_features=None, min_samples_leaf=1, n_estimators=100; total time=   0.5s\n",
            "[CV] END learning_rate=0.2, max_depth=7, max_features=None, min_samples_leaf=1, n_estimators=100; total time=   0.4s\n",
            "[CV] END learning_rate=0.2, max_depth=7, max_features=None, min_samples_leaf=1, n_estimators=100; total time=   0.4s\n",
            "[CV] END learning_rate=0.2, max_depth=7, max_features=None, min_samples_leaf=1, n_estimators=100; total time=   0.4s\n",
            "[CV] END learning_rate=0.2, max_depth=7, max_features=None, min_samples_leaf=1, n_estimators=150; total time=   0.6s\n",
            "[CV] END learning_rate=0.2, max_depth=7, max_features=None, min_samples_leaf=1, n_estimators=150; total time=   0.7s\n",
            "[CV] END learning_rate=0.2, max_depth=7, max_features=None, min_samples_leaf=1, n_estimators=150; total time=   0.5s\n",
            "[CV] END learning_rate=0.2, max_depth=7, max_features=None, min_samples_leaf=1, n_estimators=150; total time=   0.4s\n",
            "[CV] END learning_rate=0.2, max_depth=7, max_features=None, min_samples_leaf=1, n_estimators=150; total time=   0.4s\n",
            "[CV] END learning_rate=0.2, max_depth=7, max_features=None, min_samples_leaf=2, n_estimators=50; total time=   0.1s\n",
            "[CV] END learning_rate=0.2, max_depth=7, max_features=None, min_samples_leaf=2, n_estimators=50; total time=   0.1s\n",
            "[CV] END learning_rate=0.2, max_depth=7, max_features=None, min_samples_leaf=2, n_estimators=50; total time=   0.1s\n",
            "[CV] END learning_rate=0.2, max_depth=7, max_features=None, min_samples_leaf=2, n_estimators=50; total time=   0.1s\n",
            "[CV] END learning_rate=0.2, max_depth=7, max_features=None, min_samples_leaf=2, n_estimators=50; total time=   0.1s\n",
            "[CV] END learning_rate=0.2, max_depth=7, max_features=None, min_samples_leaf=2, n_estimators=100; total time=   0.2s\n",
            "[CV] END learning_rate=0.2, max_depth=7, max_features=None, min_samples_leaf=2, n_estimators=100; total time=   0.3s\n",
            "[CV] END learning_rate=0.2, max_depth=7, max_features=None, min_samples_leaf=2, n_estimators=100; total time=   0.3s\n",
            "[CV] END learning_rate=0.2, max_depth=7, max_features=None, min_samples_leaf=2, n_estimators=100; total time=   0.2s\n",
            "[CV] END learning_rate=0.2, max_depth=7, max_features=None, min_samples_leaf=2, n_estimators=100; total time=   0.2s\n",
            "[CV] END learning_rate=0.2, max_depth=7, max_features=None, min_samples_leaf=2, n_estimators=150; total time=   0.4s\n",
            "[CV] END learning_rate=0.2, max_depth=7, max_features=None, min_samples_leaf=2, n_estimators=150; total time=   0.4s\n",
            "[CV] END learning_rate=0.2, max_depth=7, max_features=None, min_samples_leaf=2, n_estimators=150; total time=   0.4s\n",
            "[CV] END learning_rate=0.2, max_depth=7, max_features=None, min_samples_leaf=2, n_estimators=150; total time=   0.4s\n",
            "[CV] END learning_rate=0.2, max_depth=7, max_features=None, min_samples_leaf=2, n_estimators=150; total time=   0.4s\n",
            "[CV] END learning_rate=0.2, max_depth=7, max_features=None, min_samples_leaf=4, n_estimators=50; total time=   0.1s\n",
            "[CV] END learning_rate=0.2, max_depth=7, max_features=None, min_samples_leaf=4, n_estimators=50; total time=   0.1s\n",
            "[CV] END learning_rate=0.2, max_depth=7, max_features=None, min_samples_leaf=4, n_estimators=50; total time=   0.1s\n",
            "[CV] END learning_rate=0.2, max_depth=7, max_features=None, min_samples_leaf=4, n_estimators=50; total time=   0.1s\n",
            "[CV] END learning_rate=0.2, max_depth=7, max_features=None, min_samples_leaf=4, n_estimators=50; total time=   0.1s\n",
            "[CV] END learning_rate=0.2, max_depth=7, max_features=None, min_samples_leaf=4, n_estimators=100; total time=   0.2s\n",
            "[CV] END learning_rate=0.2, max_depth=7, max_features=None, min_samples_leaf=4, n_estimators=100; total time=   0.2s\n",
            "[CV] END learning_rate=0.2, max_depth=7, max_features=None, min_samples_leaf=4, n_estimators=100; total time=   0.2s\n",
            "[CV] END learning_rate=0.2, max_depth=7, max_features=None, min_samples_leaf=4, n_estimators=100; total time=   0.2s\n",
            "[CV] END learning_rate=0.2, max_depth=7, max_features=None, min_samples_leaf=4, n_estimators=100; total time=   0.2s\n",
            "[CV] END learning_rate=0.2, max_depth=7, max_features=None, min_samples_leaf=4, n_estimators=150; total time=   0.3s\n",
            "[CV] END learning_rate=0.2, max_depth=7, max_features=None, min_samples_leaf=4, n_estimators=150; total time=   0.3s\n",
            "[CV] END learning_rate=0.2, max_depth=7, max_features=None, min_samples_leaf=4, n_estimators=150; total time=   0.3s\n",
            "[CV] END learning_rate=0.2, max_depth=7, max_features=None, min_samples_leaf=4, n_estimators=150; total time=   0.3s\n",
            "[CV] END learning_rate=0.2, max_depth=7, max_features=None, min_samples_leaf=4, n_estimators=150; total time=   0.3s\n",
            "[CV] END learning_rate=0.2, max_depth=7, max_features=sqrt, min_samples_leaf=1, n_estimators=50; total time=   0.1s\n",
            "[CV] END learning_rate=0.2, max_depth=7, max_features=sqrt, min_samples_leaf=1, n_estimators=50; total time=   0.1s\n",
            "[CV] END learning_rate=0.2, max_depth=7, max_features=sqrt, min_samples_leaf=1, n_estimators=50; total time=   0.1s\n",
            "[CV] END learning_rate=0.2, max_depth=7, max_features=sqrt, min_samples_leaf=1, n_estimators=50; total time=   0.1s\n",
            "[CV] END learning_rate=0.2, max_depth=7, max_features=sqrt, min_samples_leaf=1, n_estimators=50; total time=   0.1s\n",
            "[CV] END learning_rate=0.2, max_depth=7, max_features=sqrt, min_samples_leaf=1, n_estimators=100; total time=   0.2s\n",
            "[CV] END learning_rate=0.2, max_depth=7, max_features=sqrt, min_samples_leaf=1, n_estimators=100; total time=   0.2s\n",
            "[CV] END learning_rate=0.2, max_depth=7, max_features=sqrt, min_samples_leaf=1, n_estimators=100; total time=   0.3s\n",
            "[CV] END learning_rate=0.2, max_depth=7, max_features=sqrt, min_samples_leaf=1, n_estimators=100; total time=   0.2s\n",
            "[CV] END learning_rate=0.2, max_depth=7, max_features=sqrt, min_samples_leaf=1, n_estimators=100; total time=   0.3s\n",
            "[CV] END learning_rate=0.2, max_depth=7, max_features=sqrt, min_samples_leaf=1, n_estimators=150; total time=   0.5s\n",
            "[CV] END learning_rate=0.2, max_depth=7, max_features=sqrt, min_samples_leaf=1, n_estimators=150; total time=   0.6s\n",
            "[CV] END learning_rate=0.2, max_depth=7, max_features=sqrt, min_samples_leaf=1, n_estimators=150; total time=   0.6s\n",
            "[CV] END learning_rate=0.2, max_depth=7, max_features=sqrt, min_samples_leaf=1, n_estimators=150; total time=   0.6s\n",
            "[CV] END learning_rate=0.2, max_depth=7, max_features=sqrt, min_samples_leaf=1, n_estimators=150; total time=   0.6s\n",
            "[CV] END learning_rate=0.2, max_depth=7, max_features=sqrt, min_samples_leaf=2, n_estimators=50; total time=   0.2s\n",
            "[CV] END learning_rate=0.2, max_depth=7, max_features=sqrt, min_samples_leaf=2, n_estimators=50; total time=   0.2s\n",
            "[CV] END learning_rate=0.2, max_depth=7, max_features=sqrt, min_samples_leaf=2, n_estimators=50; total time=   0.1s\n",
            "[CV] END learning_rate=0.2, max_depth=7, max_features=sqrt, min_samples_leaf=2, n_estimators=50; total time=   0.2s\n",
            "[CV] END learning_rate=0.2, max_depth=7, max_features=sqrt, min_samples_leaf=2, n_estimators=50; total time=   0.1s\n",
            "[CV] END learning_rate=0.2, max_depth=7, max_features=sqrt, min_samples_leaf=2, n_estimators=100; total time=   0.3s\n",
            "[CV] END learning_rate=0.2, max_depth=7, max_features=sqrt, min_samples_leaf=2, n_estimators=100; total time=   0.3s\n",
            "[CV] END learning_rate=0.2, max_depth=7, max_features=sqrt, min_samples_leaf=2, n_estimators=100; total time=   0.3s\n",
            "[CV] END learning_rate=0.2, max_depth=7, max_features=sqrt, min_samples_leaf=2, n_estimators=100; total time=   0.3s\n",
            "[CV] END learning_rate=0.2, max_depth=7, max_features=sqrt, min_samples_leaf=2, n_estimators=100; total time=   0.3s\n",
            "[CV] END learning_rate=0.2, max_depth=7, max_features=sqrt, min_samples_leaf=2, n_estimators=150; total time=   0.5s\n",
            "[CV] END learning_rate=0.2, max_depth=7, max_features=sqrt, min_samples_leaf=2, n_estimators=150; total time=   0.5s\n",
            "[CV] END learning_rate=0.2, max_depth=7, max_features=sqrt, min_samples_leaf=2, n_estimators=150; total time=   0.4s\n",
            "[CV] END learning_rate=0.2, max_depth=7, max_features=sqrt, min_samples_leaf=2, n_estimators=150; total time=   0.5s\n",
            "[CV] END learning_rate=0.2, max_depth=7, max_features=sqrt, min_samples_leaf=2, n_estimators=150; total time=   0.3s\n",
            "[CV] END learning_rate=0.2, max_depth=7, max_features=sqrt, min_samples_leaf=4, n_estimators=50; total time=   0.1s\n",
            "[CV] END learning_rate=0.2, max_depth=7, max_features=sqrt, min_samples_leaf=4, n_estimators=50; total time=   0.1s\n",
            "[CV] END learning_rate=0.2, max_depth=7, max_features=sqrt, min_samples_leaf=4, n_estimators=50; total time=   0.1s\n",
            "[CV] END learning_rate=0.2, max_depth=7, max_features=sqrt, min_samples_leaf=4, n_estimators=50; total time=   0.1s\n",
            "[CV] END learning_rate=0.2, max_depth=7, max_features=sqrt, min_samples_leaf=4, n_estimators=50; total time=   0.1s\n",
            "[CV] END learning_rate=0.2, max_depth=7, max_features=sqrt, min_samples_leaf=4, n_estimators=100; total time=   0.2s\n",
            "[CV] END learning_rate=0.2, max_depth=7, max_features=sqrt, min_samples_leaf=4, n_estimators=100; total time=   0.2s\n",
            "[CV] END learning_rate=0.2, max_depth=7, max_features=sqrt, min_samples_leaf=4, n_estimators=100; total time=   0.2s\n",
            "[CV] END learning_rate=0.2, max_depth=7, max_features=sqrt, min_samples_leaf=4, n_estimators=100; total time=   0.2s\n",
            "[CV] END learning_rate=0.2, max_depth=7, max_features=sqrt, min_samples_leaf=4, n_estimators=100; total time=   0.2s\n",
            "[CV] END learning_rate=0.2, max_depth=7, max_features=sqrt, min_samples_leaf=4, n_estimators=150; total time=   0.2s\n",
            "[CV] END learning_rate=0.2, max_depth=7, max_features=sqrt, min_samples_leaf=4, n_estimators=150; total time=   0.2s\n",
            "[CV] END learning_rate=0.2, max_depth=7, max_features=sqrt, min_samples_leaf=4, n_estimators=150; total time=   0.2s\n",
            "[CV] END learning_rate=0.2, max_depth=7, max_features=sqrt, min_samples_leaf=4, n_estimators=150; total time=   0.2s\n",
            "[CV] END learning_rate=0.2, max_depth=7, max_features=sqrt, min_samples_leaf=4, n_estimators=150; total time=   0.3s\n",
            "[CV] END learning_rate=0.2, max_depth=7, max_features=log2, min_samples_leaf=1, n_estimators=50; total time=   0.1s\n",
            "[CV] END learning_rate=0.2, max_depth=7, max_features=log2, min_samples_leaf=1, n_estimators=50; total time=   0.1s\n",
            "[CV] END learning_rate=0.2, max_depth=7, max_features=log2, min_samples_leaf=1, n_estimators=50; total time=   0.1s\n",
            "[CV] END learning_rate=0.2, max_depth=7, max_features=log2, min_samples_leaf=1, n_estimators=50; total time=   0.1s\n",
            "[CV] END learning_rate=0.2, max_depth=7, max_features=log2, min_samples_leaf=1, n_estimators=50; total time=   0.1s\n",
            "[CV] END learning_rate=0.2, max_depth=7, max_features=log2, min_samples_leaf=1, n_estimators=100; total time=   0.2s\n",
            "[CV] END learning_rate=0.2, max_depth=7, max_features=log2, min_samples_leaf=1, n_estimators=100; total time=   0.3s\n",
            "[CV] END learning_rate=0.2, max_depth=7, max_features=log2, min_samples_leaf=1, n_estimators=100; total time=   0.2s\n",
            "[CV] END learning_rate=0.2, max_depth=7, max_features=log2, min_samples_leaf=1, n_estimators=100; total time=   0.2s\n",
            "[CV] END learning_rate=0.2, max_depth=7, max_features=log2, min_samples_leaf=1, n_estimators=100; total time=   0.2s\n",
            "[CV] END learning_rate=0.2, max_depth=7, max_features=log2, min_samples_leaf=1, n_estimators=150; total time=   0.4s\n",
            "[CV] END learning_rate=0.2, max_depth=7, max_features=log2, min_samples_leaf=1, n_estimators=150; total time=   0.4s\n",
            "[CV] END learning_rate=0.2, max_depth=7, max_features=log2, min_samples_leaf=1, n_estimators=150; total time=   0.4s\n",
            "[CV] END learning_rate=0.2, max_depth=7, max_features=log2, min_samples_leaf=1, n_estimators=150; total time=   0.4s\n",
            "[CV] END learning_rate=0.2, max_depth=7, max_features=log2, min_samples_leaf=1, n_estimators=150; total time=   0.4s\n",
            "[CV] END learning_rate=0.2, max_depth=7, max_features=log2, min_samples_leaf=2, n_estimators=50; total time=   0.1s\n",
            "[CV] END learning_rate=0.2, max_depth=7, max_features=log2, min_samples_leaf=2, n_estimators=50; total time=   0.1s\n",
            "[CV] END learning_rate=0.2, max_depth=7, max_features=log2, min_samples_leaf=2, n_estimators=50; total time=   0.1s\n",
            "[CV] END learning_rate=0.2, max_depth=7, max_features=log2, min_samples_leaf=2, n_estimators=50; total time=   0.1s\n",
            "[CV] END learning_rate=0.2, max_depth=7, max_features=log2, min_samples_leaf=2, n_estimators=50; total time=   0.1s\n",
            "[CV] END learning_rate=0.2, max_depth=7, max_features=log2, min_samples_leaf=2, n_estimators=100; total time=   0.2s\n",
            "[CV] END learning_rate=0.2, max_depth=7, max_features=log2, min_samples_leaf=2, n_estimators=100; total time=   0.2s\n",
            "[CV] END learning_rate=0.2, max_depth=7, max_features=log2, min_samples_leaf=2, n_estimators=100; total time=   0.2s\n",
            "[CV] END learning_rate=0.2, max_depth=7, max_features=log2, min_samples_leaf=2, n_estimators=100; total time=   0.2s\n",
            "[CV] END learning_rate=0.2, max_depth=7, max_features=log2, min_samples_leaf=2, n_estimators=100; total time=   0.2s\n",
            "[CV] END learning_rate=0.2, max_depth=7, max_features=log2, min_samples_leaf=2, n_estimators=150; total time=   0.3s\n",
            "[CV] END learning_rate=0.2, max_depth=7, max_features=log2, min_samples_leaf=2, n_estimators=150; total time=   0.3s\n",
            "[CV] END learning_rate=0.2, max_depth=7, max_features=log2, min_samples_leaf=2, n_estimators=150; total time=   0.3s\n",
            "[CV] END learning_rate=0.2, max_depth=7, max_features=log2, min_samples_leaf=2, n_estimators=150; total time=   0.3s\n",
            "[CV] END learning_rate=0.2, max_depth=7, max_features=log2, min_samples_leaf=2, n_estimators=150; total time=   0.3s\n",
            "[CV] END learning_rate=0.2, max_depth=7, max_features=log2, min_samples_leaf=4, n_estimators=50; total time=   0.1s\n",
            "[CV] END learning_rate=0.2, max_depth=7, max_features=log2, min_samples_leaf=4, n_estimators=50; total time=   0.1s\n",
            "[CV] END learning_rate=0.2, max_depth=7, max_features=log2, min_samples_leaf=4, n_estimators=50; total time=   0.1s\n",
            "[CV] END learning_rate=0.2, max_depth=7, max_features=log2, min_samples_leaf=4, n_estimators=50; total time=   0.1s\n",
            "[CV] END learning_rate=0.2, max_depth=7, max_features=log2, min_samples_leaf=4, n_estimators=50; total time=   0.1s\n",
            "[CV] END learning_rate=0.2, max_depth=7, max_features=log2, min_samples_leaf=4, n_estimators=100; total time=   0.2s\n",
            "[CV] END learning_rate=0.2, max_depth=7, max_features=log2, min_samples_leaf=4, n_estimators=100; total time=   0.2s\n",
            "[CV] END learning_rate=0.2, max_depth=7, max_features=log2, min_samples_leaf=4, n_estimators=100; total time=   0.2s\n",
            "[CV] END learning_rate=0.2, max_depth=7, max_features=log2, min_samples_leaf=4, n_estimators=100; total time=   0.3s\n",
            "[CV] END learning_rate=0.2, max_depth=7, max_features=log2, min_samples_leaf=4, n_estimators=100; total time=   0.3s\n",
            "[CV] END learning_rate=0.2, max_depth=7, max_features=log2, min_samples_leaf=4, n_estimators=150; total time=   0.4s\n",
            "[CV] END learning_rate=0.2, max_depth=7, max_features=log2, min_samples_leaf=4, n_estimators=150; total time=   0.4s\n",
            "[CV] END learning_rate=0.2, max_depth=7, max_features=log2, min_samples_leaf=4, n_estimators=150; total time=   0.4s\n",
            "[CV] END learning_rate=0.2, max_depth=7, max_features=log2, min_samples_leaf=4, n_estimators=150; total time=   0.4s\n",
            "[CV] END learning_rate=0.2, max_depth=7, max_features=log2, min_samples_leaf=4, n_estimators=150; total time=   0.4s\n"
          ]
        },
        {
          "output_type": "execute_result",
          "data": {
            "text/plain": [
              "GridSearchCV(cv=5, estimator=GradientBoostingClassifier(),\n",
              "             param_grid={'learning_rate': [0.01, 0.1, 0.2],\n",
              "                         'max_depth': [3, 5, 7],\n",
              "                         'max_features': [None, 'sqrt', 'log2'],\n",
              "                         'min_samples_leaf': [1, 2, 4],\n",
              "                         'n_estimators': [50, 100, 150]},\n",
              "             scoring='accuracy', verbose=2)"
            ],
            "text/html": [
              "<style>#sk-container-id-5 {color: black;background-color: white;}#sk-container-id-5 pre{padding: 0;}#sk-container-id-5 div.sk-toggleable {background-color: white;}#sk-container-id-5 label.sk-toggleable__label {cursor: pointer;display: block;width: 100%;margin-bottom: 0;padding: 0.3em;box-sizing: border-box;text-align: center;}#sk-container-id-5 label.sk-toggleable__label-arrow:before {content: \"▸\";float: left;margin-right: 0.25em;color: #696969;}#sk-container-id-5 label.sk-toggleable__label-arrow:hover:before {color: black;}#sk-container-id-5 div.sk-estimator:hover label.sk-toggleable__label-arrow:before {color: black;}#sk-container-id-5 div.sk-toggleable__content {max-height: 0;max-width: 0;overflow: hidden;text-align: left;background-color: #f0f8ff;}#sk-container-id-5 div.sk-toggleable__content pre {margin: 0.2em;color: black;border-radius: 0.25em;background-color: #f0f8ff;}#sk-container-id-5 input.sk-toggleable__control:checked~div.sk-toggleable__content {max-height: 200px;max-width: 100%;overflow: auto;}#sk-container-id-5 input.sk-toggleable__control:checked~label.sk-toggleable__label-arrow:before {content: \"▾\";}#sk-container-id-5 div.sk-estimator input.sk-toggleable__control:checked~label.sk-toggleable__label {background-color: #d4ebff;}#sk-container-id-5 div.sk-label input.sk-toggleable__control:checked~label.sk-toggleable__label {background-color: #d4ebff;}#sk-container-id-5 input.sk-hidden--visually {border: 0;clip: rect(1px 1px 1px 1px);clip: rect(1px, 1px, 1px, 1px);height: 1px;margin: -1px;overflow: hidden;padding: 0;position: absolute;width: 1px;}#sk-container-id-5 div.sk-estimator {font-family: monospace;background-color: #f0f8ff;border: 1px dotted black;border-radius: 0.25em;box-sizing: border-box;margin-bottom: 0.5em;}#sk-container-id-5 div.sk-estimator:hover {background-color: #d4ebff;}#sk-container-id-5 div.sk-parallel-item::after {content: \"\";width: 100%;border-bottom: 1px solid gray;flex-grow: 1;}#sk-container-id-5 div.sk-label:hover label.sk-toggleable__label {background-color: #d4ebff;}#sk-container-id-5 div.sk-serial::before {content: \"\";position: absolute;border-left: 1px solid gray;box-sizing: border-box;top: 0;bottom: 0;left: 50%;z-index: 0;}#sk-container-id-5 div.sk-serial {display: flex;flex-direction: column;align-items: center;background-color: white;padding-right: 0.2em;padding-left: 0.2em;position: relative;}#sk-container-id-5 div.sk-item {position: relative;z-index: 1;}#sk-container-id-5 div.sk-parallel {display: flex;align-items: stretch;justify-content: center;background-color: white;position: relative;}#sk-container-id-5 div.sk-item::before, #sk-container-id-5 div.sk-parallel-item::before {content: \"\";position: absolute;border-left: 1px solid gray;box-sizing: border-box;top: 0;bottom: 0;left: 50%;z-index: -1;}#sk-container-id-5 div.sk-parallel-item {display: flex;flex-direction: column;z-index: 1;position: relative;background-color: white;}#sk-container-id-5 div.sk-parallel-item:first-child::after {align-self: flex-end;width: 50%;}#sk-container-id-5 div.sk-parallel-item:last-child::after {align-self: flex-start;width: 50%;}#sk-container-id-5 div.sk-parallel-item:only-child::after {width: 0;}#sk-container-id-5 div.sk-dashed-wrapped {border: 1px dashed gray;margin: 0 0.4em 0.5em 0.4em;box-sizing: border-box;padding-bottom: 0.4em;background-color: white;}#sk-container-id-5 div.sk-label label {font-family: monospace;font-weight: bold;display: inline-block;line-height: 1.2em;}#sk-container-id-5 div.sk-label-container {text-align: center;}#sk-container-id-5 div.sk-container {/* jupyter's `normalize.less` sets `[hidden] { display: none; }` but bootstrap.min.css set `[hidden] { display: none !important; }` so we also need the `!important` here to be able to override the default hidden behavior on the sphinx rendered scikit-learn.org. See: https://github.com/scikit-learn/scikit-learn/issues/21755 */display: inline-block !important;position: relative;}#sk-container-id-5 div.sk-text-repr-fallback {display: none;}</style><div id=\"sk-container-id-5\" class=\"sk-top-container\"><div class=\"sk-text-repr-fallback\"><pre>GridSearchCV(cv=5, estimator=GradientBoostingClassifier(),\n",
              "             param_grid={&#x27;learning_rate&#x27;: [0.01, 0.1, 0.2],\n",
              "                         &#x27;max_depth&#x27;: [3, 5, 7],\n",
              "                         &#x27;max_features&#x27;: [None, &#x27;sqrt&#x27;, &#x27;log2&#x27;],\n",
              "                         &#x27;min_samples_leaf&#x27;: [1, 2, 4],\n",
              "                         &#x27;n_estimators&#x27;: [50, 100, 150]},\n",
              "             scoring=&#x27;accuracy&#x27;, verbose=2)</pre><b>In a Jupyter environment, please rerun this cell to show the HTML representation or trust the notebook. <br />On GitHub, the HTML representation is unable to render, please try loading this page with nbviewer.org.</b></div><div class=\"sk-container\" hidden><div class=\"sk-item sk-dashed-wrapped\"><div class=\"sk-label-container\"><div class=\"sk-label sk-toggleable\"><input class=\"sk-toggleable__control sk-hidden--visually\" id=\"sk-estimator-id-13\" type=\"checkbox\" ><label for=\"sk-estimator-id-13\" class=\"sk-toggleable__label sk-toggleable__label-arrow\">GridSearchCV</label><div class=\"sk-toggleable__content\"><pre>GridSearchCV(cv=5, estimator=GradientBoostingClassifier(),\n",
              "             param_grid={&#x27;learning_rate&#x27;: [0.01, 0.1, 0.2],\n",
              "                         &#x27;max_depth&#x27;: [3, 5, 7],\n",
              "                         &#x27;max_features&#x27;: [None, &#x27;sqrt&#x27;, &#x27;log2&#x27;],\n",
              "                         &#x27;min_samples_leaf&#x27;: [1, 2, 4],\n",
              "                         &#x27;n_estimators&#x27;: [50, 100, 150]},\n",
              "             scoring=&#x27;accuracy&#x27;, verbose=2)</pre></div></div></div><div class=\"sk-parallel\"><div class=\"sk-parallel-item\"><div class=\"sk-item\"><div class=\"sk-label-container\"><div class=\"sk-label sk-toggleable\"><input class=\"sk-toggleable__control sk-hidden--visually\" id=\"sk-estimator-id-14\" type=\"checkbox\" ><label for=\"sk-estimator-id-14\" class=\"sk-toggleable__label sk-toggleable__label-arrow\">estimator: GradientBoostingClassifier</label><div class=\"sk-toggleable__content\"><pre>GradientBoostingClassifier()</pre></div></div></div><div class=\"sk-serial\"><div class=\"sk-item\"><div class=\"sk-estimator sk-toggleable\"><input class=\"sk-toggleable__control sk-hidden--visually\" id=\"sk-estimator-id-15\" type=\"checkbox\" ><label for=\"sk-estimator-id-15\" class=\"sk-toggleable__label sk-toggleable__label-arrow\">GradientBoostingClassifier</label><div class=\"sk-toggleable__content\"><pre>GradientBoostingClassifier()</pre></div></div></div></div></div></div></div></div></div></div>"
            ]
          },
          "metadata": {},
          "execution_count": 155
        }
      ]
    },
    {
      "cell_type": "code",
      "source": [
        "best_params_gb = grid_search_gb.best_params_\n",
        "print(f\"Best Parameters for Gradient Boosting: {best_params_gb}\")"
      ],
      "metadata": {
        "colab": {
          "base_uri": "https://localhost:8080/"
        },
        "id": "GOVdpmfJxoDv",
        "outputId": "01317fa5-c710-4bc7-bb20-4fc61aa86a7b"
      },
      "execution_count": 156,
      "outputs": [
        {
          "output_type": "stream",
          "name": "stdout",
          "text": [
            "Best Parameters for Gradient Boosting: {'learning_rate': 0.01, 'max_depth': 3, 'max_features': 'sqrt', 'min_samples_leaf': 4, 'n_estimators': 100}\n"
          ]
        }
      ]
    },
    {
      "cell_type": "code",
      "source": [
        "best_gb_model = GradientBoostingClassifier(**best_params_gb)         # (n_estimators = 100, max_depth=2, random_state=42)\n",
        "best_gb_model.fit(x_train, y_train)\n",
        "y_pred_best_gb = best_gb_model.predict(x_test)\n",
        "best_gb_accuracy = accuracy_score(y_test, y_pred_best_gb)\n",
        "print(f\"Gradient Boosting Accuracy: {best_gb_accuracy}\\n\\n\")\n",
        "print(classification_report(y_test, y_pred_best_gb))"
      ],
      "metadata": {
        "colab": {
          "base_uri": "https://localhost:8080/"
        },
        "id": "g2RAMpywKXi9",
        "outputId": "4c57b1aa-5311-44cb-847d-4f71166f418f"
      },
      "execution_count": 157,
      "outputs": [
        {
          "output_type": "stream",
          "name": "stdout",
          "text": [
            "Gradient Boosting Accuracy: 0.7560975609756098\n",
            "\n",
            "\n",
            "              precision    recall  f1-score   support\n",
            "\n",
            "           0       1.00      0.30      0.46        43\n",
            "           1       0.73      1.00      0.84        80\n",
            "\n",
            "    accuracy                           0.76       123\n",
            "   macro avg       0.86      0.65      0.65       123\n",
            "weighted avg       0.82      0.76      0.71       123\n",
            "\n"
          ]
        }
      ]
    },
    {
      "cell_type": "markdown",
      "source": [
        "#### XGBoost Classifier"
      ],
      "metadata": {
        "id": "IZR96uwQveRF"
      }
    },
    {
      "cell_type": "code",
      "source": [
        "param_grid = {\n",
        "    'n_estimators': [50, 100, 150, 200],\n",
        "    'learning_rate': [0.01, 0.1, 0.2],\n",
        "    'max_depth': [3, 5, 7],\n",
        "    'gamma': [0, 1, 5]\n",
        "}"
      ],
      "metadata": {
        "id": "gcX16jWjvccY"
      },
      "execution_count": 158,
      "outputs": []
    },
    {
      "cell_type": "code",
      "source": [
        "xgb_clf = XGBClassifier()\n",
        "# Create GridSearchCV\n",
        "grid_search_xgb = GridSearchCV(xgb_clf, param_grid, cv=5, scoring='accuracy', verbose=2)\n",
        "grid_search_xgb.fit(x_train, y_train)"
      ],
      "metadata": {
        "colab": {
          "base_uri": "https://localhost:8080/",
          "height": 1000
        },
        "id": "DU7FglMEvtdb",
        "outputId": "e75187d3-0ca9-46ad-d508-31cdd7a73b4c"
      },
      "execution_count": 159,
      "outputs": [
        {
          "output_type": "stream",
          "name": "stdout",
          "text": [
            "Fitting 5 folds for each of 108 candidates, totalling 540 fits\n",
            "[CV] END gamma=0, learning_rate=0.01, max_depth=3, n_estimators=50; total time=   0.5s\n",
            "[CV] END gamma=0, learning_rate=0.01, max_depth=3, n_estimators=50; total time=   0.3s\n",
            "[CV] END gamma=0, learning_rate=0.01, max_depth=3, n_estimators=50; total time=   1.0s\n",
            "[CV] END gamma=0, learning_rate=0.01, max_depth=3, n_estimators=50; total time=   0.5s\n",
            "[CV] END gamma=0, learning_rate=0.01, max_depth=3, n_estimators=50; total time=   0.2s\n",
            "[CV] END gamma=0, learning_rate=0.01, max_depth=3, n_estimators=100; total time=   0.4s\n",
            "[CV] END gamma=0, learning_rate=0.01, max_depth=3, n_estimators=100; total time=   0.1s\n",
            "[CV] END gamma=0, learning_rate=0.01, max_depth=3, n_estimators=100; total time=   0.1s\n",
            "[CV] END gamma=0, learning_rate=0.01, max_depth=3, n_estimators=100; total time=   0.0s\n",
            "[CV] END gamma=0, learning_rate=0.01, max_depth=3, n_estimators=100; total time=   0.0s\n",
            "[CV] END gamma=0, learning_rate=0.01, max_depth=3, n_estimators=150; total time=   0.1s\n",
            "[CV] END gamma=0, learning_rate=0.01, max_depth=3, n_estimators=150; total time=   0.1s\n",
            "[CV] END gamma=0, learning_rate=0.01, max_depth=3, n_estimators=150; total time=   0.1s\n",
            "[CV] END gamma=0, learning_rate=0.01, max_depth=3, n_estimators=150; total time=   0.1s\n",
            "[CV] END gamma=0, learning_rate=0.01, max_depth=3, n_estimators=150; total time=   0.1s\n",
            "[CV] END gamma=0, learning_rate=0.01, max_depth=3, n_estimators=200; total time=   0.1s\n",
            "[CV] END gamma=0, learning_rate=0.01, max_depth=3, n_estimators=200; total time=   0.1s\n",
            "[CV] END gamma=0, learning_rate=0.01, max_depth=3, n_estimators=200; total time=   0.1s\n",
            "[CV] END gamma=0, learning_rate=0.01, max_depth=3, n_estimators=200; total time=   0.1s\n",
            "[CV] END gamma=0, learning_rate=0.01, max_depth=3, n_estimators=200; total time=   0.1s\n",
            "[CV] END gamma=0, learning_rate=0.01, max_depth=5, n_estimators=50; total time=   0.1s\n",
            "[CV] END gamma=0, learning_rate=0.01, max_depth=5, n_estimators=50; total time=   0.0s\n",
            "[CV] END gamma=0, learning_rate=0.01, max_depth=5, n_estimators=50; total time=   0.0s\n",
            "[CV] END gamma=0, learning_rate=0.01, max_depth=5, n_estimators=50; total time=   0.0s\n",
            "[CV] END gamma=0, learning_rate=0.01, max_depth=5, n_estimators=50; total time=   0.0s\n",
            "[CV] END gamma=0, learning_rate=0.01, max_depth=5, n_estimators=100; total time=   0.1s\n",
            "[CV] END gamma=0, learning_rate=0.01, max_depth=5, n_estimators=100; total time=   0.1s\n",
            "[CV] END gamma=0, learning_rate=0.01, max_depth=5, n_estimators=100; total time=   0.1s\n",
            "[CV] END gamma=0, learning_rate=0.01, max_depth=5, n_estimators=100; total time=   0.1s\n",
            "[CV] END gamma=0, learning_rate=0.01, max_depth=5, n_estimators=100; total time=   0.1s\n",
            "[CV] END gamma=0, learning_rate=0.01, max_depth=5, n_estimators=150; total time=   0.1s\n",
            "[CV] END gamma=0, learning_rate=0.01, max_depth=5, n_estimators=150; total time=   0.1s\n",
            "[CV] END gamma=0, learning_rate=0.01, max_depth=5, n_estimators=150; total time=   0.1s\n",
            "[CV] END gamma=0, learning_rate=0.01, max_depth=5, n_estimators=150; total time=   0.1s\n",
            "[CV] END gamma=0, learning_rate=0.01, max_depth=5, n_estimators=150; total time=   0.1s\n",
            "[CV] END gamma=0, learning_rate=0.01, max_depth=5, n_estimators=200; total time=   0.1s\n",
            "[CV] END gamma=0, learning_rate=0.01, max_depth=5, n_estimators=200; total time=   0.1s\n",
            "[CV] END gamma=0, learning_rate=0.01, max_depth=5, n_estimators=200; total time=   0.1s\n",
            "[CV] END gamma=0, learning_rate=0.01, max_depth=5, n_estimators=200; total time=   0.1s\n",
            "[CV] END gamma=0, learning_rate=0.01, max_depth=5, n_estimators=200; total time=   0.1s\n",
            "[CV] END gamma=0, learning_rate=0.01, max_depth=7, n_estimators=50; total time=   0.1s\n",
            "[CV] END gamma=0, learning_rate=0.01, max_depth=7, n_estimators=50; total time=   0.1s\n",
            "[CV] END gamma=0, learning_rate=0.01, max_depth=7, n_estimators=50; total time=   0.0s\n",
            "[CV] END gamma=0, learning_rate=0.01, max_depth=7, n_estimators=50; total time=   0.0s\n",
            "[CV] END gamma=0, learning_rate=0.01, max_depth=7, n_estimators=50; total time=   0.0s\n",
            "[CV] END gamma=0, learning_rate=0.01, max_depth=7, n_estimators=100; total time=   0.1s\n",
            "[CV] END gamma=0, learning_rate=0.01, max_depth=7, n_estimators=100; total time=   0.1s\n",
            "[CV] END gamma=0, learning_rate=0.01, max_depth=7, n_estimators=100; total time=   0.1s\n",
            "[CV] END gamma=0, learning_rate=0.01, max_depth=7, n_estimators=100; total time=   0.1s\n",
            "[CV] END gamma=0, learning_rate=0.01, max_depth=7, n_estimators=100; total time=   0.1s\n",
            "[CV] END gamma=0, learning_rate=0.01, max_depth=7, n_estimators=150; total time=   0.1s\n",
            "[CV] END gamma=0, learning_rate=0.01, max_depth=7, n_estimators=150; total time=   0.1s\n",
            "[CV] END gamma=0, learning_rate=0.01, max_depth=7, n_estimators=150; total time=   0.1s\n",
            "[CV] END gamma=0, learning_rate=0.01, max_depth=7, n_estimators=150; total time=   0.1s\n",
            "[CV] END gamma=0, learning_rate=0.01, max_depth=7, n_estimators=150; total time=   0.1s\n",
            "[CV] END gamma=0, learning_rate=0.01, max_depth=7, n_estimators=200; total time=   0.2s\n",
            "[CV] END gamma=0, learning_rate=0.01, max_depth=7, n_estimators=200; total time=   0.2s\n",
            "[CV] END gamma=0, learning_rate=0.01, max_depth=7, n_estimators=200; total time=   0.1s\n",
            "[CV] END gamma=0, learning_rate=0.01, max_depth=7, n_estimators=200; total time=   0.2s\n",
            "[CV] END gamma=0, learning_rate=0.01, max_depth=7, n_estimators=200; total time=   0.1s\n",
            "[CV] END gamma=0, learning_rate=0.1, max_depth=3, n_estimators=50; total time=   0.0s\n",
            "[CV] END gamma=0, learning_rate=0.1, max_depth=3, n_estimators=50; total time=   0.0s\n",
            "[CV] END gamma=0, learning_rate=0.1, max_depth=3, n_estimators=50; total time=   0.0s\n",
            "[CV] END gamma=0, learning_rate=0.1, max_depth=3, n_estimators=50; total time=   0.0s\n",
            "[CV] END gamma=0, learning_rate=0.1, max_depth=3, n_estimators=50; total time=   0.0s\n",
            "[CV] END gamma=0, learning_rate=0.1, max_depth=3, n_estimators=100; total time=   0.0s\n",
            "[CV] END gamma=0, learning_rate=0.1, max_depth=3, n_estimators=100; total time=   0.0s\n",
            "[CV] END gamma=0, learning_rate=0.1, max_depth=3, n_estimators=100; total time=   0.0s\n",
            "[CV] END gamma=0, learning_rate=0.1, max_depth=3, n_estimators=100; total time=   0.0s\n",
            "[CV] END gamma=0, learning_rate=0.1, max_depth=3, n_estimators=100; total time=   0.0s\n",
            "[CV] END gamma=0, learning_rate=0.1, max_depth=3, n_estimators=150; total time=   0.1s\n",
            "[CV] END gamma=0, learning_rate=0.1, max_depth=3, n_estimators=150; total time=   0.1s\n",
            "[CV] END gamma=0, learning_rate=0.1, max_depth=3, n_estimators=150; total time=   0.1s\n",
            "[CV] END gamma=0, learning_rate=0.1, max_depth=3, n_estimators=150; total time=   0.1s\n",
            "[CV] END gamma=0, learning_rate=0.1, max_depth=3, n_estimators=150; total time=   0.1s\n",
            "[CV] END gamma=0, learning_rate=0.1, max_depth=3, n_estimators=200; total time=   0.1s\n",
            "[CV] END gamma=0, learning_rate=0.1, max_depth=3, n_estimators=200; total time=   0.1s\n",
            "[CV] END gamma=0, learning_rate=0.1, max_depth=3, n_estimators=200; total time=   0.1s\n",
            "[CV] END gamma=0, learning_rate=0.1, max_depth=3, n_estimators=200; total time=   0.1s\n",
            "[CV] END gamma=0, learning_rate=0.1, max_depth=3, n_estimators=200; total time=   0.1s\n",
            "[CV] END gamma=0, learning_rate=0.1, max_depth=5, n_estimators=50; total time=   0.0s\n",
            "[CV] END gamma=0, learning_rate=0.1, max_depth=5, n_estimators=50; total time=   0.0s\n",
            "[CV] END gamma=0, learning_rate=0.1, max_depth=5, n_estimators=50; total time=   0.0s\n",
            "[CV] END gamma=0, learning_rate=0.1, max_depth=5, n_estimators=50; total time=   0.0s\n",
            "[CV] END gamma=0, learning_rate=0.1, max_depth=5, n_estimators=50; total time=   0.0s\n",
            "[CV] END gamma=0, learning_rate=0.1, max_depth=5, n_estimators=100; total time=   0.1s\n",
            "[CV] END gamma=0, learning_rate=0.1, max_depth=5, n_estimators=100; total time=   0.1s\n",
            "[CV] END gamma=0, learning_rate=0.1, max_depth=5, n_estimators=100; total time=   0.1s\n",
            "[CV] END gamma=0, learning_rate=0.1, max_depth=5, n_estimators=100; total time=   0.1s\n",
            "[CV] END gamma=0, learning_rate=0.1, max_depth=5, n_estimators=100; total time=   0.1s\n",
            "[CV] END gamma=0, learning_rate=0.1, max_depth=5, n_estimators=150; total time=   0.1s\n",
            "[CV] END gamma=0, learning_rate=0.1, max_depth=5, n_estimators=150; total time=   0.1s\n",
            "[CV] END gamma=0, learning_rate=0.1, max_depth=5, n_estimators=150; total time=   0.1s\n",
            "[CV] END gamma=0, learning_rate=0.1, max_depth=5, n_estimators=150; total time=   0.1s\n",
            "[CV] END gamma=0, learning_rate=0.1, max_depth=5, n_estimators=150; total time=   0.1s\n",
            "[CV] END gamma=0, learning_rate=0.1, max_depth=5, n_estimators=200; total time=   0.1s\n",
            "[CV] END gamma=0, learning_rate=0.1, max_depth=5, n_estimators=200; total time=   0.1s\n",
            "[CV] END gamma=0, learning_rate=0.1, max_depth=5, n_estimators=200; total time=   0.1s\n",
            "[CV] END gamma=0, learning_rate=0.1, max_depth=5, n_estimators=200; total time=   0.1s\n",
            "[CV] END gamma=0, learning_rate=0.1, max_depth=5, n_estimators=200; total time=   0.1s\n",
            "[CV] END gamma=0, learning_rate=0.1, max_depth=7, n_estimators=50; total time=   0.0s\n",
            "[CV] END gamma=0, learning_rate=0.1, max_depth=7, n_estimators=50; total time=   0.0s\n",
            "[CV] END gamma=0, learning_rate=0.1, max_depth=7, n_estimators=50; total time=   0.0s\n",
            "[CV] END gamma=0, learning_rate=0.1, max_depth=7, n_estimators=50; total time=   0.0s\n",
            "[CV] END gamma=0, learning_rate=0.1, max_depth=7, n_estimators=50; total time=   0.0s\n",
            "[CV] END gamma=0, learning_rate=0.1, max_depth=7, n_estimators=100; total time=   0.1s\n",
            "[CV] END gamma=0, learning_rate=0.1, max_depth=7, n_estimators=100; total time=   0.1s\n",
            "[CV] END gamma=0, learning_rate=0.1, max_depth=7, n_estimators=100; total time=   0.1s\n",
            "[CV] END gamma=0, learning_rate=0.1, max_depth=7, n_estimators=100; total time=   0.1s\n",
            "[CV] END gamma=0, learning_rate=0.1, max_depth=7, n_estimators=100; total time=   0.1s\n",
            "[CV] END gamma=0, learning_rate=0.1, max_depth=7, n_estimators=150; total time=   0.1s\n",
            "[CV] END gamma=0, learning_rate=0.1, max_depth=7, n_estimators=150; total time=   0.1s\n",
            "[CV] END gamma=0, learning_rate=0.1, max_depth=7, n_estimators=150; total time=   0.1s\n",
            "[CV] END gamma=0, learning_rate=0.1, max_depth=7, n_estimators=150; total time=   0.1s\n",
            "[CV] END gamma=0, learning_rate=0.1, max_depth=7, n_estimators=150; total time=   0.1s\n",
            "[CV] END gamma=0, learning_rate=0.1, max_depth=7, n_estimators=200; total time=   0.1s\n",
            "[CV] END gamma=0, learning_rate=0.1, max_depth=7, n_estimators=200; total time=   0.1s\n",
            "[CV] END gamma=0, learning_rate=0.1, max_depth=7, n_estimators=200; total time=   0.1s\n",
            "[CV] END gamma=0, learning_rate=0.1, max_depth=7, n_estimators=200; total time=   0.1s\n",
            "[CV] END gamma=0, learning_rate=0.1, max_depth=7, n_estimators=200; total time=   0.1s\n",
            "[CV] END gamma=0, learning_rate=0.2, max_depth=3, n_estimators=50; total time=   0.0s\n",
            "[CV] END gamma=0, learning_rate=0.2, max_depth=3, n_estimators=50; total time=   0.0s\n",
            "[CV] END gamma=0, learning_rate=0.2, max_depth=3, n_estimators=50; total time=   0.0s\n",
            "[CV] END gamma=0, learning_rate=0.2, max_depth=3, n_estimators=50; total time=   0.0s\n",
            "[CV] END gamma=0, learning_rate=0.2, max_depth=3, n_estimators=50; total time=   0.0s\n",
            "[CV] END gamma=0, learning_rate=0.2, max_depth=3, n_estimators=100; total time=   0.1s\n",
            "[CV] END gamma=0, learning_rate=0.2, max_depth=3, n_estimators=100; total time=   0.0s\n",
            "[CV] END gamma=0, learning_rate=0.2, max_depth=3, n_estimators=100; total time=   0.0s\n",
            "[CV] END gamma=0, learning_rate=0.2, max_depth=3, n_estimators=100; total time=   0.0s\n",
            "[CV] END gamma=0, learning_rate=0.2, max_depth=3, n_estimators=100; total time=   0.0s\n",
            "[CV] END gamma=0, learning_rate=0.2, max_depth=3, n_estimators=150; total time=   0.1s\n",
            "[CV] END gamma=0, learning_rate=0.2, max_depth=3, n_estimators=150; total time=   0.1s\n",
            "[CV] END gamma=0, learning_rate=0.2, max_depth=3, n_estimators=150; total time=   0.1s\n",
            "[CV] END gamma=0, learning_rate=0.2, max_depth=3, n_estimators=150; total time=   0.1s\n",
            "[CV] END gamma=0, learning_rate=0.2, max_depth=3, n_estimators=150; total time=   0.1s\n",
            "[CV] END gamma=0, learning_rate=0.2, max_depth=3, n_estimators=200; total time=   0.1s\n",
            "[CV] END gamma=0, learning_rate=0.2, max_depth=3, n_estimators=200; total time=   0.1s\n",
            "[CV] END gamma=0, learning_rate=0.2, max_depth=3, n_estimators=200; total time=   0.1s\n",
            "[CV] END gamma=0, learning_rate=0.2, max_depth=3, n_estimators=200; total time=   0.1s\n",
            "[CV] END gamma=0, learning_rate=0.2, max_depth=3, n_estimators=200; total time=   0.1s\n",
            "[CV] END gamma=0, learning_rate=0.2, max_depth=5, n_estimators=50; total time=   0.1s\n",
            "[CV] END gamma=0, learning_rate=0.2, max_depth=5, n_estimators=50; total time=   0.1s\n",
            "[CV] END gamma=0, learning_rate=0.2, max_depth=5, n_estimators=50; total time=   0.6s\n",
            "[CV] END gamma=0, learning_rate=0.2, max_depth=5, n_estimators=50; total time=   0.5s\n",
            "[CV] END gamma=0, learning_rate=0.2, max_depth=5, n_estimators=50; total time=   0.1s\n",
            "[CV] END gamma=0, learning_rate=0.2, max_depth=5, n_estimators=100; total time=   3.0s\n",
            "[CV] END gamma=0, learning_rate=0.2, max_depth=5, n_estimators=100; total time=   0.5s\n",
            "[CV] END gamma=0, learning_rate=0.2, max_depth=5, n_estimators=100; total time=   0.2s\n",
            "[CV] END gamma=0, learning_rate=0.2, max_depth=5, n_estimators=100; total time=   0.1s\n",
            "[CV] END gamma=0, learning_rate=0.2, max_depth=5, n_estimators=100; total time=   0.1s\n",
            "[CV] END gamma=0, learning_rate=0.2, max_depth=5, n_estimators=150; total time=   0.1s\n",
            "[CV] END gamma=0, learning_rate=0.2, max_depth=5, n_estimators=150; total time=   0.1s\n",
            "[CV] END gamma=0, learning_rate=0.2, max_depth=5, n_estimators=150; total time=   0.1s\n",
            "[CV] END gamma=0, learning_rate=0.2, max_depth=5, n_estimators=150; total time=   0.1s\n",
            "[CV] END gamma=0, learning_rate=0.2, max_depth=5, n_estimators=150; total time=   0.1s\n",
            "[CV] END gamma=0, learning_rate=0.2, max_depth=5, n_estimators=200; total time=   0.1s\n",
            "[CV] END gamma=0, learning_rate=0.2, max_depth=5, n_estimators=200; total time=   0.1s\n",
            "[CV] END gamma=0, learning_rate=0.2, max_depth=5, n_estimators=200; total time=   0.1s\n",
            "[CV] END gamma=0, learning_rate=0.2, max_depth=5, n_estimators=200; total time=   0.1s\n",
            "[CV] END gamma=0, learning_rate=0.2, max_depth=5, n_estimators=200; total time=   0.1s\n",
            "[CV] END gamma=0, learning_rate=0.2, max_depth=7, n_estimators=50; total time=   0.0s\n",
            "[CV] END gamma=0, learning_rate=0.2, max_depth=7, n_estimators=50; total time=   0.0s\n",
            "[CV] END gamma=0, learning_rate=0.2, max_depth=7, n_estimators=50; total time=   0.0s\n",
            "[CV] END gamma=0, learning_rate=0.2, max_depth=7, n_estimators=50; total time=   0.0s\n",
            "[CV] END gamma=0, learning_rate=0.2, max_depth=7, n_estimators=50; total time=   0.1s\n",
            "[CV] END gamma=0, learning_rate=0.2, max_depth=7, n_estimators=100; total time=   0.1s\n",
            "[CV] END gamma=0, learning_rate=0.2, max_depth=7, n_estimators=100; total time=   0.1s\n",
            "[CV] END gamma=0, learning_rate=0.2, max_depth=7, n_estimators=100; total time=   0.1s\n",
            "[CV] END gamma=0, learning_rate=0.2, max_depth=7, n_estimators=100; total time=   0.1s\n",
            "[CV] END gamma=0, learning_rate=0.2, max_depth=7, n_estimators=100; total time=   0.1s\n",
            "[CV] END gamma=0, learning_rate=0.2, max_depth=7, n_estimators=150; total time=   0.1s\n",
            "[CV] END gamma=0, learning_rate=0.2, max_depth=7, n_estimators=150; total time=   0.1s\n",
            "[CV] END gamma=0, learning_rate=0.2, max_depth=7, n_estimators=150; total time=   0.1s\n",
            "[CV] END gamma=0, learning_rate=0.2, max_depth=7, n_estimators=150; total time=   0.1s\n",
            "[CV] END gamma=0, learning_rate=0.2, max_depth=7, n_estimators=150; total time=   0.1s\n",
            "[CV] END gamma=0, learning_rate=0.2, max_depth=7, n_estimators=200; total time=   0.1s\n",
            "[CV] END gamma=0, learning_rate=0.2, max_depth=7, n_estimators=200; total time=   0.1s\n",
            "[CV] END gamma=0, learning_rate=0.2, max_depth=7, n_estimators=200; total time=   0.1s\n",
            "[CV] END gamma=0, learning_rate=0.2, max_depth=7, n_estimators=200; total time=   0.1s\n",
            "[CV] END gamma=0, learning_rate=0.2, max_depth=7, n_estimators=200; total time=   0.1s\n",
            "[CV] END gamma=1, learning_rate=0.01, max_depth=3, n_estimators=50; total time=   0.0s\n",
            "[CV] END gamma=1, learning_rate=0.01, max_depth=3, n_estimators=50; total time=   0.0s\n",
            "[CV] END gamma=1, learning_rate=0.01, max_depth=3, n_estimators=50; total time=   0.0s\n",
            "[CV] END gamma=1, learning_rate=0.01, max_depth=3, n_estimators=50; total time=   0.0s\n",
            "[CV] END gamma=1, learning_rate=0.01, max_depth=3, n_estimators=50; total time=   0.0s\n",
            "[CV] END gamma=1, learning_rate=0.01, max_depth=3, n_estimators=100; total time=   0.0s\n",
            "[CV] END gamma=1, learning_rate=0.01, max_depth=3, n_estimators=100; total time=   0.1s\n",
            "[CV] END gamma=1, learning_rate=0.01, max_depth=3, n_estimators=100; total time=   0.0s\n",
            "[CV] END gamma=1, learning_rate=0.01, max_depth=3, n_estimators=100; total time=   0.0s\n",
            "[CV] END gamma=1, learning_rate=0.01, max_depth=3, n_estimators=100; total time=   0.1s\n",
            "[CV] END gamma=1, learning_rate=0.01, max_depth=3, n_estimators=150; total time=   0.1s\n",
            "[CV] END gamma=1, learning_rate=0.01, max_depth=3, n_estimators=150; total time=   0.1s\n",
            "[CV] END gamma=1, learning_rate=0.01, max_depth=3, n_estimators=150; total time=   0.1s\n",
            "[CV] END gamma=1, learning_rate=0.01, max_depth=3, n_estimators=150; total time=   0.1s\n",
            "[CV] END gamma=1, learning_rate=0.01, max_depth=3, n_estimators=150; total time=   0.1s\n",
            "[CV] END gamma=1, learning_rate=0.01, max_depth=3, n_estimators=200; total time=   0.1s\n",
            "[CV] END gamma=1, learning_rate=0.01, max_depth=3, n_estimators=200; total time=   0.1s\n",
            "[CV] END gamma=1, learning_rate=0.01, max_depth=3, n_estimators=200; total time=   0.1s\n",
            "[CV] END gamma=1, learning_rate=0.01, max_depth=3, n_estimators=200; total time=   0.1s\n",
            "[CV] END gamma=1, learning_rate=0.01, max_depth=3, n_estimators=200; total time=   0.1s\n",
            "[CV] END gamma=1, learning_rate=0.01, max_depth=5, n_estimators=50; total time=   0.0s\n",
            "[CV] END gamma=1, learning_rate=0.01, max_depth=5, n_estimators=50; total time=   0.0s\n",
            "[CV] END gamma=1, learning_rate=0.01, max_depth=5, n_estimators=50; total time=   0.0s\n",
            "[CV] END gamma=1, learning_rate=0.01, max_depth=5, n_estimators=50; total time=   0.0s\n",
            "[CV] END gamma=1, learning_rate=0.01, max_depth=5, n_estimators=50; total time=   0.0s\n",
            "[CV] END gamma=1, learning_rate=0.01, max_depth=5, n_estimators=100; total time=   0.1s\n",
            "[CV] END gamma=1, learning_rate=0.01, max_depth=5, n_estimators=100; total time=   0.1s\n",
            "[CV] END gamma=1, learning_rate=0.01, max_depth=5, n_estimators=100; total time=   0.1s\n",
            "[CV] END gamma=1, learning_rate=0.01, max_depth=5, n_estimators=100; total time=   0.1s\n",
            "[CV] END gamma=1, learning_rate=0.01, max_depth=5, n_estimators=100; total time=   0.1s\n",
            "[CV] END gamma=1, learning_rate=0.01, max_depth=5, n_estimators=150; total time=   0.1s\n",
            "[CV] END gamma=1, learning_rate=0.01, max_depth=5, n_estimators=150; total time=   0.1s\n",
            "[CV] END gamma=1, learning_rate=0.01, max_depth=5, n_estimators=150; total time=   0.1s\n",
            "[CV] END gamma=1, learning_rate=0.01, max_depth=5, n_estimators=150; total time=   0.1s\n",
            "[CV] END gamma=1, learning_rate=0.01, max_depth=5, n_estimators=150; total time=   0.1s\n",
            "[CV] END gamma=1, learning_rate=0.01, max_depth=5, n_estimators=200; total time=   0.1s\n",
            "[CV] END gamma=1, learning_rate=0.01, max_depth=5, n_estimators=200; total time=   0.1s\n",
            "[CV] END gamma=1, learning_rate=0.01, max_depth=5, n_estimators=200; total time=   0.1s\n",
            "[CV] END gamma=1, learning_rate=0.01, max_depth=5, n_estimators=200; total time=   0.1s\n",
            "[CV] END gamma=1, learning_rate=0.01, max_depth=5, n_estimators=200; total time=   0.1s\n",
            "[CV] END gamma=1, learning_rate=0.01, max_depth=7, n_estimators=50; total time=   0.0s\n",
            "[CV] END gamma=1, learning_rate=0.01, max_depth=7, n_estimators=50; total time=   0.0s\n",
            "[CV] END gamma=1, learning_rate=0.01, max_depth=7, n_estimators=50; total time=   0.0s\n",
            "[CV] END gamma=1, learning_rate=0.01, max_depth=7, n_estimators=50; total time=   0.1s\n",
            "[CV] END gamma=1, learning_rate=0.01, max_depth=7, n_estimators=50; total time=   0.0s\n",
            "[CV] END gamma=1, learning_rate=0.01, max_depth=7, n_estimators=100; total time=   0.1s\n",
            "[CV] END gamma=1, learning_rate=0.01, max_depth=7, n_estimators=100; total time=   0.1s\n",
            "[CV] END gamma=1, learning_rate=0.01, max_depth=7, n_estimators=100; total time=   0.1s\n",
            "[CV] END gamma=1, learning_rate=0.01, max_depth=7, n_estimators=100; total time=   0.1s\n",
            "[CV] END gamma=1, learning_rate=0.01, max_depth=7, n_estimators=100; total time=   0.1s\n",
            "[CV] END gamma=1, learning_rate=0.01, max_depth=7, n_estimators=150; total time=   0.1s\n",
            "[CV] END gamma=1, learning_rate=0.01, max_depth=7, n_estimators=150; total time=   0.1s\n",
            "[CV] END gamma=1, learning_rate=0.01, max_depth=7, n_estimators=150; total time=   0.1s\n",
            "[CV] END gamma=1, learning_rate=0.01, max_depth=7, n_estimators=150; total time=   0.1s\n",
            "[CV] END gamma=1, learning_rate=0.01, max_depth=7, n_estimators=150; total time=   0.1s\n",
            "[CV] END gamma=1, learning_rate=0.01, max_depth=7, n_estimators=200; total time=   0.1s\n",
            "[CV] END gamma=1, learning_rate=0.01, max_depth=7, n_estimators=200; total time=   0.1s\n",
            "[CV] END gamma=1, learning_rate=0.01, max_depth=7, n_estimators=200; total time=   0.1s\n",
            "[CV] END gamma=1, learning_rate=0.01, max_depth=7, n_estimators=200; total time=   0.1s\n",
            "[CV] END gamma=1, learning_rate=0.01, max_depth=7, n_estimators=200; total time=   0.1s\n",
            "[CV] END gamma=1, learning_rate=0.1, max_depth=3, n_estimators=50; total time=   0.0s\n",
            "[CV] END gamma=1, learning_rate=0.1, max_depth=3, n_estimators=50; total time=   0.0s\n",
            "[CV] END gamma=1, learning_rate=0.1, max_depth=3, n_estimators=50; total time=   0.0s\n",
            "[CV] END gamma=1, learning_rate=0.1, max_depth=3, n_estimators=50; total time=   0.0s\n",
            "[CV] END gamma=1, learning_rate=0.1, max_depth=3, n_estimators=50; total time=   0.0s\n",
            "[CV] END gamma=1, learning_rate=0.1, max_depth=3, n_estimators=100; total time=   0.0s\n",
            "[CV] END gamma=1, learning_rate=0.1, max_depth=3, n_estimators=100; total time=   0.0s\n",
            "[CV] END gamma=1, learning_rate=0.1, max_depth=3, n_estimators=100; total time=   0.0s\n",
            "[CV] END gamma=1, learning_rate=0.1, max_depth=3, n_estimators=100; total time=   0.0s\n",
            "[CV] END gamma=1, learning_rate=0.1, max_depth=3, n_estimators=100; total time=   0.0s\n",
            "[CV] END gamma=1, learning_rate=0.1, max_depth=3, n_estimators=150; total time=   0.0s\n",
            "[CV] END gamma=1, learning_rate=0.1, max_depth=3, n_estimators=150; total time=   0.0s\n",
            "[CV] END gamma=1, learning_rate=0.1, max_depth=3, n_estimators=150; total time=   0.0s\n",
            "[CV] END gamma=1, learning_rate=0.1, max_depth=3, n_estimators=150; total time=   0.0s\n",
            "[CV] END gamma=1, learning_rate=0.1, max_depth=3, n_estimators=150; total time=   0.0s\n",
            "[CV] END gamma=1, learning_rate=0.1, max_depth=3, n_estimators=200; total time=   0.1s\n",
            "[CV] END gamma=1, learning_rate=0.1, max_depth=3, n_estimators=200; total time=   0.1s\n",
            "[CV] END gamma=1, learning_rate=0.1, max_depth=3, n_estimators=200; total time=   0.1s\n",
            "[CV] END gamma=1, learning_rate=0.1, max_depth=3, n_estimators=200; total time=   0.1s\n",
            "[CV] END gamma=1, learning_rate=0.1, max_depth=3, n_estimators=200; total time=   0.1s\n",
            "[CV] END gamma=1, learning_rate=0.1, max_depth=5, n_estimators=50; total time=   0.0s\n",
            "[CV] END gamma=1, learning_rate=0.1, max_depth=5, n_estimators=50; total time=   0.0s\n",
            "[CV] END gamma=1, learning_rate=0.1, max_depth=5, n_estimators=50; total time=   0.0s\n",
            "[CV] END gamma=1, learning_rate=0.1, max_depth=5, n_estimators=50; total time=   0.0s\n",
            "[CV] END gamma=1, learning_rate=0.1, max_depth=5, n_estimators=50; total time=   0.0s\n",
            "[CV] END gamma=1, learning_rate=0.1, max_depth=5, n_estimators=100; total time=   0.0s\n",
            "[CV] END gamma=1, learning_rate=0.1, max_depth=5, n_estimators=100; total time=   0.0s\n",
            "[CV] END gamma=1, learning_rate=0.1, max_depth=5, n_estimators=100; total time=   0.0s\n",
            "[CV] END gamma=1, learning_rate=0.1, max_depth=5, n_estimators=100; total time=   0.0s\n",
            "[CV] END gamma=1, learning_rate=0.1, max_depth=5, n_estimators=100; total time=   0.0s\n",
            "[CV] END gamma=1, learning_rate=0.1, max_depth=5, n_estimators=150; total time=   0.0s\n",
            "[CV] END gamma=1, learning_rate=0.1, max_depth=5, n_estimators=150; total time=   0.0s\n",
            "[CV] END gamma=1, learning_rate=0.1, max_depth=5, n_estimators=150; total time=   0.1s\n",
            "[CV] END gamma=1, learning_rate=0.1, max_depth=5, n_estimators=150; total time=   0.1s\n",
            "[CV] END gamma=1, learning_rate=0.1, max_depth=5, n_estimators=150; total time=   0.0s\n",
            "[CV] END gamma=1, learning_rate=0.1, max_depth=5, n_estimators=200; total time=   0.1s\n",
            "[CV] END gamma=1, learning_rate=0.1, max_depth=5, n_estimators=200; total time=   0.1s\n",
            "[CV] END gamma=1, learning_rate=0.1, max_depth=5, n_estimators=200; total time=   0.1s\n",
            "[CV] END gamma=1, learning_rate=0.1, max_depth=5, n_estimators=200; total time=   0.1s\n",
            "[CV] END gamma=1, learning_rate=0.1, max_depth=5, n_estimators=200; total time=   0.1s\n",
            "[CV] END gamma=1, learning_rate=0.1, max_depth=7, n_estimators=50; total time=   0.0s\n",
            "[CV] END gamma=1, learning_rate=0.1, max_depth=7, n_estimators=50; total time=   0.0s\n",
            "[CV] END gamma=1, learning_rate=0.1, max_depth=7, n_estimators=50; total time=   0.0s\n",
            "[CV] END gamma=1, learning_rate=0.1, max_depth=7, n_estimators=50; total time=   0.0s\n",
            "[CV] END gamma=1, learning_rate=0.1, max_depth=7, n_estimators=50; total time=   0.0s\n",
            "[CV] END gamma=1, learning_rate=0.1, max_depth=7, n_estimators=100; total time=   0.1s\n",
            "[CV] END gamma=1, learning_rate=0.1, max_depth=7, n_estimators=100; total time=   0.1s\n",
            "[CV] END gamma=1, learning_rate=0.1, max_depth=7, n_estimators=100; total time=   0.0s\n",
            "[CV] END gamma=1, learning_rate=0.1, max_depth=7, n_estimators=100; total time=   0.0s\n",
            "[CV] END gamma=1, learning_rate=0.1, max_depth=7, n_estimators=100; total time=   0.0s\n",
            "[CV] END gamma=1, learning_rate=0.1, max_depth=7, n_estimators=150; total time=   0.0s\n",
            "[CV] END gamma=1, learning_rate=0.1, max_depth=7, n_estimators=150; total time=   0.1s\n",
            "[CV] END gamma=1, learning_rate=0.1, max_depth=7, n_estimators=150; total time=   0.1s\n",
            "[CV] END gamma=1, learning_rate=0.1, max_depth=7, n_estimators=150; total time=   0.1s\n",
            "[CV] END gamma=1, learning_rate=0.1, max_depth=7, n_estimators=150; total time=   0.0s\n",
            "[CV] END gamma=1, learning_rate=0.1, max_depth=7, n_estimators=200; total time=   0.1s\n",
            "[CV] END gamma=1, learning_rate=0.1, max_depth=7, n_estimators=200; total time=   0.1s\n",
            "[CV] END gamma=1, learning_rate=0.1, max_depth=7, n_estimators=200; total time=   0.1s\n",
            "[CV] END gamma=1, learning_rate=0.1, max_depth=7, n_estimators=200; total time=   0.1s\n",
            "[CV] END gamma=1, learning_rate=0.1, max_depth=7, n_estimators=200; total time=   0.1s\n",
            "[CV] END gamma=1, learning_rate=0.2, max_depth=3, n_estimators=50; total time=   0.0s\n",
            "[CV] END gamma=1, learning_rate=0.2, max_depth=3, n_estimators=50; total time=   0.1s\n",
            "[CV] END gamma=1, learning_rate=0.2, max_depth=3, n_estimators=50; total time=   0.2s\n",
            "[CV] END gamma=1, learning_rate=0.2, max_depth=3, n_estimators=50; total time=   0.6s\n",
            "[CV] END gamma=1, learning_rate=0.2, max_depth=3, n_estimators=50; total time=   0.4s\n",
            "[CV] END gamma=1, learning_rate=0.2, max_depth=3, n_estimators=100; total time=   0.1s\n",
            "[CV] END gamma=1, learning_rate=0.2, max_depth=3, n_estimators=100; total time=   0.3s\n",
            "[CV] END gamma=1, learning_rate=0.2, max_depth=3, n_estimators=100; total time=   0.7s\n",
            "[CV] END gamma=1, learning_rate=0.2, max_depth=3, n_estimators=100; total time=   1.8s\n",
            "[CV] END gamma=1, learning_rate=0.2, max_depth=3, n_estimators=100; total time=   0.6s\n",
            "[CV] END gamma=1, learning_rate=0.2, max_depth=3, n_estimators=150; total time=   0.5s\n",
            "[CV] END gamma=1, learning_rate=0.2, max_depth=3, n_estimators=150; total time=   0.1s\n",
            "[CV] END gamma=1, learning_rate=0.2, max_depth=3, n_estimators=150; total time=   0.0s\n",
            "[CV] END gamma=1, learning_rate=0.2, max_depth=3, n_estimators=150; total time=   0.0s\n",
            "[CV] END gamma=1, learning_rate=0.2, max_depth=3, n_estimators=150; total time=   0.1s\n",
            "[CV] END gamma=1, learning_rate=0.2, max_depth=3, n_estimators=200; total time=   0.1s\n",
            "[CV] END gamma=1, learning_rate=0.2, max_depth=3, n_estimators=200; total time=   0.1s\n",
            "[CV] END gamma=1, learning_rate=0.2, max_depth=3, n_estimators=200; total time=   0.1s\n",
            "[CV] END gamma=1, learning_rate=0.2, max_depth=3, n_estimators=200; total time=   0.1s\n",
            "[CV] END gamma=1, learning_rate=0.2, max_depth=3, n_estimators=200; total time=   0.1s\n",
            "[CV] END gamma=1, learning_rate=0.2, max_depth=5, n_estimators=50; total time=   0.0s\n",
            "[CV] END gamma=1, learning_rate=0.2, max_depth=5, n_estimators=50; total time=   0.0s\n",
            "[CV] END gamma=1, learning_rate=0.2, max_depth=5, n_estimators=50; total time=   0.0s\n",
            "[CV] END gamma=1, learning_rate=0.2, max_depth=5, n_estimators=50; total time=   0.0s\n",
            "[CV] END gamma=1, learning_rate=0.2, max_depth=5, n_estimators=50; total time=   0.0s\n",
            "[CV] END gamma=1, learning_rate=0.2, max_depth=5, n_estimators=100; total time=   0.0s\n",
            "[CV] END gamma=1, learning_rate=0.2, max_depth=5, n_estimators=100; total time=   0.0s\n",
            "[CV] END gamma=1, learning_rate=0.2, max_depth=5, n_estimators=100; total time=   0.0s\n",
            "[CV] END gamma=1, learning_rate=0.2, max_depth=5, n_estimators=100; total time=   0.0s\n",
            "[CV] END gamma=1, learning_rate=0.2, max_depth=5, n_estimators=100; total time=   0.0s\n",
            "[CV] END gamma=1, learning_rate=0.2, max_depth=5, n_estimators=150; total time=   0.0s\n",
            "[CV] END gamma=1, learning_rate=0.2, max_depth=5, n_estimators=150; total time=   0.0s\n",
            "[CV] END gamma=1, learning_rate=0.2, max_depth=5, n_estimators=150; total time=   0.1s\n",
            "[CV] END gamma=1, learning_rate=0.2, max_depth=5, n_estimators=150; total time=   0.0s\n",
            "[CV] END gamma=1, learning_rate=0.2, max_depth=5, n_estimators=150; total time=   0.0s\n",
            "[CV] END gamma=1, learning_rate=0.2, max_depth=5, n_estimators=200; total time=   0.1s\n",
            "[CV] END gamma=1, learning_rate=0.2, max_depth=5, n_estimators=200; total time=   0.1s\n",
            "[CV] END gamma=1, learning_rate=0.2, max_depth=5, n_estimators=200; total time=   0.1s\n",
            "[CV] END gamma=1, learning_rate=0.2, max_depth=5, n_estimators=200; total time=   0.1s\n",
            "[CV] END gamma=1, learning_rate=0.2, max_depth=5, n_estimators=200; total time=   0.1s\n",
            "[CV] END gamma=1, learning_rate=0.2, max_depth=7, n_estimators=50; total time=   0.0s\n",
            "[CV] END gamma=1, learning_rate=0.2, max_depth=7, n_estimators=50; total time=   0.0s\n",
            "[CV] END gamma=1, learning_rate=0.2, max_depth=7, n_estimators=50; total time=   0.0s\n",
            "[CV] END gamma=1, learning_rate=0.2, max_depth=7, n_estimators=50; total time=   0.0s\n",
            "[CV] END gamma=1, learning_rate=0.2, max_depth=7, n_estimators=50; total time=   0.0s\n",
            "[CV] END gamma=1, learning_rate=0.2, max_depth=7, n_estimators=100; total time=   0.0s\n",
            "[CV] END gamma=1, learning_rate=0.2, max_depth=7, n_estimators=100; total time=   0.0s\n",
            "[CV] END gamma=1, learning_rate=0.2, max_depth=7, n_estimators=100; total time=   0.0s\n",
            "[CV] END gamma=1, learning_rate=0.2, max_depth=7, n_estimators=100; total time=   0.0s\n",
            "[CV] END gamma=1, learning_rate=0.2, max_depth=7, n_estimators=100; total time=   0.0s\n",
            "[CV] END gamma=1, learning_rate=0.2, max_depth=7, n_estimators=150; total time=   0.0s\n",
            "[CV] END gamma=1, learning_rate=0.2, max_depth=7, n_estimators=150; total time=   0.0s\n",
            "[CV] END gamma=1, learning_rate=0.2, max_depth=7, n_estimators=150; total time=   0.0s\n",
            "[CV] END gamma=1, learning_rate=0.2, max_depth=7, n_estimators=150; total time=   0.0s\n",
            "[CV] END gamma=1, learning_rate=0.2, max_depth=7, n_estimators=150; total time=   0.0s\n",
            "[CV] END gamma=1, learning_rate=0.2, max_depth=7, n_estimators=200; total time=   0.1s\n",
            "[CV] END gamma=1, learning_rate=0.2, max_depth=7, n_estimators=200; total time=   0.1s\n",
            "[CV] END gamma=1, learning_rate=0.2, max_depth=7, n_estimators=200; total time=   0.1s\n",
            "[CV] END gamma=1, learning_rate=0.2, max_depth=7, n_estimators=200; total time=   0.1s\n",
            "[CV] END gamma=1, learning_rate=0.2, max_depth=7, n_estimators=200; total time=   0.1s\n",
            "[CV] END gamma=5, learning_rate=0.01, max_depth=3, n_estimators=50; total time=   0.0s\n",
            "[CV] END gamma=5, learning_rate=0.01, max_depth=3, n_estimators=50; total time=   0.0s\n",
            "[CV] END gamma=5, learning_rate=0.01, max_depth=3, n_estimators=50; total time=   0.0s\n",
            "[CV] END gamma=5, learning_rate=0.01, max_depth=3, n_estimators=50; total time=   0.0s\n",
            "[CV] END gamma=5, learning_rate=0.01, max_depth=3, n_estimators=50; total time=   0.0s\n",
            "[CV] END gamma=5, learning_rate=0.01, max_depth=3, n_estimators=100; total time=   0.0s\n",
            "[CV] END gamma=5, learning_rate=0.01, max_depth=3, n_estimators=100; total time=   0.0s\n",
            "[CV] END gamma=5, learning_rate=0.01, max_depth=3, n_estimators=100; total time=   0.0s\n",
            "[CV] END gamma=5, learning_rate=0.01, max_depth=3, n_estimators=100; total time=   0.0s\n",
            "[CV] END gamma=5, learning_rate=0.01, max_depth=3, n_estimators=100; total time=   0.0s\n",
            "[CV] END gamma=5, learning_rate=0.01, max_depth=3, n_estimators=150; total time=   0.1s\n",
            "[CV] END gamma=5, learning_rate=0.01, max_depth=3, n_estimators=150; total time=   0.0s\n",
            "[CV] END gamma=5, learning_rate=0.01, max_depth=3, n_estimators=150; total time=   0.1s\n",
            "[CV] END gamma=5, learning_rate=0.01, max_depth=3, n_estimators=150; total time=   0.1s\n",
            "[CV] END gamma=5, learning_rate=0.01, max_depth=3, n_estimators=150; total time=   0.1s\n",
            "[CV] END gamma=5, learning_rate=0.01, max_depth=3, n_estimators=200; total time=   0.1s\n",
            "[CV] END gamma=5, learning_rate=0.01, max_depth=3, n_estimators=200; total time=   0.1s\n",
            "[CV] END gamma=5, learning_rate=0.01, max_depth=3, n_estimators=200; total time=   0.1s\n",
            "[CV] END gamma=5, learning_rate=0.01, max_depth=3, n_estimators=200; total time=   0.1s\n",
            "[CV] END gamma=5, learning_rate=0.01, max_depth=3, n_estimators=200; total time=   0.1s\n",
            "[CV] END gamma=5, learning_rate=0.01, max_depth=5, n_estimators=50; total time=   0.0s\n",
            "[CV] END gamma=5, learning_rate=0.01, max_depth=5, n_estimators=50; total time=   0.0s\n",
            "[CV] END gamma=5, learning_rate=0.01, max_depth=5, n_estimators=50; total time=   0.0s\n",
            "[CV] END gamma=5, learning_rate=0.01, max_depth=5, n_estimators=50; total time=   0.0s\n",
            "[CV] END gamma=5, learning_rate=0.01, max_depth=5, n_estimators=50; total time=   0.0s\n",
            "[CV] END gamma=5, learning_rate=0.01, max_depth=5, n_estimators=100; total time=   0.0s\n",
            "[CV] END gamma=5, learning_rate=0.01, max_depth=5, n_estimators=100; total time=   0.0s\n",
            "[CV] END gamma=5, learning_rate=0.01, max_depth=5, n_estimators=100; total time=   0.0s\n",
            "[CV] END gamma=5, learning_rate=0.01, max_depth=5, n_estimators=100; total time=   0.0s\n",
            "[CV] END gamma=5, learning_rate=0.01, max_depth=5, n_estimators=100; total time=   0.0s\n",
            "[CV] END gamma=5, learning_rate=0.01, max_depth=5, n_estimators=150; total time=   0.1s\n",
            "[CV] END gamma=5, learning_rate=0.01, max_depth=5, n_estimators=150; total time=   0.1s\n",
            "[CV] END gamma=5, learning_rate=0.01, max_depth=5, n_estimators=150; total time=   0.1s\n",
            "[CV] END gamma=5, learning_rate=0.01, max_depth=5, n_estimators=150; total time=   0.0s\n",
            "[CV] END gamma=5, learning_rate=0.01, max_depth=5, n_estimators=150; total time=   0.0s\n",
            "[CV] END gamma=5, learning_rate=0.01, max_depth=5, n_estimators=200; total time=   0.1s\n",
            "[CV] END gamma=5, learning_rate=0.01, max_depth=5, n_estimators=200; total time=   0.1s\n",
            "[CV] END gamma=5, learning_rate=0.01, max_depth=5, n_estimators=200; total time=   0.1s\n",
            "[CV] END gamma=5, learning_rate=0.01, max_depth=5, n_estimators=200; total time=   0.1s\n",
            "[CV] END gamma=5, learning_rate=0.01, max_depth=5, n_estimators=200; total time=   0.1s\n",
            "[CV] END gamma=5, learning_rate=0.01, max_depth=7, n_estimators=50; total time=   0.0s\n",
            "[CV] END gamma=5, learning_rate=0.01, max_depth=7, n_estimators=50; total time=   0.0s\n",
            "[CV] END gamma=5, learning_rate=0.01, max_depth=7, n_estimators=50; total time=   0.0s\n",
            "[CV] END gamma=5, learning_rate=0.01, max_depth=7, n_estimators=50; total time=   0.0s\n",
            "[CV] END gamma=5, learning_rate=0.01, max_depth=7, n_estimators=50; total time=   0.0s\n",
            "[CV] END gamma=5, learning_rate=0.01, max_depth=7, n_estimators=100; total time=   0.0s\n",
            "[CV] END gamma=5, learning_rate=0.01, max_depth=7, n_estimators=100; total time=   0.0s\n",
            "[CV] END gamma=5, learning_rate=0.01, max_depth=7, n_estimators=100; total time=   0.0s\n",
            "[CV] END gamma=5, learning_rate=0.01, max_depth=7, n_estimators=100; total time=   0.0s\n",
            "[CV] END gamma=5, learning_rate=0.01, max_depth=7, n_estimators=100; total time=   0.0s\n",
            "[CV] END gamma=5, learning_rate=0.01, max_depth=7, n_estimators=150; total time=   0.0s\n",
            "[CV] END gamma=5, learning_rate=0.01, max_depth=7, n_estimators=150; total time=   0.1s\n",
            "[CV] END gamma=5, learning_rate=0.01, max_depth=7, n_estimators=150; total time=   0.1s\n",
            "[CV] END gamma=5, learning_rate=0.01, max_depth=7, n_estimators=150; total time=   0.1s\n",
            "[CV] END gamma=5, learning_rate=0.01, max_depth=7, n_estimators=150; total time=   0.0s\n",
            "[CV] END gamma=5, learning_rate=0.01, max_depth=7, n_estimators=200; total time=   0.1s\n",
            "[CV] END gamma=5, learning_rate=0.01, max_depth=7, n_estimators=200; total time=   0.1s\n",
            "[CV] END gamma=5, learning_rate=0.01, max_depth=7, n_estimators=200; total time=   0.1s\n",
            "[CV] END gamma=5, learning_rate=0.01, max_depth=7, n_estimators=200; total time=   0.1s\n",
            "[CV] END gamma=5, learning_rate=0.01, max_depth=7, n_estimators=200; total time=   0.1s\n",
            "[CV] END gamma=5, learning_rate=0.1, max_depth=3, n_estimators=50; total time=   0.0s\n",
            "[CV] END gamma=5, learning_rate=0.1, max_depth=3, n_estimators=50; total time=   0.0s\n",
            "[CV] END gamma=5, learning_rate=0.1, max_depth=3, n_estimators=50; total time=   0.0s\n",
            "[CV] END gamma=5, learning_rate=0.1, max_depth=3, n_estimators=50; total time=   0.0s\n",
            "[CV] END gamma=5, learning_rate=0.1, max_depth=3, n_estimators=50; total time=   0.0s\n",
            "[CV] END gamma=5, learning_rate=0.1, max_depth=3, n_estimators=100; total time=   0.1s\n",
            "[CV] END gamma=5, learning_rate=0.1, max_depth=3, n_estimators=100; total time=   0.0s\n",
            "[CV] END gamma=5, learning_rate=0.1, max_depth=3, n_estimators=100; total time=   0.0s\n",
            "[CV] END gamma=5, learning_rate=0.1, max_depth=3, n_estimators=100; total time=   0.0s\n",
            "[CV] END gamma=5, learning_rate=0.1, max_depth=3, n_estimators=100; total time=   0.0s\n",
            "[CV] END gamma=5, learning_rate=0.1, max_depth=3, n_estimators=150; total time=   0.0s\n",
            "[CV] END gamma=5, learning_rate=0.1, max_depth=3, n_estimators=150; total time=   0.0s\n",
            "[CV] END gamma=5, learning_rate=0.1, max_depth=3, n_estimators=150; total time=   0.0s\n",
            "[CV] END gamma=5, learning_rate=0.1, max_depth=3, n_estimators=150; total time=   0.0s\n",
            "[CV] END gamma=5, learning_rate=0.1, max_depth=3, n_estimators=150; total time=   0.1s\n",
            "[CV] END gamma=5, learning_rate=0.1, max_depth=3, n_estimators=200; total time=   0.1s\n",
            "[CV] END gamma=5, learning_rate=0.1, max_depth=3, n_estimators=200; total time=   0.1s\n",
            "[CV] END gamma=5, learning_rate=0.1, max_depth=3, n_estimators=200; total time=   0.1s\n",
            "[CV] END gamma=5, learning_rate=0.1, max_depth=3, n_estimators=200; total time=   0.1s\n",
            "[CV] END gamma=5, learning_rate=0.1, max_depth=3, n_estimators=200; total time=   0.1s\n",
            "[CV] END gamma=5, learning_rate=0.1, max_depth=5, n_estimators=50; total time=   0.0s\n",
            "[CV] END gamma=5, learning_rate=0.1, max_depth=5, n_estimators=50; total time=   0.0s\n",
            "[CV] END gamma=5, learning_rate=0.1, max_depth=5, n_estimators=50; total time=   0.0s\n",
            "[CV] END gamma=5, learning_rate=0.1, max_depth=5, n_estimators=50; total time=   0.0s\n",
            "[CV] END gamma=5, learning_rate=0.1, max_depth=5, n_estimators=50; total time=   0.0s\n",
            "[CV] END gamma=5, learning_rate=0.1, max_depth=5, n_estimators=100; total time=   0.0s\n",
            "[CV] END gamma=5, learning_rate=0.1, max_depth=5, n_estimators=100; total time=   0.0s\n",
            "[CV] END gamma=5, learning_rate=0.1, max_depth=5, n_estimators=100; total time=   0.0s\n",
            "[CV] END gamma=5, learning_rate=0.1, max_depth=5, n_estimators=100; total time=   0.0s\n",
            "[CV] END gamma=5, learning_rate=0.1, max_depth=5, n_estimators=100; total time=   0.0s\n",
            "[CV] END gamma=5, learning_rate=0.1, max_depth=5, n_estimators=150; total time=   0.1s\n",
            "[CV] END gamma=5, learning_rate=0.1, max_depth=5, n_estimators=150; total time=   0.0s\n",
            "[CV] END gamma=5, learning_rate=0.1, max_depth=5, n_estimators=150; total time=   0.0s\n",
            "[CV] END gamma=5, learning_rate=0.1, max_depth=5, n_estimators=150; total time=   0.0s\n",
            "[CV] END gamma=5, learning_rate=0.1, max_depth=5, n_estimators=150; total time=   0.0s\n",
            "[CV] END gamma=5, learning_rate=0.1, max_depth=5, n_estimators=200; total time=   0.0s\n",
            "[CV] END gamma=5, learning_rate=0.1, max_depth=5, n_estimators=200; total time=   0.1s\n",
            "[CV] END gamma=5, learning_rate=0.1, max_depth=5, n_estimators=200; total time=   0.1s\n",
            "[CV] END gamma=5, learning_rate=0.1, max_depth=5, n_estimators=200; total time=   0.0s\n",
            "[CV] END gamma=5, learning_rate=0.1, max_depth=5, n_estimators=200; total time=   0.0s\n",
            "[CV] END gamma=5, learning_rate=0.1, max_depth=7, n_estimators=50; total time=   0.0s\n",
            "[CV] END gamma=5, learning_rate=0.1, max_depth=7, n_estimators=50; total time=   0.0s\n",
            "[CV] END gamma=5, learning_rate=0.1, max_depth=7, n_estimators=50; total time=   0.0s\n",
            "[CV] END gamma=5, learning_rate=0.1, max_depth=7, n_estimators=50; total time=   0.0s\n",
            "[CV] END gamma=5, learning_rate=0.1, max_depth=7, n_estimators=50; total time=   0.0s\n",
            "[CV] END gamma=5, learning_rate=0.1, max_depth=7, n_estimators=100; total time=   0.0s\n",
            "[CV] END gamma=5, learning_rate=0.1, max_depth=7, n_estimators=100; total time=   0.0s\n",
            "[CV] END gamma=5, learning_rate=0.1, max_depth=7, n_estimators=100; total time=   0.0s\n",
            "[CV] END gamma=5, learning_rate=0.1, max_depth=7, n_estimators=100; total time=   0.0s\n",
            "[CV] END gamma=5, learning_rate=0.1, max_depth=7, n_estimators=100; total time=   0.0s\n",
            "[CV] END gamma=5, learning_rate=0.1, max_depth=7, n_estimators=150; total time=   0.0s\n",
            "[CV] END gamma=5, learning_rate=0.1, max_depth=7, n_estimators=150; total time=   0.0s\n",
            "[CV] END gamma=5, learning_rate=0.1, max_depth=7, n_estimators=150; total time=   0.0s\n",
            "[CV] END gamma=5, learning_rate=0.1, max_depth=7, n_estimators=150; total time=   0.0s\n",
            "[CV] END gamma=5, learning_rate=0.1, max_depth=7, n_estimators=150; total time=   0.0s\n",
            "[CV] END gamma=5, learning_rate=0.1, max_depth=7, n_estimators=200; total time=   0.1s\n",
            "[CV] END gamma=5, learning_rate=0.1, max_depth=7, n_estimators=200; total time=   0.0s\n",
            "[CV] END gamma=5, learning_rate=0.1, max_depth=7, n_estimators=200; total time=   0.1s\n",
            "[CV] END gamma=5, learning_rate=0.1, max_depth=7, n_estimators=200; total time=   0.1s\n",
            "[CV] END gamma=5, learning_rate=0.1, max_depth=7, n_estimators=200; total time=   0.0s\n",
            "[CV] END gamma=5, learning_rate=0.2, max_depth=3, n_estimators=50; total time=   0.0s\n",
            "[CV] END gamma=5, learning_rate=0.2, max_depth=3, n_estimators=50; total time=   0.0s\n",
            "[CV] END gamma=5, learning_rate=0.2, max_depth=3, n_estimators=50; total time=   0.0s\n",
            "[CV] END gamma=5, learning_rate=0.2, max_depth=3, n_estimators=50; total time=   0.0s\n",
            "[CV] END gamma=5, learning_rate=0.2, max_depth=3, n_estimators=50; total time=   0.0s\n",
            "[CV] END gamma=5, learning_rate=0.2, max_depth=3, n_estimators=100; total time=   0.0s\n",
            "[CV] END gamma=5, learning_rate=0.2, max_depth=3, n_estimators=100; total time=   0.0s\n",
            "[CV] END gamma=5, learning_rate=0.2, max_depth=3, n_estimators=100; total time=   0.0s\n",
            "[CV] END gamma=5, learning_rate=0.2, max_depth=3, n_estimators=100; total time=   0.0s\n",
            "[CV] END gamma=5, learning_rate=0.2, max_depth=3, n_estimators=100; total time=   0.0s\n",
            "[CV] END gamma=5, learning_rate=0.2, max_depth=3, n_estimators=150; total time=   0.0s\n",
            "[CV] END gamma=5, learning_rate=0.2, max_depth=3, n_estimators=150; total time=   0.0s\n",
            "[CV] END gamma=5, learning_rate=0.2, max_depth=3, n_estimators=150; total time=   0.0s\n",
            "[CV] END gamma=5, learning_rate=0.2, max_depth=3, n_estimators=150; total time=   0.0s\n",
            "[CV] END gamma=5, learning_rate=0.2, max_depth=3, n_estimators=150; total time=   0.0s\n",
            "[CV] END gamma=5, learning_rate=0.2, max_depth=3, n_estimators=200; total time=   0.1s\n",
            "[CV] END gamma=5, learning_rate=0.2, max_depth=3, n_estimators=200; total time=   0.0s\n",
            "[CV] END gamma=5, learning_rate=0.2, max_depth=3, n_estimators=200; total time=   0.1s\n",
            "[CV] END gamma=5, learning_rate=0.2, max_depth=3, n_estimators=200; total time=   0.0s\n",
            "[CV] END gamma=5, learning_rate=0.2, max_depth=3, n_estimators=200; total time=   0.1s\n",
            "[CV] END gamma=5, learning_rate=0.2, max_depth=5, n_estimators=50; total time=   0.0s\n",
            "[CV] END gamma=5, learning_rate=0.2, max_depth=5, n_estimators=50; total time=   0.0s\n",
            "[CV] END gamma=5, learning_rate=0.2, max_depth=5, n_estimators=50; total time=   0.0s\n",
            "[CV] END gamma=5, learning_rate=0.2, max_depth=5, n_estimators=50; total time=   0.0s\n",
            "[CV] END gamma=5, learning_rate=0.2, max_depth=5, n_estimators=50; total time=   0.0s\n",
            "[CV] END gamma=5, learning_rate=0.2, max_depth=5, n_estimators=100; total time=   0.0s\n",
            "[CV] END gamma=5, learning_rate=0.2, max_depth=5, n_estimators=100; total time=   0.0s\n",
            "[CV] END gamma=5, learning_rate=0.2, max_depth=5, n_estimators=100; total time=   0.0s\n",
            "[CV] END gamma=5, learning_rate=0.2, max_depth=5, n_estimators=100; total time=   0.0s\n",
            "[CV] END gamma=5, learning_rate=0.2, max_depth=5, n_estimators=100; total time=   0.0s\n",
            "[CV] END gamma=5, learning_rate=0.2, max_depth=5, n_estimators=150; total time=   0.0s\n",
            "[CV] END gamma=5, learning_rate=0.2, max_depth=5, n_estimators=150; total time=   0.0s\n",
            "[CV] END gamma=5, learning_rate=0.2, max_depth=5, n_estimators=150; total time=   0.0s\n",
            "[CV] END gamma=5, learning_rate=0.2, max_depth=5, n_estimators=150; total time=   0.0s\n",
            "[CV] END gamma=5, learning_rate=0.2, max_depth=5, n_estimators=150; total time=   0.0s\n",
            "[CV] END gamma=5, learning_rate=0.2, max_depth=5, n_estimators=200; total time=   0.1s\n",
            "[CV] END gamma=5, learning_rate=0.2, max_depth=5, n_estimators=200; total time=   0.0s\n",
            "[CV] END gamma=5, learning_rate=0.2, max_depth=5, n_estimators=200; total time=   0.1s\n",
            "[CV] END gamma=5, learning_rate=0.2, max_depth=5, n_estimators=200; total time=   0.0s\n",
            "[CV] END gamma=5, learning_rate=0.2, max_depth=5, n_estimators=200; total time=   0.0s\n",
            "[CV] END gamma=5, learning_rate=0.2, max_depth=7, n_estimators=50; total time=   0.0s\n",
            "[CV] END gamma=5, learning_rate=0.2, max_depth=7, n_estimators=50; total time=   0.0s\n",
            "[CV] END gamma=5, learning_rate=0.2, max_depth=7, n_estimators=50; total time=   0.0s\n",
            "[CV] END gamma=5, learning_rate=0.2, max_depth=7, n_estimators=50; total time=   0.0s\n",
            "[CV] END gamma=5, learning_rate=0.2, max_depth=7, n_estimators=50; total time=   0.0s\n",
            "[CV] END gamma=5, learning_rate=0.2, max_depth=7, n_estimators=100; total time=   0.0s\n",
            "[CV] END gamma=5, learning_rate=0.2, max_depth=7, n_estimators=100; total time=   0.0s\n",
            "[CV] END gamma=5, learning_rate=0.2, max_depth=7, n_estimators=100; total time=   0.0s\n",
            "[CV] END gamma=5, learning_rate=0.2, max_depth=7, n_estimators=100; total time=   0.0s\n",
            "[CV] END gamma=5, learning_rate=0.2, max_depth=7, n_estimators=100; total time=   0.0s\n",
            "[CV] END gamma=5, learning_rate=0.2, max_depth=7, n_estimators=150; total time=   0.0s\n",
            "[CV] END gamma=5, learning_rate=0.2, max_depth=7, n_estimators=150; total time=   0.0s\n",
            "[CV] END gamma=5, learning_rate=0.2, max_depth=7, n_estimators=150; total time=   0.0s\n",
            "[CV] END gamma=5, learning_rate=0.2, max_depth=7, n_estimators=150; total time=   0.0s\n",
            "[CV] END gamma=5, learning_rate=0.2, max_depth=7, n_estimators=150; total time=   0.0s\n",
            "[CV] END gamma=5, learning_rate=0.2, max_depth=7, n_estimators=200; total time=   0.1s\n",
            "[CV] END gamma=5, learning_rate=0.2, max_depth=7, n_estimators=200; total time=   0.0s\n",
            "[CV] END gamma=5, learning_rate=0.2, max_depth=7, n_estimators=200; total time=   0.0s\n",
            "[CV] END gamma=5, learning_rate=0.2, max_depth=7, n_estimators=200; total time=   0.0s\n",
            "[CV] END gamma=5, learning_rate=0.2, max_depth=7, n_estimators=200; total time=   0.1s\n"
          ]
        },
        {
          "output_type": "execute_result",
          "data": {
            "text/plain": [
              "GridSearchCV(cv=5,\n",
              "             estimator=XGBClassifier(base_score=None, booster=None,\n",
              "                                     callbacks=None, colsample_bylevel=None,\n",
              "                                     colsample_bynode=None,\n",
              "                                     colsample_bytree=None, device=None,\n",
              "                                     early_stopping_rounds=None,\n",
              "                                     enable_categorical=False, eval_metric=None,\n",
              "                                     feature_types=None, gamma=None,\n",
              "                                     grow_policy=None, importance_type=None,\n",
              "                                     interaction_constraints=None,\n",
              "                                     learning_rate=None,...\n",
              "                                     max_cat_to_onehot=None,\n",
              "                                     max_delta_step=None, max_depth=None,\n",
              "                                     max_leaves=None, min_child_weight=None,\n",
              "                                     missing=nan, monotone_constraints=None,\n",
              "                                     multi_strategy=None, n_estimators=None,\n",
              "                                     n_jobs=None, num_parallel_tree=None,\n",
              "                                     random_state=None, ...),\n",
              "             param_grid={'gamma': [0, 1, 5], 'learning_rate': [0.01, 0.1, 0.2],\n",
              "                         'max_depth': [3, 5, 7],\n",
              "                         'n_estimators': [50, 100, 150, 200]},\n",
              "             scoring='accuracy', verbose=2)"
            ],
            "text/html": [
              "<style>#sk-container-id-6 {color: black;background-color: white;}#sk-container-id-6 pre{padding: 0;}#sk-container-id-6 div.sk-toggleable {background-color: white;}#sk-container-id-6 label.sk-toggleable__label {cursor: pointer;display: block;width: 100%;margin-bottom: 0;padding: 0.3em;box-sizing: border-box;text-align: center;}#sk-container-id-6 label.sk-toggleable__label-arrow:before {content: \"▸\";float: left;margin-right: 0.25em;color: #696969;}#sk-container-id-6 label.sk-toggleable__label-arrow:hover:before {color: black;}#sk-container-id-6 div.sk-estimator:hover label.sk-toggleable__label-arrow:before {color: black;}#sk-container-id-6 div.sk-toggleable__content {max-height: 0;max-width: 0;overflow: hidden;text-align: left;background-color: #f0f8ff;}#sk-container-id-6 div.sk-toggleable__content pre {margin: 0.2em;color: black;border-radius: 0.25em;background-color: #f0f8ff;}#sk-container-id-6 input.sk-toggleable__control:checked~div.sk-toggleable__content {max-height: 200px;max-width: 100%;overflow: auto;}#sk-container-id-6 input.sk-toggleable__control:checked~label.sk-toggleable__label-arrow:before {content: \"▾\";}#sk-container-id-6 div.sk-estimator input.sk-toggleable__control:checked~label.sk-toggleable__label {background-color: #d4ebff;}#sk-container-id-6 div.sk-label input.sk-toggleable__control:checked~label.sk-toggleable__label {background-color: #d4ebff;}#sk-container-id-6 input.sk-hidden--visually {border: 0;clip: rect(1px 1px 1px 1px);clip: rect(1px, 1px, 1px, 1px);height: 1px;margin: -1px;overflow: hidden;padding: 0;position: absolute;width: 1px;}#sk-container-id-6 div.sk-estimator {font-family: monospace;background-color: #f0f8ff;border: 1px dotted black;border-radius: 0.25em;box-sizing: border-box;margin-bottom: 0.5em;}#sk-container-id-6 div.sk-estimator:hover {background-color: #d4ebff;}#sk-container-id-6 div.sk-parallel-item::after {content: \"\";width: 100%;border-bottom: 1px solid gray;flex-grow: 1;}#sk-container-id-6 div.sk-label:hover label.sk-toggleable__label {background-color: #d4ebff;}#sk-container-id-6 div.sk-serial::before {content: \"\";position: absolute;border-left: 1px solid gray;box-sizing: border-box;top: 0;bottom: 0;left: 50%;z-index: 0;}#sk-container-id-6 div.sk-serial {display: flex;flex-direction: column;align-items: center;background-color: white;padding-right: 0.2em;padding-left: 0.2em;position: relative;}#sk-container-id-6 div.sk-item {position: relative;z-index: 1;}#sk-container-id-6 div.sk-parallel {display: flex;align-items: stretch;justify-content: center;background-color: white;position: relative;}#sk-container-id-6 div.sk-item::before, #sk-container-id-6 div.sk-parallel-item::before {content: \"\";position: absolute;border-left: 1px solid gray;box-sizing: border-box;top: 0;bottom: 0;left: 50%;z-index: -1;}#sk-container-id-6 div.sk-parallel-item {display: flex;flex-direction: column;z-index: 1;position: relative;background-color: white;}#sk-container-id-6 div.sk-parallel-item:first-child::after {align-self: flex-end;width: 50%;}#sk-container-id-6 div.sk-parallel-item:last-child::after {align-self: flex-start;width: 50%;}#sk-container-id-6 div.sk-parallel-item:only-child::after {width: 0;}#sk-container-id-6 div.sk-dashed-wrapped {border: 1px dashed gray;margin: 0 0.4em 0.5em 0.4em;box-sizing: border-box;padding-bottom: 0.4em;background-color: white;}#sk-container-id-6 div.sk-label label {font-family: monospace;font-weight: bold;display: inline-block;line-height: 1.2em;}#sk-container-id-6 div.sk-label-container {text-align: center;}#sk-container-id-6 div.sk-container {/* jupyter's `normalize.less` sets `[hidden] { display: none; }` but bootstrap.min.css set `[hidden] { display: none !important; }` so we also need the `!important` here to be able to override the default hidden behavior on the sphinx rendered scikit-learn.org. See: https://github.com/scikit-learn/scikit-learn/issues/21755 */display: inline-block !important;position: relative;}#sk-container-id-6 div.sk-text-repr-fallback {display: none;}</style><div id=\"sk-container-id-6\" class=\"sk-top-container\"><div class=\"sk-text-repr-fallback\"><pre>GridSearchCV(cv=5,\n",
              "             estimator=XGBClassifier(base_score=None, booster=None,\n",
              "                                     callbacks=None, colsample_bylevel=None,\n",
              "                                     colsample_bynode=None,\n",
              "                                     colsample_bytree=None, device=None,\n",
              "                                     early_stopping_rounds=None,\n",
              "                                     enable_categorical=False, eval_metric=None,\n",
              "                                     feature_types=None, gamma=None,\n",
              "                                     grow_policy=None, importance_type=None,\n",
              "                                     interaction_constraints=None,\n",
              "                                     learning_rate=None,...\n",
              "                                     max_cat_to_onehot=None,\n",
              "                                     max_delta_step=None, max_depth=None,\n",
              "                                     max_leaves=None, min_child_weight=None,\n",
              "                                     missing=nan, monotone_constraints=None,\n",
              "                                     multi_strategy=None, n_estimators=None,\n",
              "                                     n_jobs=None, num_parallel_tree=None,\n",
              "                                     random_state=None, ...),\n",
              "             param_grid={&#x27;gamma&#x27;: [0, 1, 5], &#x27;learning_rate&#x27;: [0.01, 0.1, 0.2],\n",
              "                         &#x27;max_depth&#x27;: [3, 5, 7],\n",
              "                         &#x27;n_estimators&#x27;: [50, 100, 150, 200]},\n",
              "             scoring=&#x27;accuracy&#x27;, verbose=2)</pre><b>In a Jupyter environment, please rerun this cell to show the HTML representation or trust the notebook. <br />On GitHub, the HTML representation is unable to render, please try loading this page with nbviewer.org.</b></div><div class=\"sk-container\" hidden><div class=\"sk-item sk-dashed-wrapped\"><div class=\"sk-label-container\"><div class=\"sk-label sk-toggleable\"><input class=\"sk-toggleable__control sk-hidden--visually\" id=\"sk-estimator-id-16\" type=\"checkbox\" ><label for=\"sk-estimator-id-16\" class=\"sk-toggleable__label sk-toggleable__label-arrow\">GridSearchCV</label><div class=\"sk-toggleable__content\"><pre>GridSearchCV(cv=5,\n",
              "             estimator=XGBClassifier(base_score=None, booster=None,\n",
              "                                     callbacks=None, colsample_bylevel=None,\n",
              "                                     colsample_bynode=None,\n",
              "                                     colsample_bytree=None, device=None,\n",
              "                                     early_stopping_rounds=None,\n",
              "                                     enable_categorical=False, eval_metric=None,\n",
              "                                     feature_types=None, gamma=None,\n",
              "                                     grow_policy=None, importance_type=None,\n",
              "                                     interaction_constraints=None,\n",
              "                                     learning_rate=None,...\n",
              "                                     max_cat_to_onehot=None,\n",
              "                                     max_delta_step=None, max_depth=None,\n",
              "                                     max_leaves=None, min_child_weight=None,\n",
              "                                     missing=nan, monotone_constraints=None,\n",
              "                                     multi_strategy=None, n_estimators=None,\n",
              "                                     n_jobs=None, num_parallel_tree=None,\n",
              "                                     random_state=None, ...),\n",
              "             param_grid={&#x27;gamma&#x27;: [0, 1, 5], &#x27;learning_rate&#x27;: [0.01, 0.1, 0.2],\n",
              "                         &#x27;max_depth&#x27;: [3, 5, 7],\n",
              "                         &#x27;n_estimators&#x27;: [50, 100, 150, 200]},\n",
              "             scoring=&#x27;accuracy&#x27;, verbose=2)</pre></div></div></div><div class=\"sk-parallel\"><div class=\"sk-parallel-item\"><div class=\"sk-item\"><div class=\"sk-label-container\"><div class=\"sk-label sk-toggleable\"><input class=\"sk-toggleable__control sk-hidden--visually\" id=\"sk-estimator-id-17\" type=\"checkbox\" ><label for=\"sk-estimator-id-17\" class=\"sk-toggleable__label sk-toggleable__label-arrow\">estimator: XGBClassifier</label><div class=\"sk-toggleable__content\"><pre>XGBClassifier(base_score=None, booster=None, callbacks=None,\n",
              "              colsample_bylevel=None, colsample_bynode=None,\n",
              "              colsample_bytree=None, device=None, early_stopping_rounds=None,\n",
              "              enable_categorical=False, eval_metric=None, feature_types=None,\n",
              "              gamma=None, grow_policy=None, importance_type=None,\n",
              "              interaction_constraints=None, learning_rate=None, max_bin=None,\n",
              "              max_cat_threshold=None, max_cat_to_onehot=None,\n",
              "              max_delta_step=None, max_depth=None, max_leaves=None,\n",
              "              min_child_weight=None, missing=nan, monotone_constraints=None,\n",
              "              multi_strategy=None, n_estimators=None, n_jobs=None,\n",
              "              num_parallel_tree=None, random_state=None, ...)</pre></div></div></div><div class=\"sk-serial\"><div class=\"sk-item\"><div class=\"sk-estimator sk-toggleable\"><input class=\"sk-toggleable__control sk-hidden--visually\" id=\"sk-estimator-id-18\" type=\"checkbox\" ><label for=\"sk-estimator-id-18\" class=\"sk-toggleable__label sk-toggleable__label-arrow\">XGBClassifier</label><div class=\"sk-toggleable__content\"><pre>XGBClassifier(base_score=None, booster=None, callbacks=None,\n",
              "              colsample_bylevel=None, colsample_bynode=None,\n",
              "              colsample_bytree=None, device=None, early_stopping_rounds=None,\n",
              "              enable_categorical=False, eval_metric=None, feature_types=None,\n",
              "              gamma=None, grow_policy=None, importance_type=None,\n",
              "              interaction_constraints=None, learning_rate=None, max_bin=None,\n",
              "              max_cat_threshold=None, max_cat_to_onehot=None,\n",
              "              max_delta_step=None, max_depth=None, max_leaves=None,\n",
              "              min_child_weight=None, missing=nan, monotone_constraints=None,\n",
              "              multi_strategy=None, n_estimators=None, n_jobs=None,\n",
              "              num_parallel_tree=None, random_state=None, ...)</pre></div></div></div></div></div></div></div></div></div></div>"
            ]
          },
          "metadata": {},
          "execution_count": 159
        }
      ]
    },
    {
      "cell_type": "code",
      "source": [
        "# Get the best parameters\n",
        "best_params_xgb = grid_search_xgb.best_params_\n",
        "print(f\"Best Parameters for XGBoost: {best_params_xgb}\")"
      ],
      "metadata": {
        "colab": {
          "base_uri": "https://localhost:8080/"
        },
        "id": "ZlYSnehdwwJ7",
        "outputId": "dab1e31b-fb0b-455a-9ada-b827bb9ba66c"
      },
      "execution_count": 160,
      "outputs": [
        {
          "output_type": "stream",
          "name": "stdout",
          "text": [
            "Best Parameters for XGBoost: {'gamma': 0, 'learning_rate': 0.01, 'max_depth': 3, 'n_estimators': 50}\n"
          ]
        }
      ]
    },
    {
      "cell_type": "code",
      "source": [
        "best_xgb_model = XGBClassifier(**best_params_xgb)\n",
        "best_xgb_model.fit(x_train, y_train)\n",
        "y_pred_best_xgb = best_xgb_model.predict(x_test)\n",
        "best_xgb_accuracy = accuracy_score(y_test, y_pred_best_xgb)\n",
        "print(f\"\\nXGBoost Classifier Accuracy: {best_xgb_accuracy}\\n\\n\")\n",
        "print(classification_report(y_test, y_pred_best_xgb))"
      ],
      "metadata": {
        "colab": {
          "base_uri": "https://localhost:8080/"
        },
        "id": "d1n13R6yLN3s",
        "outputId": "9fbfdb08-aebe-4470-eebc-0a40a985f672"
      },
      "execution_count": 161,
      "outputs": [
        {
          "output_type": "stream",
          "name": "stdout",
          "text": [
            "\n",
            "XGBoost Classifier Accuracy: 0.7886178861788617\n",
            "\n",
            "\n",
            "              precision    recall  f1-score   support\n",
            "\n",
            "           0       0.95      0.42      0.58        43\n",
            "           1       0.76      0.99      0.86        80\n",
            "\n",
            "    accuracy                           0.79       123\n",
            "   macro avg       0.85      0.70      0.72       123\n",
            "weighted avg       0.83      0.79      0.76       123\n",
            "\n"
          ]
        }
      ]
    },
    {
      "cell_type": "markdown",
      "source": [
        "##### <b><i> It appears that Bagging with SVM has the highest accuracy among the models we have tested, and several other models, including Bagging with Random Forest, Bagging with Logistic Regression, AdaBoost, and XGBoost, have comparable performance."
      ],
      "metadata": {
        "id": "wtx6qSgo3NQ2"
      }
    }
  ]
}