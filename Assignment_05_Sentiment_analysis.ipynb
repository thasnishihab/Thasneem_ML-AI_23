{
  "nbformat": 4,
  "nbformat_minor": 0,
  "metadata": {
    "colab": {
      "provenance": []
    },
    "kernelspec": {
      "name": "python3",
      "display_name": "Python 3"
    },
    "language_info": {
      "name": "python"
    }
  },
  "cells": [
    {
      "cell_type": "markdown",
      "source": [
        "<center><h1>Assignment 05<br>\n",
        "<b>Sentiment Analysis</b><br></center></h1>\n",
        "<b>Problem:</b> Natural language processing has extensively applied in sentiment analysis as a\n",
        "significant challenge. In this scenario, the objective is to determine if the tweets\n",
        "shared by customers regarding technology companies that produce and sell\n",
        "mobiles, computers, laptops, and similar products express positive sentiment or\n",
        "negative sentiment.<br>\n",
        "The goal will be to build a system that can accurately classify the new tweets\n",
        "sentiments. You can divide the data into train and test. The Evaluation metric you\n",
        "should use is the accuracy."
      ],
      "metadata": {
        "id": "zqh9qOFBzqdU"
      }
    },
    {
      "cell_type": "code",
      "execution_count": 125,
      "metadata": {
        "id": "TJxCtLG1zmcq"
      },
      "outputs": [],
      "source": [
        "import pandas as pd\n",
        "import numpy as np"
      ]
    },
    {
      "cell_type": "code",
      "source": [
        "from google.colab import drive\n",
        "drive.mount('/content/drive')"
      ],
      "metadata": {
        "colab": {
          "base_uri": "https://localhost:8080/"
        },
        "id": "ix1X8cIj0bU_",
        "outputId": "ac78c407-0208-4834-e2c4-93ccfa508226"
      },
      "execution_count": 126,
      "outputs": [
        {
          "output_type": "stream",
          "name": "stdout",
          "text": [
            "Drive already mounted at /content/drive; to attempt to forcibly remount, call drive.mount(\"/content/drive\", force_remount=True).\n"
          ]
        }
      ]
    },
    {
      "cell_type": "code",
      "source": [
        "data = pd.read_csv('/content/drive/MyDrive/datasets/tweets.csv')"
      ],
      "metadata": {
        "id": "pl5wx-vU0rMs"
      },
      "execution_count": 127,
      "outputs": []
    },
    {
      "cell_type": "code",
      "source": [
        "data.head()"
      ],
      "metadata": {
        "colab": {
          "base_uri": "https://localhost:8080/",
          "height": 206
        },
        "id": "VDouvTG41YQ4",
        "outputId": "6cf5deba-456d-47f3-dd3f-f0613e4b0a3c"
      },
      "execution_count": 128,
      "outputs": [
        {
          "output_type": "execute_result",
          "data": {
            "text/plain": [
              "   id  label                                              tweet\n",
              "0   1      0  #fingerprint #Pregnancy Test https://goo.gl/h1...\n",
              "1   2      0  Finally a transparant silicon case ^^ Thanks t...\n",
              "2   3      0  We love this! Would you go? #talk #makememorie...\n",
              "3   4      0  I'm wired I know I'm George I was made that wa...\n",
              "4   5      1  What amazing service! Apple won't even talk to..."
            ],
            "text/html": [
              "\n",
              "  <div id=\"df-ee1bbcd9-dbbe-42a4-8d7d-d96b02418c86\" class=\"colab-df-container\">\n",
              "    <div>\n",
              "<style scoped>\n",
              "    .dataframe tbody tr th:only-of-type {\n",
              "        vertical-align: middle;\n",
              "    }\n",
              "\n",
              "    .dataframe tbody tr th {\n",
              "        vertical-align: top;\n",
              "    }\n",
              "\n",
              "    .dataframe thead th {\n",
              "        text-align: right;\n",
              "    }\n",
              "</style>\n",
              "<table border=\"1\" class=\"dataframe\">\n",
              "  <thead>\n",
              "    <tr style=\"text-align: right;\">\n",
              "      <th></th>\n",
              "      <th>id</th>\n",
              "      <th>label</th>\n",
              "      <th>tweet</th>\n",
              "    </tr>\n",
              "  </thead>\n",
              "  <tbody>\n",
              "    <tr>\n",
              "      <th>0</th>\n",
              "      <td>1</td>\n",
              "      <td>0</td>\n",
              "      <td>#fingerprint #Pregnancy Test https://goo.gl/h1...</td>\n",
              "    </tr>\n",
              "    <tr>\n",
              "      <th>1</th>\n",
              "      <td>2</td>\n",
              "      <td>0</td>\n",
              "      <td>Finally a transparant silicon case ^^ Thanks t...</td>\n",
              "    </tr>\n",
              "    <tr>\n",
              "      <th>2</th>\n",
              "      <td>3</td>\n",
              "      <td>0</td>\n",
              "      <td>We love this! Would you go? #talk #makememorie...</td>\n",
              "    </tr>\n",
              "    <tr>\n",
              "      <th>3</th>\n",
              "      <td>4</td>\n",
              "      <td>0</td>\n",
              "      <td>I'm wired I know I'm George I was made that wa...</td>\n",
              "    </tr>\n",
              "    <tr>\n",
              "      <th>4</th>\n",
              "      <td>5</td>\n",
              "      <td>1</td>\n",
              "      <td>What amazing service! Apple won't even talk to...</td>\n",
              "    </tr>\n",
              "  </tbody>\n",
              "</table>\n",
              "</div>\n",
              "    <div class=\"colab-df-buttons\">\n",
              "\n",
              "  <div class=\"colab-df-container\">\n",
              "    <button class=\"colab-df-convert\" onclick=\"convertToInteractive('df-ee1bbcd9-dbbe-42a4-8d7d-d96b02418c86')\"\n",
              "            title=\"Convert this dataframe to an interactive table.\"\n",
              "            style=\"display:none;\">\n",
              "\n",
              "  <svg xmlns=\"http://www.w3.org/2000/svg\" height=\"24px\" viewBox=\"0 -960 960 960\">\n",
              "    <path d=\"M120-120v-720h720v720H120Zm60-500h600v-160H180v160Zm220 220h160v-160H400v160Zm0 220h160v-160H400v160ZM180-400h160v-160H180v160Zm440 0h160v-160H620v160ZM180-180h160v-160H180v160Zm440 0h160v-160H620v160Z\"/>\n",
              "  </svg>\n",
              "    </button>\n",
              "\n",
              "  <style>\n",
              "    .colab-df-container {\n",
              "      display:flex;\n",
              "      gap: 12px;\n",
              "    }\n",
              "\n",
              "    .colab-df-convert {\n",
              "      background-color: #E8F0FE;\n",
              "      border: none;\n",
              "      border-radius: 50%;\n",
              "      cursor: pointer;\n",
              "      display: none;\n",
              "      fill: #1967D2;\n",
              "      height: 32px;\n",
              "      padding: 0 0 0 0;\n",
              "      width: 32px;\n",
              "    }\n",
              "\n",
              "    .colab-df-convert:hover {\n",
              "      background-color: #E2EBFA;\n",
              "      box-shadow: 0px 1px 2px rgba(60, 64, 67, 0.3), 0px 1px 3px 1px rgba(60, 64, 67, 0.15);\n",
              "      fill: #174EA6;\n",
              "    }\n",
              "\n",
              "    .colab-df-buttons div {\n",
              "      margin-bottom: 4px;\n",
              "    }\n",
              "\n",
              "    [theme=dark] .colab-df-convert {\n",
              "      background-color: #3B4455;\n",
              "      fill: #D2E3FC;\n",
              "    }\n",
              "\n",
              "    [theme=dark] .colab-df-convert:hover {\n",
              "      background-color: #434B5C;\n",
              "      box-shadow: 0px 1px 3px 1px rgba(0, 0, 0, 0.15);\n",
              "      filter: drop-shadow(0px 1px 2px rgba(0, 0, 0, 0.3));\n",
              "      fill: #FFFFFF;\n",
              "    }\n",
              "  </style>\n",
              "\n",
              "    <script>\n",
              "      const buttonEl =\n",
              "        document.querySelector('#df-ee1bbcd9-dbbe-42a4-8d7d-d96b02418c86 button.colab-df-convert');\n",
              "      buttonEl.style.display =\n",
              "        google.colab.kernel.accessAllowed ? 'block' : 'none';\n",
              "\n",
              "      async function convertToInteractive(key) {\n",
              "        const element = document.querySelector('#df-ee1bbcd9-dbbe-42a4-8d7d-d96b02418c86');\n",
              "        const dataTable =\n",
              "          await google.colab.kernel.invokeFunction('convertToInteractive',\n",
              "                                                    [key], {});\n",
              "        if (!dataTable) return;\n",
              "\n",
              "        const docLinkHtml = 'Like what you see? Visit the ' +\n",
              "          '<a target=\"_blank\" href=https://colab.research.google.com/notebooks/data_table.ipynb>data table notebook</a>'\n",
              "          + ' to learn more about interactive tables.';\n",
              "        element.innerHTML = '';\n",
              "        dataTable['output_type'] = 'display_data';\n",
              "        await google.colab.output.renderOutput(dataTable, element);\n",
              "        const docLink = document.createElement('div');\n",
              "        docLink.innerHTML = docLinkHtml;\n",
              "        element.appendChild(docLink);\n",
              "      }\n",
              "    </script>\n",
              "  </div>\n",
              "\n",
              "\n",
              "<div id=\"df-017d38ae-3d1b-46cc-bab9-db62f5f9b099\">\n",
              "  <button class=\"colab-df-quickchart\" onclick=\"quickchart('df-017d38ae-3d1b-46cc-bab9-db62f5f9b099')\"\n",
              "            title=\"Suggest charts\"\n",
              "            style=\"display:none;\">\n",
              "\n",
              "<svg xmlns=\"http://www.w3.org/2000/svg\" height=\"24px\"viewBox=\"0 0 24 24\"\n",
              "     width=\"24px\">\n",
              "    <g>\n",
              "        <path d=\"M19 3H5c-1.1 0-2 .9-2 2v14c0 1.1.9 2 2 2h14c1.1 0 2-.9 2-2V5c0-1.1-.9-2-2-2zM9 17H7v-7h2v7zm4 0h-2V7h2v10zm4 0h-2v-4h2v4z\"/>\n",
              "    </g>\n",
              "</svg>\n",
              "  </button>\n",
              "\n",
              "<style>\n",
              "  .colab-df-quickchart {\n",
              "      --bg-color: #E8F0FE;\n",
              "      --fill-color: #1967D2;\n",
              "      --hover-bg-color: #E2EBFA;\n",
              "      --hover-fill-color: #174EA6;\n",
              "      --disabled-fill-color: #AAA;\n",
              "      --disabled-bg-color: #DDD;\n",
              "  }\n",
              "\n",
              "  [theme=dark] .colab-df-quickchart {\n",
              "      --bg-color: #3B4455;\n",
              "      --fill-color: #D2E3FC;\n",
              "      --hover-bg-color: #434B5C;\n",
              "      --hover-fill-color: #FFFFFF;\n",
              "      --disabled-bg-color: #3B4455;\n",
              "      --disabled-fill-color: #666;\n",
              "  }\n",
              "\n",
              "  .colab-df-quickchart {\n",
              "    background-color: var(--bg-color);\n",
              "    border: none;\n",
              "    border-radius: 50%;\n",
              "    cursor: pointer;\n",
              "    display: none;\n",
              "    fill: var(--fill-color);\n",
              "    height: 32px;\n",
              "    padding: 0;\n",
              "    width: 32px;\n",
              "  }\n",
              "\n",
              "  .colab-df-quickchart:hover {\n",
              "    background-color: var(--hover-bg-color);\n",
              "    box-shadow: 0 1px 2px rgba(60, 64, 67, 0.3), 0 1px 3px 1px rgba(60, 64, 67, 0.15);\n",
              "    fill: var(--button-hover-fill-color);\n",
              "  }\n",
              "\n",
              "  .colab-df-quickchart-complete:disabled,\n",
              "  .colab-df-quickchart-complete:disabled:hover {\n",
              "    background-color: var(--disabled-bg-color);\n",
              "    fill: var(--disabled-fill-color);\n",
              "    box-shadow: none;\n",
              "  }\n",
              "\n",
              "  .colab-df-spinner {\n",
              "    border: 2px solid var(--fill-color);\n",
              "    border-color: transparent;\n",
              "    border-bottom-color: var(--fill-color);\n",
              "    animation:\n",
              "      spin 1s steps(1) infinite;\n",
              "  }\n",
              "\n",
              "  @keyframes spin {\n",
              "    0% {\n",
              "      border-color: transparent;\n",
              "      border-bottom-color: var(--fill-color);\n",
              "      border-left-color: var(--fill-color);\n",
              "    }\n",
              "    20% {\n",
              "      border-color: transparent;\n",
              "      border-left-color: var(--fill-color);\n",
              "      border-top-color: var(--fill-color);\n",
              "    }\n",
              "    30% {\n",
              "      border-color: transparent;\n",
              "      border-left-color: var(--fill-color);\n",
              "      border-top-color: var(--fill-color);\n",
              "      border-right-color: var(--fill-color);\n",
              "    }\n",
              "    40% {\n",
              "      border-color: transparent;\n",
              "      border-right-color: var(--fill-color);\n",
              "      border-top-color: var(--fill-color);\n",
              "    }\n",
              "    60% {\n",
              "      border-color: transparent;\n",
              "      border-right-color: var(--fill-color);\n",
              "    }\n",
              "    80% {\n",
              "      border-color: transparent;\n",
              "      border-right-color: var(--fill-color);\n",
              "      border-bottom-color: var(--fill-color);\n",
              "    }\n",
              "    90% {\n",
              "      border-color: transparent;\n",
              "      border-bottom-color: var(--fill-color);\n",
              "    }\n",
              "  }\n",
              "</style>\n",
              "\n",
              "  <script>\n",
              "    async function quickchart(key) {\n",
              "      const quickchartButtonEl =\n",
              "        document.querySelector('#' + key + ' button');\n",
              "      quickchartButtonEl.disabled = true;  // To prevent multiple clicks.\n",
              "      quickchartButtonEl.classList.add('colab-df-spinner');\n",
              "      try {\n",
              "        const charts = await google.colab.kernel.invokeFunction(\n",
              "            'suggestCharts', [key], {});\n",
              "      } catch (error) {\n",
              "        console.error('Error during call to suggestCharts:', error);\n",
              "      }\n",
              "      quickchartButtonEl.classList.remove('colab-df-spinner');\n",
              "      quickchartButtonEl.classList.add('colab-df-quickchart-complete');\n",
              "    }\n",
              "    (() => {\n",
              "      let quickchartButtonEl =\n",
              "        document.querySelector('#df-017d38ae-3d1b-46cc-bab9-db62f5f9b099 button');\n",
              "      quickchartButtonEl.style.display =\n",
              "        google.colab.kernel.accessAllowed ? 'block' : 'none';\n",
              "    })();\n",
              "  </script>\n",
              "</div>\n",
              "    </div>\n",
              "  </div>\n"
            ]
          },
          "metadata": {},
          "execution_count": 128
        }
      ]
    },
    {
      "cell_type": "markdown",
      "source": [
        "## Text Preprocessing with NLTK"
      ],
      "metadata": {
        "id": "DFvu_mNq6L-T"
      }
    },
    {
      "cell_type": "code",
      "source": [
        "import nltk\n",
        "nltk.download('punkt')\n",
        "nltk.download('stopwords')\n",
        "nltk.download('wordnet')"
      ],
      "metadata": {
        "colab": {
          "base_uri": "https://localhost:8080/"
        },
        "id": "dAWfEhoa-FTa",
        "outputId": "77ec6742-8285-4282-cc4a-ba10703fe4a6"
      },
      "execution_count": 129,
      "outputs": [
        {
          "output_type": "stream",
          "name": "stderr",
          "text": [
            "[nltk_data] Downloading package punkt to /root/nltk_data...\n",
            "[nltk_data]   Package punkt is already up-to-date!\n",
            "[nltk_data] Downloading package stopwords to /root/nltk_data...\n",
            "[nltk_data]   Package stopwords is already up-to-date!\n",
            "[nltk_data] Downloading package wordnet to /root/nltk_data...\n",
            "[nltk_data]   Package wordnet is already up-to-date!\n"
          ]
        },
        {
          "output_type": "execute_result",
          "data": {
            "text/plain": [
              "True"
            ]
          },
          "metadata": {},
          "execution_count": 129
        }
      ]
    },
    {
      "cell_type": "code",
      "source": [
        "from nltk.corpus import stopwords\n",
        "from nltk.tokenize import word_tokenize\n",
        "from nltk.stem import WordNetLemmatizer"
      ],
      "metadata": {
        "id": "_Ze2OuQF-Ax_"
      },
      "execution_count": 130,
      "outputs": []
    },
    {
      "cell_type": "code",
      "source": [
        "stop_words = set(stopwords.words('english'))\n",
        "lemmatizer = WordNetLemmatizer()"
      ],
      "metadata": {
        "id": "nIKuDjUy1r-T"
      },
      "execution_count": 131,
      "outputs": []
    },
    {
      "cell_type": "code",
      "source": [
        "import re\n",
        "def preprocess_text(text):\n",
        "    # Remove URLs\n",
        "    text = re.sub(r'http\\S+', '', text)\n",
        "    # Remove special characters and numbers, convert to lowercase\n",
        "    text = re.sub(r'[^a-zA-Z\\s]', '', text.lower())\n",
        "    # Tokenization\n",
        "    tokens = word_tokenize(text)\n",
        "    # Remove stopwords\n",
        "    tokens = [token for token in tokens if token not in stop_words]\n",
        "    # Lemmatization\n",
        "    tokens = [lemmatizer.lemmatize(token) for token in tokens]\n",
        "    return ' '.join(tokens)"
      ],
      "metadata": {
        "id": "n4ctTjde97E9"
      },
      "execution_count": 132,
      "outputs": []
    },
    {
      "cell_type": "code",
      "source": [
        "data['tweet'] = data['tweet'].apply(preprocess_text)"
      ],
      "metadata": {
        "id": "9iFCrGgz-Pb3"
      },
      "execution_count": 133,
      "outputs": []
    },
    {
      "cell_type": "code",
      "source": [
        "data.head()"
      ],
      "metadata": {
        "colab": {
          "base_uri": "https://localhost:8080/",
          "height": 206
        },
        "id": "5w5mdmCh-xBi",
        "outputId": "4c43d8a0-4de5-4799-b1d3-f75402eaeb73"
      },
      "execution_count": 134,
      "outputs": [
        {
          "output_type": "execute_result",
          "data": {
            "text/plain": [
              "   id  label                                              tweet\n",
              "0   1      0  fingerprint pregnancy test android apps beauti...\n",
              "1   2      0  finally transparant silicon case thanks uncle ...\n",
              "2   3      0  love would go talk makememories unplug relax i...\n",
              "3   4      0  im wired know im george made way iphone cute d...\n",
              "4   5      1  amazing service apple wont even talk question ..."
            ],
            "text/html": [
              "\n",
              "  <div id=\"df-d9e64e15-7683-44b3-8b20-e81177955b2a\" class=\"colab-df-container\">\n",
              "    <div>\n",
              "<style scoped>\n",
              "    .dataframe tbody tr th:only-of-type {\n",
              "        vertical-align: middle;\n",
              "    }\n",
              "\n",
              "    .dataframe tbody tr th {\n",
              "        vertical-align: top;\n",
              "    }\n",
              "\n",
              "    .dataframe thead th {\n",
              "        text-align: right;\n",
              "    }\n",
              "</style>\n",
              "<table border=\"1\" class=\"dataframe\">\n",
              "  <thead>\n",
              "    <tr style=\"text-align: right;\">\n",
              "      <th></th>\n",
              "      <th>id</th>\n",
              "      <th>label</th>\n",
              "      <th>tweet</th>\n",
              "    </tr>\n",
              "  </thead>\n",
              "  <tbody>\n",
              "    <tr>\n",
              "      <th>0</th>\n",
              "      <td>1</td>\n",
              "      <td>0</td>\n",
              "      <td>fingerprint pregnancy test android apps beauti...</td>\n",
              "    </tr>\n",
              "    <tr>\n",
              "      <th>1</th>\n",
              "      <td>2</td>\n",
              "      <td>0</td>\n",
              "      <td>finally transparant silicon case thanks uncle ...</td>\n",
              "    </tr>\n",
              "    <tr>\n",
              "      <th>2</th>\n",
              "      <td>3</td>\n",
              "      <td>0</td>\n",
              "      <td>love would go talk makememories unplug relax i...</td>\n",
              "    </tr>\n",
              "    <tr>\n",
              "      <th>3</th>\n",
              "      <td>4</td>\n",
              "      <td>0</td>\n",
              "      <td>im wired know im george made way iphone cute d...</td>\n",
              "    </tr>\n",
              "    <tr>\n",
              "      <th>4</th>\n",
              "      <td>5</td>\n",
              "      <td>1</td>\n",
              "      <td>amazing service apple wont even talk question ...</td>\n",
              "    </tr>\n",
              "  </tbody>\n",
              "</table>\n",
              "</div>\n",
              "    <div class=\"colab-df-buttons\">\n",
              "\n",
              "  <div class=\"colab-df-container\">\n",
              "    <button class=\"colab-df-convert\" onclick=\"convertToInteractive('df-d9e64e15-7683-44b3-8b20-e81177955b2a')\"\n",
              "            title=\"Convert this dataframe to an interactive table.\"\n",
              "            style=\"display:none;\">\n",
              "\n",
              "  <svg xmlns=\"http://www.w3.org/2000/svg\" height=\"24px\" viewBox=\"0 -960 960 960\">\n",
              "    <path d=\"M120-120v-720h720v720H120Zm60-500h600v-160H180v160Zm220 220h160v-160H400v160Zm0 220h160v-160H400v160ZM180-400h160v-160H180v160Zm440 0h160v-160H620v160ZM180-180h160v-160H180v160Zm440 0h160v-160H620v160Z\"/>\n",
              "  </svg>\n",
              "    </button>\n",
              "\n",
              "  <style>\n",
              "    .colab-df-container {\n",
              "      display:flex;\n",
              "      gap: 12px;\n",
              "    }\n",
              "\n",
              "    .colab-df-convert {\n",
              "      background-color: #E8F0FE;\n",
              "      border: none;\n",
              "      border-radius: 50%;\n",
              "      cursor: pointer;\n",
              "      display: none;\n",
              "      fill: #1967D2;\n",
              "      height: 32px;\n",
              "      padding: 0 0 0 0;\n",
              "      width: 32px;\n",
              "    }\n",
              "\n",
              "    .colab-df-convert:hover {\n",
              "      background-color: #E2EBFA;\n",
              "      box-shadow: 0px 1px 2px rgba(60, 64, 67, 0.3), 0px 1px 3px 1px rgba(60, 64, 67, 0.15);\n",
              "      fill: #174EA6;\n",
              "    }\n",
              "\n",
              "    .colab-df-buttons div {\n",
              "      margin-bottom: 4px;\n",
              "    }\n",
              "\n",
              "    [theme=dark] .colab-df-convert {\n",
              "      background-color: #3B4455;\n",
              "      fill: #D2E3FC;\n",
              "    }\n",
              "\n",
              "    [theme=dark] .colab-df-convert:hover {\n",
              "      background-color: #434B5C;\n",
              "      box-shadow: 0px 1px 3px 1px rgba(0, 0, 0, 0.15);\n",
              "      filter: drop-shadow(0px 1px 2px rgba(0, 0, 0, 0.3));\n",
              "      fill: #FFFFFF;\n",
              "    }\n",
              "  </style>\n",
              "\n",
              "    <script>\n",
              "      const buttonEl =\n",
              "        document.querySelector('#df-d9e64e15-7683-44b3-8b20-e81177955b2a button.colab-df-convert');\n",
              "      buttonEl.style.display =\n",
              "        google.colab.kernel.accessAllowed ? 'block' : 'none';\n",
              "\n",
              "      async function convertToInteractive(key) {\n",
              "        const element = document.querySelector('#df-d9e64e15-7683-44b3-8b20-e81177955b2a');\n",
              "        const dataTable =\n",
              "          await google.colab.kernel.invokeFunction('convertToInteractive',\n",
              "                                                    [key], {});\n",
              "        if (!dataTable) return;\n",
              "\n",
              "        const docLinkHtml = 'Like what you see? Visit the ' +\n",
              "          '<a target=\"_blank\" href=https://colab.research.google.com/notebooks/data_table.ipynb>data table notebook</a>'\n",
              "          + ' to learn more about interactive tables.';\n",
              "        element.innerHTML = '';\n",
              "        dataTable['output_type'] = 'display_data';\n",
              "        await google.colab.output.renderOutput(dataTable, element);\n",
              "        const docLink = document.createElement('div');\n",
              "        docLink.innerHTML = docLinkHtml;\n",
              "        element.appendChild(docLink);\n",
              "      }\n",
              "    </script>\n",
              "  </div>\n",
              "\n",
              "\n",
              "<div id=\"df-de763603-b9ce-4154-bbd9-f9cf589013d1\">\n",
              "  <button class=\"colab-df-quickchart\" onclick=\"quickchart('df-de763603-b9ce-4154-bbd9-f9cf589013d1')\"\n",
              "            title=\"Suggest charts\"\n",
              "            style=\"display:none;\">\n",
              "\n",
              "<svg xmlns=\"http://www.w3.org/2000/svg\" height=\"24px\"viewBox=\"0 0 24 24\"\n",
              "     width=\"24px\">\n",
              "    <g>\n",
              "        <path d=\"M19 3H5c-1.1 0-2 .9-2 2v14c0 1.1.9 2 2 2h14c1.1 0 2-.9 2-2V5c0-1.1-.9-2-2-2zM9 17H7v-7h2v7zm4 0h-2V7h2v10zm4 0h-2v-4h2v4z\"/>\n",
              "    </g>\n",
              "</svg>\n",
              "  </button>\n",
              "\n",
              "<style>\n",
              "  .colab-df-quickchart {\n",
              "      --bg-color: #E8F0FE;\n",
              "      --fill-color: #1967D2;\n",
              "      --hover-bg-color: #E2EBFA;\n",
              "      --hover-fill-color: #174EA6;\n",
              "      --disabled-fill-color: #AAA;\n",
              "      --disabled-bg-color: #DDD;\n",
              "  }\n",
              "\n",
              "  [theme=dark] .colab-df-quickchart {\n",
              "      --bg-color: #3B4455;\n",
              "      --fill-color: #D2E3FC;\n",
              "      --hover-bg-color: #434B5C;\n",
              "      --hover-fill-color: #FFFFFF;\n",
              "      --disabled-bg-color: #3B4455;\n",
              "      --disabled-fill-color: #666;\n",
              "  }\n",
              "\n",
              "  .colab-df-quickchart {\n",
              "    background-color: var(--bg-color);\n",
              "    border: none;\n",
              "    border-radius: 50%;\n",
              "    cursor: pointer;\n",
              "    display: none;\n",
              "    fill: var(--fill-color);\n",
              "    height: 32px;\n",
              "    padding: 0;\n",
              "    width: 32px;\n",
              "  }\n",
              "\n",
              "  .colab-df-quickchart:hover {\n",
              "    background-color: var(--hover-bg-color);\n",
              "    box-shadow: 0 1px 2px rgba(60, 64, 67, 0.3), 0 1px 3px 1px rgba(60, 64, 67, 0.15);\n",
              "    fill: var(--button-hover-fill-color);\n",
              "  }\n",
              "\n",
              "  .colab-df-quickchart-complete:disabled,\n",
              "  .colab-df-quickchart-complete:disabled:hover {\n",
              "    background-color: var(--disabled-bg-color);\n",
              "    fill: var(--disabled-fill-color);\n",
              "    box-shadow: none;\n",
              "  }\n",
              "\n",
              "  .colab-df-spinner {\n",
              "    border: 2px solid var(--fill-color);\n",
              "    border-color: transparent;\n",
              "    border-bottom-color: var(--fill-color);\n",
              "    animation:\n",
              "      spin 1s steps(1) infinite;\n",
              "  }\n",
              "\n",
              "  @keyframes spin {\n",
              "    0% {\n",
              "      border-color: transparent;\n",
              "      border-bottom-color: var(--fill-color);\n",
              "      border-left-color: var(--fill-color);\n",
              "    }\n",
              "    20% {\n",
              "      border-color: transparent;\n",
              "      border-left-color: var(--fill-color);\n",
              "      border-top-color: var(--fill-color);\n",
              "    }\n",
              "    30% {\n",
              "      border-color: transparent;\n",
              "      border-left-color: var(--fill-color);\n",
              "      border-top-color: var(--fill-color);\n",
              "      border-right-color: var(--fill-color);\n",
              "    }\n",
              "    40% {\n",
              "      border-color: transparent;\n",
              "      border-right-color: var(--fill-color);\n",
              "      border-top-color: var(--fill-color);\n",
              "    }\n",
              "    60% {\n",
              "      border-color: transparent;\n",
              "      border-right-color: var(--fill-color);\n",
              "    }\n",
              "    80% {\n",
              "      border-color: transparent;\n",
              "      border-right-color: var(--fill-color);\n",
              "      border-bottom-color: var(--fill-color);\n",
              "    }\n",
              "    90% {\n",
              "      border-color: transparent;\n",
              "      border-bottom-color: var(--fill-color);\n",
              "    }\n",
              "  }\n",
              "</style>\n",
              "\n",
              "  <script>\n",
              "    async function quickchart(key) {\n",
              "      const quickchartButtonEl =\n",
              "        document.querySelector('#' + key + ' button');\n",
              "      quickchartButtonEl.disabled = true;  // To prevent multiple clicks.\n",
              "      quickchartButtonEl.classList.add('colab-df-spinner');\n",
              "      try {\n",
              "        const charts = await google.colab.kernel.invokeFunction(\n",
              "            'suggestCharts', [key], {});\n",
              "      } catch (error) {\n",
              "        console.error('Error during call to suggestCharts:', error);\n",
              "      }\n",
              "      quickchartButtonEl.classList.remove('colab-df-spinner');\n",
              "      quickchartButtonEl.classList.add('colab-df-quickchart-complete');\n",
              "    }\n",
              "    (() => {\n",
              "      let quickchartButtonEl =\n",
              "        document.querySelector('#df-de763603-b9ce-4154-bbd9-f9cf589013d1 button');\n",
              "      quickchartButtonEl.style.display =\n",
              "        google.colab.kernel.accessAllowed ? 'block' : 'none';\n",
              "    })();\n",
              "  </script>\n",
              "</div>\n",
              "    </div>\n",
              "  </div>\n"
            ]
          },
          "metadata": {},
          "execution_count": 134
        }
      ]
    },
    {
      "cell_type": "markdown",
      "source": [
        "## Train_Test Split"
      ],
      "metadata": {
        "id": "-hHG-EjR-hSo"
      }
    },
    {
      "cell_type": "code",
      "source": [
        "from sklearn.model_selection import train_test_split"
      ],
      "metadata": {
        "id": "VxJStn59_HRY"
      },
      "execution_count": 135,
      "outputs": []
    },
    {
      "cell_type": "code",
      "source": [
        "x = data['tweet']\n",
        "y = data['label']"
      ],
      "metadata": {
        "id": "tZq4qBuN-SDK"
      },
      "execution_count": 136,
      "outputs": []
    },
    {
      "cell_type": "code",
      "source": [
        "x_train, x_test, y_train, y_test = train_test_split(x, y, test_size=0.2, random_state=42)\n"
      ],
      "metadata": {
        "id": "WM8jvVeP-4Qw"
      },
      "execution_count": 137,
      "outputs": []
    },
    {
      "cell_type": "markdown",
      "source": [
        "## Bag of Words representation"
      ],
      "metadata": {
        "id": "WCQ1cM7qBCM6"
      }
    },
    {
      "cell_type": "code",
      "source": [
        "from sklearn.feature_extraction.text import CountVectorizer\n",
        "cv = CountVectorizer()\n",
        "x_train_bow = cv.fit_transform(x_train)\n",
        "x_test_bow = cv.transform(x_test)"
      ],
      "metadata": {
        "id": "MROWQcAh_IkQ"
      },
      "execution_count": 138,
      "outputs": []
    },
    {
      "cell_type": "code",
      "source": [
        "from gensim.models import Word2Vec\n",
        "tokenized_tweets = [tweet.split() for tweet in x_train]\n",
        "word2vec_model = Word2Vec(sentences=tokenized_tweets, vector_size=100, window=5, min_count=1, workers=4)"
      ],
      "metadata": {
        "id": "KaoTz4UTJ-b5"
      },
      "execution_count": 139,
      "outputs": []
    },
    {
      "cell_type": "code",
      "source": [
        "# Function to get averaged Word2Vec vectors for tweets\n",
        "def get_average_vector(tweet, model, vector_size):\n",
        "    vector_sum = sum(model.wv[word] for word in tweet if word in model.wv)\n",
        "    if vector_sum.any():\n",
        "        return vector_sum / len(vector_sum)\n",
        "    else:\n",
        "        return [0] * vector_size"
      ],
      "metadata": {
        "id": "7ZZuiZ0UWdKk"
      },
      "execution_count": 140,
      "outputs": []
    },
    {
      "cell_type": "code",
      "source": [
        "# Convert tweets to averaged Word2Vec vectors\n",
        "x_train_vec = [get_average_vector(tweet.split(), word2vec_model, 100) for tweet in x_train]\n",
        "x_test_vec = [get_average_vector(tweet.split(), word2vec_model, 100) for tweet in x_test]\n",
        "\n",
        "# Convert to NumPy arrays for compatibility with SVM\n",
        "x_train_vec = pd.DataFrame(x_train_vec).to_numpy()\n",
        "x_test_vec = pd.DataFrame(x_test_vec).to_numpy()"
      ],
      "metadata": {
        "id": "wA3eLKZTQYj-"
      },
      "execution_count": 141,
      "outputs": []
    },
    {
      "cell_type": "markdown",
      "source": [
        "## SVM"
      ],
      "metadata": {
        "id": "3WrnooLBUYym"
      }
    },
    {
      "cell_type": "markdown",
      "source": [
        "### SVM Model with Bag of Words"
      ],
      "metadata": {
        "id": "isW83yLWTfbC"
      }
    },
    {
      "cell_type": "code",
      "source": [
        "from sklearn.svm import SVC\n",
        "from sklearn import metrics"
      ],
      "metadata": {
        "id": "cC1FrK9MTwT1"
      },
      "execution_count": 142,
      "outputs": []
    },
    {
      "cell_type": "code",
      "source": [
        "svm_bow_mdl = SVC()\n",
        "svm_bow_mdl.fit(x_train_bow, y_train)\n",
        "y_pred_svm_bow = svm_bow_mdl.predict(x_test_bow)\n",
        "accuracy_svm_bow = metrics.accuracy_score(y_test, y_pred_svm_bow)\n",
        "print(f'SVM with Bag of Words Accuracy: {accuracy_svm_bow}')\n"
      ],
      "metadata": {
        "colab": {
          "base_uri": "https://localhost:8080/"
        },
        "id": "tQ8u5dYhR9KQ",
        "outputId": "f2de7778-1f2f-477c-915b-e52dee9ac3ce"
      },
      "execution_count": 143,
      "outputs": [
        {
          "output_type": "stream",
          "name": "stdout",
          "text": [
            "SVM with Bag of Words Accuracy: 0.8926767676767676\n"
          ]
        }
      ]
    },
    {
      "cell_type": "markdown",
      "source": [
        "### SVM Model with Word2Vec"
      ],
      "metadata": {
        "id": "UVDhUf1dUgVm"
      }
    },
    {
      "cell_type": "code",
      "source": [
        "x_train_vec"
      ],
      "metadata": {
        "colab": {
          "base_uri": "https://localhost:8080/"
        },
        "id": "XrSVU3r8V1-0",
        "outputId": "a616a13c-d13c-4107-c5f2-1b0c999f51c9"
      },
      "execution_count": 144,
      "outputs": [
        {
          "output_type": "execute_result",
          "data": {
            "text/plain": [
              "array([[-0.02905815,  0.04461781,  0.01061659, ..., -0.05000914,\n",
              "         0.01256503, -0.01572662],\n",
              "       [-0.01964477,  0.02655638,  0.00691631, ..., -0.0310523 ,\n",
              "         0.00983629, -0.01440929],\n",
              "       [-0.01566448,  0.02236398,  0.00484716, ..., -0.02599695,\n",
              "         0.00651539, -0.00723531],\n",
              "       ...,\n",
              "       [-0.0248391 ,  0.03987034,  0.0086532 , ..., -0.04450922,\n",
              "         0.01146205, -0.01284891],\n",
              "       [-0.02065405,  0.03635317,  0.00907444, ..., -0.03942744,\n",
              "         0.00714164, -0.00749701],\n",
              "       [-0.03343914,  0.04993556,  0.01142206, ..., -0.05651421,\n",
              "         0.01462796, -0.01642978]], dtype=float32)"
            ]
          },
          "metadata": {},
          "execution_count": 144
        }
      ]
    },
    {
      "cell_type": "code",
      "source": [
        "svm_w2v_mdl = SVC()\n",
        "svm_w2v_mdl.fit(x_train_vec, y_train)\n",
        "y_pred_svm_w2v = svm_w2v_mdl.predict(x_test_vec)\n",
        "accuracy_svm_w2v = metrics.accuracy_score(y_test, y_pred_svm_w2v)\n",
        "print(f'SVM with Word2Vec Accuracy: {accuracy_svm_w2v}')"
      ],
      "metadata": {
        "colab": {
          "base_uri": "https://localhost:8080/"
        },
        "id": "EN_f9WjtUHJB",
        "outputId": "035b3da3-e664-466c-f567-685d0ca5a28e"
      },
      "execution_count": 145,
      "outputs": [
        {
          "output_type": "stream",
          "name": "stdout",
          "text": [
            "SVM with Word2Vec Accuracy: 0.7272727272727273\n"
          ]
        }
      ]
    },
    {
      "cell_type": "markdown",
      "source": [
        "## Random Forest"
      ],
      "metadata": {
        "id": "PaEhgUiMXNB6"
      }
    },
    {
      "cell_type": "code",
      "source": [
        "from sklearn.ensemble import RandomForestClassifier"
      ],
      "metadata": {
        "id": "s5XUGAYpbwuA"
      },
      "execution_count": 146,
      "outputs": []
    },
    {
      "cell_type": "markdown",
      "source": [
        "### Random Forest with BOW"
      ],
      "metadata": {
        "id": "d64IYalDXQdn"
      }
    },
    {
      "cell_type": "code",
      "source": [
        "rf_bow_mdl = RandomForestClassifier(n_estimators=100, random_state=42)\n",
        "rf_bow_mdl.fit(x_train_bow, y_train)\n",
        "y_pred_rf_bow = rf_bow_mdl.predict(x_test_bow)\n",
        "accuracy_rf_bow = metrics.accuracy_score(y_test, y_pred_rf_bow)\n",
        "print(f'Random Forest with Bag of Words Accuracy: {accuracy_rf_bow}')"
      ],
      "metadata": {
        "colab": {
          "base_uri": "https://localhost:8080/"
        },
        "id": "YXem_0b2VPRD",
        "outputId": "dd86ec27-d23c-449d-88f8-aea2d9e191db"
      },
      "execution_count": 147,
      "outputs": [
        {
          "output_type": "stream",
          "name": "stdout",
          "text": [
            "Random Forest with Bag of Words Accuracy: 0.8724747474747475\n"
          ]
        }
      ]
    },
    {
      "cell_type": "markdown",
      "source": [
        "### Random Forest with Worrd2Vec"
      ],
      "metadata": {
        "id": "EsQJeUh1czOQ"
      }
    },
    {
      "cell_type": "code",
      "source": [
        "rf_w2v_mdl =  RandomForestClassifier(n_estimators=100, random_state=42)\n",
        "rf_w2v_mdl.fit(x_train_vec, y_train)\n",
        "y_pred_rf_w2v = rf_w2v_mdl.predict(x_test_vec)\n",
        "accuracy_rf_w2v = metrics.accuracy_score(y_test, y_pred_rf_w2v)\n",
        "print(f'Random Forest with Word2Vec Accuracy: {accuracy_rf_w2v}')"
      ],
      "metadata": {
        "colab": {
          "base_uri": "https://localhost:8080/"
        },
        "id": "w8WKFEPFcyAL",
        "outputId": "bf9795c3-9850-45d3-cdc3-35226d3853c2"
      },
      "execution_count": 148,
      "outputs": [
        {
          "output_type": "stream",
          "name": "stdout",
          "text": [
            "Random Forest with Word2Vec Accuracy: 0.8175505050505051\n"
          ]
        }
      ]
    },
    {
      "cell_type": "markdown",
      "source": [
        "## Neural Network with Word2Vec Embeddings"
      ],
      "metadata": {
        "id": "NiIUvcxddxvR"
      }
    },
    {
      "cell_type": "code",
      "source": [
        "from keras.models import Sequential\n",
        "from keras.layers import Dense,LSTM, Embedding, SimpleRNN,Dropout\n",
        "from tensorflow.keras.preprocessing.text import Tokenizer"
      ],
      "metadata": {
        "id": "G-rEWPPjdQvr"
      },
      "execution_count": 149,
      "outputs": []
    },
    {
      "cell_type": "code",
      "source": [
        "tokenizer = Tokenizer()\n",
        "tokenizer.fit_on_texts(x_train)"
      ],
      "metadata": {
        "id": "0OYo8dbkfiHK"
      },
      "execution_count": 150,
      "outputs": []
    },
    {
      "cell_type": "code",
      "source": [
        "x_train_seq = tokenizer.texts_to_sequences(x_train)\n",
        "x_test_seq = tokenizer.texts_to_sequences(x_test)"
      ],
      "metadata": {
        "id": "5dM3P7DmebFb"
      },
      "execution_count": 151,
      "outputs": []
    },
    {
      "cell_type": "code",
      "source": [
        "# to avoid the problem with different sizes\n",
        "\n",
        "from keras.utils import pad_sequences\n",
        "x_train_padded = pad_sequences(x_train_seq, maxlen=100)\n",
        "x_test_padded = pad_sequences(x_test_seq, maxlen=100)"
      ],
      "metadata": {
        "id": "U9bIH8irhR0x"
      },
      "execution_count": 152,
      "outputs": []
    },
    {
      "cell_type": "markdown",
      "source": [
        "### LSTM"
      ],
      "metadata": {
        "id": "7MMlA_34t9Is"
      }
    },
    {
      "cell_type": "code",
      "source": [
        "lstm_model = Sequential()\n",
        "lstm_model.add(Embedding(input_dim = len(tokenizer.word_index)+1, output_dim=128, input_length=100))\n",
        "lstm_model.add(LSTM(10))\n",
        "lstm_model.add(Dropout(0.5))\n",
        "lstm_model.add(Dense(50, activation='relu'))\n",
        "lstm_model.add(Dense(1,activation='sigmoid'))"
      ],
      "metadata": {
        "id": "J8u8fP61p-cU"
      },
      "execution_count": 153,
      "outputs": []
    },
    {
      "cell_type": "code",
      "source": [
        "lstm_model.compile(loss='binary_crossentropy', optimizer='adam', metrics=['accuracy'])"
      ],
      "metadata": {
        "id": "NM7pBekEqBU2"
      },
      "execution_count": 154,
      "outputs": []
    },
    {
      "cell_type": "code",
      "source": [
        "from keras.callbacks import EarlyStopping\n",
        "lstm_model.fit(x_train_padded, y_train, epochs=10, validation_split=0.1,callbacks = EarlyStopping(patience=5))"
      ],
      "metadata": {
        "colab": {
          "base_uri": "https://localhost:8080/"
        },
        "outputId": "0c524ceb-0150-4449-d99c-00488601b584",
        "id": "x0TRtbXoqNn-"
      },
      "execution_count": 155,
      "outputs": [
        {
          "output_type": "stream",
          "name": "stdout",
          "text": [
            "Epoch 1/10\n",
            "179/179 [==============================] - 18s 84ms/step - loss: 0.4286 - accuracy: 0.7922 - val_loss: 0.2614 - val_accuracy: 0.8833\n",
            "Epoch 2/10\n",
            "179/179 [==============================] - 14s 76ms/step - loss: 0.1954 - accuracy: 0.9263 - val_loss: 0.2774 - val_accuracy: 0.8927\n",
            "Epoch 3/10\n",
            "179/179 [==============================] - 14s 76ms/step - loss: 0.1084 - accuracy: 0.9681 - val_loss: 0.3323 - val_accuracy: 0.8738\n",
            "Epoch 4/10\n",
            "179/179 [==============================] - 15s 82ms/step - loss: 0.0706 - accuracy: 0.9793 - val_loss: 0.4154 - val_accuracy: 0.8596\n",
            "Epoch 5/10\n",
            "179/179 [==============================] - 16s 90ms/step - loss: 0.0466 - accuracy: 0.9863 - val_loss: 0.4874 - val_accuracy: 0.8549\n",
            "Epoch 6/10\n",
            "179/179 [==============================] - 16s 91ms/step - loss: 0.0313 - accuracy: 0.9919 - val_loss: 0.6091 - val_accuracy: 0.8470\n"
          ]
        },
        {
          "output_type": "execute_result",
          "data": {
            "text/plain": [
              "<keras.src.callbacks.History at 0x7c468efb2ad0>"
            ]
          },
          "metadata": {},
          "execution_count": 155
        }
      ]
    },
    {
      "cell_type": "code",
      "source": [
        "y_pred_lstm = lstm_model.predict(x_test_padded)"
      ],
      "metadata": {
        "colab": {
          "base_uri": "https://localhost:8080/"
        },
        "outputId": "35d97139-2af5-4ead-a791-6b4e2bdcd283",
        "id": "TrUrnl7YqZ6L"
      },
      "execution_count": 156,
      "outputs": [
        {
          "output_type": "stream",
          "name": "stdout",
          "text": [
            "50/50 [==============================] - 1s 9ms/step\n"
          ]
        }
      ]
    },
    {
      "cell_type": "code",
      "source": [
        "y_pred_lstm[y_pred_lstm>0.5]=1\n",
        "y_pred_lstm[y_pred_lstm<0.5]=0"
      ],
      "metadata": {
        "id": "4WNLbm3Jqvno"
      },
      "execution_count": 157,
      "outputs": []
    },
    {
      "cell_type": "code",
      "source": [
        "from sklearn.metrics import accuracy_score\n",
        "accuracy_score(y_pred_lstm, y_test)"
      ],
      "metadata": {
        "colab": {
          "base_uri": "https://localhost:8080/"
        },
        "id": "432414ChmVso",
        "outputId": "6f4481e9-a7ba-413a-811e-11628d16b31e"
      },
      "execution_count": null,
      "outputs": [
        {
          "output_type": "execute_result",
          "data": {
            "text/plain": [
              "0.8592171717171717"
            ]
          },
          "metadata": {},
          "execution_count": 165
        }
      ]
    },
    {
      "cell_type": "markdown",
      "source": [
        "### RNN"
      ],
      "metadata": {
        "id": "wdRkaiabt5ei"
      }
    },
    {
      "cell_type": "code",
      "source": [
        "rnn_model = Sequential()\n",
        "rnn_model.add(Embedding(input_dim = len(tokenizer.word_index)+1, output_dim=128, input_length=100))\n",
        "rnn_model.add(SimpleRNN(10))\n",
        "rnn_model.add(Dropout(0.5))\n",
        "rnn_model.add(Dense(50, activation='relu'))\n",
        "rnn_model.add(Dense(1,activation='sigmoid'))"
      ],
      "metadata": {
        "id": "MbdH-RsohW3N"
      },
      "execution_count": 158,
      "outputs": []
    },
    {
      "cell_type": "code",
      "source": [
        "rnn_model.compile(loss='binary_crossentropy', optimizer='adam', metrics=['accuracy'])"
      ],
      "metadata": {
        "id": "CXCRErXpiWWL"
      },
      "execution_count": 159,
      "outputs": []
    },
    {
      "cell_type": "code",
      "source": [
        "rnn_model.fit(x_train_padded, y_train, epochs=10, validation_split=0.1,callbacks = EarlyStopping(patience=5))"
      ],
      "metadata": {
        "colab": {
          "base_uri": "https://localhost:8080/"
        },
        "id": "AymTXfmqicPn",
        "outputId": "88f28a90-f41b-4e86-87f6-ac52aead59a4"
      },
      "execution_count": 160,
      "outputs": [
        {
          "output_type": "stream",
          "name": "stdout",
          "text": [
            "Epoch 1/10\n",
            "179/179 [==============================] - 13s 64ms/step - loss: 0.4963 - accuracy: 0.7583 - val_loss: 0.2852 - val_accuracy: 0.8912\n",
            "Epoch 2/10\n",
            "179/179 [==============================] - 8s 47ms/step - loss: 0.2305 - accuracy: 0.9121 - val_loss: 0.2801 - val_accuracy: 0.8833\n",
            "Epoch 3/10\n",
            "179/179 [==============================] - 11s 61ms/step - loss: 0.1076 - accuracy: 0.9655 - val_loss: 0.3805 - val_accuracy: 0.8565\n",
            "Epoch 4/10\n",
            "179/179 [==============================] - 9s 52ms/step - loss: 0.0601 - accuracy: 0.9818 - val_loss: 0.4429 - val_accuracy: 0.8438\n",
            "Epoch 5/10\n",
            "179/179 [==============================] - 11s 59ms/step - loss: 0.0353 - accuracy: 0.9909 - val_loss: 0.5175 - val_accuracy: 0.8502\n",
            "Epoch 6/10\n",
            "179/179 [==============================] - 10s 58ms/step - loss: 0.0270 - accuracy: 0.9930 - val_loss: 0.5644 - val_accuracy: 0.8517\n",
            "Epoch 7/10\n",
            "179/179 [==============================] - 9s 50ms/step - loss: 0.0184 - accuracy: 0.9956 - val_loss: 0.5577 - val_accuracy: 0.8549\n"
          ]
        },
        {
          "output_type": "execute_result",
          "data": {
            "text/plain": [
              "<keras.src.callbacks.History at 0x7c468d633ca0>"
            ]
          },
          "metadata": {},
          "execution_count": 160
        }
      ]
    },
    {
      "cell_type": "code",
      "source": [
        "y_pred_rnn = rnn_model.predict(x_test_padded)"
      ],
      "metadata": {
        "colab": {
          "base_uri": "https://localhost:8080/"
        },
        "id": "TdDdN4eli2St",
        "outputId": "6f542707-3a53-476e-ce0b-b2ea626d6a57"
      },
      "execution_count": 161,
      "outputs": [
        {
          "output_type": "stream",
          "name": "stdout",
          "text": [
            "50/50 [==============================] - 1s 6ms/step\n"
          ]
        }
      ]
    },
    {
      "cell_type": "code",
      "source": [
        "y_pred_rnn[y_pred_rnn>0.5]=1\n",
        "y_pred_rnn[y_pred_rnn<0.5]=0"
      ],
      "metadata": {
        "id": "mMFzeJubijV5"
      },
      "execution_count": 162,
      "outputs": []
    },
    {
      "cell_type": "code",
      "source": [
        "accuracy_score(y_pred_rnn, y_test)"
      ],
      "metadata": {
        "colab": {
          "base_uri": "https://localhost:8080/"
        },
        "id": "AvU1dt6lm2Rh",
        "outputId": "da55cb55-2f03-4c19-b224-f7724410793c"
      },
      "execution_count": 166,
      "outputs": [
        {
          "output_type": "execute_result",
          "data": {
            "text/plain": [
              "0.8472222222222222"
            ]
          },
          "metadata": {},
          "execution_count": 166
        }
      ]
    },
    {
      "cell_type": "markdown",
      "source": [
        "\n",
        "\n",
        "---\n",
        "\n"
      ],
      "metadata": {
        "id": "DoBXzHxDugJB"
      }
    },
    {
      "cell_type": "markdown",
      "source": [
        "<B><I>Here SVM with Bag of words has got higher accurancy of 89.27\n",
        "."
      ],
      "metadata": {
        "id": "GhRrFcSUt3CD"
      }
    },
    {
      "cell_type": "markdown",
      "source": [
        "## Prediction on New Data"
      ],
      "metadata": {
        "id": "UYXy2e6_ujDx"
      }
    },
    {
      "cell_type": "code",
      "source": [
        "def analyze_sentiment(new_tweet):\n",
        "    sentiment_lbl = {1: 'Negative sentiment on the product', 0: 'Positive sentiment on the product'}\n",
        "\n",
        "    new_tweets_bow = cv.transform([new_tweet])\n",
        "    new_tweets_vec = [get_average_vector(new_tweet.split(), word2vec_model, 100)]\n",
        "    new_tweets_vec = pd.DataFrame(new_tweets_vec).to_numpy()\n",
        "\n",
        "    new_predictions_svm_bow = svm_bow_mdl.predict(new_tweets_bow)\n",
        "    svm_bow_prediction_label = sentiment_lbl[new_predictions_svm_bow.item()]\n",
        "\n",
        "    new_predictions_svm_w2v = svm_w2v_mdl.predict(new_tweets_vec)\n",
        "    svm_w2v_prediction_label = sentiment_lbl[new_predictions_svm_w2v.item()]\n",
        "\n",
        "    new_predictions_rf_bow = rf_bow_mdl.predict(new_tweets_bow)\n",
        "    rf_bow_prediction_label = sentiment_lbl[new_predictions_rf_bow.item()]\n",
        "\n",
        "    new_predictions_rf_w2v = rf_w2v_mdl.predict(new_tweets_vec)\n",
        "    rf_w2v_prediction_label = sentiment_lbl[new_predictions_rf_w2v.item()]\n",
        "\n",
        "    new_tweets_seq = tokenizer.texts_to_sequences([new_tweet])\n",
        "    new_tweets_padded = pad_sequences(new_tweets_seq, maxlen=100)\n",
        "\n",
        "    new_predictions_rnn = rnn_model.predict(new_tweets_padded, verbose=0)\n",
        "    new_predictions_rnn[new_predictions_rnn > 0.5] = 1\n",
        "    new_predictions_rnn[new_predictions_rnn < 0.5] = 0\n",
        "    new_predictions_rnn = sentiment_lbl[new_predictions_rnn.item()]\n",
        "\n",
        "    new_predictions_lstm = lstm_model.predict(new_tweets_padded, verbose=0)\n",
        "    new_predictions_lstm[new_predictions_lstm > 0.5] = 1\n",
        "    new_predictions_lstm[new_predictions_lstm < 0.5] = 0\n",
        "    new_predictions_lstm = sentiment_lbl[new_predictions_lstm.item()]\n",
        "\n",
        "\n",
        "    return {\n",
        "        'SVM with Bag of Words Predictions': svm_bow_prediction_label,\n",
        "        'SVM with Word2Vec Predictions': svm_w2v_prediction_label,\n",
        "        'Random Forest with Bag of Words Predictions': rf_bow_prediction_label,\n",
        "        'Random Forest with Word2Vec Predictions': rf_w2v_prediction_label,\n",
        "        'RNN Predictions': new_predictions_rnn,\n",
        "        'LSTM Predictions': new_predictions_lstm\n",
        "    }\n"
      ],
      "metadata": {
        "id": "zuQr2Hs8tSzI"
      },
      "execution_count": 193,
      "outputs": []
    },
    {
      "cell_type": "code",
      "source": [
        "analyze_sentiment('This product is amazing!')"
      ],
      "metadata": {
        "colab": {
          "base_uri": "https://localhost:8080/"
        },
        "id": "ylmKF81Bvdou",
        "outputId": "fc2ce320-0180-48f9-f9e9-387d672d0043"
      },
      "execution_count": 194,
      "outputs": [
        {
          "output_type": "execute_result",
          "data": {
            "text/plain": [
              "{'SVM with Bag of Words Predictions': 'Negative sentiment on the product',\n",
              " 'SVM with Word2Vec Predictions': 'Positive sentiment on the product',\n",
              " 'Random Forest with Bag of Words Predictions': 'Positive sentiment on the product',\n",
              " 'Random Forest with Word2Vec Predictions': 'Positive sentiment on the product',\n",
              " 'RNN Predictions': 'Negative sentiment on the product',\n",
              " 'LSTM Predictions': 'Positive sentiment on the product'}"
            ]
          },
          "metadata": {},
          "execution_count": 194
        }
      ]
    },
    {
      "cell_type": "code",
      "source": [
        "analyze_sentiment(\"I'm disappointed with the customer service.\")"
      ],
      "metadata": {
        "colab": {
          "base_uri": "https://localhost:8080/"
        },
        "id": "gDFHdxJM00_u",
        "outputId": "b3938ad4-5793-41a2-a2eb-4be50b42f5ae"
      },
      "execution_count": 195,
      "outputs": [
        {
          "output_type": "execute_result",
          "data": {
            "text/plain": [
              "{'SVM with Bag of Words Predictions': 'Negative sentiment on the product',\n",
              " 'SVM with Word2Vec Predictions': 'Positive sentiment on the product',\n",
              " 'Random Forest with Bag of Words Predictions': 'Positive sentiment on the product',\n",
              " 'Random Forest with Word2Vec Predictions': 'Positive sentiment on the product',\n",
              " 'RNN Predictions': 'Negative sentiment on the product',\n",
              " 'LSTM Predictions': 'Negative sentiment on the product'}"
            ]
          },
          "metadata": {},
          "execution_count": 195
        }
      ]
    }
  ]
}